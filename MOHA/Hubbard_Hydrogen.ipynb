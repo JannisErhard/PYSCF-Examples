{
 "cells": [
  {
   "cell_type": "code",
   "execution_count": 1,
   "id": "8f4ae9a1-bf80-4899-8995-801ad4b3f8d9",
   "metadata": {},
   "outputs": [],
   "source": [
    "import numpy as np\n",
    "from pyscf import gto, scf, fci\n",
    "from tabulate import tabulate\n",
    "from moha.hamiltonians import HamHub\n",
    "from utils import Vee\n",
    "from RDMFS import MU_U2RDM\n",
    "import inspect \n",
    "import scipy \n",
    "#from numba.openmp import openmp_context as openmp"
   ]
  },
  {
   "cell_type": "code",
   "execution_count": 2,
   "id": "11ea0037-f711-4bb2-99ee-ee765a233afc",
   "metadata": {},
   "outputs": [
    {
     "data": {
      "text/plain": [
       "'/home/jerhard/1RDMFT/lib/python3.12/site-packages/moha/hamiltonians.py'"
      ]
     },
     "execution_count": 2,
     "metadata": {},
     "output_type": "execute_result"
    }
   ],
   "source": [
    "inspect.getfile(HamHub)"
   ]
  },
  {
   "cell_type": "code",
   "execution_count": 3,
   "id": "44584b15-07c5-4145-b777-8a07222c0f44",
   "metadata": {},
   "outputs": [
    {
     "name": "stdout",
     "output_type": "stream",
     "text": [
      "[('H1', 'H2', 1)]\n",
      "-3.2360679774997854\n",
      "0.5527864045000468 -3.2360679774997854\n",
      "0.5527864045000423 -3.23606797749979\n"
     ]
    }
   ],
   "source": [
    "N = 2\n",
    "norbs = N\n",
    "nelec = N\n",
    "system = [('H1', 'H2', 1)]\n",
    "print(system)\n",
    "connectivity = np.array([[0, 1],\n",
    "                         [1, 0]])\n",
    "U=2\n",
    "t=-1\n",
    "E0=-1\n",
    "hubbard = HamHub(connectivity,alpha=t, beta=E0, u_onsite=U*np.ones((N)),\n",
    "                      sym=8)\n",
    "\n",
    "h_0 = hubbard.generate_zero_body_integral()\n",
    "h_1 = hubbard.generate_one_body_integral(basis='spinorbital basis', dense=True)\n",
    "h2 = hubbard.generate_two_body_integral(sym=8,basis='spinorbital basis',\n",
    "                                                dense=True)\n",
    "\n",
    "h2 = np.transpose(h2, (0, 2, 1, 3))\n",
    "h2_hub_ab = h2[0:N,0:N,N:2*N,N:2*N]\n",
    "h2_hub_aa = h2[0:N,0:N,0:N,0:N]\n",
    "h2_hub_bb = h2[N:2*N,N:2*N,N:2*N,N:2*N]\n",
    "h_1 = (h_1[0:N,0:N], h_1[N:2*N,N:2*N])\n",
    "h2_hub = (h2_hub_aa, h2_hub_ab, h2_hub_bb)\n",
    "\n",
    "cisolver = fci.direct_uhf.FCI()\n",
    "cisolver.max_cycle = 100\n",
    "cisolver.conv_tol = 1e-8\n",
    "e, ci = cisolver.kernel(h_1, h2_hub, N, (N//2, N//2), ecore=h_0)\n",
    "print(e)\n",
    "dm1, dm2  = cisolver.make_rdm12s(ci, N, (N//2, N//2))\n",
    "\n",
    "print(e-np.trace(h_1[0]@dm1[0])-np.trace(h_1[1]@dm1[1]), e)\n",
    "# 2 E_0 + U\n",
    "print(Vee(h2_hub,dm2), 2*E0+.5*U-np.sqrt(4*t**2+.25*U**2))"
   ]
  }
 ],
 "metadata": {
  "kernelspec": {
   "display_name": "1RDMFT",
   "language": "python",
   "name": "1rdmft"
  },
  "language_info": {
   "codemirror_mode": {
    "name": "ipython",
    "version": 3
   },
   "file_extension": ".py",
   "mimetype": "text/x-python",
   "name": "python",
   "nbconvert_exporter": "python",
   "pygments_lexer": "ipython3",
   "version": "3.12.3"
  }
 },
 "nbformat": 4,
 "nbformat_minor": 5
}
