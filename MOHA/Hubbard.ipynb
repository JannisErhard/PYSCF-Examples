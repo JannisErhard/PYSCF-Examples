{
 "cells": [
  {
   "cell_type": "code",
   "execution_count": 1,
   "id": "8f4ae9a1-bf80-4899-8995-801ad4b3f8d9",
   "metadata": {},
   "outputs": [],
   "source": [
    "import numpy as np\n",
    "from pyscf import gto, scf, fci\n",
    "from tabulate import tabulate\n",
    "from moha.hamiltonians import HamHub\n",
    "from RDMFS import MU_U2RDM\n",
    "from utils import Vee\n",
    "import inspect \n",
    "import scipy \n",
    "#from numba.openmp import openmp_context as openmp"
   ]
  },
  {
   "cell_type": "code",
   "execution_count": 2,
   "id": "44584b15-07c5-4145-b777-8a07222c0f44",
   "metadata": {},
   "outputs": [
    {
     "name": "stdout",
     "output_type": "stream",
     "text": [
      "[('H1', 'H2', 1), ('H2', 'H3', 1), ('H3', 'H4', 1), ('H4', 'H1', 1)]\n",
      "[[ 1.00000000e+00 -4.97169175e-01 -2.25072171e-17 -4.97169175e-01]\n",
      " [-4.97169175e-01  1.00000000e+00 -4.97169175e-01  2.44027023e-17]\n",
      " [-2.25072171e-17 -4.97169175e-01  1.00000000e+00 -4.97169175e-01]\n",
      " [-4.97169175e-01  2.44027023e-17 -4.97169175e-01  1.00000000e+00]]\n"
     ]
    }
   ],
   "source": [
    "N = 4\n",
    "norbs = N\n",
    "nelec = N\n",
    "system = [(f\"H{i}\", f\"H{i+1}\", 1) for i in range(1, N)] + [(f\"H{N}\", f\"H1\", 1)]\n",
    "print(system)\n",
    "hubbard = HamHub(system,alpha=1, beta=2, u_onsite=np.ones((N)),\n",
    "                      sym=1)\n",
    "\n",
    "h_0 = hubbard.generate_zero_body_integral()\n",
    "h_1 = hubbard.generate_one_body_integral(basis='spinorbital basis', dense=True)\n",
    "h2 = hubbard.generate_two_body_integral(sym=8,basis='spinorbital basis',\n",
    "                                                dense=True)\n",
    "\n",
    "h2 = np.transpose(h2, (0, 2, 1, 3))\n",
    "h2_hub_ab = h2[0:N,0:N,N:2*N,N:2*N]\n",
    "h2_hub_aa = h2[0:N,0:N,0:N,0:N]\n",
    "h2_hub_bb = h2[N:2*N,N:2*N,N:2*N,N:2*N]\n",
    "h_1 = (h_1[0:N,0:N], h_1[N:2*N,N:2*N])\n",
    "h2_hub = (h2_hub_aa, h2_hub_ab, h2_hub_bb)\n",
    "\n",
    "cisolver = fci.direct_uhf.FCI()\n",
    "cisolver.max_cycle = 100\n",
    "cisolver.conv_tol = 1e-8\n",
    "e, ci = cisolver.kernel(h_1, h2_hub, N, N, ecore=h_0)\n",
    "\n",
    "dm1, dm2  = cisolver.make_rdm12(ci, N, N)\n",
    "\n",
    "print(dm1)"
   ]
  }
 ],
 "metadata": {
  "kernelspec": {
   "display_name": "1RDMFT",
   "language": "python",
   "name": "1rdmft"
  },
  "language_info": {
   "codemirror_mode": {
    "name": "ipython",
    "version": 3
   },
   "file_extension": ".py",
   "mimetype": "text/x-python",
   "name": "python",
   "nbconvert_exporter": "python",
   "pygments_lexer": "ipython3",
   "version": "3.12.3"
  }
 },
 "nbformat": 4,
 "nbformat_minor": 5
}
