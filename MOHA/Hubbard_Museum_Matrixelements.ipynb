{
 "cells": [
  {
   "cell_type": "code",
   "execution_count": 1,
   "id": "8f4ae9a1-bf80-4899-8995-801ad4b3f8d9",
   "metadata": {},
   "outputs": [],
   "source": [
    "import numpy as np\n",
    "from pyscf import gto, scf, fci\n",
    "from tabulate import tabulate\n",
    "from moha.hamiltonians import HamHub\n",
    "from utils import Vee, generate_adjacency_matrix\n",
    "from RDMFS import MU_U2RDM\n",
    "import inspect \n",
    "import scipy \n",
    "#from numba.openmp import openmp_context as openmp"
   ]
  },
  {
   "cell_type": "code",
   "execution_count": 2,
   "id": "11ea0037-f711-4bb2-99ee-ee765a233afc",
   "metadata": {},
   "outputs": [
    {
     "data": {
      "text/plain": [
       "'/home/jerhard/1RDMFT/lib/python3.12/site-packages/moha/hamiltonians.py'"
      ]
     },
     "execution_count": 2,
     "metadata": {},
     "output_type": "execute_result"
    }
   ],
   "source": [
    "inspect.getfile(HamHub)"
   ]
  },
  {
   "cell_type": "markdown",
   "id": "5940195f-c837-4255-8f73-1ea2fc8c9c14",
   "metadata": {},
   "source": [
    "This script produces and prints the matrices that represent the Hubbard Model Hamiltonian. The point was to look at some details of it so it can be better understood—it's a showcase. The systems used as examples are rings, i.e., there are periodic boundary conditions. See additional comments on the matrices in the following boxes."
   ]
  },
  {
   "cell_type": "code",
   "execution_count": 3,
   "id": "44584b15-07c5-4145-b777-8a07222c0f44",
   "metadata": {},
   "outputs": [],
   "source": [
    "N = 2\n",
    "norbs = N\n",
    "nelec = N\n",
    "connectivity = generate_adjacency_matrix(N)\n",
    "U=2\n",
    "t=-1\n",
    "E0=2\n",
    "hubbard = HamHub(connectivity,alpha=t, beta=E0, u_onsite=U*np.ones((N)),\n",
    "                      sym=8)\n",
    "\n",
    "h_0 = hubbard.generate_zero_body_integral()\n",
    "h_1 = hubbard.generate_one_body_integral(basis='spinorbital basis', dense=True)\n",
    "h2 = hubbard.generate_two_body_integral(sym=8,basis='spinorbital basis',\n",
    "                                                dense=True)\n",
    "\n",
    "h2 = np.transpose(h2, (0, 2, 1, 3))\n",
    "h2_hub_ab = h2[0:N,0:N,N:2*N,N:2*N]\n",
    "h2_hub_aa = h2[0:N,0:N,0:N,0:N]\n",
    "h2_hub_bb = h2[N:2*N,N:2*N,N:2*N,N:2*N]\n",
    "h_1 = (h_1[0:N,0:N], h_1[N:2*N,N:2*N])\n",
    "h2_hub = (h2_hub_aa, h2_hub_ab, h2_hub_bb)\n",
    "\n"
   ]
  },
  {
   "cell_type": "code",
   "execution_count": 4,
   "id": "3727a08b-ca2c-462e-a309-0865373b0085",
   "metadata": {},
   "outputs": [
    {
     "data": {
      "text/plain": [
       "(array([0, 1, 2, 3]),\n",
       " array([0, 1, 2, 3]),\n",
       " array([2, 3, 0, 1]),\n",
       " array([2, 3, 0, 1]))"
      ]
     },
     "execution_count": 4,
     "metadata": {},
     "output_type": "execute_result"
    }
   ],
   "source": [
    "np.where(h2 != 0)"
   ]
  },
  {
   "cell_type": "code",
   "execution_count": 5,
   "id": "6ddfe111-6dae-469c-942b-20db871a1507",
   "metadata": {},
   "outputs": [
    {
     "name": "stdout",
     "output_type": "stream",
     "text": [
      "[[-1.  2.]\n",
      " [ 2. -1.]]\n"
     ]
    }
   ],
   "source": [
    "print(h_1[0])"
   ]
  },
  {
   "cell_type": "code",
   "execution_count": 6,
   "id": "4eecfca7-ca4b-4199-89c9-477ae566c649",
   "metadata": {},
   "outputs": [],
   "source": [
    "N = 4\n",
    "norbs = N\n",
    "nelec = N\n",
    "connectivity = generate_adjacency_matrix(N)\n",
    "U=2\n",
    "t=-1\n",
    "E0=2\n",
    "hubbard = HamHub(connectivity,alpha=t, beta=E0, u_onsite=U*np.ones((N)),\n",
    "                      sym=8)\n",
    "\n",
    "h_0 = hubbard.generate_zero_body_integral()\n",
    "h_1 = hubbard.generate_one_body_integral(basis='spinorbital basis', dense=True)\n",
    "h2 = hubbard.generate_two_body_integral(sym=8,basis='spinorbital basis',\n",
    "                                                dense=True)\n",
    "\n",
    "h2 = np.transpose(h2, (0, 2, 1, 3))\n",
    "h2_hub_ab = h2[0:N,0:N,N:2*N,N:2*N]\n",
    "h2_hub_aa = h2[0:N,0:N,0:N,0:N]\n",
    "h2_hub_bb = h2[N:2*N,N:2*N,N:2*N,N:2*N]\n",
    "h_1 = (h_1[0:N,0:N], h_1[N:2*N,N:2*N])\n",
    "h2_hub = (h2_hub_aa, h2_hub_ab, h2_hub_bb)"
   ]
  },
  {
   "cell_type": "markdown",
   "id": "4f9b5035-c2a8-4090-8acb-0ed8743cc1a3",
   "metadata": {},
   "source": [
    "Thw following operator is:\n",
    "\n",
    "\\begin{eqnarray}\n",
    "    \\hat n_{p,\\uparrow} \\hat n_{p,\\downarrow} = \\hat a_{p, \\uparrow}^{\\dagger} \\hat a_{p, \\uparrow} \\hat a_{p, \\downarrow}^{\\dagger} \\hat a_{p, \\downarrow} = - \\hat a_{p, \\uparrow}^{\\dagger} \\hat a_{p, \\downarrow}^{\\dagger} \\hat a_{p, \\uparrow} \\hat a_{p, \\downarrow}\n",
    "\\end{eqnarray}\n",
    "\n",
    "which can be interpreted as, is a pair of up and down spin at location $p$, both in the Bra and in the Ket state.\n",
    "\n",
    "The elements of the $h_2$ would correspondingly be:\n",
    "\n",
    "\\begin{eqnarray}\n",
    "    h_{2_{ijkl}} = \\delta_{ik} \\delta_{jl} \\delta_{i(j-M)}\n",
    "\\end{eqnarray}\n",
    "where $M$ is the basis set size and correspondingly $i+M$ is $i, \\downarrow$ to any $i, \\uparrow$\n",
    "\n",
    "assuming the index $ijkl$ counts through the whole basis Homogeneously. "
   ]
  },
  {
   "cell_type": "code",
   "execution_count": 7,
   "id": "4145a628-f868-43f5-9033-c11230716baf",
   "metadata": {},
   "outputs": [
    {
     "data": {
      "text/plain": [
       "(array([0, 1, 2, 3, 4, 5, 6, 7]),\n",
       " array([0, 1, 2, 3, 4, 5, 6, 7]),\n",
       " array([4, 5, 6, 7, 0, 1, 2, 3]),\n",
       " array([4, 5, 6, 7, 0, 1, 2, 3]))"
      ]
     },
     "execution_count": 7,
     "metadata": {},
     "output_type": "execute_result"
    }
   ],
   "source": [
    "np.where(h2 != 0)"
   ]
  },
  {
   "cell_type": "markdown",
   "id": "3e6a80ae-5c57-45ad-8c2c-05f58dfc273c",
   "metadata": {},
   "source": [
    "This component\n",
    "\\begin{eqnarray}\n",
    "    t \\sum_{p,q, p \\neq q}^n  \\hat a^{\\dagger}_p \\hat  a_q\n",
    "\\end{eqnarray}\n",
    "can be interpreted as a particle goes from site $p$ to site $q$. It is the kinetic energy in this picture, as matrix it will be:\n",
    "\\begin{eqnarray}\n",
    "     t_{ij} = (1 - \\delta_{ij}) \\delta_{i(j-1)} + (1 - \\delta_{ij}) \\delta_{i(j+1)}\n",
    "\\end{eqnarray}\n",
    "and $\\delta_{i(j-1)}, \\delta_{i(j+1)}$ makes sure only nearest neighbors are taken for jumping. \n",
    "    "
   ]
  },
  {
   "cell_type": "code",
   "execution_count": 8,
   "id": "98060574-f40c-489b-b59a-2d5f0f740949",
   "metadata": {},
   "outputs": [
    {
     "name": "stdout",
     "output_type": "stream",
     "text": [
      "[[-1.  2.  0.  2.]\n",
      " [ 2. -1.  2.  0.]\n",
      " [ 0.  2. -1.  2.]\n",
      " [ 2.  0.  2. -1.]]\n"
     ]
    }
   ],
   "source": [
    "print(h_1[0])"
   ]
  }
 ],
 "metadata": {
  "kernelspec": {
   "display_name": "1RDMFT",
   "language": "python",
   "name": "1rdmft"
  },
  "language_info": {
   "codemirror_mode": {
    "name": "ipython",
    "version": 3
   },
   "file_extension": ".py",
   "mimetype": "text/x-python",
   "name": "python",
   "nbconvert_exporter": "python",
   "pygments_lexer": "ipython3",
   "version": "3.12.3"
  }
 },
 "nbformat": 4,
 "nbformat_minor": 5
}
