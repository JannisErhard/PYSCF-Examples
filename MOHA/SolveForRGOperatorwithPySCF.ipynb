{
 "cells": [
  {
   "cell_type": "code",
   "execution_count": 1,
   "id": "628735a1-41e3-4319-9534-da6b0355d00d",
   "metadata": {},
   "outputs": [],
   "source": [
    "# Import key packages\n",
    "import numpy as np\n",
    "from pyscf import gto, scf, fci\n",
    "from pyscf.scf.chkfile import dump_scf\n",
    "import pyci"
   ]
  },
  {
   "cell_type": "code",
   "execution_count": 2,
   "id": "fd418d19-965e-44ba-9622-69b174011da2",
   "metadata": {},
   "outputs": [],
   "source": [
    "def RanGo(M):\n",
    "    h2 = np.zeros((2*M, 2*M, 2*M, 2*M))\n",
    "    \n",
    "    # build hamiltonian, i and k are uparrow, <ij|kl>\n",
    "    # a b a b\n",
    "    for i in range(2*M):\n",
    "        for j in range(M,2*M):\n",
    "            for k in range(2*M):\n",
    "                for l in range(M,2*M):\n",
    "                    delta_ij = 1 if i == j+M or i+M == j else 0\n",
    "                    delta_kl = 1 if k == l+M or k+M == l else 0\n",
    "                    delta_il = 1 if i == k else 0\n",
    "                    h2[i, j, k, l] = delta_ij * delta_kl\n",
    "    # b a b a \n",
    "    for i in range(M,2*M):\n",
    "        for j in range(M):\n",
    "            for k in range(M,2*M):\n",
    "                for l in range(M):\n",
    "                    delta_ij = 1 if i == j+M or i+M == j else 0\n",
    "                    delta_kl = 1 if k == l+M or k+M == l else 0\n",
    "                    delta_il = 1 if i == k else 0\n",
    "                    h2[i, j, k, l] = delta_ij * delta_kl\n",
    "\n",
    "    return h2"
   ]
  },
  {
   "cell_type": "code",
   "execution_count": 3,
   "id": "8fd0f8f1-dfa0-4a2e-a978-c3539bf4f04b",
   "metadata": {},
   "outputs": [],
   "source": [
    "def Vee(eri,dm2):\n",
    "    return .5*np.einsum('pqrs,pqrs', eri[0], dm2[0])\\\n",
    "    +.5*np.einsum('pqrs,pqrs', eri[2], dm2[2])\\\n",
    "    +np.einsum('pqrs,pqrs', eri[1], dm2[1])"
   ]
  },
  {
   "cell_type": "code",
   "execution_count": 5,
   "id": "f40480f5-fc61-46a1-b52b-25ef4186759f",
   "metadata": {},
   "outputs": [
    {
     "ename": "TypeError",
     "evalue": "HamRG.__init__() got an unexpected keyword argument 'J_ax'",
     "output_type": "error",
     "traceback": [
      "\u001b[0;31m---------------------------------------------------------------------------\u001b[0m",
      "\u001b[0;31mTypeError\u001b[0m                                 Traceback (most recent call last)",
      "Cell \u001b[0;32mIn[5], line 8\u001b[0m\n\u001b[1;32m      6\u001b[0m nelec \u001b[38;5;241m=\u001b[39m \u001b[38;5;241m2\u001b[39m\n\u001b[1;32m      7\u001b[0m adjacency \u001b[38;5;241m=\u001b[39m np\u001b[38;5;241m.\u001b[39mones((M,M))\n\u001b[0;32m----> 8\u001b[0m Richardson \u001b[38;5;241m=\u001b[39m \u001b[43mHamRG\u001b[49m\u001b[43m(\u001b[49m\u001b[43mmu\u001b[49m\u001b[43m \u001b[49m\u001b[38;5;241;43m=\u001b[39;49m\u001b[43m \u001b[49m\u001b[43mnp\u001b[49m\u001b[38;5;241;43m.\u001b[39;49m\u001b[43marray\u001b[49m\u001b[43m(\u001b[49m\u001b[38;5;28;43mrange\u001b[39;49m\u001b[43m(\u001b[49m\u001b[43mM\u001b[49m\u001b[43m)\u001b[49m\u001b[43m)\u001b[49m\u001b[43m,\u001b[49m\u001b[43m \u001b[49m\u001b[43mJ_ax\u001b[49m\u001b[43m \u001b[49m\u001b[38;5;241;43m=\u001b[39;49m\u001b[43m \u001b[49m\u001b[38;5;241;43m0\u001b[39;49m\u001b[38;5;241;43m*\u001b[39;49m\u001b[43mnp\u001b[49m\u001b[38;5;241;43m.\u001b[39;49m\u001b[43mones\u001b[49m\u001b[43m(\u001b[49m\u001b[43mM\u001b[49m\u001b[43m)\u001b[49m\u001b[43m \u001b[49m\u001b[43m,\u001b[49m\u001b[43mJ_eq\u001b[49m\u001b[43m \u001b[49m\u001b[38;5;241;43m=\u001b[39;49m\u001b[43m \u001b[49m\u001b[43mg\u001b[49m\u001b[38;5;241;43m*\u001b[39;49m\u001b[43mnp\u001b[49m\u001b[38;5;241;43m.\u001b[39;49m\u001b[43mones\u001b[49m\u001b[43m(\u001b[49m\u001b[43mM\u001b[49m\u001b[43m)\u001b[49m\u001b[43m)\u001b[49m\n\u001b[1;32m     10\u001b[0m h0_ric \u001b[38;5;241m=\u001b[39m Richardson\u001b[38;5;241m.\u001b[39mgenerate_zero_body_integral()\n\u001b[1;32m     11\u001b[0m h1_ric \u001b[38;5;241m=\u001b[39m Richardson\u001b[38;5;241m.\u001b[39mgenerate_one_body_integral(basis\u001b[38;5;241m=\u001b[39m\u001b[38;5;124m'\u001b[39m\u001b[38;5;124mspinorbital basis\u001b[39m\u001b[38;5;124m'\u001b[39m,dense\u001b[38;5;241m=\u001b[39m\u001b[38;5;28;01mTrue\u001b[39;00m)\n",
      "\u001b[0;31mTypeError\u001b[0m: HamRG.__init__() got an unexpected keyword argument 'J_ax'"
     ]
    }
   ],
   "source": [
    "from moha.hamiltonians import HamHub, HamRG\n",
    "\n",
    "g = 1.0\n",
    "\n",
    "M = 2\n",
    "nelec = 2\n",
    "adjacency = np.ones((M,M))\n",
    "Richardson = HamRG(mu = np.array(range(M)), J_eq = g, adjacency)\n",
    "\n",
    "h0_ric = Richardson.generate_zero_body_integral()\n",
    "h1_ric = Richardson.generate_one_body_integral(basis='spinorbital basis',dense=True)\n",
    "\n",
    "\n",
    "h2_ric = Richardson.generate_two_body_integral(sym=4,basis='spinorbital basis', dense=True)\n",
    "# h2_ric = RanGo(M)*g\n",
    "\n",
    "\n",
    "h2_ric_ch = np.transpose(h2_ric, (0, 2, 1, 3))\n",
    "\n",
    "h2_ric_aa = h2_ric_ch[0:M,0:M,0:M,0:M] \n",
    "h2_ric_ab = h2_ric_ch[0:M,0:M,M:2*M,M:2*M]\n",
    "h2_ric_bb = h2_ric_ch[M:2*M,M:2*M,M:2*M,M:2*M]\n",
    "\n",
    "h1_aa = h1_ric[0:M,0:M]\n",
    "h1_bb = h1_ric[M:2*M,M:2*M]\n",
    "\n",
    "h2_ric_pyscf = (h2_ric_aa, h2_ric_ab, h2_ric_bb)\n",
    "h1_ric_pyscf = (h1_aa, h1_bb)\n",
    "\n",
    "# print(h2_ric.shape)\n",
    "\n",
    "# print(h0_ric)\n",
    "# print(h1_ric)\n",
    "\n"
   ]
  },
  {
   "cell_type": "code",
   "execution_count": null,
   "id": "17777863-46d9-4020-8fe4-6c1554a1409b",
   "metadata": {},
   "outputs": [],
   "source": [
    "# np.where(h2_ric != 0)\n"
   ]
  },
  {
   "cell_type": "code",
   "execution_count": null,
   "id": "614b1488-ddd8-485c-8151-4d4f6db2a6e7",
   "metadata": {},
   "outputs": [],
   "source": [
    "cisolver = fci.direct_uhf.FCI()\n",
    "e, c = cisolver.kernel(h1_ric_pyscf, h2_ric_pyscf, M, (nelec//2, nelec//2), ecore=h0_ric)\n",
    "dm1, dm2  = cisolver.make_rdm12s(c, M, (nelec//2, nelec//2))\n"
   ]
  },
  {
   "cell_type": "code",
   "execution_count": null,
   "id": "453759a9-f093-4d37-bbe2-e73427730bec",
   "metadata": {},
   "outputs": [],
   "source": [
    "# print(len(dm2), len(h2_ric_pyscf), len(dm1))\n",
    "# print(h1_ric[0])"
   ]
  },
  {
   "cell_type": "code",
   "execution_count": null,
   "id": "c9518fda-5ee8-4784-abe9-e6a184594f2c",
   "metadata": {},
   "outputs": [],
   "source": [
    "print(e, h0_ric, Vee(h2_ric_pyscf, dm2), e-2*np.trace(h1_ric_pyscf[0]@dm1[0])-h0_ric)"
   ]
  },
  {
   "cell_type": "code",
   "execution_count": null,
   "id": "0b07b9d1-fae9-43ca-a5f6-ed8658a31fa0",
   "metadata": {},
   "outputs": [],
   "source": []
  }
 ],
 "metadata": {
  "kernelspec": {
   "display_name": "1RDMFT",
   "language": "python",
   "name": "1rdmft"
  },
  "language_info": {
   "codemirror_mode": {
    "name": "ipython",
    "version": 3
   },
   "file_extension": ".py",
   "mimetype": "text/x-python",
   "name": "python",
   "nbconvert_exporter": "python",
   "pygments_lexer": "ipython3",
   "version": "3.12.3"
  }
 },
 "nbformat": 4,
 "nbformat_minor": 5
}
