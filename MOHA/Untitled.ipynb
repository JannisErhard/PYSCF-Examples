{
 "cells": [
  {
   "cell_type": "code",
   "execution_count": 1,
   "id": "628735a1-41e3-4319-9534-da6b0355d00d",
   "metadata": {},
   "outputs": [],
   "source": [
    "import moha\n",
    "import numpy as np\n",
    "from pyscf import gto, scf, fci\n"
   ]
  },
  {
   "cell_type": "code",
   "execution_count": 2,
   "id": "4aa5b678-ce92-4e7e-ab1d-6939ca4e5c9b",
   "metadata": {},
   "outputs": [
    {
     "name": "stdout",
     "output_type": "stream",
     "text": [
      "[[1. 1. 1. 1.]\n",
      " [1. 1. 1. 1.]\n",
      " [1. 1. 1. 1.]\n",
      " [1. 1. 1. 1.]]\n"
     ]
    }
   ],
   "source": [
    "# make a M x M adjacency matrix \n",
    "M = 4\n",
    "adjacency = np.ones((M,M))\n",
    "print(adjacency)"
   ]
  },
  {
   "cell_type": "code",
   "execution_count": 3,
   "id": "f40480f5-fc61-46a1-b52b-25ef4186759f",
   "metadata": {},
   "outputs": [],
   "source": [
    "#HamRG(mu: ndarray, J_eq: ndarray, connectivity: ndarray | None = None)\n",
    "RG = moha.HamRG(0, 99.0, adjacency)"
   ]
  },
  {
   "cell_type": "code",
   "execution_count": 4,
   "id": "614b1488-ddd8-485c-8151-4d4f6db2a6e7",
   "metadata": {},
   "outputs": [],
   "source": [
    "h2_RG = RG.generate_two_body_integral(dense=True)"
   ]
  },
  {
   "cell_type": "code",
   "execution_count": 5,
   "id": "f666e96e-5c53-47e2-8329-8da6493b7cd2",
   "metadata": {},
   "outputs": [
    {
     "name": "stdout",
     "output_type": "stream",
     "text": [
      "number of twin pairs 4\n",
      "number of pairs of pairs 6\n"
     ]
    }
   ],
   "source": [
    "# predict properties of the seniority zero h2\n",
    "print(f\"number of twin pairs {M}\")\n",
    "B=M*(M-1)//2\n",
    "print(f\"number of pairs of pairs {B}\")"
   ]
  },
  {
   "cell_type": "code",
   "execution_count": 6,
   "id": "ab6eb3d3-d393-4193-bc19-13c5d1cce551",
   "metadata": {},
   "outputs": [
    {
     "name": "stdout",
     "output_type": "stream",
     "text": [
      "4\n",
      "0 4 1 5\n",
      "0 4 2 6\n",
      "0 4 3 7\n",
      "1 5 2 6\n",
      "1 5 3 7\n",
      "2 6 3 7\n",
      "6 (8, 8, 8, 8)\n"
     ]
    }
   ],
   "source": [
    "# print all seniority zero elements, i.e. elements that corespond to pairs of \"twin\" pairs\n",
    "a=0\n",
    "for i in range(0,2*M):\n",
    "    for j in range(0,2*M):\n",
    "        for k in range(0,2*M):\n",
    "            for l in range(0,2*M):\n",
    "                if h2_RG[i,j,k,l] != 0.0:\n",
    "                    a+=1\n",
    "                    print(i,j,k,l)\n",
    "print(M, a, h2_RG.shape)"
   ]
  },
  {
   "cell_type": "code",
   "execution_count": 7,
   "id": "3d2f663f-c452-4f88-a7e3-689eefecfeaf",
   "metadata": {},
   "outputs": [
    {
     "name": "stdout",
     "output_type": "stream",
     "text": [
      "0 1 4 5\n",
      "0 2 4 6\n",
      "0 3 4 7\n",
      "1 2 5 6\n",
      "1 3 5 7\n",
      "2 3 6 7\n"
     ]
    }
   ],
   "source": [
    "# the same again coresponding to chemists notation\n",
    "h2_ch = np.transpose(h2_RG, (0, 2, 1, 3))\n",
    "for i in range(0,2*M):\n",
    "    for j in range(0,2*M):\n",
    "        for k in range(0,2*M):\n",
    "            for l in range(0,2*M):\n",
    "                if h2_ch[i,j,k,l] != 0.0:\n",
    "                    print(i,j,k,l)"
   ]
  }
 ],
 "metadata": {
  "kernelspec": {
   "display_name": "1RDMFT",
   "language": "python",
   "name": "1rdmft"
  },
  "language_info": {
   "codemirror_mode": {
    "name": "ipython",
    "version": 3
   },
   "file_extension": ".py",
   "mimetype": "text/x-python",
   "name": "python",
   "nbconvert_exporter": "python",
   "pygments_lexer": "ipython3",
   "version": "3.12.3"
  }
 },
 "nbformat": 4,
 "nbformat_minor": 5
}
