{
 "cells": [
  {
   "cell_type": "code",
   "execution_count": 1,
   "id": "628735a1-41e3-4319-9534-da6b0355d00d",
   "metadata": {},
   "outputs": [],
   "source": [
    "# Import key packages\n",
    "import numpy as np\n",
    "import iodata\n",
    "from iodata import IOData\n",
    "import gbasis\n",
    "from gbasis.wrappers import from_iodata\n",
    "from iodata import load_one, dump_one\n",
    "from pyscf import gto, scf\n",
    "from pyscf.scf.chkfile import dump_scf\n",
    "import pyci"
   ]
  },
  {
   "cell_type": "code",
   "execution_count": 2,
   "id": "fd418d19-965e-44ba-9622-69b174011da2",
   "metadata": {},
   "outputs": [],
   "source": [
    "def RanGo(N):\n",
    "    h2 = np.zeros((2*N, 2*N, 2*N, 2*N))\n",
    "    \n",
    "    # build hamiltonian, i and k are uparrow, <ij|kl>\n",
    "    # a b a b\n",
    "    for i in range(2*N):\n",
    "        for j in range(N,2*N):\n",
    "            for k in range(2*N):\n",
    "                for l in range(N,2*N):\n",
    "                    delta_ij = 1 if i == j+N or i+N == j else 0\n",
    "                    delta_kl = 1 if k == l+N or k+N == l else 0\n",
    "                    delta_il = 1 if i == k else 0\n",
    "                    h2[i, j, k, l] = delta_ij * delta_kl\n",
    "    # b a b a \n",
    "    for i in range(N,2*N):\n",
    "        for j in range(N):\n",
    "            for k in range(N,2*N):\n",
    "                for l in range(N):\n",
    "                    delta_ij = 1 if i == j+N or i+N == j else 0\n",
    "                    delta_kl = 1 if k == l+N or k+N == l else 0\n",
    "                    delta_il = 1 if i == k else 0\n",
    "                    h2[i, j, k, l] = delta_ij * delta_kl\n",
    "\n",
    "    return h2"
   ]
  },
  {
   "cell_type": "code",
   "execution_count": 3,
   "id": "8fd0f8f1-dfa0-4a2e-a978-c3539bf4f04b",
   "metadata": {},
   "outputs": [],
   "source": [
    "def Vee(eri,dm2):\n",
    "    return .5*np.einsum('pqrs,pqrs', eri[0], dm2[0])+.5*np.einsum('pqrs,pqrs', eri[2], dm2[2])+np.einsum('pqrs,pqrs', eri[1], dm2[1])"
   ]
  },
  {
   "cell_type": "code",
   "execution_count": 7,
   "id": "f40480f5-fc61-46a1-b52b-25ef4186759f",
   "metadata": {},
   "outputs": [
    {
     "name": "stdout",
     "output_type": "stream",
     "text": [
      "(12, 12, 12, 12)\n",
      "-0.0\n",
      "[[0.5 0.  0.  0.  0.  0.  0.  0.  0.  0.  0.  0. ]\n",
      " [0.  1.  0.  0.  0.  0.  0.  0.  0.  0.  0.  0. ]\n",
      " [0.  0.  1.5 0.  0.  0.  0.  0.  0.  0.  0.  0. ]\n",
      " [0.  0.  0.  2.  0.  0.  0.  0.  0.  0.  0.  0. ]\n",
      " [0.  0.  0.  0.  2.5 0.  0.  0.  0.  0.  0.  0. ]\n",
      " [0.  0.  0.  0.  0.  3.  0.  0.  0.  0.  0.  0. ]\n",
      " [0.  0.  0.  0.  0.  0.  0.5 0.  0.  0.  0.  0. ]\n",
      " [0.  0.  0.  0.  0.  0.  0.  1.  0.  0.  0.  0. ]\n",
      " [0.  0.  0.  0.  0.  0.  0.  0.  1.5 0.  0.  0. ]\n",
      " [0.  0.  0.  0.  0.  0.  0.  0.  0.  2.  0.  0. ]\n",
      " [0.  0.  0.  0.  0.  0.  0.  0.  0.  0.  2.5 0. ]\n",
      " [0.  0.  0.  0.  0.  0.  0.  0.  0.  0.  0.  3. ]]\n"
     ]
    }
   ],
   "source": [
    "from moha.hamiltonians import HamHub, HamRG\n",
    "\n",
    "g= -1.0\n",
    "\n",
    "M = 6\n",
    "nelec = M//2\n",
    "adjacency = np.ones((M,M))\n",
    "Richardson = HamRG(np.array(range(M)), g, adjacency)\n",
    "\n",
    "h0_ric = Richardson.generate_zero_body_integral()\n",
    "h1_ric = Richardson.generate_one_body_integral(basis='spinorbital basis', dense=True)\n",
    "h0_ric = h0_ric*0\n",
    "# h1_ric = h1_ric*0\n",
    "\n",
    "# h2_ric = Richardson.generate_two_body_integral(sym=8,basis='spinorbital basis',\n",
    "#                                                 dense=True)\n",
    "h2_ric = RanGo(M)*g\n",
    "\n",
    "print(h2_ric.shape)\n",
    "\n",
    "print(h0_ric)\n",
    "print(h1_ric)\n",
    "\n",
    "ham_ric_int = pyci.secondquant_op(h0_ric, h1_ric, h2_ric)\n"
   ]
  },
  {
   "cell_type": "code",
   "execution_count": 8,
   "id": "614b1488-ddd8-485c-8151-4d4f6db2a6e7",
   "metadata": {},
   "outputs": [
    {
     "name": "stdout",
     "output_type": "stream",
     "text": [
      "E Ric (integrals):  -2.97568196641335\n"
     ]
    }
   ],
   "source": [
    "# Check different approaches using CISD.\n",
    "# Note that the Hamiltonian is (supposed to be) the same in all cases.\n",
    "occs = (nelec//2,nelec//2)\n",
    "excitations = (0, 1, 2, 3, 4, 5, 6, 7, 8 )     # excitations to include (0 = reference, 1 = single, 2 = double)\n",
    "\n",
    "# From PySCF (integrals)\n",
    "wfn_ric_int = pyci.fullci_wfn(ham_ric_int.nbasis, *occs)\n",
    "pyci.add_excitations(wfn_ric_int, *excitations, ref=None)\n",
    "\n",
    "op = pyci.sparse_op(ham_ric_int, wfn_ric_int)\n",
    "e_vals_ric_int, e_vecs_ric_int = op.solve(n=1, tol=1.0e-9)\n",
    "print(\"E Ric (integrals): \", e_vals_ric_int[0])"
   ]
  },
  {
   "cell_type": "code",
   "execution_count": 15,
   "id": "f666e96e-5c53-47e2-8329-8da6493b7cd2",
   "metadata": {},
   "outputs": [
    {
     "name": "stdout",
     "output_type": "stream",
     "text": [
      "1.0000000000000022\n",
      "(2, 12, 12)\n",
      "-5.260274319557405\n",
      "0.0\n"
     ]
    }
   ],
   "source": [
    "d1, d2 = pyci.compute_rdms(wfn_ric_int, e_vecs_ric_int[0])\n",
    "print(np.einsum('pqpq',d2[0]+2*d2[1]+d2[2]))\n",
    "print(d1.shape)\n",
    "print(e_vals_ric_int[0]-np.trace(h1_ric@d1[0]+d1[1])-h0_ric)\n",
    "print(2*Vee((h2_ric*0,h2_ric,h2_ric*0),d2))"
   ]
  },
  {
   "cell_type": "code",
   "execution_count": null,
   "id": "c9518fda-5ee8-4784-abe9-e6a184594f2c",
   "metadata": {},
   "outputs": [],
   "source": []
  }
 ],
 "metadata": {
  "kernelspec": {
   "display_name": "1RDMFT",
   "language": "python",
   "name": "1rdmft"
  },
  "language_info": {
   "codemirror_mode": {
    "name": "ipython",
    "version": 3
   },
   "file_extension": ".py",
   "mimetype": "text/x-python",
   "name": "python",
   "nbconvert_exporter": "python",
   "pygments_lexer": "ipython3",
   "version": "3.12.3"
  }
 },
 "nbformat": 4,
 "nbformat_minor": 5
}
