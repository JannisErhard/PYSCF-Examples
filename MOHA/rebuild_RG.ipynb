{
 "cells": [
  {
   "cell_type": "code",
   "execution_count": 1,
   "id": "628735a1-41e3-4319-9534-da6b0355d00d",
   "metadata": {},
   "outputs": [],
   "source": [
    "import moha\n",
    "import numpy as np\n",
    "from pyscf import gto, scf, fci\n"
   ]
  },
  {
   "cell_type": "code",
   "execution_count": 2,
   "id": "829263b4-cd04-4b71-af85-79c46b027f07",
   "metadata": {},
   "outputs": [],
   "source": [
    "def RanGo(N):\n",
    "    h2 = np.zeros((2*N, 2*N, 2*N, 2*N))\n",
    "    \n",
    "    # build hamiltonian, i and k are uparrow, <ij|kl>\n",
    "    # a b a b\n",
    "    for i in range(2*N):\n",
    "        for j in range(N,2*N):\n",
    "            for k in range(2*N):\n",
    "                for l in range(N,2*N):\n",
    "                    delta_ij = 1 if i == j+N or i+N == j else 0\n",
    "                    delta_kl = 1 if k == l+N or k+N == l else 0\n",
    "                    delta_il = 1 if i == k else 0\n",
    "                    h2[i, j, k, l] = delta_ij * delta_kl #* (1 - delta_il)\n",
    "    # b a b a \n",
    "    for i in range(N,2*N):\n",
    "        for j in range(N):\n",
    "            for k in range(N,2*N):\n",
    "                for l in range(N):\n",
    "                    delta_ij = 1 if i == j+N or i+N == j else 0\n",
    "                    delta_kl = 1 if k == l+N or k+N == l else 0\n",
    "                    delta_il = 1 if i == k else 0\n",
    "                    h2[i, j, k, l] = delta_ij * delta_kl #* (1 - delta_il)\n",
    "\n",
    "    return h2"
   ]
  },
  {
   "cell_type": "code",
   "execution_count": 3,
   "id": "4aa5b678-ce92-4e7e-ab1d-6939ca4e5c9b",
   "metadata": {},
   "outputs": [
    {
     "name": "stdout",
     "output_type": "stream",
     "text": [
      "[[1. 1.]\n",
      " [1. 1.]]\n"
     ]
    }
   ],
   "source": [
    "# make a M x M adjacency matrix \n",
    "M = 2\n",
    "adjacency = np.ones((M,M))\n",
    "print(adjacency)"
   ]
  },
  {
   "cell_type": "code",
   "execution_count": 4,
   "id": "f40480f5-fc61-46a1-b52b-25ef4186759f",
   "metadata": {},
   "outputs": [],
   "source": [
    "#HamRG(mu: ndarray, J_eq: ndarray, connectivity: ndarray | None = None)\n",
    "RG = moha.HamRG(0, 1.0, adjacency)"
   ]
  },
  {
   "cell_type": "code",
   "execution_count": 5,
   "id": "614b1488-ddd8-485c-8151-4d4f6db2a6e7",
   "metadata": {},
   "outputs": [],
   "source": [
    "h2_RG = RG.generate_two_body_integral(dense=True,  basis='spinorbital basis' ,sym=8)"
   ]
  },
  {
   "cell_type": "markdown",
   "id": "0ff838a0-3d31-426f-b9de-9f486b2539a1",
   "metadata": {},
   "source": [
    "how many are non 0 for 2 spatial orbitals, i.e. $\\{\\bra{i}, \\bra{j}, \\bra{\\bar i}, \\bra{\\bar j} \\}$, Excatly one, because every member needs to have his buddy and there are only two members. Since these are spinorbitals every member can also only be occupied once.  \n",
    "\n",
    "The number of twinning pairs willl be $M$ since each spatial basis set entry has one twin. The number of non zero elements in H2 will be $M(M-1)/2$, which is the number of pairs that can be formed from the twinning pairs."
   ]
  },
  {
   "cell_type": "code",
   "execution_count": 6,
   "id": "f666e96e-5c53-47e2-8329-8da6493b7cd2",
   "metadata": {},
   "outputs": [
    {
     "name": "stdout",
     "output_type": "stream",
     "text": [
      "number of twin pairs 2\n",
      "number of pairs of pairs 1\n"
     ]
    }
   ],
   "source": [
    "# predict properties of the seniority zero h2\n",
    "print(f\"number of twin pairs {M}\")\n",
    "B=M*(M-1)//2\n",
    "print(f\"number of pairs of pairs {B}\")"
   ]
  },
  {
   "cell_type": "code",
   "execution_count": 7,
   "id": "e7ec3444-4e25-4110-96ee-66ef11737dd8",
   "metadata": {},
   "outputs": [
    {
     "data": {
      "text/plain": [
       "(array([0, 0, 1, 1, 2, 2, 3, 3]),\n",
       " array([2, 3, 2, 3, 0, 1, 0, 1]),\n",
       " array([1, 1, 0, 0, 3, 3, 2, 2]),\n",
       " array([3, 2, 3, 2, 1, 0, 1, 0]))"
      ]
     },
     "execution_count": 7,
     "metadata": {},
     "output_type": "execute_result"
    }
   ],
   "source": [
    "np.where(h2_RG != 0)"
   ]
  },
  {
   "cell_type": "code",
   "execution_count": 8,
   "id": "d071d647-2d47-454e-ba01-2c2b9db5aa65",
   "metadata": {},
   "outputs": [],
   "source": [
    "h2_own = RanGo(M)"
   ]
  },
  {
   "cell_type": "code",
   "execution_count": 9,
   "id": "02b1a655-a8d7-4308-a3cf-a24f576a0b82",
   "metadata": {},
   "outputs": [
    {
     "data": {
      "text/plain": [
       "(array([0, 0, 1, 1, 2, 2, 3, 3]),\n",
       " array([2, 2, 3, 3, 0, 0, 1, 1]),\n",
       " array([0, 1, 0, 1, 2, 3, 2, 3]),\n",
       " array([2, 3, 2, 3, 0, 1, 0, 1]))"
      ]
     },
     "execution_count": 9,
     "metadata": {},
     "output_type": "execute_result"
    }
   ],
   "source": [
    "np.where(h2_own != 0)"
   ]
  },
  {
   "cell_type": "code",
   "execution_count": null,
   "id": "e9c37418-2d1c-40c6-939a-058aaae452fa",
   "metadata": {},
   "outputs": [],
   "source": []
  }
 ],
 "metadata": {
  "kernelspec": {
   "display_name": "1RDMFT",
   "language": "python",
   "name": "1rdmft"
  },
  "language_info": {
   "codemirror_mode": {
    "name": "ipython",
    "version": 3
   },
   "file_extension": ".py",
   "mimetype": "text/x-python",
   "name": "python",
   "nbconvert_exporter": "python",
   "pygments_lexer": "ipython3",
   "version": "3.12.3"
  }
 },
 "nbformat": 4,
 "nbformat_minor": 5
}
