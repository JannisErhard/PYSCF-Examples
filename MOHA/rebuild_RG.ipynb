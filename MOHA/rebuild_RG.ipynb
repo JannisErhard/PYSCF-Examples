{
 "cells": [
  {
   "cell_type": "code",
   "execution_count": 1,
   "id": "628735a1-41e3-4319-9534-da6b0355d00d",
   "metadata": {},
   "outputs": [],
   "source": [
    "import moha\n",
    "import numpy as np\n",
    "from pyscf import gto, scf, fci\n"
   ]
  },
  {
   "cell_type": "code",
   "execution_count": 2,
   "id": "829263b4-cd04-4b71-af85-79c46b027f07",
   "metadata": {},
   "outputs": [],
   "source": [
    "def RanGo(N):\n",
    "    h2 = np.zeros((2*N, 2*N, 2*N, 2*N))\n",
    "    \n",
    "    # build hamiltonian, i and k are uparrow, <ij|kl>\n",
    "    # a b a b\n",
    "    for i in range(2*N):\n",
    "        for j in range(N,2*N):\n",
    "            for k in range(2*N):\n",
    "                for l in range(N,2*N):\n",
    "                    delta_ij = 1 if i == j+N or i+N == j else 0\n",
    "                    delta_kl = 1 if k == l+N or k+N == l else 0\n",
    "                    h2[i, j, k, l] = delta_ij * delta_kl\n",
    "    # b a b a \n",
    "    for i in range(N,2*N):\n",
    "        for j in range(N):\n",
    "            for k in range(N,2*N):\n",
    "                for l in range(N):\n",
    "                    delta_ij = 1 if i == j+N or i+N == j else 0\n",
    "                    delta_kl = 1 if k == l+N or k+N == l else 0\n",
    "                    h2[i, j, k, l] = delta_ij * delta_kl\n",
    "\n",
    "    return h2"
   ]
  },
  {
   "cell_type": "code",
   "execution_count": 3,
   "id": "4aa5b678-ce92-4e7e-ab1d-6939ca4e5c9b",
   "metadata": {},
   "outputs": [
    {
     "name": "stdout",
     "output_type": "stream",
     "text": [
      "[[1. 1.]\n",
      " [1. 1.]]\n"
     ]
    }
   ],
   "source": [
    "# make a M x M adjacency matrix \n",
    "M = 2\n",
    "adjacency = np.ones((M,M))\n",
    "print(adjacency)"
   ]
  },
  {
   "cell_type": "code",
   "execution_count": 4,
   "id": "f40480f5-fc61-46a1-b52b-25ef4186759f",
   "metadata": {},
   "outputs": [],
   "source": [
    "#HamRG(mu: ndarray, J_eq: ndarray, connectivity: ndarray | None = None)\n",
    "RG = moha.HamRG(0, 1.0, adjacency)"
   ]
  },
  {
   "cell_type": "code",
   "execution_count": 9,
   "id": "614b1488-ddd8-485c-8151-4d4f6db2a6e7",
   "metadata": {},
   "outputs": [
    {
     "data": {
      "text/plain": [
       "(array([0]), array([2]), array([1]), array([3]))"
      ]
     },
     "execution_count": 9,
     "metadata": {},
     "output_type": "execute_result"
    }
   ],
   "source": [
    "h2_RG = RG.generate_two_body_integral(dense=True,  basis='spinorbital basis' ,sym=1)\n",
    "np.where(h2_RG != 0)"
   ]
  },
  {
   "cell_type": "code",
   "execution_count": 10,
   "id": "9fbb1a9b-0cb3-46d9-82c4-73dd0d9487de",
   "metadata": {},
   "outputs": [
    {
     "data": {
      "text/plain": [
       "(array([0, 1]), array([2, 3]), array([1, 0]), array([3, 2]))"
      ]
     },
     "execution_count": 10,
     "metadata": {},
     "output_type": "execute_result"
    }
   ],
   "source": [
    "h2_RG = RG.generate_two_body_integral(dense=True,  basis='spinorbital basis' ,sym=2)\n",
    "np.where(h2_RG != 0)"
   ]
  },
  {
   "cell_type": "code",
   "execution_count": 11,
   "id": "fa2469d2-ea50-4c04-8780-da6d5e32b28f",
   "metadata": {},
   "outputs": [
    {
     "data": {
      "text/plain": [
       "(array([0, 1, 2, 3]),\n",
       " array([2, 3, 0, 1]),\n",
       " array([1, 0, 3, 2]),\n",
       " array([3, 2, 1, 0]))"
      ]
     },
     "execution_count": 11,
     "metadata": {},
     "output_type": "execute_result"
    }
   ],
   "source": [
    "h2_RG = RG.generate_two_body_integral(dense=True,  basis='spinorbital basis' ,sym=4)\n",
    "np.where(h2_RG != 0)"
   ]
  },
  {
   "cell_type": "code",
   "execution_count": 12,
   "id": "3dcdd81f-9015-476b-8411-f623bd0c2c08",
   "metadata": {},
   "outputs": [
    {
     "data": {
      "text/plain": [
       "(array([0, 0, 1, 1, 2, 2, 3, 3]),\n",
       " array([2, 3, 2, 3, 0, 1, 0, 1]),\n",
       " array([1, 1, 0, 0, 3, 3, 2, 2]),\n",
       " array([3, 2, 3, 2, 1, 0, 1, 0]))"
      ]
     },
     "execution_count": 12,
     "metadata": {},
     "output_type": "execute_result"
    }
   ],
   "source": [
    "h2_RG = RG.generate_two_body_integral(dense=True,  basis='spinorbital basis' ,sym=8)\n",
    "np.where(h2_RG != 0)"
   ]
  },
  {
   "cell_type": "code",
   "execution_count": 7,
   "id": "d071d647-2d47-454e-ba01-2c2b9db5aa65",
   "metadata": {},
   "outputs": [],
   "source": [
    "h2_own = RanGo(M)"
   ]
  },
  {
   "cell_type": "code",
   "execution_count": 8,
   "id": "02b1a655-a8d7-4308-a3cf-a24f576a0b82",
   "metadata": {},
   "outputs": [
    {
     "data": {
      "text/plain": [
       "(array([0, 0, 1, 1, 2, 2, 3, 3]),\n",
       " array([2, 2, 3, 3, 0, 0, 1, 1]),\n",
       " array([0, 1, 0, 1, 2, 3, 2, 3]),\n",
       " array([2, 3, 2, 3, 0, 1, 0, 1]))"
      ]
     },
     "execution_count": 8,
     "metadata": {},
     "output_type": "execute_result"
    }
   ],
   "source": [
    "np.where(h2_own != 0)"
   ]
  },
  {
   "cell_type": "code",
   "execution_count": null,
   "id": "e9c37418-2d1c-40c6-939a-058aaae452fa",
   "metadata": {},
   "outputs": [],
   "source": []
  }
 ],
 "metadata": {
  "kernelspec": {
   "display_name": "1RDMFT",
   "language": "python",
   "name": "1rdmft"
  },
  "language_info": {
   "codemirror_mode": {
    "name": "ipython",
    "version": 3
   },
   "file_extension": ".py",
   "mimetype": "text/x-python",
   "name": "python",
   "nbconvert_exporter": "python",
   "pygments_lexer": "ipython3",
   "version": "3.12.3"
  }
 },
 "nbformat": 4,
 "nbformat_minor": 5
}
