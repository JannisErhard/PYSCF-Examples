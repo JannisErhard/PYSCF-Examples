{
 "cells": [
  {
   "cell_type": "code",
   "execution_count": 1,
   "id": "8f4ae9a1-bf80-4899-8995-801ad4b3f8d9",
   "metadata": {},
   "outputs": [],
   "source": [
    "import numpy as np\n",
    "from pyscf import gto, scf, fci"
   ]
  },
  {
   "cell_type": "code",
   "execution_count": 2,
   "id": "1b6f2808-8d7c-4add-ad1d-f663fbd44f88",
   "metadata": {},
   "outputs": [],
   "source": [
    "def expand_matrix(P):\n",
    "    Paa = P\n",
    "    Pbb = P\n",
    "    Pab = np.zeros(P.shape)\n",
    "    Pba = np.zeros(P.shape)\n",
    "    PE = np.concatenate((np.concatenate((Paa, Pab), axis=1), np.concatenate((Pba, Pbb), axis=1)), axis=0) \n",
    "    return PE"
   ]
  },
  {
   "cell_type": "code",
   "execution_count": 3,
   "id": "cd57f890-8eda-46eb-aead-6652fb17ef0c",
   "metadata": {},
   "outputs": [],
   "source": [
    "# for spinorbitals\n",
    "def ONERDMFT_hartree_energy(Fouridx, C, n):\n",
    "    energy = 0\n",
    "    M = C.shape[0]\n",
    "    K = Fouridx.shape[0]\n",
    "    for a in  range(0,M):\n",
    "        for b in range(0,M):\n",
    "            for mu in range(0,M):\n",
    "                for nu in range(0,M):\n",
    "                    for kappa in range(0,M):\n",
    "                        for lamda in range(0,M):\n",
    "                            energy += n[a]*n[b]*C[mu,a]*C[nu,a]*C[kappa,b]*C[lamda,b]*Fouridx[mu%K,nu%K,kappa%K,lamda%K]\n",
    "\n",
    "    return 1/2.*energy"
   ]
  },
  {
   "cell_type": "code",
   "execution_count": 4,
   "id": "ac1d1987-a781-463a-84c2-eaad1abfc224",
   "metadata": {},
   "outputs": [],
   "source": [
    "# for spinorbitals\n",
    "def ONERDMFT_Umrigar_hartree_energy(Fouridx, C, n):\n",
    "    energy = 0\n",
    "    M = C.shape[0]\n",
    "    K = Fouridx.shape[0]\n",
    "    for a in  range(0,M):\n",
    "        for b in range(0,M):\n",
    "            if a == b:\n",
    "                print()\n",
    "            else:\n",
    "                for mu in range(0,M):\n",
    "                    for nu in range(0,M):\n",
    "                        for kappa in range(0,M):\n",
    "                            for lamda in range(0,M):\n",
    "                                energy += n[a]*n[b]*C[mu,a]*C[nu,a]*C[kappa,b]*C[lamda,b]*Fouridx[mu%K,nu%K,kappa%K,lamda%K]\n",
    "\n",
    "    return 1/2.*energy"
   ]
  },
  {
   "cell_type": "code",
   "execution_count": 5,
   "id": "528a883c-f7a1-4f39-875a-335494de1ac2",
   "metadata": {},
   "outputs": [
    {
     "name": "stdout",
     "output_type": "stream",
     "text": [
      "(2, 2, 2, 2)\n",
      "converged SCF energy = -2.85516042615445\n"
     ]
    }
   ],
   "source": [
    "mol = gto.Mole()\n",
    "mol.atom = \"\"\"\n",
    "    He    0.    0.    0.\n",
    "\"\"\"\n",
    "# this basis has 2 functions for Helium\n",
    "mol.basis = \"6-31g\" #\n",
    "#mol.basis = \"ccpvdz\"\n",
    "#, mol.basis = \"sto-6g\"\n",
    "mol.build()\n",
    "\n",
    "# the 2 electron integrals \\langle \\mu \\nu | \\kappa \\lambda \\rangle have M^4 entries\n",
    "eri = mol.intor('int2e')\n",
    "S = mol.intor('int1e_ovlp')\n",
    "\n",
    "print(eri.shape)\n",
    "\n",
    "## Run Hartree-Fock.\n",
    "mf = scf.RHF(mol)\n",
    "mf.kernel()\n",
    "\n",
    "C = mf.mo_coeff\n",
    "h = mf.get_hcore()\n",
    "\n",
    "N = mol.nelec[0]\n",
    "P=np.matmul(C[:,0:N],C[:,0:N].T)\n",
    "\n",
    "gamma = np.matmul(np.matmul(C.T,np.matmul(np.matmul(S,P),S)), C)\n",
    "occu, naturalC = np.linalg.eigh(gamma)"
   ]
  },
  {
   "cell_type": "code",
   "execution_count": 6,
   "id": "6d854f62-dee4-4734-b361-50a41ba8a44b",
   "metadata": {},
   "outputs": [],
   "source": [
    "PE = expand_matrix(P)\n",
    "CE = expand_matrix(C)\n",
    "SE = expand_matrix(S)\n",
    "gamma = np.matmul(np.matmul(CE.T,np.matmul(np.matmul(SE,PE),SE)), CE)\n",
    "occu, naturalC = np.linalg.eigh(gamma)\n",
    "naturalCTT = np.matmul(CE,naturalC)"
   ]
  },
  {
   "cell_type": "code",
   "execution_count": 7,
   "id": "a531df7a-13d8-4e7b-b5ae-7ffb23d62797",
   "metadata": {},
   "outputs": [
    {
     "name": "stdout",
     "output_type": "stream",
     "text": [
      "[[ 1.14981805  0.          0.         -0.59208126]\n",
      " [-1.1869588   0.          0.         -0.51358601]\n",
      " [ 0.          1.14981805 -0.59208126  0.        ]\n",
      " [ 0.         -1.1869588  -0.51358601  0.        ]]\n",
      "\n",
      "\n",
      "\n",
      "\n",
      "1.0269071688753775 [-7.56863481e-17 -7.56863481e-17  1.00000000e+00  1.00000000e+00]\n",
      "2.0538143377507536 [-7.56863481e-17 -7.56863481e-17  1.00000000e+00  1.00000000e+00]\n"
     ]
    }
   ],
   "source": [
    "print(naturalCTT)\n",
    "E = ONERDMFT_Umrigar_hartree_energy(eri, naturalCTT, occu)\n",
    "print(E, occu)\n",
    "E = ONERDMFT_hartree_energy(eri, naturalCTT, occu)\n",
    "print(E, occu)"
   ]
  },
  {
   "cell_type": "code",
   "execution_count": null,
   "id": "de0a3be8-14db-4694-917f-a372cc4fa392",
   "metadata": {},
   "outputs": [],
   "source": []
  }
 ],
 "metadata": {
  "kernelspec": {
   "display_name": "Python 3 (ipykernel)",
   "language": "python",
   "name": "python3"
  },
  "language_info": {
   "codemirror_mode": {
    "name": "ipython",
    "version": 3
   },
   "file_extension": ".py",
   "mimetype": "text/x-python",
   "name": "python",
   "nbconvert_exporter": "python",
   "pygments_lexer": "ipython3",
   "version": "3.10.12"
  }
 },
 "nbformat": 4,
 "nbformat_minor": 5
}
