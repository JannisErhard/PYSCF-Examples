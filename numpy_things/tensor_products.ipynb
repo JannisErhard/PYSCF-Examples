{
 "cells": [
  {
   "cell_type": "code",
   "execution_count": 1,
   "id": "bf0d4d48-cd53-426e-bf0c-702d80b9f9c0",
   "metadata": {},
   "outputs": [],
   "source": [
    "import numpy as np\n",
    "import string"
   ]
  },
  {
   "cell_type": "markdown",
   "id": "cfbe2b2c-a6ad-4783-acea-e82a829239f7",
   "metadata": {},
   "source": [
    "This script is a memento for the np.tensordot and its uses, the reason I got interested in this was:"
   ]
  },
  {
   "cell_type": "code",
   "execution_count": 2,
   "id": "b8c06aa3-fc22-43ff-80a5-ccaed0bce3f6",
   "metadata": {},
   "outputs": [],
   "source": [
    "# for i in range(4):\n",
    "#    h2e = np.tensordot(h2e, scf_c, axes=1).transpose(3, 0, 1, 2)"
   ]
  },
  {
   "cell_type": "markdown",
   "id": "5d021edf-14d2-4d83-9f91-2ad0931e2cfa",
   "metadata": {},
   "source": [
    "Although in the following I will lookn into examples where the dimension of the first and second input objects are identical, this operation is one where the first object has 4 and the second 2 indices. \n",
    "\n",
    "tensordot has multiple modes in which it runs, decided by the value of axes, the only flag. The expected result of something called tensordot is the Kronecker product defines as:\n"
   ]
  },
  {
   "cell_type": "markdown",
   "id": "468ca20a-c6af-473b-81a1-10e9c2cb7cc4",
   "metadata": {},
   "source": [
    "$ \\mathbf{A} \\otimes \\mathbf{B} =  \n",
    " \\begin{bmatrix} a_{11} \\mathbf{B} & \\cdots & a_{1n}\\mathbf{B} \\\\\n",
    "             \\vdots & \\ddots &           \\vdots \\\\\n",
    "  a_{m1} \\mathbf{B} & \\cdots & a_{mn} \\mathbf{B}\n",
    "\\end{bmatrix}, \n",
    "$"
   ]
  },
  {
   "cell_type": "markdown",
   "id": "3925719a-b1eb-42a7-8b8c-a9838bf07669",
   "metadata": {},
   "source": [
    "in the following an integer matrix is multiplied with a string matrix to make this oparation easily undersatndable:"
   ]
  },
  {
   "cell_type": "code",
   "execution_count": 3,
   "id": "dd8cc7ee-7eb8-4c16-880b-1b831a56369b",
   "metadata": {},
   "outputs": [],
   "source": [
    "a = np.arange(4,2*4).reshape(2,2)\n",
    "b = np.array(list(string.ascii_lowercase)[0:4], dtype=object).reshape(2,2)\n",
    "c = np.tensordot(a,b, axes=0)"
   ]
  },
  {
   "cell_type": "code",
   "execution_count": 4,
   "id": "826bc9e7-355d-4a27-9206-b01430abee18",
   "metadata": {},
   "outputs": [],
   "source": [
    "#print(a,b,c)"
   ]
  },
  {
   "cell_type": "markdown",
   "id": "8adbafc1-ee35-4565-a115-4b2313d163c5",
   "metadata": {},
   "source": [
    "tensordot in mode axes = 1, between 2 (1,1) tensors is just a matrix product"
   ]
  },
  {
   "cell_type": "code",
   "execution_count": 5,
   "id": "2d220eee-2759-4a56-b6de-4f1d052d0e0c",
   "metadata": {},
   "outputs": [],
   "source": [
    "c = np.tensordot(a,b, axes=1)"
   ]
  },
  {
   "cell_type": "code",
   "execution_count": 6,
   "id": "02dce2ab-10eb-42a4-b91c-cbc71c4c41ef",
   "metadata": {},
   "outputs": [
    {
     "name": "stdout",
     "output_type": "stream",
     "text": [
      "[[4 5]\n",
      " [6 7]] [['a' 'b']\n",
      " ['c' 'd']] [['aaaaccccc' 'bbbbddddd']\n",
      " ['aaaaaaccccccc' 'bbbbbbddddddd']]\n"
     ]
    }
   ],
   "source": [
    "print(a,b,c)"
   ]
  },
  {
   "cell_type": "code",
   "execution_count": 7,
   "id": "4ad3892f-7196-4321-9f7b-590f0e4d8d82",
   "metadata": {},
   "outputs": [],
   "source": [
    "a = np.arange(0,8).reshape(2,2,2)\n",
    "b = np.array(list(string.ascii_lowercase)[0:8], dtype=object).reshape(2,2,2)\n",
    "c = np.tensordot(a,b, axes=1)"
   ]
  },
  {
   "cell_type": "code",
   "execution_count": 8,
   "id": "8182b688-1c1b-4655-9d7a-833489417119",
   "metadata": {},
   "outputs": [
    {
     "name": "stdout",
     "output_type": "stream",
     "text": [
      "(2, 2, 2, 2)\n",
      "[[[0 1]\n",
      "  [2 3]]\n",
      "\n",
      " [[4 5]\n",
      "  [6 7]]] [[['a' 'b']\n",
      "  ['c' 'd']]\n",
      "\n",
      " [['e' 'f']\n",
      "  ['g' 'h']]] =\n",
      " [[[['e' 'f']\n",
      "   ['g' 'h']]\n",
      "\n",
      "  [['aaeee' 'bbfff']\n",
      "   ['ccggg' 'ddhhh']]]\n",
      "\n",
      "\n",
      " [[['aaaaeeeee' 'bbbbfffff']\n",
      "   ['ccccggggg' 'ddddhhhhh']]\n",
      "\n",
      "  [['aaaaaaeeeeeee' 'bbbbbbfffffff']\n",
      "   ['ccccccggggggg' 'ddddddhhhhhhh']]]]\n"
     ]
    }
   ],
   "source": [
    "print(c.shape)\n",
    "print(a,b, \"=\\n\", c)"
   ]
  },
  {
   "cell_type": "markdown",
   "id": "fd43dd33-c3d5-4066-84ed-a8b47eff7fe0",
   "metadata": {},
   "source": [
    "And 3rd is the operationmode 2, called a \"double product\", it results in a reduction of the dimension as compared to the initial qunatities"
   ]
  },
  {
   "cell_type": "code",
   "execution_count": 9,
   "id": "12d04969-8918-4b62-b51f-fe4886ce1746",
   "metadata": {},
   "outputs": [],
   "source": [
    "a = np.arange(4,2*4).reshape(2,2)\n",
    "b = np.array(list(string.ascii_lowercase)[0:4], dtype=object).reshape(2,2)\n",
    "c = np.tensordot(a,b, axes=2)"
   ]
  },
  {
   "cell_type": "code",
   "execution_count": 10,
   "id": "b26cbbb3-294e-45b8-9545-30ee044b554a",
   "metadata": {},
   "outputs": [
    {
     "name": "stdout",
     "output_type": "stream",
     "text": [
      "()\n",
      "[[4 5]\n",
      " [6 7]] [['a' 'b']\n",
      " ['c' 'd']] =\n",
      " aaaabbbbbccccccddddddd\n"
     ]
    }
   ],
   "source": [
    "print(c.shape)\n",
    "print(a,b, \"=\\n\", c)"
   ]
  },
  {
   "cell_type": "code",
   "execution_count": 11,
   "id": "b7fefcae-cef1-4499-93a8-fb98d2439bf5",
   "metadata": {},
   "outputs": [],
   "source": [
    "a = np.arange(0,8).reshape(2,2,2)\n",
    "b = np.array(list(string.ascii_lowercase)[0:8], dtype=object).reshape(2,2,2)\n",
    "c = np.tensordot(a,b, axes=2)"
   ]
  },
  {
   "cell_type": "code",
   "execution_count": 12,
   "id": "2c2703d5-61f7-4ed7-9dbf-6c96bc0ae00d",
   "metadata": {},
   "outputs": [
    {
     "name": "stdout",
     "output_type": "stream",
     "text": [
      "(2, 2)\n",
      "[[[0 1]\n",
      "  [2 3]]\n",
      "\n",
      " [[4 5]\n",
      "  [6 7]]] [[['a' 'b']\n",
      "  ['c' 'd']]\n",
      "\n",
      " [['e' 'f']\n",
      "  ['g' 'h']]] =\n",
      " [['ceeggg' 'dffhhh']\n",
      " ['aaaaccccceeeeeeggggggg' 'bbbbdddddffffffhhhhhhh']]\n"
     ]
    }
   ],
   "source": [
    "print(c.shape)\n",
    "print(a,b, \"=\\n\", c)"
   ]
  },
  {
   "cell_type": "markdown",
   "id": "82655a99-088e-4308-8db5-b0da402b6d8a",
   "metadata": {},
   "source": [
    "Final example, for the sake of understanding what the initial problem was:"
   ]
  },
  {
   "cell_type": "code",
   "execution_count": 17,
   "id": "b023d65c-3f48-4527-8edb-08f5c7cad762",
   "metadata": {},
   "outputs": [],
   "source": [
    "a = np.arange(1,5).reshape(2,2)\n",
    "b = np.array(list(string.ascii_lowercase)[0:16], dtype=object).reshape(2,2,2,2)\n",
    "c = np.tensordot(a,b, axes=1)"
   ]
  },
  {
   "cell_type": "code",
   "execution_count": 18,
   "id": "5bb57fb0-438d-4d52-bc88-a45706da80d0",
   "metadata": {},
   "outputs": [
    {
     "name": "stdout",
     "output_type": "stream",
     "text": [
      "(2, 2, 2, 2)\n",
      "[[1 2]\n",
      " [3 4]] [[[['a' 'b']\n",
      "   ['c' 'd']]\n",
      "\n",
      "  [['e' 'f']\n",
      "   ['g' 'h']]]\n",
      "\n",
      "\n",
      " [[['i' 'j']\n",
      "   ['k' 'l']]\n",
      "\n",
      "  [['m' 'n']\n",
      "   ['o' 'p']]]] =\n",
      " [[[['aii' 'bjj']\n",
      "   ['ckk' 'dll']]\n",
      "\n",
      "  [['emm' 'fnn']\n",
      "   ['goo' 'hpp']]]\n",
      "\n",
      "\n",
      " [[['aaaiiii' 'bbbjjjj']\n",
      "   ['ccckkkk' 'dddllll']]\n",
      "\n",
      "  [['eeemmmm' 'fffnnnn']\n",
      "   ['gggoooo' 'hhhpppp']]]]\n"
     ]
    }
   ],
   "source": [
    "print(c.shape)\n",
    "print(a,b, \"=\\n\", c)"
   ]
  },
  {
   "cell_type": "markdown",
   "id": "e62ac4a7-0f7d-4479-9bb2-5caf0f034db1",
   "metadata": {},
   "source": [
    "So we multiply the matrix a onto the submatrix b' of tensor b and add all elements of this multiplication into a new matrix."
   ]
  }
 ],
 "metadata": {
  "kernelspec": {
   "display_name": "Python 3 (ipykernel)",
   "language": "python",
   "name": "python3"
  },
  "language_info": {
   "codemirror_mode": {
    "name": "ipython",
    "version": 3
   },
   "file_extension": ".py",
   "mimetype": "text/x-python",
   "name": "python",
   "nbconvert_exporter": "python",
   "pygments_lexer": "ipython3",
   "version": "3.12.3"
  }
 },
 "nbformat": 4,
 "nbformat_minor": 5
}
