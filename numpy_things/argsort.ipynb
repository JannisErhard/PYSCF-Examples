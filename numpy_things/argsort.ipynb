{
 "cells": [
  {
   "cell_type": "code",
   "execution_count": null,
   "id": "9df7ed9f-aab5-47a9-a6c8-175e32f69d26",
   "metadata": {},
   "outputs": [],
   "source": [
    "import numpy as np\n"
   ]
  },
  {
   "cell_type": "markdown",
   "id": "699ebffa-d773-4990-9e01-7acaa54ca0a0",
   "metadata": {},
   "source": [
    "argsort gives zou the vector that if zou use it to places objects would sort yor matrix. Its particularly usefull if you want to sort a matrix of eigenvectors in the way that you sort the eigenvalues."
   ]
  },
  {
   "cell_type": "code",
   "execution_count": 1,
   "id": "cdddff32-db6c-4c9f-b034-594f5fb74533",
   "metadata": {},
   "outputs": [],
   "source": [
    "\n",
    "c = np.array([5,2,8,2,4])    \n",
    "a = np.array([[ 0,  1,  2,  3,  4],\n",
    "              [ 5,  6,  7,  8,  9],\n",
    "              [10, 11, 12, 13, 14],\n",
    "              [15, 16, 17, 18, 19],\n",
    "              [20, 21, 22, 23, 24]])\n",
    "\n",
    "i = np.argsort(c)\n",
    "a = a[:,i]"
   ]
  },
  {
   "cell_type": "code",
   "execution_count": 2,
   "id": "057d32fd-3b00-43a9-abd5-699cc8e6e1df",
   "metadata": {},
   "outputs": [
    {
     "name": "stdout",
     "output_type": "stream",
     "text": [
      "[1 3 4 0 2]\n",
      "[[ 1  3  4  0  2]\n",
      " [ 6  8  9  5  7]\n",
      " [11 13 14 10 12]\n",
      " [16 18 19 15 17]\n",
      " [21 23 24 20 22]]\n"
     ]
    }
   ],
   "source": [
    "print(i)\n",
    "print(a)"
   ]
  }
 ],
 "metadata": {
  "kernelspec": {
   "display_name": "Python 3 (ipykernel)",
   "language": "python",
   "name": "python3"
  },
  "language_info": {
   "codemirror_mode": {
    "name": "ipython",
    "version": 3
   },
   "file_extension": ".py",
   "mimetype": "text/x-python",
   "name": "python",
   "nbconvert_exporter": "python",
   "pygments_lexer": "ipython3",
   "version": "3.12.3"
  }
 },
 "nbformat": 4,
 "nbformat_minor": 5
}
