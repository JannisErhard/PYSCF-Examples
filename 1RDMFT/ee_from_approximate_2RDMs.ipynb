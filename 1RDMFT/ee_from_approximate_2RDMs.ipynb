{
 "cells": [
  {
   "cell_type": "code",
   "execution_count": 1,
   "id": "07c3c03e-a7d8-4d59-b897-521daedfef36",
   "metadata": {},
   "outputs": [],
   "source": [
    "import numpy as np\n",
    "from pyscf import gto, scf, ao2mo, fci"
   ]
  },
  {
   "cell_type": "markdown",
   "id": "07501768-48e6-4a9a-b15d-8c26e7d327ab",
   "metadata": {},
   "source": [
    "script that contains collection of approximate 2RDMs from 1RDMFT literature"
   ]
  },
  {
   "cell_type": "markdown",
   "id": "6e69761a-173a-41a1-8184-1e83a5f68878",
   "metadata": {},
   "source": [
    "The following function caculates the electron electron interactio  energy from the Fock basis representation of the 2RDM $\\gamma_2$ in the follwong way:\n",
    "$$E_{ee} = \\sum_p \\sum_q \\sum_r \\sum_s \\gamma_{2_{pqrs}} \\langle p q | r s \\rangle$$"
   ]
  },
  {
   "cell_type": "code",
   "execution_count": 2,
   "id": "b8379475-f49c-4bc2-82de-7125b74da1ec",
   "metadata": {},
   "outputs": [],
   "source": [
    "def ee_from_gamma_2(eri,dm2):\n",
    "    return .5*np.sum(np.multiply(eri,dm2))"
   ]
  },
  {
   "cell_type": "markdown",
   "id": "74a021d5-931f-47a1-9579-f536ac7bd9a9",
   "metadata": {},
   "source": [
    "The matrix form of $\\gamma_2$ in the Hartree Fock approximation in the basis $\\{\\eta\\}$ for spin restricted natural orbitals, i.e. $\\{\\eta_{\\alpha}\\} =\\{\\eta_{\\beta}\\} $  is:\n",
    "\n",
    "$$\n",
    "\\begin{split}\n",
    "    \\gamma_{2_{ijkl}} &=  n_i n_k 4  \\delta_{ij} \\delta_{kl} - n_i n_k 2 \\delta_{il} \\delta_{jk}\n",
    "\\end{split}\n",
    "$$\n",
    "  \n",
    "where $n_i \\in [0,1]$, and this is a implementation:\n",
    "\n"
   ]
  },
  {
   "cell_type": "code",
   "execution_count": 3,
   "id": "23fb7c35-6a2e-441c-a94b-a9503021b4e4",
   "metadata": {},
   "outputs": [],
   "source": [
    "def HF_2RDM(n, M):\n",
    "    ''' Compute 2 RDMFTs in Natural Orbital basis for Hartree Fock approximation\n",
    "    Parameters\n",
    "    ----------\n",
    "    n : np.ndarray\n",
    "        occupation numbers of a spin restricted 1dm, they lie in [0,2]\n",
    "    M : integer \n",
    "        basis set size\n",
    "\n",
    "    Returns\n",
    "    -------\n",
    "    rho : np.ndarray\n",
    "        2RDM\n",
    "    '''\n",
    "    # this form is for spin restriced orbitals \n",
    "    TWORDM = np.zeros((M,M,M,M))\n",
    "    for i in range(0,M):\n",
    "        for j in range(0,M):\n",
    "            for k in range(0,M):\n",
    "                for l in range(0,M):\n",
    "                    if i==j and k==l:\n",
    "                        TWORDM[i,j,k,l] = 4\n",
    "                    if i==l and k==j:\n",
    "                        TWORDM[i,j,k,l] -= 2\n",
    "                    TWORDM[i,j,k,l] = n[i]/2*n[k]/2*TWORDM[i,j,k,l]\n",
    "\n",
    "    return TWORDM"
   ]
  },
  {
   "cell_type": "markdown",
   "id": "59ca8e20-2f9f-4251-941f-ef0d2f8b528b",
   "metadata": {},
   "source": [
    "The matrix form of $\\gamma_2$ in the Mueller approximation in the basis $\\{\\eta\\}$ for spin restricted natural orbitals, i.e. $\\{\\eta_{\\alpha}\\} =\\{\\eta_{\\beta}\\} $  is:\n",
    "\n",
    "$$\n",
    "\\begin{split}\n",
    "    \\gamma_{2_{ijkl}} &=  n_i n_k 4  \\delta_{ij} \\delta_{kl} - \\sqrt{n_i n_k} 2 \\delta_{il} \\delta_{jk}\n",
    "\\end{split}\n",
    "$$\n",
    "  \n",
    "where $n_i \\in [0,1]$, and this is a implementation:"
   ]
  },
  {
   "cell_type": "code",
   "execution_count": 4,
   "id": "1777dd77-f30d-478d-b062-77421d072c03",
   "metadata": {},
   "outputs": [],
   "source": [
    "def MU_2RDM(n, M):\n",
    "    ''' Compute 2 RDMFTs in Natural Orbital basis for Mueller approximation\n",
    "    Parameters\n",
    "    ----------\n",
    "    n : np.ndarray\n",
    "        occupation numbers of a spin restricted 1dm, they lie in [0,2]\n",
    "    M : integer \n",
    "        basis set size\n",
    "\n",
    "    Returns\n",
    "    -------\n",
    "    rho : np.ndarray\n",
    "        2RDM\n",
    "    '''\n",
    "    TWORDM = np.zeros((M,M,M,M))\n",
    "    for i in range(0,M):\n",
    "        for j in range(0,M):\n",
    "            for k in range(0,M):\n",
    "                for l in range(0,M):\n",
    "                    if i==j and k==l:\n",
    "                        TWORDM[i,j,k,l] = 4*n[i]/2*n[k]/2\n",
    "                    if i==l and k==j:\n",
    "                        TWORDM[i,j,k,l] -= 2*np.sqrt(n[i]/2*n[k]/2)\n",
    "    return TWORDM"
   ]
  },
  {
   "cell_type": "markdown",
   "id": "a869df45-2863-40bc-bf9d-e5e240a4cce0",
   "metadata": {},
   "source": [
    "The matrix form of $\\gamma_2$ in the Mueller approximation in the basis $\\{\\eta\\}$ for spin restricted natural orbitals, i.e. $\\{\\eta_{\\alpha}\\} =\\{\\eta_{\\beta}\\} $  is:\n",
    "\n",
    "$$\n",
    "\\begin{split}\n",
    "    \\gamma_{2_{ijkl}} &=  n_i n_k 4  \\delta_{ij} \\delta_{kl} - (n_i n_k)^{\\alpha} 2 \\delta_{il} \\delta_{jk}\n",
    "\\end{split}\n",
    "$$\n",
    "  \n",
    "where $n_i \\in [0,1]$, and this is a implementation:"
   ]
  },
  {
   "cell_type": "code",
   "execution_count": 5,
   "id": "47963777-5ea8-4ef9-abe1-3f6507a3f494",
   "metadata": {},
   "outputs": [],
   "source": [
    "def POW_2RDM(n, M, alpha):\n",
    "    ''' Compute 2 RDMFTs in Natural Orbital basis for Power Functional approximation\n",
    "    Parameters\n",
    "    ----------\n",
    "    n : np.ndarray\n",
    "        occupation numbers of a spin restricted 1dm, they lie in [0,2]\n",
    "    M : integer \n",
    "        basis set size\n",
    "    alpha: float\n",
    "         power of the power functional\n",
    "\n",
    "    Returns\n",
    "    -------\n",
    "    rho : np.ndarray\n",
    "        2RDM\n",
    "    '''\n",
    "    TWORDM = np.zeros((M,M,M,M))\n",
    "    for i in range(0,M):\n",
    "        for j in range(0,M):\n",
    "            for k in range(0,M):\n",
    "                for l in range(0,M):\n",
    "                    if i==j and k==l:\n",
    "                        TWORDM[i,j,k,l] = 4*n[i]/2*n[k]/2\n",
    "                    if i==l and k==j:\n",
    "                        TWORDM[i,j,k,l] -= 2*(n[i]/2*n[k]/2)**(alpha)\n",
    "    return TWORDM"
   ]
  },
  {
   "cell_type": "markdown",
   "id": "000dfa8c-2b52-4997-86e6-dc6ee5881312",
   "metadata": {},
   "source": [
    "The matrix form of $\\gamma_2$ in the Goedecker-Umrigar approximation in the basis $\\{\\eta\\}$ for spin restricted natural orbitals, i.e. $\\{\\eta_{\\alpha}\\} =\\{\\eta_{\\beta}\\} $  is:\n",
    "\n",
    "$$\n",
    "\\begin{split}\n",
    "    \\gamma_{2_{ijkl}} &=  n_i n_k 2  \\delta_{ij} \\delta_{kl} (1-\\delta_{jk}) +  n_i n_k 2  \\delta_{ij} \\delta_{kl} - \\sqrt{n_i n_k} 2 \\delta_{il} \\delta_{jk} (1-\\delta_{lk})\n",
    "\\end{split}\n",
    "$$\n",
    "  \n",
    "where $n_i \\in [0,1]$, and this is a implementation:"
   ]
  },
  {
   "cell_type": "code",
   "execution_count": 6,
   "id": "4c429429-cf67-48f8-bd36-2d38cf1af95d",
   "metadata": {},
   "outputs": [],
   "source": [
    "def GU_2RDM(n, M):\n",
    "    ''' Compute 2 RDMFTs in Natural Orbital basis for Goedecker Umrigar approximation\n",
    "    Parameters\n",
    "    ----------\n",
    "    n : np.ndarray\n",
    "        occupation numbers of a spin restricted 1dm, they lie in [0,2]\n",
    "    M : integer \n",
    "        basis set size\n",
    "    Returns\n",
    "    -------\n",
    "    rho : np.ndarray\n",
    "        2RDM\n",
    "    '''    \n",
    "    TWORDM = np.zeros((M,M,M,M))\n",
    "    for i in range(0,M):\n",
    "        for j in range(0,M):\n",
    "            for k in range(0,M):\n",
    "                for l in range(0,M):\n",
    "                    if i==j and k==l and j!=k:\n",
    "                        TWORDM[i,j,k,l] = 4*n[i]/2*n[k]/2\n",
    "                    if i==l and k==j and l!=k :\n",
    "                        TWORDM[i,j,k,l] -= 2*np.sqrt(n[i]/2*n[k]/2)\n",
    "                    if i==j and k==l and j==k:\n",
    "                         TWORDM[i,j,k,l] = 2*n[i]/2*n[k]/2\n",
    "\n",
    "\n",
    "    return TWORDM"
   ]
  },
  {
   "cell_type": "markdown",
   "id": "a766de1a-3703-4849-b0ca-36492fe29591",
   "metadata": {},
   "source": [
    "The matrix form of $\\gamma_2$ in the Bujiese Baenrends Correction 1 approximation in the basis $\\{\\eta\\}$ for spin restricted natural orbitals, i.e. $\\{\\eta_{\\alpha}\\} =\\{\\eta_{\\beta}\\} $  is:\n",
    "\n",
    "$$\n",
    "\\begin{split}\n",
    "    \\gamma_{2_{ijkl}} &= 4 n_i n_k   \\delta_{ij} \\delta_{kl} - 2 \\sqrt{n_i n_k}  \\delta_{il} \\delta_{jk} + 4 \\sqrt{n_i n_k}  \\delta_{il} \\delta_{jk} (1-\\delta_{ij}) \\Theta(i - N)  \\Theta(k - N)\n",
    "\\end{split}\n",
    "$$\n",
    "  \n",
    "where $n_i \\in [0,1]$, and this is a implementation:"
   ]
  },
  {
   "cell_type": "code",
   "execution_count": 7,
   "id": "6be1f14f-a028-4d95-b7f2-db143042d3dc",
   "metadata": {},
   "outputs": [],
   "source": [
    "def BBC1_2RDM(n, M, N):\n",
    "    ''' Compute 2 RDMFTs in Natural Orbital basis for Goedecker Umrigar approximation\n",
    "    Parameters\n",
    "    ----------\n",
    "    n : np.ndarray\n",
    "        occupation numbers of a spin restricted 1dm, they lie in [0,2]\n",
    "    M : integer \n",
    "        basis set size\n",
    "    N : integer \n",
    "        number of strongly occupied (close to 1) orbitals\n",
    "    Returns\n",
    "    -------\n",
    "    rho : np.ndarray\n",
    "        2RDM\n",
    "    '''    \n",
    "    TWORDM = np.zeros((M,M,M,M))\n",
    "    for i in range(0,M):\n",
    "        for j in range(0,M):\n",
    "            for k in range(0,M):\n",
    "                for l in range(0,M):\n",
    "                    if i==j and k==l:\n",
    "                        TWORDM[i,j,k,l] = 4*n[i]/2*n[k]/2\n",
    "                    if i==l and k==j :\n",
    "                        TWORDM[i,j,k,l] -= 2*np.sqrt(n[i]/2*n[k]/2)\n",
    "                    if i==l and k==j and (i >= N and k >= N) and l!=k :\n",
    "                        TWORDM[i,j,k,l] += 4*np.sqrt(n[i]/2*n[k]/2)\n",
    "                    \n",
    "    return TWORDM"
   ]
  },
  {
   "cell_type": "code",
   "execution_count": 8,
   "id": "db733615-4b21-4b92-8742-b4cc56a9d844",
   "metadata": {},
   "outputs": [
    {
     "data": {
      "text/plain": [
       "<pyscf.gto.mole.Mole at 0x719dd424e6c0>"
      ]
     },
     "execution_count": 8,
     "metadata": {},
     "output_type": "execute_result"
    }
   ],
   "source": [
    "mol = gto.Mole()\n",
    "mol.atom = \"\"\"\n",
    "    Be    0.    0.    0.\n",
    "\"\"\"\n",
    "mol.basis = \"cc-pvdz\"\n",
    "#mol.basis = \"6-31g\" \n",
    "mol.build()"
   ]
  },
  {
   "cell_type": "code",
   "execution_count": 9,
   "id": "0a7b3787-19cc-4bba-947b-b56e49b7beff",
   "metadata": {},
   "outputs": [
    {
     "name": "stdout",
     "output_type": "stream",
     "text": [
      "converged SCF energy = -14.5723376309534\n"
     ]
    },
    {
     "data": {
      "text/plain": [
       "np.float64(-14.572337630953367)"
      ]
     },
     "execution_count": 9,
     "metadata": {},
     "output_type": "execute_result"
    }
   ],
   "source": [
    "# Run Hartree-Fock.\n",
    "mf = scf.RHF(mol)\n",
    "mf.kernel()"
   ]
  },
  {
   "cell_type": "code",
   "execution_count": 10,
   "id": "78d2e4d2-c1fa-484f-ad6c-fb0773759eae",
   "metadata": {},
   "outputs": [],
   "source": [
    "# Find electron-repulsion integrals (eri).\n",
    "eri = ao2mo.kernel(mol, mf.mo_coeff)\n",
    "h2_MO = np.asarray(ao2mo.restore(1, eri, mol.nao))"
   ]
  },
  {
   "cell_type": "code",
   "execution_count": 11,
   "id": "f96b25c9-ec1a-41d4-8ac2-b7199ae5245b",
   "metadata": {},
   "outputs": [],
   "source": [
    "# First create FCI solver with function fci.FCI and solve the FCI problem\n",
    "cisolver = fci.FCI(mol, mf.mo_coeff)\n",
    "e, fcivec = cisolver.kernel()"
   ]
  },
  {
   "cell_type": "code",
   "execution_count": 12,
   "id": "5ca8d097-812f-4209-b2f6-dbe484160d91",
   "metadata": {},
   "outputs": [],
   "source": [
    "# generate \\gamma_1, \\gamma_2, the natural orbitals and occupation numbers of FCI\n",
    "dm1, fci_dm2 = cisolver.make_rdm12(fcivec, mf.mo_coeff.shape[1], mol.nelec)\n",
    "FCIoccu, FCInaturalC = np.linalg.eigh(dm1)"
   ]
  },
  {
   "cell_type": "code",
   "execution_count": 13,
   "id": "2dafff2f-8b1e-439b-91ff-1e1735ba77d8",
   "metadata": {},
   "outputs": [],
   "source": [
    "# sort, so that weakly occupied orbitals are first N entries\n",
    "FCInaturalC =  FCInaturalC[:,::-1]\n",
    "FCIoccu = FCIoccu[::-1]"
   ]
  },
  {
   "cell_type": "code",
   "execution_count": 14,
   "id": "e6d0e0bc-620b-49fb-b0fe-5c17e2fdadf8",
   "metadata": {},
   "outputs": [],
   "source": [
    "# convert the elements of h2 and the elements of \\gamma_2 from the MO basis to the NO basis \n",
    "eri_fciNAO = h2_MO.copy()\n",
    "fci_dm2_fciNAO = fci_dm2.copy()\n",
    "for i in range(4):\n",
    "  eri_fciNAO = np.tensordot(eri_fciNAO, FCInaturalC, axes=1).transpose(3, 0, 1, 2)\n",
    "  fci_dm2_fciNAO = np.tensordot(fci_dm2_fciNAO, FCInaturalC, axes=1).transpose(3, 0, 1, 2)\n",
    "\n"
   ]
  },
  {
   "cell_type": "code",
   "execution_count": 15,
   "id": "4e21cc17-336e-4a7b-85bf-69ce1f1eb8ec",
   "metadata": {},
   "outputs": [],
   "source": [
    "hf_dm2 = HF_2RDM(FCIoccu, h2_MO.shape[0])\n",
    "mu_dm2 = MU_2RDM(FCIoccu, h2_MO.shape[0])\n",
    "gu_dm2 = GU_2RDM(FCIoccu, h2_MO.shape[0])\n",
    "bbc1_dm2 = BBC1_2RDM(FCIoccu, h2_MO.shape[0], mol.nelec[0])"
   ]
  },
  {
   "cell_type": "code",
   "execution_count": 16,
   "id": "93b7de12-28f8-4080-bd79-cbf4d443d3a3",
   "metadata": {},
   "outputs": [
    {
     "name": "stdout",
     "output_type": "stream",
     "text": [
      "FCI:       4.460572797091583\n",
      "HF:        4.582517653301028\n",
      "Mueller:   4.4296509155290344\n",
      "Goedecker: 4.493532910096157\n",
      "BBC1:      4.442846537142929\n"
     ]
    }
   ],
   "source": [
    "print(f\"{'FCI:':10s}\", ee_from_gamma_2(eri_fciNAO,fci_dm2_fciNAO))\n",
    "print(f\"{'HF:':10s}\", ee_from_gamma_2(eri_fciNAO,hf_dm2))\n",
    "print(f\"{'Mueller:':10s}\", ee_from_gamma_2(eri_fciNAO,mu_dm2))\n",
    "print(f\"{'Goedecker:':10s}\", ee_from_gamma_2(eri_fciNAO,gu_dm2))\n",
    "print(f\"{'BBC1:':10s}\", ee_from_gamma_2(eri_fciNAO,bbc1_dm2))"
   ]
  },
  {
   "cell_type": "code",
   "execution_count": null,
   "id": "3cc158c3-dea4-4a1f-b92c-cca4d0b34d6b",
   "metadata": {},
   "outputs": [],
   "source": []
  },
  {
   "cell_type": "code",
   "execution_count": null,
   "id": "245aeb62-0557-4ee8-b860-eaef714f3519",
   "metadata": {},
   "outputs": [],
   "source": []
  }
 ],
 "metadata": {
  "kernelspec": {
   "display_name": "Python 3 (ipykernel)",
   "language": "python",
   "name": "python3"
  },
  "language_info": {
   "codemirror_mode": {
    "name": "ipython",
    "version": 3
   },
   "file_extension": ".py",
   "mimetype": "text/x-python",
   "name": "python",
   "nbconvert_exporter": "python",
   "pygments_lexer": "ipython3",
   "version": "3.12.3"
  }
 },
 "nbformat": 4,
 "nbformat_minor": 5
}
