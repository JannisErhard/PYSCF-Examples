{
 "cells": [
  {
   "cell_type": "code",
   "execution_count": 1,
   "id": "c2188d35-d43f-47f1-ab02-3039d36f5bd2",
   "metadata": {},
   "outputs": [],
   "source": [
    "import numpy as np\n",
    "from pyscf import gto, scf, fci"
   ]
  },
  {
   "cell_type": "code",
   "execution_count": 2,
   "id": "fc388d64-281d-4e3f-b0d7-14a332f8e27a",
   "metadata": {},
   "outputs": [],
   "source": [
    "# This function is just here for test purposes, for details see 1RDMFT.ibypn\n",
    "def ONERDMFT_hartree_energy(Fouridx, C, n, mol):\n",
    "    energy = 0\n",
    "    M = Fouridx.shape[0]\n",
    "    N = mol.nelec[0]\n",
    "    for a in  range(0,M):\n",
    "        for b in range(0,M):\n",
    "            for mu in range(0,M):\n",
    "                for nu in range(0,M):\n",
    "                    for kappa in range(0,M):\n",
    "                        for lamda in range(0,M):\n",
    "                            energy += n[a]*n[b]*C[mu,a]*C[nu,a]*C[kappa,b]*C[lamda,b]*Fouridx[mu,nu,kappa,lamda]\n",
    "\n",
    "    return energy\n"
   ]
  },
  {
   "cell_type": "code",
   "execution_count": 3,
   "id": "138eaded-cd30-4220-95bd-80d1559e4af9",
   "metadata": {},
   "outputs": [
    {
     "name": "stdout",
     "output_type": "stream",
     "text": [
      "converged SCF energy = -2.85516047724274\n",
      "[[0.35119405 0.304028   0.         0.         0.        ]\n",
      " [0.304028   0.26319645 0.         0.         0.        ]\n",
      " [0.         0.         0.         0.         0.        ]\n",
      " [0.         0.         0.         0.         0.        ]\n",
      " [0.         0.         0.         0.         0.        ]]\n"
     ]
    }
   ],
   "source": [
    "mol = gto.Mole()\n",
    "mol.atom = \"\"\"\n",
    "    He    0.    0.    0.\n",
    "\"\"\"\n",
    "# this basis has 2 functions for Helium\n",
    "mol.basis = \"6-31g\" #\n",
    "mol.basis = \"ccpvdz\"\n",
    "#, mol.basis = \"sto-6g\"\n",
    "mol.build()\n",
    "\n",
    "# the 2 electron integrals \\langle \\mu \\nu | \\kappa \\lambda \\rangle have M^4 entries\n",
    "eri = mol.intor('int2e')\n",
    "S = mol.intor('int1e_ovlp')\n",
    "\n",
    "\n",
    "## Run Hartree-Fock.\n",
    "mf = scf.RHF(mol)\n",
    "mf.kernel()\n",
    "\n",
    "C = mf.mo_coeff\n",
    "h = mf.get_hcore()\n",
    "J = mf.get_j()\n",
    "\n",
    "N = mol.nelec[0]\n",
    "P=np.matmul(C[:,0:N],C[:,0:N].T)\n",
    "print(P)"
   ]
  },
  {
   "cell_type": "markdown",
   "id": "c46fcc9a-e132-47c3-9866-78405a1eee38",
   "metadata": {},
   "source": [
    "To transform the density matrix from AO to MO: \n",
    "$$\\boldsymbol{\\gamma} = \\bf{C}^T \\bf{S}^{T} \\bf{P} \\bf{S} \\bf{C}$$"
   ]
  },
  {
   "cell_type": "code",
   "execution_count": 4,
   "id": "a264395d-d2dd-41d3-9986-5b690fd219e7",
   "metadata": {},
   "outputs": [
    {
     "name": "stdout",
     "output_type": "stream",
     "text": [
      "[[ 1.00000000e+00  1.73362861e-16  0.00000000e+00  0.00000000e+00\n",
      "   0.00000000e+00]\n",
      " [-2.36091398e-17  1.90757071e-16  0.00000000e+00  0.00000000e+00\n",
      "   0.00000000e+00]\n",
      " [ 0.00000000e+00  0.00000000e+00  0.00000000e+00  0.00000000e+00\n",
      "   0.00000000e+00]\n",
      " [ 0.00000000e+00  0.00000000e+00  0.00000000e+00  0.00000000e+00\n",
      "   0.00000000e+00]\n",
      " [ 0.00000000e+00  0.00000000e+00  0.00000000e+00  0.00000000e+00\n",
      "   0.00000000e+00]]\n"
     ]
    }
   ],
   "source": [
    "# This is the AO - MO transformation of P to gamma (SMH) -> \\gamma = C^T S P S C \n",
    "gamma =np.matmul(np.matmul(C.T,np.matmul(np.matmul(S,P),S)), C)\n",
    "print(gamma)"
   ]
  },
  {
   "cell_type": "markdown",
   "id": "4b71734f-efe5-4a87-b1d8-e3bd34440b0a",
   "metadata": {},
   "source": [
    "Transforming back to check consistency:\n",
    "$$\\bf{P} = \\bf{C} \\boldsymbol{\\gamma} \\bf{C}^T $$"
   ]
  },
  {
   "cell_type": "code",
   "execution_count": 8,
   "id": "bfe0de5f-fcbe-416e-8335-21a12b26ad87",
   "metadata": {},
   "outputs": [
    {
     "name": "stdout",
     "output_type": "stream",
     "text": [
      "[[0.35119405 0.304028   0.         0.         0.        ]\n",
      " [0.304028   0.26319645 0.         0.         0.        ]\n",
      " [0.         0.         0.         0.         0.        ]\n",
      " [0.         0.         0.         0.         0.        ]\n",
      " [0.         0.         0.         0.         0.        ]]\n"
     ]
    }
   ],
   "source": [
    "print(np.matmul(C,np.matmul(gamma,C.T)))"
   ]
  },
  {
   "cell_type": "markdown",
   "id": "379b462f-58de-481f-bc84-227f8f948edb",
   "metadata": {},
   "source": [
    "The density matrix in the MO basis is the one in textbooks, i.e.:\n",
    "$$\\boldsymbol{\\gamma} = \\bf{U}^{T} \\bf{n} \\bf{U}$$"
   ]
  },
  {
   "cell_type": "code",
   "execution_count": 6,
   "id": "1ba2985e-112f-405a-bd37-2557c2036fa0",
   "metadata": {},
   "outputs": [
    {
     "name": "stdout",
     "output_type": "stream",
     "text": [
      "[0.00000000e+00 0.00000000e+00 0.00000000e+00 1.90757071e-16\n",
      " 1.00000000e+00]\n"
     ]
    }
   ],
   "source": [
    "occu, naturalC = np.linalg.eigh(gamma)\n",
    "#print(\"Wie man sieht ist P bzw. gama nun in seiner Eigenbasis. Gleichzeitig habe ich nur in die MO basis gewechselt. Das würde bedeuten in Hartree Fock sind die natürliche Orbitale gleich den Hartree Fock Orbitalen.\")\n",
    "print(occu) "
   ]
  },
  {
   "cell_type": "code",
   "execution_count": 7,
   "id": "0717b25f-aa0c-402e-ab74-892cf507d8b7",
   "metadata": {},
   "outputs": [
    {
     "name": "stdout",
     "output_type": "stream",
     "text": [
      "1.0268646253637668 1.0268646253637652\n"
     ]
    }
   ],
   "source": [
    "CTT = np.matmul(C,naturalC)\n",
    "\n",
    "print(ONERDMFT_hartree_energy(eri, CTT, occu, mol), 1/2*np.trace(np.matmul(J,P)))"
   ]
  }
 ],
 "metadata": {
  "kernelspec": {
   "display_name": "Python 3 (ipykernel)",
   "language": "python",
   "name": "python3"
  },
  "language_info": {
   "codemirror_mode": {
    "name": "ipython",
    "version": 3
   },
   "file_extension": ".py",
   "mimetype": "text/x-python",
   "name": "python",
   "nbconvert_exporter": "python",
   "pygments_lexer": "ipython3",
   "version": "3.10.12"
  }
 },
 "nbformat": 4,
 "nbformat_minor": 5
}
