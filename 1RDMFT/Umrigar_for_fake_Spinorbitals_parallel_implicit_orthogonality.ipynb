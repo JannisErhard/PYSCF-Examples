{
 "cells": [
  {
   "cell_type": "code",
   "execution_count": 1,
   "id": "8f4ae9a1-bf80-4899-8995-801ad4b3f8d9",
   "metadata": {},
   "outputs": [],
   "source": [
    "import numpy as np\n",
    "from pyscf import gto, scf, fci\n",
    "from multiprocessing.pool import Pool\n",
    "from numba import prange, jit, njit\n",
    "#from numba.openmp import openmp_context as openmp"
   ]
  },
  {
   "cell_type": "markdown",
   "id": "a9c40bca-5b54-43f0-939e-3d57a3e7b5a5",
   "metadata": {},
   "source": [
    "This version of Umrigar_for_fake_Spinorbitals_parallel exists to illustrate that the loops in the energy expressions do not have to be decomposed to realize spin orthogonality. The vector products should work by themselves.\n",
    "$$\n",
    "\\begin{align}\n",
    "    E_H[\\gamma_1]  &=  \\sum_a^M \\sum_b^M n_a n_b \\sum_{\\mu}^M \\sum_{\\nu}^M \\sum_{\\kappa}^M \\sum_{\\lambda}^M  \\tilde{\\tilde{c}}_{a,\\mu} \\tilde{\\tilde{c}}_{b,\\nu} \\tilde{\\tilde{c}}_{a,\\kappa} \\tilde{\\tilde{c}}_{b,\\lambda} \\left [ \\mu \\nu | \\kappa \\lambda \\right ] \\\\\n",
    "    E_H[\\gamma_1]  &=   \\sum_{\\mu}^M \\sum_{\\nu}^M \\sum_{\\kappa}^M \\sum_{\\lambda}^M \\left (  \\sum_a^M  n_a  \\tilde{\\tilde{c}}_{a,\\mu} \\tilde{\\tilde{c}}_{a,\\kappa} \\right ) \\left ( \\sum_b^M n_b \\tilde{\\tilde{c}}_{b,\\nu}  \\tilde{\\tilde{c}}_{b,\\lambda} \\right )\\left [ \\mu \\nu | \\kappa \\lambda \\right ] \\\\\n",
    "  E_H[\\gamma_1]  &=   \\sum_{\\mu}^M \\sum_{\\nu}^M \\sum_{\\kappa}^M \\sum_{\\lambda}^M \\left (  \\vec{c}_{\\mu}^{T} \\vec{c}_{\\kappa} \\right ) \\left ( \\vec{c}_{\\nu}^{T} \\vec{c}_{\\lambda} \\right )\\left [ \\mu \\nu | \\kappa \\lambda \\right ] \\\\\n",
    "\\end{align}\n",
    "$$"
   ]
  },
  {
   "cell_type": "code",
   "execution_count": 2,
   "id": "1b6f2808-8d7c-4add-ad1d-f663fbd44f88",
   "metadata": {},
   "outputs": [],
   "source": [
    "def expand_matrix(P):\n",
    "    Paa = P\n",
    "    Pbb = P\n",
    "    Pab = np.zeros(P.shape)\n",
    "    Pba = np.zeros(P.shape)\n",
    "    PE = np.concatenate((np.concatenate((Paa, Pab), axis=1), np.concatenate((Pba, Pbb), axis=1)), axis=0) \n",
    "    return PE"
   ]
  },
  {
   "cell_type": "code",
   "execution_count": 3,
   "id": "c36640b3-9299-4c03-a16a-827d622533f1",
   "metadata": {},
   "outputs": [],
   "source": [
    "# for jit and prange\n",
    "@jit(nopython=True, parallel=True)\n",
    "def ONERDMFT_hartree_energy_parallel(Fouridx, C, n):\n",
    "    energy = 0\n",
    "    M = C.shape[0]\n",
    "    K = Fouridx.shape[0]\n",
    "    for a in  prange(0,M):\n",
    "        for b in range(0,M):\n",
    "            for mu in range(0,M):\n",
    "                for nu in range(0,M):\n",
    "                    for kappa in range(0,M):\n",
    "                        for lamda in range(0,M):\n",
    "                            energy += n[a]*n[b]*C[mu,a]*C[nu,a]*C[kappa,b]*C[lamda,b]*Fouridx[mu%K,nu%K,kappa%K,lamda%K]\n",
    "\n",
    "    return 1/2.*energy"
   ]
  },
  {
   "cell_type": "code",
   "execution_count": 4,
   "id": "7957f487-a927-49af-89f2-b5403c7c6a61",
   "metadata": {},
   "outputs": [],
   "source": [
    "# for spinorbitals\n",
    "@jit(nopython=True, parallel=True)\n",
    "def ONERDMFT_Umrigar_hartree_energy_parallel(Fouridx, C, n):\n",
    "    energy = 0\n",
    "    M = C.shape[0]\n",
    "    K = Fouridx.shape[0]\n",
    "    for a in  prange(0,M):\n",
    "        for b in [b for b in range(0,M) if b!=a ]:\n",
    "            for mu in range(0,M):\n",
    "                for nu in range(0,M):\n",
    "                    for kappa in range(0,M):\n",
    "                        for lamda in range(0,M):\n",
    "                            energy += n[a]*n[b]*C[mu,a]*C[nu,a]*C[kappa,b]*C[lamda,b]*Fouridx[mu%K,nu%K,kappa%K,lamda%K]\n",
    "\n",
    "    return 1/2.*energy\n",
    "#                if not(a == b):\n"
   ]
  },
  {
   "cell_type": "code",
   "execution_count": 5,
   "id": "399a1e51-cdf5-40c4-9ca1-377ad20aabe7",
   "metadata": {},
   "outputs": [],
   "source": [
    "@jit(parallel=True)\n",
    "def ONERDMFT_exchange_energy_parallel(Fouridx, C, n):\n",
    "    energy = 0\n",
    "    M = C.shape[0]\n",
    "    K = Fouridx.shape[0]\n",
    "    for a in  prange(0,M//2):\n",
    "        for b in range(0,M//2):\n",
    "            for mu in range(0,M):\n",
    "                for nu in range(0,M):\n",
    "                    for kappa in range(0,M):\n",
    "                        for lamda in range(0,M):\n",
    "                            energy += n[a]*n[b]*C[mu,a]*C[nu,b]*C[kappa,a]*C[lamda,b]*Fouridx[mu%K,nu%K,kappa%K,lamda%K]\n",
    "    for a in  prange(M//2,M):\n",
    "        for b in range(M//2,M):\n",
    "            for mu in range(0,M):\n",
    "                for nu in range(0,M):\n",
    "                    for kappa in range(0,M):\n",
    "                        for lamda in range(0,M):\n",
    "                            energy += n[a]*n[b]*C[mu,a]*C[nu,b]*C[kappa,a]*C[lamda,b]*Fouridx[mu%K,nu%K,kappa%K,lamda%K]\n",
    "\n",
    "\n",
    "    return -1/2.*energy"
   ]
  },
  {
   "cell_type": "code",
   "execution_count": 6,
   "id": "90e96a92-067f-4d61-b54a-0ddcc4e57d4a",
   "metadata": {},
   "outputs": [],
   "source": [
    "#@jit(parallel=True)\n",
    "def ONERDMFT_exchange_energy_parallel_implicit_orthogonality(Fouridx, C, n):\n",
    "    vec_prod_a = 0 \n",
    "    vec_prod_b = 0\n",
    "    energy = 0\n",
    "    M = C.shape[0]\n",
    "    K = Fouridx.shape[0]\n",
    "    for mu in range(0,M):\n",
    "        for nu in range(0,M):\n",
    "            for kappa in range(0,M):\n",
    "                for lamda in range(0,M):\n",
    "                    vec_prod_a = 0 \n",
    "                    vec_prod_b = 0\n",
    "                    for a in  range(0,M):\n",
    "                        for b in range(0,M):\n",
    "                            energy += n[a]*n[b]*C[mu,a]*C[nu,b]*C[kappa,a]*C[lamda,b]*Fouridx[mu%K,nu%K,kappa%K,lamda%K]\n",
    "                            vec_prod_a += C[mu,a]*C[kappa,a]\n",
    "                            vec_prod_b += C[nu,b]*C[lamda,b]\n",
    "                    print(mu,kappa,nu,lamda, vec_prod_a, vec_prod_b, energy)\n",
    "\n",
    "                            \n",
    "\n",
    "\n",
    "    return -1/2.*energy"
   ]
  },
  {
   "cell_type": "code",
   "execution_count": 7,
   "id": "528a883c-f7a1-4f39-875a-335494de1ac2",
   "metadata": {},
   "outputs": [
    {
     "name": "stdout",
     "output_type": "stream",
     "text": [
      "(1, 1, 1, 1)\n",
      "converged SCF energy = -2.84629209484258\n"
     ]
    },
    {
     "data": {
      "text/plain": [
       "np.float64(-2.846292094842575)"
      ]
     },
     "execution_count": 7,
     "metadata": {},
     "output_type": "execute_result"
    }
   ],
   "source": [
    "mol = gto.Mole()\n",
    "mol.atom = \"\"\"\n",
    "    He    0.    0.    0.\n",
    "\"\"\"\n",
    "# this basis has 2 functions for Helium\n",
    "#mol.basis = \"6-31g\" \n",
    "#mol.basis = \"ccpvdz\"\n",
    "mol.basis = \"sto-6g\"\n",
    "mol.build()\n",
    "\n",
    "# the 2 electron integrals \\langle \\mu \\nu | \\kappa \\lambda \\rangle have M^4 entries\n",
    "eri = mol.intor('int2e')\n",
    "S = mol.intor('int1e_ovlp')\n",
    "\n",
    "print(eri.shape)\n",
    "\n",
    "## Run Hartree-Fock.\n",
    "mf = scf.RHF(mol)\n",
    "mf.kernel()\n",
    "\n"
   ]
  },
  {
   "cell_type": "code",
   "execution_count": 8,
   "id": "151493c8-3f74-4a99-a368-d0fae8618f3e",
   "metadata": {},
   "outputs": [
    {
     "name": "stdout",
     "output_type": "stream",
     "text": [
      "(1, 1)\n"
     ]
    }
   ],
   "source": [
    "# harvest Hartree Fock quantities\n",
    "C = mf.mo_coeff\n",
    "h = mf.get_hcore()\n",
    "N = mol.nelec[0]\n",
    "\n",
    "P=np.matmul(C[:,0:N],C[:,0:N].T)\n",
    "gamma = np.matmul(np.matmul(C.T,np.matmul(np.matmul(S,P),S)), C)\n",
    "occu, naturalC = np.linalg.eigh(gamma)\n",
    "\n",
    "print(C.shape)"
   ]
  },
  {
   "cell_type": "code",
   "execution_count": 9,
   "id": "e2502b35-6e28-4fe5-a2a0-15d2fc871292",
   "metadata": {},
   "outputs": [],
   "source": [
    "# need to first make gamma and then expand into blockdiagonal so \"fake\" alpha and \"beta\" are seperated in this fashion\n",
    "CE = expand_matrix(C)\n",
    "gamma = np.matmul(np.matmul(C.T,np.matmul(np.matmul(S,P),S)), C)\n",
    "occu_aa, naturalC_aa = np.linalg.eigh(gamma)\n",
    "occu = np.append(occu_aa, occu_aa)\n",
    "naturalCE = expand_matrix(naturalC_aa)\n",
    "naturalCTT = np.matmul(CE,naturalCE)"
   ]
  },
  {
   "cell_type": "code",
   "execution_count": 10,
   "id": "65fe1654-68cf-4e85-83f4-f939521a7f8a",
   "metadata": {},
   "outputs": [
    {
     "name": "stdout",
     "output_type": "stream",
     "text": [
      "[1. 1.]\n"
     ]
    }
   ],
   "source": [
    "for i, n  in enumerate(occu):\n",
    "    if n < 0:\n",
    "        occu[i] = 0 \n",
    "print(occu)"
   ]
  },
  {
   "cell_type": "code",
   "execution_count": 11,
   "id": "de0a3be8-14db-4694-917f-a372cc4fa392",
   "metadata": {},
   "outputs": [
    {
     "name": "stdout",
     "output_type": "stream",
     "text": [
      "[[1. 0.]\n",
      " [0. 1.]]\n"
     ]
    }
   ],
   "source": [
    "FCI = True\n",
    "if FCI:\n",
    "    fs = fci.FCI(mol, mf.mo_coeff)\n",
    "    e, ci = fs.kernel(verbose=0)\n",
    "FCIgamma = fci.direct_spin1.make_rdm1(ci, mf.mo_coeff.shape[0], mol.nelec)\n",
    "FCIgamma = FCIgamma/2.0\n",
    "FCIoccu, FCInaturalC = np.linalg.eigh(FCIgamma)\n",
    "FCInaturalCTT = np.matmul(C,FCInaturalC)\n",
    "FCInaturalCTTE = expand_matrix(FCInaturalCTT)\n",
    "FCIoccuE = np.append(FCIoccu,FCIoccu)\n",
    "print(FCInaturalCTTE)"
   ]
  },
  {
   "cell_type": "code",
   "execution_count": 12,
   "id": "a87a8baf-17db-45c0-a4e1-f1d1f5703cfc",
   "metadata": {},
   "outputs": [
    {
     "name": "stdout",
     "output_type": "stream",
     "text": [
      "0 0 0 0 2.0 2.0 1.0562479844540422\n",
      "0 0 0 1 2.0 0.0 1.0562479844540422\n",
      "0 1 0 0 0.0 2.0 1.0562479844540422\n",
      "0 1 0 1 0.0 0.0 1.0562479844540422\n",
      "0 0 1 0 2.0 0.0 1.0562479844540422\n",
      "0 0 1 1 2.0 2.0 2.1124959689080844\n",
      "0 1 1 0 0.0 0.0 2.1124959689080844\n",
      "0 1 1 1 0.0 2.0 2.1124959689080844\n",
      "1 0 0 0 0.0 2.0 2.1124959689080844\n",
      "1 0 0 1 0.0 0.0 2.1124959689080844\n",
      "1 1 0 0 2.0 2.0 3.1687439533621267\n",
      "1 1 0 1 2.0 0.0 3.1687439533621267\n",
      "1 0 1 0 0.0 0.0 3.1687439533621267\n",
      "1 0 1 1 0.0 2.0 3.1687439533621267\n",
      "1 1 1 0 2.0 0.0 3.1687439533621267\n",
      "1 1 1 1 2.0 2.0 4.224991937816169\n",
      "-1.0562479844540422 -2.1124959689080844\n"
     ]
    }
   ],
   "source": [
    "E_x = ONERDMFT_exchange_energy_parallel(eri, FCInaturalCTTE, FCIoccuE)\n",
    "E_x2 = ONERDMFT_exchange_energy_parallel_implicit_orthogonality(eri, FCInaturalCTTE, FCIoccuE)\n",
    "print(E_x, E_x2)"
   ]
  },
  {
   "cell_type": "code",
   "execution_count": null,
   "id": "4467fe45-3187-440b-ba07-76dca6a8543a",
   "metadata": {},
   "outputs": [],
   "source": []
  }
 ],
 "metadata": {
  "kernelspec": {
   "display_name": "Python 3 (ipykernel)",
   "language": "python",
   "name": "python3"
  },
  "language_info": {
   "codemirror_mode": {
    "name": "ipython",
    "version": 3
   },
   "file_extension": ".py",
   "mimetype": "text/x-python",
   "name": "python",
   "nbconvert_exporter": "python",
   "pygments_lexer": "ipython3",
   "version": "3.12.3"
  }
 },
 "nbformat": 4,
 "nbformat_minor": 5
}
