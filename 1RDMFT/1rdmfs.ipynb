{
 "cells": [
  {
   "cell_type": "code",
   "execution_count": 1,
   "id": "5661677c-c89e-4e73-bc7b-b45eef0670df",
   "metadata": {},
   "outputs": [],
   "source": [
    "import numpy as np\n",
    "from pyscf import gto, scf, fci"
   ]
  },
  {
   "cell_type": "markdown",
   "id": "2e69f582-fb6d-4aee-845d-40c35d5b3d90",
   "metadata": {},
   "source": [
    "\n",
    "$$\n",
    "\\begin{split}\n",
    "E_H[\\gamma_1] & =  \\sum_a^M \\sum_b^M n_a n_b \\sum_{\\mu}^M \\sum_{\\nu}^M \\sum_{\\kappa}^M \\sum_{\\lambda}^M  \\tilde{\\tilde{c}}_{a,\\mu} \\tilde{\\tilde{c}}_{b,\\nu} \\tilde{\\tilde{c}}_{a,\\kappa} \\tilde{\\tilde{c}}_{b,\\lambda} \\left [ \\mu \\nu | \\kappa \\lambda \\right ] \\\\\n",
    "E_H[\\gamma_1] & =  \\iint \\sum_a^M \\sum_b^M n_a n_b \\frac{\\eta_a(r)^{\\ast} \\eta_a(r) \\eta_b(r')^{\\ast}  \\eta_b(r')}{|r-r'|} dr dr' \\\\\n",
    "E_H[\\gamma_1] & =  \\iint \\frac{\\gamma_1(r,r) \\gamma_1(r',r')}{|r-r'|} dr dr' \\\\\n",
    "\\end{split}\n",
    "$$\n",
    "\n",
    "where $\\{\\eta_{a}\\}$ is the set of natural orbitals, $M$ the number of basis functions $\\{\\chi_{\\mu}\\}$ and of natural orbitals. The coefficients $\\tilde{\\tilde{c}}$ represent $\\eta$ in the basis $\\chi$."
   ]
  },
  {
   "cell_type": "code",
   "execution_count": 2,
   "id": "f666d49f-52e2-413c-8499-b2410cdd351e",
   "metadata": {},
   "outputs": [],
   "source": [
    "def ONERDMFT_hartree_energy(Fouridx, C, n, mol):\n",
    "    energy = 0\n",
    "    M = Fouridx.shape[0]\n",
    "    N = mol.nelec[0]\n",
    "    for a in  range(0,M):\n",
    "        for b in range(0,M):\n",
    "            for mu in range(0,M):\n",
    "                for nu in range(0,M):\n",
    "                    for kappa in range(0,M):\n",
    "                        for lamda in range(0,M):\n",
    "                            energy += n[a]*n[b]*C[mu,a]*C[nu,a]*C[kappa,b]*C[lamda,b]*Fouridx[mu,nu,kappa,lamda]\n",
    "\n",
    "    return 2*energy\n"
   ]
  },
  {
   "cell_type": "markdown",
   "id": "32fd0602-a68d-47bf-81a2-54ad5c86021d",
   "metadata": {},
   "source": [
    "\n",
    "$$\n",
    "\\begin{split}\n",
    "E_x[\\gamma_1] & = -\\frac{1}{2} \\sum_a^M \\sum_b^M n_a n_b \\sum_{\\mu}^M \\sum_{\\nu}^M \\sum_{\\kappa}^M \\sum_{\\lambda}^M  \\tilde{\\tilde{c}}_{a,\\mu} \\tilde{\\tilde{c}}_{b,\\nu} \\tilde{\\tilde{c}}_{b,\\kappa} \\tilde{\\tilde{c}}_{a,\\lambda} \\left [ \\mu \\nu | \\kappa \\lambda \\right ] \\\\\n",
    "E_x[\\gamma_1] & = -\\frac{1}{2} \\iint \\sum_a^M \\sum_b^M n_a n_b \\frac{\\eta_a(r)^{\\ast} \\eta_b(r) \\eta_b(r')^{\\ast}  \\eta_a(r')}{|r-r'|} dr dr' \\\\\n",
    "E_x[\\gamma_1] & = -\\frac{1}{2} \\iint \\frac{\\gamma_1(r,r') \\gamma_1(r',r)}{|r-r'|} dr dr' \\\\\n",
    "\\end{split}\n",
    "$$\n",
    "\n",
    "where $\\{\\eta_{a}\\}$ is the set of natural orbitals, $M$ the number of basis functions $\\{\\chi_{\\mu}\\}$ and of natural orbitals. The coefficients $\\tilde{\\tilde{c}}$ represent $\\eta$ in the basis $\\chi$."
   ]
  },
  {
   "cell_type": "code",
   "execution_count": 3,
   "id": "5b1d8dd5-9fff-4dad-9534-6427f520386e",
   "metadata": {},
   "outputs": [],
   "source": [
    "def ONERDMFT_exchange_energy(Fouridx, C, n, mol):\n",
    "    energy = 0\n",
    "    M = Fouridx.shape[0]\n",
    "    N = mol.nelec[0]\n",
    "    for a in  range(0,M):\n",
    "        for b in range(0,M):\n",
    "            for mu in range(0,M):\n",
    "                for nu in range(0,M):\n",
    "                    for kappa in range(0,M):\n",
    "                        for lamda in range(0,M):\n",
    "                            energy += n[a]*n[b]*C[mu,a]*C[nu,b]*C[kappa,b]*C[lamda,a]*Fouridx[mu,nu,kappa,lamda]\n",
    "\n",
    "    return -1.*energy"
   ]
  },
  {
   "cell_type": "markdown",
   "id": "6929c92f-2d85-4d9d-83a5-e6296ef0a3e3",
   "metadata": {},
   "source": [
    "\n",
    "$$\n",
    "\\begin{split}\n",
    "E_{xc}[\\gamma_1] & = -\\frac{1}{2} \\sum_a^M \\sum_b^M \\sqrt{n_a n_b} \\sum_{\\mu}^M \\sum_{\\nu}^M \\sum_{\\kappa}^M \\sum_{\\lambda}^M  \\tilde{\\tilde{c}}_{a,\\mu} \\tilde{\\tilde{c}}_{b,\\nu} \\tilde{\\tilde{c}}_{b,\\kappa} \\tilde{\\tilde{c}}_{a,\\lambda} \\left [ \\mu \\nu | \\kappa \\lambda \\right ] \\\\\n",
    "E_{xc}[\\gamma_1] & = -\\frac{1}{2} \\iint \\sum_a^M \\sum_b^M \\sqrt{n_a n_b} \\frac{\\eta_a(r)^{\\ast} \\eta_b(r) \\eta_b(r')^{\\ast}  \\eta_a(r')}{|r-r'|} dr dr' \\\\\n",
    "E_{xc}[\\gamma_1] & = -\\frac{1}{2} \\iint \\frac{\\gamma_1^{\\frac{1}{2}}(r,r') \\gamma_1^{\\frac{1}{2}}(r',r)}{|r-r'|} dr dr' \\\\\n",
    "\\end{split}\n",
    "$$\n",
    "\n",
    "where $\\{\\eta_{a}\\}$ is the set of natural orbitals, $M$ the number of basis functions $\\{\\chi_{\\mu}\\}$ and of natural orbitals. The coefficients $\\tilde{\\tilde{c}}$ represent $\\eta$ in the basis $\\chi$."
   ]
  },
  {
   "cell_type": "code",
   "execution_count": 4,
   "id": "c6d504ad-ed7e-4908-82e2-187c812eb2c4",
   "metadata": {},
   "outputs": [],
   "source": [
    "def ONERDMFT_Mueller_functional(Fouridx, C, n, mol):\n",
    "    energy = 0\n",
    "    M = Fouridx.shape[0]\n",
    "    N = mol.nelec[0]\n",
    "    for i in  range(0,M):\n",
    "        for j in range(0,M):\n",
    "            for mu in range(0,M):\n",
    "                for nu in range(0,M):\n",
    "                    for kappa in range(0,M):\n",
    "                        for lamda in range(0,M):\n",
    "                            energy += np.sqrt(n[i]*n[j])*C[mu,i]*C[nu,j]*C[kappa,j]*C[lamda,i]*Fouridx[mu,nu,kappa,lamda]\n",
    "\n",
    "    return -1.*energy"
   ]
  },
  {
   "cell_type": "code",
   "execution_count": 5,
   "id": "33b43fb4-aba4-4f2f-b762-c5dd2de7e60d",
   "metadata": {},
   "outputs": [],
   "source": [
    "def ONERDMFT_Mueller_Full(Fouridx, C, n, mol, h, E_h):\n",
    "    U = ONERDMFT_hartree_energy(Fouridx, C, n, mol)\n",
    "    E_x = ONERDMFT_exchange_energy(Fouridx, C, n, mol)\n",
    "    E_xc = ONERDMFT_Mueller_functional(Fouridx, C, n, mol)\n",
    "    E_c = E_xc - E_x\n",
    "    print(E_h, U, E_xc, E_x, E_c)\n",
    "    return E_h + U + E_xc"
   ]
  },
  {
   "cell_type": "code",
   "execution_count": 6,
   "id": "14533bf8-5b61-40aa-ae93-6acdb559f6ba",
   "metadata": {},
   "outputs": [
    {
     "name": "stdout",
     "output_type": "stream",
     "text": [
      "converged SCF energy = -2.85516042615445\n"
     ]
    }
   ],
   "source": [
    "mol = gto.Mole()\n",
    "mol.atom = \"\"\"\n",
    "    He    0.    0.    0.\n",
    "\"\"\"\n",
    "# this basis has 2 functions for Helium\n",
    "mol.basis = \"6-31g\" #mol.basis = \"ccpvdz\", mol.basis = \"sto-6g\"\n",
    "mol.build()\n",
    "\n",
    "# the 2 electron integrals \\langle \\mu \\nu | \\kappa \\lambda \\rangle have M^4 entries\n",
    "eri = mol.intor('int2e')\n",
    "S = mol.intor('int1e_ovlp')\n",
    "\n",
    "\n",
    "## Run Hartree-Fock.\n",
    "mf = scf.RHF(mol)\n",
    "mf.kernel()\n",
    "\n",
    "C = mf.mo_coeff\n",
    "h = mf.get_hcore()\n",
    "\n",
    "N = mol.nelec[0]\n",
    "P=np.matmul(C[:,0:N],C[:,0:N].T)\n",
    "gamma = np.matmul(np.matmul(C.T,np.matmul(np.matmul(S,P),S)), C)\n",
    "\n",
    "occu, naturalC = np.linalg.eigh(gamma)\n",
    "\n",
    "#print(gamma)\n",
    "#print(np.matmul(np.matmul(naturalC.T,np.diag(occu)), naturalC))"
   ]
  },
  {
   "cell_type": "code",
   "execution_count": 7,
   "id": "b722749e-d76c-49da-ab12-9dc0c58a2090",
   "metadata": {},
   "outputs": [],
   "source": [
    "for i, n  in enumerate(occu):\n",
    "    if n < 0:\n",
    "        occu[i] = 0 "
   ]
  },
  {
   "cell_type": "code",
   "execution_count": 8,
   "id": "7c9fb1e5-a4bd-4359-8410-3fc96cf674a1",
   "metadata": {},
   "outputs": [],
   "source": [
    "# run FCI \n",
    "FCI = True\n",
    "if FCI:\n",
    "    fs = fci.FCI(mol, mf.mo_coeff)\n",
    "    e, ci = fs.kernel(verbose=0)"
   ]
  },
  {
   "cell_type": "code",
   "execution_count": 9,
   "id": "ebe08148-42ff-422d-ade2-c5d7beb9f837",
   "metadata": {},
   "outputs": [
    {
     "name": "stdout",
     "output_type": "stream",
     "text": [
      "[0.00432351 0.99567649] 0.9999999999999999\n"
     ]
    }
   ],
   "source": [
    "FCIgamma = fci.direct_spin1.make_rdm1(ci, mf.mo_coeff.shape[0], mol.nelec)\n",
    "FCIgamma = FCIgamma/2.0\n",
    "FCIoccu, FCInaturalC = np.linalg.eigh(FCIgamma)\n",
    "\n",
    "#occu = np.diagonal(np.matmul(np.diag(occu), S))\n",
    "\n",
    "#print(FCIoccu, occu)\n",
    "\n",
    "print(FCIoccu,  sum(FCIoccu))"
   ]
  },
  {
   "cell_type": "code",
   "execution_count": 10,
   "id": "c916b28e-f344-4531-a273-95a168f5b2c4",
   "metadata": {},
   "outputs": [
    {
     "name": "stdout",
     "output_type": "stream",
     "text": [
      "-0.8527190734922447\n",
      "-0.8522161940245407\n"
     ]
    }
   ],
   "source": [
    "naturalCTT = np.matmul(C,naturalC)\n",
    "FCInaturalCTT = np.matmul(C,naturalC)\n",
    "\n",
    "print(np.trace(np.matmul(h,gamma))+ONERDMFT_hartree_energy(eri, naturalCTT, occu, mol)+ONERDMFT_exchange_energy(eri, naturalCTT, occu, mol))\n",
    "print(np.trace(np.matmul(h,FCIgamma))+ONERDMFT_hartree_energy(eri, FCInaturalCTT, FCIoccu, mol)+ONERDMFT_exchange_energy(eri, FCInaturalCTT, FCIoccu, mol))"
   ]
  },
  {
   "cell_type": "code",
   "execution_count": 11,
   "id": "eb6ba0a6-5d6e-44a0-8c50-1e2e986a69d6",
   "metadata": {},
   "outputs": [
    {
     "name": "stdout",
     "output_type": "stream",
     "text": [
      "-3.882067595029823 2.0508984339955805 -1.0556561344958408 -1.0200211602942235 -0.03563497420161732\n",
      "E FCI: -2.8702; E HF: -2.8552; E Mu:-2.8868 E_c -0.0150\n"
     ]
    }
   ],
   "source": [
    "print(f\"E FCI: {e:2.4f}; E HF: {mf.e_tot:2.4f}; E Mu:{ONERDMFT_Mueller_Full(eri, FCInaturalCTT, FCIoccu, mol, h, 2*np.trace(np.matmul(h,P))):2.4f} E_c {e-mf.e_tot:2.4f}\")"
   ]
  },
  {
   "cell_type": "code",
   "execution_count": 12,
   "id": "8b5ea318-4b5a-4844-9fc4-fc77cf8690ee",
   "metadata": {},
   "outputs": [
    {
     "name": "stdout",
     "output_type": "stream",
     "text": [
      "Mueller Energy, Exchange Energy of HF-gamma: -1.0269071688753768 -1.0269071688753773\n",
      "Mueller Energy, Exchange Energy of FCI-gamma: -1.0556561344958408 -1.0200211602942235\n",
      "Mueller Correlation Energy: -0.03563497420161732\n"
     ]
    }
   ],
   "source": [
    "print(\"Mueller Energy, Exchange Energy of HF-gamma:\", ONERDMFT_Mueller_functional(eri, naturalCTT, occu, mol),ONERDMFT_exchange_energy(eri, naturalCTT, occu, mol))\n",
    "print(\"Mueller Energy, Exchange Energy of FCI-gamma:\", ONERDMFT_Mueller_functional(eri, FCInaturalCTT, FCIoccu, mol),ONERDMFT_exchange_energy(eri, FCInaturalCTT, FCIoccu, mol))\n",
    "print(\"Mueller Correlation Energy:\", ONERDMFT_Mueller_functional(eri, FCInaturalCTT, FCIoccu, mol)-ONERDMFT_exchange_energy(eri, FCInaturalCTT, FCIoccu, mol))\n"
   ]
  },
  {
   "cell_type": "code",
   "execution_count": 13,
   "id": "aacb6b47-61fb-48ee-b9ac-87c2316698b2",
   "metadata": {},
   "outputs": [
    {
     "name": "stdout",
     "output_type": "stream",
     "text": [
      "Hartree Fock Eotal Energy -2.8551604261544465\n",
      "-3.882067595029823 2.0508984339955805 -1.0556561344958408 -1.0200211602942235 -0.03563497420161732\n",
      "Mueller Total Energy from FCI gamma -2.886825295530083\n",
      "-3.882067595029823 2.0538143377507545 -1.0269071688753768 -1.0269071688753773 4.440892098500626e-16\n",
      "Mueller Total Energy from HF gamma -2.855160426154445\n"
     ]
    }
   ],
   "source": [
    "#E_h = np.trace(np.matmul(h, np.matmul(np.matmul(C.T,np.diagonal(n)), C)))\n",
    "\n",
    "print(f\"Hartree Fock Eotal Energy {mf.e_tot}\")\n",
    "print(f\"Mueller Total Energy from FCI gamma {ONERDMFT_Mueller_Full(eri, FCInaturalCTT, FCIoccu, mol, h, 2*np.trace(np.matmul(h,P)))}\")\n",
    "print(f\"Mueller Total Energy from HF gamma {ONERDMFT_Mueller_Full(eri, naturalCTT, occu, mol, h, 2*np.trace(np.matmul(h,P)))}\")\n"
   ]
  },
  {
   "cell_type": "code",
   "execution_count": null,
   "id": "d4167948-927a-4e14-99c1-8b91e4d57389",
   "metadata": {},
   "outputs": [],
   "source": []
  }
 ],
 "metadata": {
  "kernelspec": {
   "display_name": "Python 3 (ipykernel)",
   "language": "python",
   "name": "python3"
  },
  "language_info": {
   "codemirror_mode": {
    "name": "ipython",
    "version": 3
   },
   "file_extension": ".py",
   "mimetype": "text/x-python",
   "name": "python",
   "nbconvert_exporter": "python",
   "pygments_lexer": "ipython3",
   "version": "3.10.12"
  }
 },
 "nbformat": 4,
 "nbformat_minor": 5
}
