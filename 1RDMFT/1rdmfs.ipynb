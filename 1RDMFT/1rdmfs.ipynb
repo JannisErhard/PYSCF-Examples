{
 "cells": [
  {
   "cell_type": "code",
   "execution_count": 1,
   "id": "5661677c-c89e-4e73-bc7b-b45eef0670df",
   "metadata": {},
   "outputs": [],
   "source": [
    "import numpy as np\n",
    "from pyscf import gto, scf, fci"
   ]
  },
  {
   "cell_type": "markdown",
   "id": "2e69f582-fb6d-4aee-845d-40c35d5b3d90",
   "metadata": {},
   "source": [
    "\n",
    "$$\n",
    "\\begin{split}\n",
    "E_H[\\gamma_1] & = \\frac{1}{2} \\sum_a^M \\sum_b^M n_a n_b \\sum_{\\mu}^M \\sum_{\\nu}^M \\sum_{\\kappa}^M \\sum_{\\lambda}^M  c_{a,\\mu} c_{b,\\nu} c_{a,\\kappa} c_{b,\\lambda} \\left [ \\mu \\nu | \\kappa \\lambda \\right ] \\\\\n",
    "E_H[\\gamma_1] & = \\frac{1}{2} \\iint \\sum_a^M \\sum_b^M n_a n_b \\frac{\\phi_a(r)^{\\ast} \\phi_a(r) \\phi_b(r')^{\\ast}  \\phi_b(r')}{|r-r'|} dr dr' \\\\\n",
    "E_H[\\gamma_1] & = \\frac{1}{2} \\iint \\frac{\\gamma_1(r,r) \\gamma_1(r',r')}{|r-r'|} dr dr' \\\\\n",
    "\\end{split}\n",
    "$$"
   ]
  },
  {
   "cell_type": "code",
   "execution_count": 2,
   "id": "f666d49f-52e2-413c-8499-b2410cdd351e",
   "metadata": {},
   "outputs": [],
   "source": [
    "def ONERDMFT_hartree_energy(Fouridx, C, n, mol):\n",
    "    energy = 0\n",
    "    M = Fouridx.shape[0]\n",
    "    N = mol.nelec[0]\n",
    "    for a in  range(0,M):\n",
    "        for b in range(0,M):\n",
    "            for mu in range(0,M):\n",
    "                for nu in range(0,M):\n",
    "                    for kappa in range(0,M):\n",
    "                        for lamda in range(0,M):\n",
    "                            energy += n[a]*n[b]*C[mu,a]*C[nu,a]*C[kappa,b]*C[lamda,b]*Fouridx[mu,nu,kappa,lamda]\n",
    "\n",
    "    return 1/2.*energy\n"
   ]
  },
  {
   "cell_type": "markdown",
   "id": "32fd0602-a68d-47bf-81a2-54ad5c86021d",
   "metadata": {},
   "source": [
    "\n",
    "$$\n",
    "\\begin{split}\n",
    "E_x[\\gamma_1] & = -\\frac{1}{4} \\sum_a^M \\sum_b^M n_a n_b \\sum_{\\mu}^M \\sum_{\\nu}^M \\sum_{\\kappa}^M \\sum_{\\lambda}^M  c_{a,\\mu} c_{b,\\nu} c_{b,\\kappa} c_{a,\\lambda} \\left [ \\mu \\nu | \\kappa \\lambda \\right ] \\\\\n",
    "E_x[\\gamma_1] & = -\\frac{1}{4} \\iint \\sum_a^M \\sum_b^M n_a n_b \\frac{\\phi_a(r)^{\\ast} \\phi_b(r) \\phi_b(r')^{\\ast}  \\phi_a(r')}{|r-r'|} dr dr' \\\\\n",
    "E_x[\\gamma_1] & = -\\frac{1}{4} \\iint \\frac{\\gamma_1(r,r') \\gamma_1(r',r)}{|r-r'|} dr dr' \\\\\n",
    "\\end{split}\n",
    "$$"
   ]
  },
  {
   "cell_type": "code",
   "execution_count": 3,
   "id": "5b1d8dd5-9fff-4dad-9534-6427f520386e",
   "metadata": {},
   "outputs": [],
   "source": [
    "def ONERDMFT_exchange_energy(Fouridx, C, n, mol):\n",
    "    energy = 0\n",
    "    M = Fouridx.shape[0]\n",
    "    N = mol.nelec[0]\n",
    "    for a in  range(0,M):\n",
    "        for b in range(0,M):\n",
    "            for mu in range(0,M):\n",
    "                for nu in range(0,M):\n",
    "                    for kappa in range(0,M):\n",
    "                        for lamda in range(0,M):\n",
    "                            energy += n[a]*n[b]*C[mu,a]*C[nu,b]*C[kappa,b]*C[lamda,a]*Fouridx[mu,nu,kappa,lamda]\n",
    "\n",
    "    return -1/4.*energy"
   ]
  },
  {
   "cell_type": "markdown",
   "id": "6929c92f-2d85-4d9d-83a5-e6296ef0a3e3",
   "metadata": {},
   "source": [
    "\n",
    "$$\n",
    "\\begin{split}\n",
    "E_{xc}[\\gamma_1] & = -\\frac{1}{4} \\sum_a^M \\sum_b^M \\sqrt{n_a n_b} \\sum_{\\mu}^M \\sum_{\\nu}^M \\sum_{\\kappa}^M \\sum_{\\lambda}^M  c_{a,\\mu} c_{b,\\nu} c_{b,\\kappa} c_{a,\\lambda} \\left [ \\mu \\nu | \\kappa \\lambda \\right ] \\\\\n",
    "E_{xc}[\\gamma_1] & = -\\frac{1}{4} \\iint \\sum_a^M \\sum_b^M \\sqrt{n_a n_b} \\frac{\\phi_a(r)^{\\ast} \\phi_b(r) \\phi_b(r')^{\\ast}  \\phi_a(r')}{|r-r'|} dr dr' \\\\\n",
    "E_{xc}[\\gamma_1] & = -\\frac{1}{4} \\iint \\frac{\\gamma_1^{\\frac{1}{2}}(r,r') \\gamma_1^{\\frac{1}{2}}(r',r)}{|r-r'|} dr dr' \\\\\n",
    "\\end{split}\n",
    "$$"
   ]
  },
  {
   "cell_type": "code",
   "execution_count": 4,
   "id": "c6d504ad-ed7e-4908-82e2-187c812eb2c4",
   "metadata": {},
   "outputs": [],
   "source": [
    "def ONERDMFT_Mueller_functional(Fouridx, C, n, mol):\n",
    "    energy = 0\n",
    "    M = Fouridx.shape[0]\n",
    "    N = mol.nelec[0]\n",
    "    for i in  range(0,M):\n",
    "        for j in range(0,M):\n",
    "            for mu in range(0,M):\n",
    "                for nu in range(0,M):\n",
    "                    for kappa in range(0,M):\n",
    "                        for lamda in range(0,M):\n",
    "                            energy += np.sqrt(n[i]*n[j])*C[mu,i]*C[nu,j]*C[kappa,j]*C[lamda,i]*Fouridx[mu,nu,kappa,lamda]\n",
    "\n",
    "    return -1/4.*energy"
   ]
  },
  {
   "cell_type": "code",
   "execution_count": 5,
   "id": "14533bf8-5b61-40aa-ae93-6acdb559f6ba",
   "metadata": {},
   "outputs": [
    {
     "name": "stdout",
     "output_type": "stream",
     "text": [
      "converged SCF energy = -37.5882040183502\n"
     ]
    }
   ],
   "source": [
    "mol = gto.Mole()\n",
    "mol.atom = \"\"\"\n",
    "    C    0.    0.    0.\n",
    "\"\"\"\n",
    "# this basis has 2 functions for Helium\n",
    "mol.basis = \"6-31g\" #mol.basis = \"ccpvdz\", mol.basis = \"sto-6g\"\n",
    "mol.build()\n",
    "\n",
    "# the 2 electron integrals \\langle \\mu \\nu | \\kappa \\lambda \\rangle have M^4 entries\n",
    "eri = mol.intor('int2e')\n",
    "\n",
    "## Run Hartree-Fock.\n",
    "mf = scf.RHF(mol)\n",
    "mf.kernel()\n",
    "C = mf.mo_coeff\n",
    "\n",
    "\n",
    "N = mol.nelec[0]\n",
    "gamma=np.matmul(C[:,0:N],C[:,0:N].T)*2\n",
    "\n",
    "occu, naturalC = np.linalg.eigh(gamma)"
   ]
  },
  {
   "cell_type": "code",
   "execution_count": 6,
   "id": "7c9fb1e5-a4bd-4359-8410-3fc96cf674a1",
   "metadata": {},
   "outputs": [
    {
     "name": "stdout",
     "output_type": "stream",
     "text": [
      "-37.716264429240276 -37.58820401835024 -0.12806041089003628\n"
     ]
    }
   ],
   "source": [
    "# run FCI \n",
    "FCI = True\n",
    "if FCI:\n",
    "    fs = fci.FCI(mol, mf.mo_coeff)\n",
    "    e, ci = fs.kernel(verbose=0)\n",
    "print(e, mf.e_tot, e-mf.e_tot)"
   ]
  },
  {
   "cell_type": "code",
   "execution_count": 7,
   "id": "ebe08148-42ff-422d-ade2-c5d7beb9f837",
   "metadata": {},
   "outputs": [],
   "source": [
    "FCIgamma = fci.direct_spin1.make_rdm1(ci, mf.mo_coeff.shape[0], mol.nelec)\n",
    "FCIoccu, FCInaturalC = np.linalg.eigh(FCIgamma)"
   ]
  },
  {
   "cell_type": "code",
   "execution_count": 8,
   "id": "4eae202e-fcc1-4b4c-a3c8-a50f645d108b",
   "metadata": {},
   "outputs": [],
   "source": [
    "for i, n  in enumerate(occu):\n",
    "    if abs(n) < 1e-10:\n",
    "        occu[i] = 0 "
   ]
  },
  {
   "cell_type": "code",
   "execution_count": 9,
   "id": "c916b28e-f344-4531-a273-95a168f5b2c4",
   "metadata": {},
   "outputs": [
    {
     "name": "stdout",
     "output_type": "stream",
     "text": [
      "-37.58820401835027\n",
      "-39.069427893700535\n"
     ]
    }
   ],
   "source": [
    "h = mf.get_hcore()\n",
    "print(np.trace(np.matmul(h,gamma))+ONERDMFT_hartree_energy(eri, naturalC, occu, mol)+ONERDMFT_exchange_energy(eri, naturalC, occu, mol))\n",
    "print(np.trace(np.matmul(h,FCIgamma))+ONERDMFT_hartree_energy(eri, FCInaturalC, FCIoccu, mol)+ONERDMFT_exchange_energy(eri, FCInaturalC, FCIoccu, mol))"
   ]
  },
  {
   "cell_type": "code",
   "execution_count": 10,
   "id": "8b5ea318-4b5a-4844-9fc4-fc77cf8690ee",
   "metadata": {},
   "outputs": [
    {
     "name": "stdout",
     "output_type": "stream",
     "text": [
      "Mueller Energy, Exchange Energy of HF-gamma: -2.9895518039204294 -5.029550758276508\n",
      "Mueller Energy, Exchange Energy of FCI-gamma: -3.1510324268759384 -5.43206095070751\n"
     ]
    }
   ],
   "source": [
    "print(\"Mueller Energy, Exchange Energy of HF-gamma:\", ONERDMFT_Mueller_functional(eri, naturalC, occu, mol),ONERDMFT_exchange_energy(eri, naturalC, occu, mol))\n",
    "#print(\"Mueller Correlation Energy:\", ONERDMFT_Mueller_functional(eri, FCInaturalC, FCIoccu, mol)-ONERDMFT_exchange_energy(eri, FCInaturalC, FCIoccu, mol))\n",
    "print(\"Mueller Energy, Exchange Energy of FCI-gamma:\", ONERDMFT_Mueller_functional(eri, FCInaturalC, FCIoccu, mol),ONERDMFT_exchange_energy(eri, FCInaturalC, FCIoccu, mol))\n"
   ]
  },
  {
   "cell_type": "code",
   "execution_count": null,
   "id": "aacb6b47-61fb-48ee-b9ac-87c2316698b2",
   "metadata": {},
   "outputs": [],
   "source": []
  }
 ],
 "metadata": {
  "kernelspec": {
   "display_name": "Python 3 (ipykernel)",
   "language": "python",
   "name": "python3"
  },
  "language_info": {
   "codemirror_mode": {
    "name": "ipython",
    "version": 3
   },
   "file_extension": ".py",
   "mimetype": "text/x-python",
   "name": "python",
   "nbconvert_exporter": "python",
   "pygments_lexer": "ipython3",
   "version": "3.10.12"
  }
 },
 "nbformat": 4,
 "nbformat_minor": 5
}
