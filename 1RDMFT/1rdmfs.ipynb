{
 "cells": [
  {
   "cell_type": "code",
   "execution_count": 1,
   "id": "5661677c-c89e-4e73-bc7b-b45eef0670df",
   "metadata": {},
   "outputs": [],
   "source": [
    "import numpy as np\n",
    "from pyscf import gto, scf, fci"
   ]
  },
  {
   "cell_type": "markdown",
   "id": "2e69f582-fb6d-4aee-845d-40c35d5b3d90",
   "metadata": {},
   "source": [
    "\n",
    "$$\n",
    "\\begin{split}\n",
    "E_H[\\gamma_1] & = \\frac{1}{2} \\sum_a^M \\sum_b^M n_a n_b \\sum_{\\mu}^M \\sum_{\\nu}^M \\sum_{\\kappa}^M \\sum_{\\lambda}^M  c_{a,\\mu} c_{b,\\nu} c_{a,\\kappa} c_{b,\\lambda} \\left [ \\mu \\nu | \\kappa \\lambda \\right ] \\\\\n",
    "E_H[\\gamma_1] & = \\frac{1}{2} \\iint \\sum_a^M \\sum_b^M n_a n_b \\frac{\\phi_a(r)^{\\ast} \\phi_a(r) \\phi_b(r')^{\\ast}  \\phi_b(r')}{|r-r'|} dr dr' \\\\\n",
    "E_H[\\gamma_1] & = \\frac{1}{2} \\iint \\frac{\\gamma_1(r,r) \\gamma_1(r',r')}{|r-r'|} dr dr' \\\\\n",
    "\\end{split}\n",
    "$$"
   ]
  },
  {
   "cell_type": "code",
   "execution_count": 2,
   "id": "f666d49f-52e2-413c-8499-b2410cdd351e",
   "metadata": {},
   "outputs": [],
   "source": [
    "def ONERDMFT_hartree_energy(Fouridx, C, n, mol):\n",
    "    energy = 0\n",
    "    M = Fouridx.shape[0]\n",
    "    N = mol.nelec[0]\n",
    "    for a in  range(0,M):\n",
    "        for b in range(0,M):\n",
    "            for mu in range(0,M):\n",
    "                for nu in range(0,M):\n",
    "                    for kappa in range(0,M):\n",
    "                        for lamda in range(0,M):\n",
    "                            energy += n[a]*n[b]*C[mu,a]*C[nu,a]*C[kappa,b]*C[lamda,b]*Fouridx[mu,nu,kappa,lamda]\n",
    "\n",
    "    return 1/2.*energy\n"
   ]
  },
  {
   "cell_type": "markdown",
   "id": "32fd0602-a68d-47bf-81a2-54ad5c86021d",
   "metadata": {},
   "source": [
    "\n",
    "$$\n",
    "\\begin{split}\n",
    "E_x[\\gamma_1] & = -\\frac{1}{4} \\sum_a^M \\sum_b^M n_a n_b \\sum_{\\mu}^M \\sum_{\\nu}^M \\sum_{\\kappa}^M \\sum_{\\lambda}^M  c_{a,\\mu} c_{b,\\nu} c_{b,\\kappa} c_{a,\\lambda} \\left [ \\mu \\nu | \\kappa \\lambda \\right ] \\\\\n",
    "E_x[\\gamma_1] & = -\\frac{1}{4} \\iint \\sum_a^M \\sum_b^M n_a n_b \\frac{\\phi_a(r)^{\\ast} \\phi_b(r) \\phi_b(r')^{\\ast}  \\phi_a(r')}{|r-r'|} dr dr' \\\\\n",
    "E_x[\\gamma_1] & = -\\frac{1}{4} \\iint \\frac{\\gamma_1(r,r') \\gamma_1(r',r)}{|r-r'|} dr dr' \\\\\n",
    "\\end{split}\n",
    "$$"
   ]
  },
  {
   "cell_type": "code",
   "execution_count": 3,
   "id": "5b1d8dd5-9fff-4dad-9534-6427f520386e",
   "metadata": {},
   "outputs": [],
   "source": [
    "def ONERDMFT_exchange_energy(Fouridx, C, n, mol):\n",
    "    energy = 0\n",
    "    M = Fouridx.shape[0]\n",
    "    N = mol.nelec[0]\n",
    "    for a in  range(0,M):\n",
    "        for b in range(0,M):\n",
    "            for mu in range(0,M):\n",
    "                for nu in range(0,M):\n",
    "                    for kappa in range(0,M):\n",
    "                        for lamda in range(0,M):\n",
    "                            energy += n[a]*n[b]*C[mu,a]*C[nu,b]*C[kappa,b]*C[lamda,a]*Fouridx[mu,nu,kappa,lamda]\n",
    "\n",
    "    return -1/4.*energy"
   ]
  },
  {
   "cell_type": "markdown",
   "id": "6929c92f-2d85-4d9d-83a5-e6296ef0a3e3",
   "metadata": {},
   "source": [
    "\n",
    "$$\n",
    "\\begin{split}\n",
    "E_{xc}[\\gamma_1] & = -\\frac{1}{4} \\sum_a^M \\sum_b^M \\sqrt{n_a n_b} \\sum_{\\mu}^M \\sum_{\\nu}^M \\sum_{\\kappa}^M \\sum_{\\lambda}^M  c_{a,\\mu} c_{b,\\nu} c_{b,\\kappa} c_{a,\\lambda} \\left [ \\mu \\nu | \\kappa \\lambda \\right ] \\\\\n",
    "E_{xc}[\\gamma_1] & = -\\frac{1}{4} \\iint \\sum_a^M \\sum_b^M \\sqrt{n_a n_b} \\frac{\\phi_a(r)^{\\ast} \\phi_b(r) \\phi_b(r')^{\\ast}  \\phi_a(r')}{|r-r'|} dr dr' \\\\\n",
    "E_{xc}[\\gamma_1] & = -\\frac{1}{4} \\iint \\frac{\\gamma_1^{\\frac{1}{2}}(r,r') \\gamma_1^{\\frac{1}{2}}(r',r)}{|r-r'|} dr dr' \\\\\n",
    "\\end{split}\n",
    "$$"
   ]
  },
  {
   "cell_type": "code",
   "execution_count": 4,
   "id": "c6d504ad-ed7e-4908-82e2-187c812eb2c4",
   "metadata": {},
   "outputs": [],
   "source": [
    "def ONERDMFT_Mueller_functional(Fouridx, C, n, mol):\n",
    "    energy = 0\n",
    "    M = Fouridx.shape[0]\n",
    "    N = mol.nelec[0]\n",
    "    for i in  range(0,M):\n",
    "        for j in range(0,M):\n",
    "            for mu in range(0,M):\n",
    "                for nu in range(0,M):\n",
    "                    for kappa in range(0,M):\n",
    "                        for lamda in range(0,M):\n",
    "                            energy += np.sqrt(n[i]*n[j])*C[mu,i]*C[nu,j]*C[kappa,j]*C[lamda,i]*Fouridx[mu,nu,kappa,lamda]\n",
    "\n",
    "    return -1/4.*energy"
   ]
  },
  {
   "cell_type": "code",
   "execution_count": 5,
   "id": "33b43fb4-aba4-4f2f-b762-c5dd2de7e60d",
   "metadata": {},
   "outputs": [],
   "source": [
    "def ONERDMFT_Mueller_Full(Fouridx, C, n, mol, h):\n",
    "    E_h = np.trace(np.matmul(h, np.matmul(np.matmul(C.T,np.diag(n)), C)))\n",
    "    U = ONERDMFT_hartree_energy(Fouridx, C, n, mol)\n",
    "    E_xc = ONERDMFT_Mueller_functional(Fouridx, C, n, mol)\n",
    "    print(E_h, U, E_xc)\n",
    "    return E_h + U + E_xc"
   ]
  },
  {
   "cell_type": "code",
   "execution_count": 6,
   "id": "14533bf8-5b61-40aa-ae93-6acdb559f6ba",
   "metadata": {},
   "outputs": [
    {
     "name": "stdout",
     "output_type": "stream",
     "text": [
      "converged SCF energy = -128.473876870668\n",
      "[[ 2.1019495  -0.22714523 -0.27610773  0.          0.          0.\n",
      "   0.          0.          0.        ]\n",
      " [-0.22714523  0.59606287  0.59832762  0.          0.          0.\n",
      "   0.          0.          0.        ]\n",
      " [-0.27610773  0.59832762  0.60174891  0.          0.          0.\n",
      "   0.          0.          0.        ]\n",
      " [ 0.          0.          0.          0.95287412  0.          0.\n",
      "   0.63408178  0.          0.        ]\n",
      " [ 0.          0.          0.          0.          0.95287412  0.\n",
      "   0.          0.63408178  0.        ]\n",
      " [ 0.          0.          0.          0.          0.          0.95287412\n",
      "   0.          0.          0.63408178]\n",
      " [ 0.          0.          0.          0.63408178  0.          0.\n",
      "   0.42194419  0.          0.        ]\n",
      " [ 0.          0.          0.          0.          0.63408178  0.\n",
      "   0.          0.42194419  0.        ]\n",
      " [ 0.          0.          0.          0.          0.          0.63408178\n",
      "   0.          0.          0.42194419]]\n",
      "[[ 1.28253415e+00  0.00000000e+00 -2.04037906e-03  0.00000000e+00\n",
      "   0.00000000e+00 -1.17402134e-03  0.00000000e+00  1.38689705e-01\n",
      "   0.00000000e+00]\n",
      " [ 0.00000000e+00  9.52874120e-01  0.00000000e+00  0.00000000e+00\n",
      "   0.00000000e+00  0.00000000e+00 -6.34081779e-01  0.00000000e+00\n",
      "   0.00000000e+00]\n",
      " [-2.04037906e-03  0.00000000e+00  1.96451720e+00  0.00000000e+00\n",
      "   0.00000000e+00  3.92412291e-01  0.00000000e+00  4.14932652e-04\n",
      "   0.00000000e+00]\n",
      " [ 0.00000000e+00  0.00000000e+00  0.00000000e+00  2.37561036e-17\n",
      "   2.22033406e-17  0.00000000e+00  0.00000000e+00  0.00000000e+00\n",
      "   8.10707092e-18]\n",
      " [ 0.00000000e+00  0.00000000e+00  0.00000000e+00  2.22033406e-17\n",
      "   2.07520295e-17  0.00000000e+00  0.00000000e+00  0.00000000e+00\n",
      "   7.57729606e-18]\n",
      " [-1.17402134e-03  0.00000000e+00  3.92412291e-01  0.00000000e+00\n",
      "   0.00000000e+00  1.63594682e+00  0.00000000e+00  1.12353139e-16\n",
      "   0.00000000e+00]\n",
      " [ 0.00000000e+00 -6.34081779e-01  0.00000000e+00  0.00000000e+00\n",
      "   0.00000000e+00  0.00000000e+00  4.21944193e-01  0.00000000e+00\n",
      "   0.00000000e+00]\n",
      " [ 1.38689705e-01  0.00000000e+00  4.14932652e-04  0.00000000e+00\n",
      "   0.00000000e+00  1.12353139e-16  0.00000000e+00  1.16639974e+00\n",
      "   0.00000000e+00]\n",
      " [ 0.00000000e+00  0.00000000e+00  0.00000000e+00  8.10707092e-18\n",
      "   7.57729606e-18  0.00000000e+00  0.00000000e+00  0.00000000e+00\n",
      "   2.76625809e-18]]\n"
     ]
    }
   ],
   "source": [
    "mol = gto.Mole()\n",
    "mol.atom = \"\"\"\n",
    "    Ne    0.    0.    0.\n",
    "\"\"\"\n",
    "# this basis has 2 functions for Helium\n",
    "mol.basis = \"6-31g\" #mol.basis = \"ccpvdz\", mol.basis = \"sto-6g\"\n",
    "mol.build()\n",
    "\n",
    "# the 2 electron integrals \\langle \\mu \\nu | \\kappa \\lambda \\rangle have M^4 entries\n",
    "eri = mol.intor('int2e')\n",
    "S = mol.intor('int1e_ovlp')\n",
    "\n",
    "\n",
    "## Run Hartree-Fock.\n",
    "mf = scf.RHF(mol)\n",
    "mf.kernel()\n",
    "\n",
    "C = mf.mo_coeff\n",
    "h = mf.get_hcore()\n",
    "\n",
    "N = mol.nelec[0]\n",
    "gamma=np.matmul(C[:,0:N],C[:,0:N].T)*2\n",
    "\n",
    "\n",
    "#occu, naturalC = np.linalg.eigh(np.matmul(S, gamma))\n",
    "occu, naturalC = np.linalg.eigh(gamma)\n",
    "\n",
    "print(gamma)\n",
    "print(np.matmul(np.matmul(naturalC.T,np.diag(occu)), naturalC))"
   ]
  },
  {
   "cell_type": "code",
   "execution_count": 7,
   "id": "7c9fb1e5-a4bd-4359-8410-3fc96cf674a1",
   "metadata": {},
   "outputs": [
    {
     "name": "stdout",
     "output_type": "stream",
     "text": [
      "E FCI: -128.5898023498827; E HF: -128.4738768706684 E_c -0.11592547921429741\n"
     ]
    }
   ],
   "source": [
    "# run FCI \n",
    "FCI = True\n",
    "if FCI:\n",
    "    fs = fci.FCI(mol, mf.mo_coeff)\n",
    "    e, ci = fs.kernel(verbose=0)\n",
    "print(f\"E FCI: {e}; E HF: {mf.e_tot} E_c {e-mf.e_tot}\")"
   ]
  },
  {
   "cell_type": "code",
   "execution_count": 8,
   "id": "ebe08148-42ff-422d-ade2-c5d7beb9f837",
   "metadata": {},
   "outputs": [
    {
     "name": "stdout",
     "output_type": "stream",
     "text": [
      "10.000000000000004 7.424216223676516 10.000000000000007 7.424216223676514\n"
     ]
    }
   ],
   "source": [
    "FCIgamma = fci.direct_spin1.make_rdm1(ci, mf.mo_coeff.shape[0], mol.nelec)\n",
    "FCIoccu, FCInaturalC = np.linalg.eigh(FCIgamma)\n",
    "\n",
    "#occu = np.diagonal(np.matmul(np.diag(occu), S))\n",
    "\n",
    "#print(FCIoccu, occu)\n",
    "\n",
    "print(sum(FCIoccu), sum(occu), np.trace(FCIgamma), np.trace(gamma))"
   ]
  },
  {
   "cell_type": "code",
   "execution_count": 9,
   "id": "4eae202e-fcc1-4b4c-a3c8-a50f645d108b",
   "metadata": {},
   "outputs": [],
   "source": [
    "#for i, n  in enumerate(occu):\n",
    "#    if n < 0:\n",
    "#        occu[i] = 0 "
   ]
  },
  {
   "cell_type": "code",
   "execution_count": 10,
   "id": "c916b28e-f344-4531-a273-95a168f5b2c4",
   "metadata": {},
   "outputs": [
    {
     "name": "stdout",
     "output_type": "stream",
     "text": [
      "-128.47387687066853\n",
      "-134.98409669251782\n"
     ]
    }
   ],
   "source": [
    "print(np.trace(np.matmul(h,gamma))+ONERDMFT_hartree_energy(eri, naturalC, occu, mol)+ONERDMFT_exchange_energy(eri, naturalC, occu, mol))\n",
    "print(np.trace(np.matmul(h,FCIgamma))+ONERDMFT_hartree_energy(eri, FCInaturalC, FCIoccu, mol)+ONERDMFT_exchange_energy(eri, FCInaturalC, FCIoccu, mol))"
   ]
  },
  {
   "cell_type": "code",
   "execution_count": 11,
   "id": "8b5ea318-4b5a-4844-9fc4-fc77cf8690ee",
   "metadata": {},
   "outputs": [
    {
     "name": "stderr",
     "output_type": "stream",
     "text": [
      "/tmp/ipykernel_979547/3502421573.py:11: RuntimeWarning: invalid value encountered in sqrt\n",
      "  energy += np.sqrt(n[i]*n[j])*C[mu,i]*C[nu,j]*C[kappa,j]*C[lamda,i]*Fouridx[mu,nu,kappa,lamda]\n"
     ]
    },
    {
     "name": "stdout",
     "output_type": "stream",
     "text": [
      "Mueller Energy, Exchange Energy of HF-gamma: nan -12.127575803200866\n",
      "Mueller Energy, Exchange Energy of FCI-gamma: -7.718834779811283 -15.125638160680534\n"
     ]
    }
   ],
   "source": [
    "print(\"Mueller Energy, Exchange Energy of HF-gamma:\", ONERDMFT_Mueller_functional(eri, naturalC, occu, mol),ONERDMFT_exchange_energy(eri, naturalC, occu, mol))\n",
    "#print(\"Mueller Correlation Energy:\", ONERDMFT_Mueller_functional(eri, FCInaturalC, FCIoccu, mol)-ONERDMFT_exchange_energy(eri, FCInaturalC, FCIoccu, mol))\n",
    "print(\"Mueller Energy, Exchange Energy of FCI-gamma:\", ONERDMFT_Mueller_functional(eri, FCInaturalC, FCIoccu, mol),ONERDMFT_exchange_energy(eri, FCInaturalC, FCIoccu, mol))\n"
   ]
  },
  {
   "cell_type": "code",
   "execution_count": 12,
   "id": "aacb6b47-61fb-48ee-b9ac-87c2316698b2",
   "metadata": {},
   "outputs": [
    {
     "name": "stdout",
     "output_type": "stream",
     "text": [
      "Hartree Fock Eotal Energy -128.4738768706684\n",
      "-195.11139302626322 75.37825269804213 -7.718834779811283\n",
      "Mueller Total Energy from FCI gamma -127.45197510803237\n"
     ]
    },
    {
     "name": "stderr",
     "output_type": "stream",
     "text": [
      "/tmp/ipykernel_979547/3502421573.py:11: RuntimeWarning: invalid value encountered in sqrt\n",
      "  energy += np.sqrt(n[i]*n[j])*C[mu,i]*C[nu,j]*C[kappa,j]*C[lamda,i]*Fouridx[mu,nu,kappa,lamda]\n"
     ]
    },
    {
     "name": "stdout",
     "output_type": "stream",
     "text": [
      "-125.92042548853155 66.27654288017754 nan\n",
      "Mueller Total Energy from HF gamma nan\n"
     ]
    }
   ],
   "source": [
    "#E_h = np.trace(np.matmul(h, np.matmul(np.matmul(C.T,np.diagonal(n)), C)))\n",
    "\n",
    "print(f\"Hartree Fock Eotal Energy {mf.e_tot}\")\n",
    "print(f\"Mueller Total Energy from FCI gamma {ONERDMFT_Mueller_Full(eri, FCInaturalC, FCIoccu, mol, h)}\")\n",
    "print(f\"Mueller Total Energy from HF gamma {ONERDMFT_Mueller_Full(eri, naturalC, occu, mol, h)}\")\n"
   ]
  },
  {
   "cell_type": "code",
   "execution_count": null,
   "id": "d4167948-927a-4e14-99c1-8b91e4d57389",
   "metadata": {},
   "outputs": [],
   "source": []
  }
 ],
 "metadata": {
  "kernelspec": {
   "display_name": "Python 3 (ipykernel)",
   "language": "python",
   "name": "python3"
  },
  "language_info": {
   "codemirror_mode": {
    "name": "ipython",
    "version": 3
   },
   "file_extension": ".py",
   "mimetype": "text/x-python",
   "name": "python",
   "nbconvert_exporter": "python",
   "pygments_lexer": "ipython3",
   "version": "3.10.12"
  }
 },
 "nbformat": 4,
 "nbformat_minor": 5
}
