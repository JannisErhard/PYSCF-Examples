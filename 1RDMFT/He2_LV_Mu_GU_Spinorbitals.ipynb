{
 "cells": [
  {
   "cell_type": "code",
   "execution_count": 1,
   "id": "e0098ed9-0a60-48d7-94a6-e831bb5cdb7d",
   "metadata": {},
   "outputs": [],
   "source": [
    "import numpy as np\n",
    "import matplotlib.pyplot as plt\n",
    "from qmrdmft import Calculator, OptimalCalculator, tools\n",
    "from pyscf import gto, scf, ao2mo\n",
    "from numba import prange, jit, njit\n",
    "\n",
    "#import tools"
   ]
  },
  {
   "cell_type": "code",
   "execution_count": 2,
   "id": "ca1ee16f-16ef-457f-a947-dabf2f34b7fb",
   "metadata": {},
   "outputs": [],
   "source": [
    "def expand_matrix(P):\n",
    "    Paa = P\n",
    "    Pbb = P\n",
    "    Pab = np.zeros(P.shape)\n",
    "    Pba = np.zeros(P.shape)\n",
    "    PE = np.concatenate((np.concatenate((Paa, Pab), axis=1), np.concatenate((Pba, Pbb), axis=1)), axis=0) \n",
    "    return PE"
   ]
  },
  {
   "cell_type": "code",
   "execution_count": 3,
   "id": "2c9eba83-9a20-4916-9586-a27f8f82e805",
   "metadata": {},
   "outputs": [],
   "source": [
    "# for jit and prange\n",
    "@jit(nopython=True, parallel=True)\n",
    "def ONERDMFT_hartree_energy_parallel(Fouridx, C, n):\n",
    "    energy = 0\n",
    "    M = C.shape[0]\n",
    "    K = Fouridx.shape[0]\n",
    "    for a in  prange(0,M):\n",
    "        for b in range(0,M):\n",
    "            for mu in range(0,M):\n",
    "                for nu in range(0,M):\n",
    "                    for kappa in range(0,M):\n",
    "                        for lamda in range(0,M):\n",
    "                            energy += n[a]*n[b]*C[mu,a]*C[nu,a]*C[kappa,b]*C[lamda,b]*Fouridx[mu%K,nu%K,kappa%K,lamda%K]\n",
    "\n",
    "    return 1/2.*energy"
   ]
  },
  {
   "cell_type": "code",
   "execution_count": 4,
   "id": "90b5fc45-6f3f-4a1d-9f30-2f847f97f99f",
   "metadata": {},
   "outputs": [],
   "source": [
    "# for spinorbitals, the Umrigar Hartree term is a Hartree term from which the self interaction has been removed \n",
    "@jit(nopython=True, parallel=True)\n",
    "def ONERDMFT_Umrigar_hartree_energy_parallel(Fouridx, C, n):\n",
    "    energy = 0\n",
    "    M = C.shape[0]\n",
    "    K = Fouridx.shape[0]\n",
    "    for a in  prange(0,M):\n",
    "        for b in [b for b in range(0,M) if b!=a ]:\n",
    "            for mu in range(0,M):\n",
    "                for nu in range(0,M):\n",
    "                    for kappa in range(0,M):\n",
    "                        for lamda in range(0,M):\n",
    "                            energy += n[a]*n[b]*C[mu,a]*C[nu,a]*C[kappa,b]*C[lamda,b]*Fouridx[mu%K,nu%K,kappa%K,lamda%K]\n",
    "\n",
    "    return 1/2.*energy"
   ]
  },
  {
   "cell_type": "code",
   "execution_count": 5,
   "id": "75781bdb-b957-4158-8609-3a41ae1984cb",
   "metadata": {},
   "outputs": [],
   "source": [
    "@jit(nopython=True, parallel=True)\n",
    "def ONERDMFT_Umrigar_exchange_correlation_energy_parallel(Fouridx, C, n):\n",
    "    energy = 0\n",
    "    M = C.shape[0]\n",
    "    K = Fouridx.shape[0]\n",
    "    for a in  prange(0,M//2):\n",
    "        for b in [b for b in range(0,M//2) if b!=a ]:\n",
    "            for mu in range(0,M):\n",
    "                for nu in range(0,M):\n",
    "                    for kappa in range(0,M):\n",
    "                        for lamda in range(0,M):\n",
    "                            energy += np.sqrt(n[a]*n[b])*C[mu,a]*C[nu,b]*C[kappa,a]*C[lamda,b]*Fouridx[mu%K,nu%K,kappa%K,lamda%K]\n",
    "    for a in  prange(M//2,M):\n",
    "        for b in [b for b in range(M//2,M) if b!=a ]:\n",
    "            for mu in range(0,M):\n",
    "                for nu in range(0,M):\n",
    "                    for kappa in range(0,M):\n",
    "                        for lamda in range(0,M):\n",
    "                            energy += np.sqrt(n[a]*n[b])*C[mu,a]*C[nu,b]*C[kappa,a]*C[lamda,b]*Fouridx[mu%K,nu%K,kappa%K,lamda%K]\n",
    "\n",
    "    \n",
    "\n",
    "    return -1/2.*energy"
   ]
  },
  {
   "cell_type": "code",
   "execution_count": 6,
   "id": "5f6fc5e6-611b-499b-b81c-b73de7758adb",
   "metadata": {},
   "outputs": [],
   "source": [
    "@jit(parallel=True)\n",
    "def ONERDMFT_Mueller_exchange_correlation_energy_parallel(Fouridx, C, n):\n",
    "    energy = 0\n",
    "    M = C.shape[0]\n",
    "    K = Fouridx.shape[0]\n",
    "    for a in  prange(0,M//2):\n",
    "        for b in range(0,M//2):\n",
    "            for mu in range(0,M):\n",
    "                for nu in range(0,M):\n",
    "                    for kappa in range(0,M):\n",
    "                        for lamda in range(0,M):\n",
    "                            energy += np.sqrt(n[a]*n[b])*C[mu,a]*C[nu,b]*C[kappa,a]*C[lamda,b]*Fouridx[mu%K,nu%K,kappa%K,lamda%K]\n",
    "    for a in  prange(M//2,M):\n",
    "        for b in range(M//2,M):\n",
    "            for mu in range(0,M):\n",
    "                for nu in range(0,M):\n",
    "                    for kappa in range(0,M):\n",
    "                        for lamda in range(0,M):\n",
    "                            energy += np.sqrt(n[a]*n[b])*C[mu,a]*C[nu,b]*C[kappa,a]*C[lamda,b]*Fouridx[mu%K,nu%K,kappa%K,lamda%K]\n",
    "\n",
    "\n",
    "    return -1/2.*energy"
   ]
  },
  {
   "cell_type": "code",
   "execution_count": 19,
   "id": "27d82b0a-8036-4bfa-b8bc-856be2b2e887",
   "metadata": {},
   "outputs": [
    {
     "data": {
      "text/plain": [
       "<pyscf.gto.mole.Mole at 0x7c2791c1b040>"
      ]
     },
     "execution_count": 19,
     "metadata": {},
     "output_type": "execute_result"
    }
   ],
   "source": [
    "element = \"He\"\n",
    "mol = gto.Mole()\n",
    "mol.atom = f'''{element}  0 0 0; {element} 0 0 1'''\n",
    "mol.charge = 0\n",
    "mol.spin = 0\n",
    "#mol.basis = 'Sto-3g'\n",
    "mol.basis = \"6-31g\" \n",
    "mol.unit = 'AU'\n",
    "mol.build()"
   ]
  },
  {
   "cell_type": "code",
   "execution_count": 20,
   "id": "8926f162-d851-4848-a946-ed429e2549d1",
   "metadata": {},
   "outputs": [],
   "source": [
    "# get molecuar quantities \n",
    "eri = mol.intor('int2e')\n",
    "S = mol.intor('int1e_ovlp')\n",
    "N_a, N_b = mol.nelec\n",
    "M = eri.shape[0]"
   ]
  },
  {
   "cell_type": "code",
   "execution_count": 21,
   "id": "09dcc628-16ec-42d8-9e1a-6183283548e9",
   "metadata": {},
   "outputs": [],
   "source": [
    "# get fock properties\n",
    "C = hf.mo_coeff\n",
    "h = hf.get_hcore()\n",
    "J = hf.get_j()\n",
    "K = hf.get_k()\n",
    "\n",
    "#print(K.shape)\n",
    "#print(J.shape)"
   ]
  },
  {
   "cell_type": "code",
   "execution_count": 22,
   "id": "e204e066-450a-451c-9a82-018f054e3770",
   "metadata": {},
   "outputs": [
    {
     "name": "stdout",
     "output_type": "stream",
     "text": [
      "converged SCF energy = -4.71484334984407  <S^2> = 5.0937032e-13  2S+1 = 1\n",
      "(4, 4)\n",
      "(2, 4, 4)\n"
     ]
    }
   ],
   "source": [
    "hf = scf.UHF(mol).run()\n",
    "\n",
    "print(hf.get_hcore().shape)\n",
    "print(hf.mo_coeff.shape)"
   ]
  },
  {
   "cell_type": "code",
   "execution_count": 23,
   "id": "5f68bcd5-7378-4d61-bbff-5dd4dca2b9f8",
   "metadata": {},
   "outputs": [],
   "source": [
    "# AO MO transformation of elements of fock operator\n",
    "h1 = expand_matrix(hf.get_hcore())\n",
    "h1[0:M,0:M] = C[0,:,:].T@(h)@(C[0,:,:])\n",
    "h1[M:,M:]  = C[1,:,:].T@(h)@(C[1,:,:])\n",
    "h2 = expand_matrix(hf.get_hcore())\n",
    "h2[0:M,0:M] = C[0,:,:].T@(J[0,:,:])@(C[0,:,:])\n",
    "h2[M:,M:]  = C[1,:,:].T@(K[0,:,:])@(C[1,:,:])\n",
    "\n",
    "#h2 = ao2mo.kernel(mol, hf.mo_coeff)\n",
    "#https://pyscf.org/_modules/pyscf/fci/direct_uhf.html"
   ]
  },
  {
   "cell_type": "code",
   "execution_count": 24,
   "id": "0b6780f9-c3de-4b13-bbed-372df0ab1d16",
   "metadata": {},
   "outputs": [
    {
     "ename": "RuntimeError",
     "evalue": "eri.size = 64, norb = 8",
     "output_type": "error",
     "traceback": [
      "\u001b[0;31m---------------------------------------------------------------------------\u001b[0m",
      "\u001b[0;31mRuntimeError\u001b[0m                              Traceback (most recent call last)",
      "Cell \u001b[0;32mIn[24], line 1\u001b[0m\n\u001b[0;32m----> 1\u001b[0m e, rdms1 \u001b[38;5;241m=\u001b[39m \u001b[43mtools\u001b[49m\u001b[38;5;241;43m.\u001b[39;49m\u001b[43me_rdms\u001b[49m\u001b[43m(\u001b[49m\u001b[43mh1\u001b[49m\u001b[43m,\u001b[49m\u001b[43m \u001b[49m\u001b[43mh2\u001b[49m\u001b[43m,\u001b[49m\u001b[43m \u001b[49m\u001b[43mmol\u001b[49m\u001b[38;5;241;43m.\u001b[39;49m\u001b[43menergy_nuc\u001b[49m\u001b[43m(\u001b[49m\u001b[43m)\u001b[49m\u001b[43m,\u001b[49m\u001b[43m \u001b[49m\u001b[43mmol\u001b[49m\u001b[38;5;241;43m.\u001b[39;49m\u001b[43mnelec\u001b[49m\u001b[43m,\u001b[49m\u001b[43m \u001b[49m\u001b[43mh1\u001b[49m\u001b[38;5;241;43m.\u001b[39;49m\u001b[43mshape\u001b[49m\u001b[43m[\u001b[49m\u001b[38;5;241;43m1\u001b[39;49m\u001b[43m]\u001b[49m\u001b[43m,\u001b[49m\u001b[43m  \u001b[49m\u001b[43mnroots\u001b[49m\u001b[38;5;241;43m=\u001b[39;49m\u001b[38;5;241;43m3\u001b[39;49m\u001b[43m)\u001b[49m \u001b[38;5;66;03m# i presume this gives 1rdms in the basis set of fock orbitals\u001b[39;00m\n",
      "File \u001b[0;32m~/new_venv/QMRDMFT/qmrdmft/tools.py:30\u001b[0m, in \u001b[0;36me_rdms\u001b[0;34m(h, v, ecore, nelec, norbs, nroots)\u001b[0m\n\u001b[1;32m      9\u001b[0m \u001b[38;5;250m\u001b[39m\u001b[38;5;124;03m\"\"\"\u001b[39;00m\n\u001b[1;32m     10\u001b[0m \u001b[38;5;124;03mCalculate the energies and 1-RDM from the given parameters.\u001b[39;00m\n\u001b[1;32m     11\u001b[0m \n\u001b[0;32m   (...)\u001b[0m\n\u001b[1;32m     27\u001b[0m \u001b[38;5;124;03m    Number of roots to calculate\u001b[39;00m\n\u001b[1;32m     28\u001b[0m \u001b[38;5;124;03m\"\"\"\u001b[39;00m\n\u001b[1;32m     29\u001b[0m \u001b[38;5;66;03m# calculate the energies and 1-RDM using pyscf\u001b[39;00m\n\u001b[0;32m---> 30\u001b[0m e_arr, ci_vec \u001b[38;5;241m=\u001b[39m \u001b[43mfci\u001b[49m\u001b[38;5;241;43m.\u001b[39;49m\u001b[43mdirect_spin1\u001b[49m\u001b[38;5;241;43m.\u001b[39;49m\u001b[43mkernel\u001b[49m\u001b[43m(\u001b[49m\u001b[43mh\u001b[49m\u001b[43m,\u001b[49m\u001b[43m \u001b[49m\n\u001b[1;32m     31\u001b[0m \u001b[43m                                    \u001b[49m\u001b[43mv\u001b[49m\u001b[43m,\u001b[49m\u001b[43m \u001b[49m\n\u001b[1;32m     32\u001b[0m \u001b[43m                                    \u001b[49m\u001b[43mnorbs\u001b[49m\u001b[43m,\u001b[49m\u001b[43m \u001b[49m\n\u001b[1;32m     33\u001b[0m \u001b[43m                                    \u001b[49m\u001b[43mnelec\u001b[49m\u001b[43m,\u001b[49m\n\u001b[1;32m     34\u001b[0m \u001b[43m                                    \u001b[49m\u001b[43mecore\u001b[49m\u001b[38;5;241;43m=\u001b[39;49m\u001b[43mecore\u001b[49m\u001b[43m,\u001b[49m\u001b[43m \u001b[49m\n\u001b[1;32m     35\u001b[0m \u001b[43m                                    \u001b[49m\u001b[43mnroots\u001b[49m\u001b[38;5;241;43m=\u001b[39;49m\u001b[43mnroots\u001b[49m\u001b[43m)\u001b[49m\n\u001b[1;32m     36\u001b[0m \u001b[38;5;66;03m# initialize the 1-RDMs list\u001b[39;00m\n\u001b[1;32m     37\u001b[0m rdms1 \u001b[38;5;241m=\u001b[39m []\n",
      "File \u001b[0;32m~/new_venv/lib/python3.10/site-packages/pyscf/fci/direct_spin1.py:257\u001b[0m, in \u001b[0;36mkernel\u001b[0;34m(h1e, eri, norb, nelec, ci0, level_shift, tol, lindep, max_cycle, max_space, nroots, davidson_only, pspace_size, orbsym, wfnsym, ecore, **kwargs)\u001b[0m\n\u001b[1;32m    253\u001b[0m \u001b[38;5;28;01mdef\u001b[39;00m \u001b[38;5;21mkernel\u001b[39m(h1e, eri, norb, nelec, ci0\u001b[38;5;241m=\u001b[39m\u001b[38;5;28;01mNone\u001b[39;00m, level_shift\u001b[38;5;241m=\u001b[39m\u001b[38;5;241m1e-3\u001b[39m, tol\u001b[38;5;241m=\u001b[39m\u001b[38;5;241m1e-10\u001b[39m,\n\u001b[1;32m    254\u001b[0m            lindep\u001b[38;5;241m=\u001b[39m\u001b[38;5;241m1e-14\u001b[39m, max_cycle\u001b[38;5;241m=\u001b[39m\u001b[38;5;241m50\u001b[39m, max_space\u001b[38;5;241m=\u001b[39m\u001b[38;5;241m12\u001b[39m, nroots\u001b[38;5;241m=\u001b[39m\u001b[38;5;241m1\u001b[39m,\n\u001b[1;32m    255\u001b[0m            davidson_only\u001b[38;5;241m=\u001b[39m\u001b[38;5;28;01mFalse\u001b[39;00m, pspace_size\u001b[38;5;241m=\u001b[39m\u001b[38;5;241m400\u001b[39m, orbsym\u001b[38;5;241m=\u001b[39m\u001b[38;5;28;01mNone\u001b[39;00m, wfnsym\u001b[38;5;241m=\u001b[39m\u001b[38;5;28;01mNone\u001b[39;00m,\n\u001b[1;32m    256\u001b[0m            ecore\u001b[38;5;241m=\u001b[39m\u001b[38;5;241m0\u001b[39m, \u001b[38;5;241m*\u001b[39m\u001b[38;5;241m*\u001b[39mkwargs):\n\u001b[0;32m--> 257\u001b[0m     \u001b[38;5;28;01mreturn\u001b[39;00m \u001b[43m_kfactory\u001b[49m\u001b[43m(\u001b[49m\u001b[43mFCISolver\u001b[49m\u001b[43m,\u001b[49m\u001b[43m \u001b[49m\u001b[43mh1e\u001b[49m\u001b[43m,\u001b[49m\u001b[43m \u001b[49m\u001b[43meri\u001b[49m\u001b[43m,\u001b[49m\u001b[43m \u001b[49m\u001b[43mnorb\u001b[49m\u001b[43m,\u001b[49m\u001b[43m \u001b[49m\u001b[43mnelec\u001b[49m\u001b[43m,\u001b[49m\u001b[43m \u001b[49m\u001b[43mci0\u001b[49m\u001b[43m,\u001b[49m\u001b[43m \u001b[49m\u001b[43mlevel_shift\u001b[49m\u001b[43m,\u001b[49m\n\u001b[1;32m    258\u001b[0m \u001b[43m                     \u001b[49m\u001b[43mtol\u001b[49m\u001b[43m,\u001b[49m\u001b[43m \u001b[49m\u001b[43mlindep\u001b[49m\u001b[43m,\u001b[49m\u001b[43m \u001b[49m\u001b[43mmax_cycle\u001b[49m\u001b[43m,\u001b[49m\u001b[43m \u001b[49m\u001b[43mmax_space\u001b[49m\u001b[43m,\u001b[49m\u001b[43m \u001b[49m\u001b[43mnroots\u001b[49m\u001b[43m,\u001b[49m\n\u001b[1;32m    259\u001b[0m \u001b[43m                     \u001b[49m\u001b[43mdavidson_only\u001b[49m\u001b[43m,\u001b[49m\u001b[43m \u001b[49m\u001b[43mpspace_size\u001b[49m\u001b[43m,\u001b[49m\u001b[43m \u001b[49m\u001b[43mecore\u001b[49m\u001b[38;5;241;43m=\u001b[39;49m\u001b[43mecore\u001b[49m\u001b[43m,\u001b[49m\u001b[43m \u001b[49m\u001b[38;5;241;43m*\u001b[39;49m\u001b[38;5;241;43m*\u001b[39;49m\u001b[43mkwargs\u001b[49m\u001b[43m)\u001b[49m\n",
      "File \u001b[0;32m~/new_venv/lib/python3.10/site-packages/pyscf/fci/direct_spin1.py:281\u001b[0m, in \u001b[0;36m_kfactory\u001b[0;34m(Solver, h1e, eri, norb, nelec, ci0, level_shift, tol, lindep, max_cycle, max_space, nroots, davidson_only, pspace_size, ecore, **kwargs)\u001b[0m\n\u001b[1;32m    278\u001b[0m \u001b[38;5;28;01mif\u001b[39;00m unknown:\n\u001b[1;32m    279\u001b[0m     sys\u001b[38;5;241m.\u001b[39mstderr\u001b[38;5;241m.\u001b[39mwrite(\u001b[38;5;124m'\u001b[39m\u001b[38;5;124mUnknown keys \u001b[39m\u001b[38;5;132;01m%s\u001b[39;00m\u001b[38;5;124m for FCI kernel \u001b[39m\u001b[38;5;132;01m%s\u001b[39;00m\u001b[38;5;130;01m\\n\u001b[39;00m\u001b[38;5;124m'\u001b[39m \u001b[38;5;241m%\u001b[39m\n\u001b[1;32m    280\u001b[0m                      (\u001b[38;5;28mstr\u001b[39m(unknown\u001b[38;5;241m.\u001b[39mkeys()), \u001b[38;5;18m__name__\u001b[39m))\n\u001b[0;32m--> 281\u001b[0m e, c \u001b[38;5;241m=\u001b[39m \u001b[43mcis\u001b[49m\u001b[38;5;241;43m.\u001b[39;49m\u001b[43mkernel\u001b[49m\u001b[43m(\u001b[49m\u001b[43mh1e\u001b[49m\u001b[43m,\u001b[49m\u001b[43m \u001b[49m\u001b[43meri\u001b[49m\u001b[43m,\u001b[49m\u001b[43m \u001b[49m\u001b[43mnorb\u001b[49m\u001b[43m,\u001b[49m\u001b[43m \u001b[49m\u001b[43mnelec\u001b[49m\u001b[43m,\u001b[49m\u001b[43m \u001b[49m\u001b[43mci0\u001b[49m\u001b[43m,\u001b[49m\u001b[43m \u001b[49m\u001b[43mecore\u001b[49m\u001b[38;5;241;43m=\u001b[39;49m\u001b[43mecore\u001b[49m\u001b[43m,\u001b[49m\u001b[43m \u001b[49m\u001b[38;5;241;43m*\u001b[39;49m\u001b[38;5;241;43m*\u001b[39;49m\u001b[43munknown\u001b[49m\u001b[43m)\u001b[49m\n\u001b[1;32m    282\u001b[0m \u001b[38;5;28;01mreturn\u001b[39;00m e, c\n",
      "File \u001b[0;32m~/new_venv/lib/python3.10/site-packages/pyscf/fci/direct_spin1.py:842\u001b[0m, in \u001b[0;36mFCIBase.kernel\u001b[0;34m(self, h1e, eri, norb, nelec, ci0, tol, lindep, max_cycle, max_space, nroots, davidson_only, pspace_size, orbsym, wfnsym, ecore, **kwargs)\u001b[0m\n\u001b[1;32m    840\u001b[0m \u001b[38;5;28mself\u001b[39m\u001b[38;5;241m.\u001b[39mnelec \u001b[38;5;241m=\u001b[39m nelec \u001b[38;5;241m=\u001b[39m _unpack_nelec(nelec, \u001b[38;5;28mself\u001b[39m\u001b[38;5;241m.\u001b[39mspin)\n\u001b[1;32m    841\u001b[0m link_index \u001b[38;5;241m=\u001b[39m _unpack(norb, nelec, \u001b[38;5;28;01mNone\u001b[39;00m)\n\u001b[0;32m--> 842\u001b[0m e, c \u001b[38;5;241m=\u001b[39m \u001b[43mkernel_ms1\u001b[49m\u001b[43m(\u001b[49m\u001b[38;5;28;43mself\u001b[39;49m\u001b[43m,\u001b[49m\u001b[43m \u001b[49m\u001b[43mh1e\u001b[49m\u001b[43m,\u001b[49m\u001b[43m \u001b[49m\u001b[43meri\u001b[49m\u001b[43m,\u001b[49m\u001b[43m \u001b[49m\u001b[43mnorb\u001b[49m\u001b[43m,\u001b[49m\u001b[43m \u001b[49m\u001b[43mnelec\u001b[49m\u001b[43m,\u001b[49m\u001b[43m \u001b[49m\u001b[43mci0\u001b[49m\u001b[43m,\u001b[49m\u001b[43m \u001b[49m\u001b[43mlink_index\u001b[49m\u001b[43m,\u001b[49m\n\u001b[1;32m    843\u001b[0m \u001b[43m                  \u001b[49m\u001b[43mtol\u001b[49m\u001b[43m,\u001b[49m\u001b[43m \u001b[49m\u001b[43mlindep\u001b[49m\u001b[43m,\u001b[49m\u001b[43m \u001b[49m\u001b[43mmax_cycle\u001b[49m\u001b[43m,\u001b[49m\u001b[43m \u001b[49m\u001b[43mmax_space\u001b[49m\u001b[43m,\u001b[49m\u001b[43m \u001b[49m\u001b[43mnroots\u001b[49m\u001b[43m,\u001b[49m\n\u001b[1;32m    844\u001b[0m \u001b[43m                  \u001b[49m\u001b[43mdavidson_only\u001b[49m\u001b[43m,\u001b[49m\u001b[43m \u001b[49m\u001b[43mpspace_size\u001b[49m\u001b[43m,\u001b[49m\u001b[43m \u001b[49m\u001b[43mecore\u001b[49m\u001b[38;5;241;43m=\u001b[39;49m\u001b[43mecore\u001b[49m\u001b[43m,\u001b[49m\u001b[43m \u001b[49m\u001b[38;5;241;43m*\u001b[39;49m\u001b[38;5;241;43m*\u001b[39;49m\u001b[43mkwargs\u001b[49m\u001b[43m)\u001b[49m\n\u001b[1;32m    845\u001b[0m \u001b[38;5;28mself\u001b[39m\u001b[38;5;241m.\u001b[39meci \u001b[38;5;241m=\u001b[39m e\n\u001b[1;32m    847\u001b[0m na \u001b[38;5;241m=\u001b[39m link_index[\u001b[38;5;241m0\u001b[39m]\u001b[38;5;241m.\u001b[39mshape[\u001b[38;5;241m0\u001b[39m]\n",
      "File \u001b[0;32m~/new_venv/lib/python3.10/site-packages/pyscf/fci/direct_spin1.py:529\u001b[0m, in \u001b[0;36mkernel_ms1\u001b[0;34m(fci, h1e, eri, norb, nelec, ci0, link_index, tol, lindep, max_cycle, max_space, nroots, davidson_only, pspace_size, hop, max_memory, verbose, ecore, **kwargs)\u001b[0m\n\u001b[1;32m    526\u001b[0m nelec \u001b[38;5;241m=\u001b[39m _unpack_nelec(nelec, fci\u001b[38;5;241m.\u001b[39mspin)\n\u001b[1;32m    527\u001b[0m \u001b[38;5;28;01massert\u001b[39;00m (\u001b[38;5;241m0\u001b[39m \u001b[38;5;241m<\u001b[39m\u001b[38;5;241m=\u001b[39m nelec[\u001b[38;5;241m0\u001b[39m] \u001b[38;5;241m<\u001b[39m\u001b[38;5;241m=\u001b[39m norb \u001b[38;5;129;01mand\u001b[39;00m \u001b[38;5;241m0\u001b[39m \u001b[38;5;241m<\u001b[39m\u001b[38;5;241m=\u001b[39m nelec[\u001b[38;5;241m1\u001b[39m] \u001b[38;5;241m<\u001b[39m\u001b[38;5;241m=\u001b[39m norb)\n\u001b[0;32m--> 529\u001b[0m hdiag \u001b[38;5;241m=\u001b[39m \u001b[43mfci\u001b[49m\u001b[38;5;241;43m.\u001b[39;49m\u001b[43mmake_hdiag\u001b[49m\u001b[43m(\u001b[49m\u001b[43mh1e\u001b[49m\u001b[43m,\u001b[49m\u001b[43m \u001b[49m\u001b[43meri\u001b[49m\u001b[43m,\u001b[49m\u001b[43m \u001b[49m\u001b[43mnorb\u001b[49m\u001b[43m,\u001b[49m\u001b[43m \u001b[49m\u001b[43mnelec\u001b[49m\u001b[43m,\u001b[49m\u001b[43m \u001b[49m\u001b[43mcompress\u001b[49m\u001b[38;5;241;43m=\u001b[39;49m\u001b[38;5;28;43;01mFalse\u001b[39;49;00m\u001b[43m)\u001b[49m\u001b[38;5;241m.\u001b[39mravel()\n\u001b[1;32m    530\u001b[0m num_dets \u001b[38;5;241m=\u001b[39m hdiag\u001b[38;5;241m.\u001b[39msize\n\u001b[1;32m    531\u001b[0m pspace_size \u001b[38;5;241m=\u001b[39m \u001b[38;5;28mmin\u001b[39m(num_dets, pspace_size)\n",
      "File \u001b[0;32m~/new_venv/lib/python3.10/site-packages/pyscf/fci/direct_spin1.py:787\u001b[0m, in \u001b[0;36mFCIBase.make_hdiag\u001b[0;34m(self, h1e, eri, norb, nelec, compress)\u001b[0m\n\u001b[1;32m    784\u001b[0m \u001b[38;5;129m@lib\u001b[39m\u001b[38;5;241m.\u001b[39mwith_doc(make_hdiag\u001b[38;5;241m.\u001b[39m\u001b[38;5;18m__doc__\u001b[39m)\n\u001b[1;32m    785\u001b[0m \u001b[38;5;28;01mdef\u001b[39;00m \u001b[38;5;21mmake_hdiag\u001b[39m(\u001b[38;5;28mself\u001b[39m, h1e, eri, norb, nelec, compress\u001b[38;5;241m=\u001b[39m\u001b[38;5;28;01mFalse\u001b[39;00m):\n\u001b[1;32m    786\u001b[0m     nelec \u001b[38;5;241m=\u001b[39m _unpack_nelec(nelec, \u001b[38;5;28mself\u001b[39m\u001b[38;5;241m.\u001b[39mspin)\n\u001b[0;32m--> 787\u001b[0m     \u001b[38;5;28;01mreturn\u001b[39;00m \u001b[43mmake_hdiag\u001b[49m\u001b[43m(\u001b[49m\u001b[43mh1e\u001b[49m\u001b[43m,\u001b[49m\u001b[43m \u001b[49m\u001b[43meri\u001b[49m\u001b[43m,\u001b[49m\u001b[43m \u001b[49m\u001b[43mnorb\u001b[49m\u001b[43m,\u001b[49m\u001b[43m \u001b[49m\u001b[43mnelec\u001b[49m\u001b[43m,\u001b[49m\u001b[43m \u001b[49m\u001b[43mcompress\u001b[49m\u001b[43m)\u001b[49m\n",
      "File \u001b[0;32m~/new_venv/lib/python3.10/site-packages/pyscf/fci/direct_spin1.py:156\u001b[0m, in \u001b[0;36mmake_hdiag\u001b[0;34m(h1e, eri, norb, nelec, compress)\u001b[0m\n\u001b[1;32m    154\u001b[0m neleca, nelecb \u001b[38;5;241m=\u001b[39m _unpack_nelec(nelec)\n\u001b[1;32m    155\u001b[0m h1e \u001b[38;5;241m=\u001b[39m numpy\u001b[38;5;241m.\u001b[39masarray(h1e, order\u001b[38;5;241m=\u001b[39m\u001b[38;5;124m'\u001b[39m\u001b[38;5;124mC\u001b[39m\u001b[38;5;124m'\u001b[39m)\n\u001b[0;32m--> 156\u001b[0m eri \u001b[38;5;241m=\u001b[39m numpy\u001b[38;5;241m.\u001b[39masarray(\u001b[43mao2mo\u001b[49m\u001b[38;5;241;43m.\u001b[39;49m\u001b[43mrestore\u001b[49m\u001b[43m(\u001b[49m\u001b[38;5;241;43m1\u001b[39;49m\u001b[43m,\u001b[49m\u001b[43m \u001b[49m\u001b[43meri\u001b[49m\u001b[43m,\u001b[49m\u001b[43m \u001b[49m\u001b[43mnorb\u001b[49m\u001b[43m)\u001b[49m, order\u001b[38;5;241m=\u001b[39m\u001b[38;5;124m'\u001b[39m\u001b[38;5;124mC\u001b[39m\u001b[38;5;124m'\u001b[39m)\n\u001b[1;32m    157\u001b[0m occslsta \u001b[38;5;241m=\u001b[39m occslstb \u001b[38;5;241m=\u001b[39m cistring\u001b[38;5;241m.\u001b[39mgen_occslst(\u001b[38;5;28mrange\u001b[39m(norb), neleca)\n\u001b[1;32m    158\u001b[0m \u001b[38;5;28;01mif\u001b[39;00m neleca \u001b[38;5;241m!=\u001b[39m nelecb:\n",
      "File \u001b[0;32m~/new_venv/lib/python3.10/site-packages/pyscf/ao2mo/addons.py:188\u001b[0m, in \u001b[0;36mrestore\u001b[0;34m(symmetry, eri, norb, tao)\u001b[0m\n\u001b[1;32m    185\u001b[0m         \u001b[38;5;28;01mreturn\u001b[39;00m eri\u001b[38;5;241m.\u001b[39mreshape(npair,norb,norb)\n\u001b[1;32m    187\u001b[0m \u001b[38;5;28;01melse\u001b[39;00m:\n\u001b[0;32m--> 188\u001b[0m     \u001b[38;5;28;01mraise\u001b[39;00m \u001b[38;5;167;01mRuntimeError\u001b[39;00m(\u001b[38;5;124m'\u001b[39m\u001b[38;5;124meri.size = \u001b[39m\u001b[38;5;132;01m%d\u001b[39;00m\u001b[38;5;124m, norb = \u001b[39m\u001b[38;5;132;01m%d\u001b[39;00m\u001b[38;5;124m'\u001b[39m \u001b[38;5;241m%\u001b[39m (eri\u001b[38;5;241m.\u001b[39msize, norb))\n",
      "\u001b[0;31mRuntimeError\u001b[0m: eri.size = 64, norb = 8"
     ]
    }
   ],
   "source": [
    "e, rdms1 = tools.e_rdms(h1, h2, mol.energy_nuc(), mol.nelec, h1.shape[1],  nroots=3) # i presume this gives 1rdms in the basis set of fock orbitals\n"
   ]
  },
  {
   "cell_type": "code",
   "execution_count": null,
   "id": "9252dca9-64de-41ab-924f-d3b0d589fa1a",
   "metadata": {},
   "outputs": [],
   "source": [
    "## LFT of Levy Valone\n",
    "\n",
    "eq_cons = {'type': 'eq',\n",
    "           'fun' : lambda x: x[0]-h1[0, 0]}\n",
    "# initializing the calculator\n",
    "calculator = Calculator(h2, rdms1[0].copy(), # two body term and rdm for the ground state\n",
    "                        tools.e_rdms, tools.optimize, 1e-7, # function that calculates (energies, rdms) and optimizer \n",
    "                        ecore=mol.energy_nuc(), norbs=h1.shape[1], nelec=mol.nelec, maximize=True, symmetrize=True, nroots=5) # parameters for the\n",
    "\n",
    "# get the exact value of the objective function\n",
    "L, dL = calculator.calculate_objctv_grdnt(h1)\n",
    "print(\"Exact value of the objective function\", L)\n",
    "\n",
    "# run the optimizer\n",
    "## objectiva function value changes when we add constraint\n",
    "res = calculator.optimize(np.zeros(h1.size), \n",
    "                          method='trust-constr',\n",
    "                          options={\"maxiter\":500, 'disp':False, 'verbose':0, 'gtol':1e-7,},\n",
    "                          constraints=eq_cons)\n",
    "\n",
    "print(\"Print value after optimization: \", res.fun)\n",
    "print(\"Difference:\", res.fun-L)"
   ]
  },
  {
   "cell_type": "code",
   "execution_count": null,
   "id": "c5b0c22b-706f-4baf-bb61-eec9749afc84",
   "metadata": {},
   "outputs": [],
   "source": [
    "FCIoccu, FCInaturalC = np.linalg.eigh(rdms1[0])\n",
    "print(FCIoccu)"
   ]
  },
  {
   "cell_type": "code",
   "execution_count": null,
   "id": "ca9cd15c-979c-425b-a69d-f1163ed2a136",
   "metadata": {},
   "outputs": [],
   "source": []
  }
 ],
 "metadata": {
  "kernelspec": {
   "display_name": "1RDMFT",
   "language": "python",
   "name": "1rdmft"
  },
  "language_info": {
   "codemirror_mode": {
    "name": "ipython",
    "version": 3
   },
   "file_extension": ".py",
   "mimetype": "text/x-python",
   "name": "python",
   "nbconvert_exporter": "python",
   "pygments_lexer": "ipython3",
   "version": "3.12.3"
  }
 },
 "nbformat": 4,
 "nbformat_minor": 5
}
