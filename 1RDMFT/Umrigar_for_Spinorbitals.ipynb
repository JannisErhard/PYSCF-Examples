{
 "cells": [
  {
   "cell_type": "code",
   "execution_count": 1,
   "id": "8f4ae9a1-bf80-4899-8995-801ad4b3f8d9",
   "metadata": {},
   "outputs": [],
   "source": [
    "import numpy as np\n",
    "from pyscf import gto, scf, fci"
   ]
  },
  {
   "cell_type": "code",
   "execution_count": 2,
   "id": "1b6f2808-8d7c-4add-ad1d-f663fbd44f88",
   "metadata": {},
   "outputs": [],
   "source": [
    "def expand_matrix(P):\n",
    "    Paa = P\n",
    "    Pbb = P\n",
    "    Pab = np.zeros(P.shape)\n",
    "    Pba = np.zeros(P.shape)\n",
    "    PE = np.concatenate((np.concatenate((Paa, Pab), axis=1), np.concatenate((Pba, Pbb), axis=1)), axis=0) \n",
    "    return PE"
   ]
  },
  {
   "cell_type": "code",
   "execution_count": 3,
   "id": "cd57f890-8eda-46eb-aead-6652fb17ef0c",
   "metadata": {},
   "outputs": [],
   "source": [
    "# for spinorbitals\n",
    "def ONERDMFT_hartree_energy(Fouridx, C, n):\n",
    "    energy = 0\n",
    "    M = C.shape[0]\n",
    "    K = Fouridx.shape[0]\n",
    "    for a in  range(0,M):\n",
    "        for b in range(0,M):\n",
    "            for mu in range(0,M):\n",
    "                for nu in range(0,M):\n",
    "                    for kappa in range(0,M):\n",
    "                        for lamda in range(0,M):\n",
    "                            energy += n[a]*n[b]*C[mu,a]*C[nu,a]*C[kappa,b]*C[lamda,b]*Fouridx[mu%K,nu%K,kappa%K,lamda%K]\n",
    "\n",
    "    return 1/2.*energy"
   ]
  },
  {
   "cell_type": "code",
   "execution_count": 4,
   "id": "ac1d1987-a781-463a-84c2-eaad1abfc224",
   "metadata": {},
   "outputs": [],
   "source": [
    "# for spinorbitals\n",
    "def ONERDMFT_Umrigar_hartree_energy(Fouridx, C, n):\n",
    "    energy = 0\n",
    "    M = C.shape[0]\n",
    "    K = Fouridx.shape[0]\n",
    "    for a in  range(0,M):\n",
    "        for b in range(0,M):\n",
    "            if not(a == b):\n",
    "                for mu in range(0,M):\n",
    "                    for nu in range(0,M):\n",
    "                        for kappa in range(0,M):\n",
    "                            for lamda in range(0,M):\n",
    "                                energy += n[a]*n[b]*C[mu,a]*C[nu,a]*C[kappa,b]*C[lamda,b]*Fouridx[mu%K,nu%K,kappa%K,lamda%K]\n",
    "\n",
    "    return 1/2.*energy"
   ]
  },
  {
   "cell_type": "code",
   "execution_count": 5,
   "id": "7b0bf6e8-d437-4def-8d9b-08adb3e52f2f",
   "metadata": {},
   "outputs": [],
   "source": [
    "# for spinorbitals, I can only simulate orthogonality by excluding \\alpha \\beta, \\beta \\alpha from the sum since I know the first set of M are alpha and the second set of M are beta\n",
    "def ONERDMFT_Umrigar_exchange_corelation_energy(Fouridx, C, n):\n",
    "    energy = 0\n",
    "    M = C.shape[0]\n",
    "    K = Fouridx.shape[0]\n",
    "    for a in  range(0,M//2):\n",
    "        for b in range(0,M//2):\n",
    "            if not(a == b):\n",
    "                for mu in range(0,M):\n",
    "                    for nu in range(0,M):\n",
    "                        for kappa in range(0,M):\n",
    "                            for lamda in range(0,M):\n",
    "                                energy += np.sqrt(n[a]*n[b])*C[mu,a]*C[nu,b]*C[kappa,a]*C[lamda,b]*Fouridx[mu%K,nu%K,kappa%K,lamda%K]\n",
    "    for a in  range(M//2,M):\n",
    "        for b in range(M//2,M):\n",
    "            if not(a == b):\n",
    "                for mu in range(0,M):\n",
    "                    for nu in range(0,M):\n",
    "                        for kappa in range(0,M):\n",
    "                            for lamda in range(0,M):\n",
    "                                energy += np.sqrt(n[a]*n[b])*C[mu,a]*C[nu,b]*C[kappa,a]*C[lamda,b]*Fouridx[mu%K,nu%K,kappa%K,lamda%K]\n",
    "\n",
    "\n",
    "    return -1/2.*energy"
   ]
  },
  {
   "cell_type": "code",
   "execution_count": 6,
   "id": "4d6a4872-33a9-4fa9-9516-25beaf1fe536",
   "metadata": {},
   "outputs": [],
   "source": [
    "# for spinorbitals, I can only simulate orthogonality by excluding \\alpha \\beta, \\beta \\alpha from the sum since I know the first set of M are alpha and the second set of M are beta\n",
    "def ONERDMFT_exchange_energy(Fouridx, C, n):\n",
    "    energy = 0\n",
    "    M = C.shape[0]\n",
    "    K = Fouridx.shape[0]\n",
    "    for a in  range(0,M//2):\n",
    "        for b in range(0,M//2):\n",
    "            for mu in range(0,M):\n",
    "                for nu in range(0,M):\n",
    "                    for kappa in range(0,M):\n",
    "                        for lamda in range(0,M):\n",
    "                            energy += n[a]*n[b]*C[mu,a]*C[nu,b]*C[kappa,a]*C[lamda,b]*Fouridx[mu%K,nu%K,kappa%K,lamda%K]\n",
    "    for a in  range(M//2,M):\n",
    "        for b in range(M//2,M):\n",
    "            for mu in range(0,M):\n",
    "                for nu in range(0,M):\n",
    "                    for kappa in range(0,M):\n",
    "                        for lamda in range(0,M):\n",
    "                            energy += n[a]*n[b]*C[mu,a]*C[nu,b]*C[kappa,a]*C[lamda,b]*Fouridx[mu%K,nu%K,kappa%K,lamda%K]\n",
    "\n",
    "\n",
    "    return -1/2.*energy"
   ]
  },
  {
   "cell_type": "code",
   "execution_count": 7,
   "id": "528a883c-f7a1-4f39-875a-335494de1ac2",
   "metadata": {},
   "outputs": [
    {
     "name": "stdout",
     "output_type": "stream",
     "text": [
      "(9, 9, 9, 9)\n",
      "converged SCF energy = -14.5667640335096\n"
     ]
    }
   ],
   "source": [
    "mol = gto.Mole()\n",
    "mol.atom = \"\"\"\n",
    "    Be    0.    0.    0.\n",
    "\"\"\"\n",
    "# this basis has 2 functions for Helium\n",
    "mol.basis = \"6-31g\" \n",
    "#mol.basis = \"ccpvdz\"\n",
    "#mol.basis = \"sto-6g\"\n",
    "mol.build()\n",
    "\n",
    "# the 2 electron integrals \\langle \\mu \\nu | \\kappa \\lambda \\rangle have M^4 entries\n",
    "eri = mol.intor('int2e')\n",
    "S = mol.intor('int1e_ovlp')\n",
    "\n",
    "print(eri.shape)\n",
    "\n",
    "## Run Hartree-Fock.\n",
    "mf = scf.RHF(mol)\n",
    "mf.kernel()\n",
    "\n",
    "C = mf.mo_coeff\n",
    "h = mf.get_hcore()\n",
    "\n",
    "N = mol.nelec[0]\n",
    "P=np.matmul(C[:,0:N],C[:,0:N].T)\n",
    "\n",
    "gamma = np.matmul(np.matmul(C.T,np.matmul(np.matmul(S,P),S)), C)\n",
    "occu, naturalC = np.linalg.eigh(gamma)"
   ]
  },
  {
   "cell_type": "code",
   "execution_count": 8,
   "id": "e2502b35-6e28-4fe5-a2a0-15d2fc871292",
   "metadata": {},
   "outputs": [],
   "source": [
    "# need to first make gamma and then expand into blockdiagonal so \"fake\" alpha and \"beta\" are seperated in this fashion\n",
    "CE = expand_matrix(C)\n",
    "gamma = np.matmul(np.matmul(C.T,np.matmul(np.matmul(S,P),S)), C)\n",
    "occu_aa, naturalC_aa = np.linalg.eigh(gamma)\n",
    "occu = np.append(occu_aa, occu_aa)\n",
    "naturalCE = expand_matrix(naturalC_aa)\n",
    "naturalCTT = np.matmul(CE,naturalCE)"
   ]
  },
  {
   "cell_type": "code",
   "execution_count": 25,
   "id": "65fe1654-68cf-4e85-83f4-f939521a7f8a",
   "metadata": {},
   "outputs": [
    {
     "name": "stdout",
     "output_type": "stream",
     "text": [
      "[0. 0. 0. 0. 0. 0. 0. 1. 1. 0. 0. 0. 0. 0. 0. 0. 1. 1.]\n"
     ]
    }
   ],
   "source": [
    "for i, n  in enumerate(occu):\n",
    "    if n < 0:\n",
    "        occu[i] = 0 \n",
    "print(occu)"
   ]
  },
  {
   "cell_type": "code",
   "execution_count": 23,
   "id": "a531df7a-13d8-4e7b-b5ae-7ffb23d62797",
   "metadata": {},
   "outputs": [
    {
     "name": "stdout",
     "output_type": "stream",
     "text": [
      "Based on expanded HF density matrix:\n",
      " Hartree Energy: 7.23294633837142\n",
      "Exchange Energy: -2.6825540878306247\n",
      " Hartree + Exchange 4.550392250540796 \n",
      " Umrigar\n",
      "Hartree: 4.698658560895182\n",
      " Umrigar Exchangecorrelation: -0.14826631035439877\n",
      "  Umrigar Hartree + Exchangecorrelation: 4.550392250540783\n"
     ]
    }
   ],
   "source": [
    "#print(naturalCTT)\n",
    "E_H = ONERDMFT_hartree_energy(eri, naturalCTT, occu)\n",
    "E_U = ONERDMFT_Umrigar_hartree_energy(eri, naturalCTT, occu)\n",
    "E_x = ONERDMFT_exchange_energy(eri, naturalCTT, occu)\n",
    "E_xc = ONERDMFT_Umrigar_exchange_corelation_energy(eri, naturalCTT, occu)\n",
    "print(f\"Based on expanded HF density matrix:\\n Hartree Energy: {E_H}\")\n",
    "print(f\"Exchange Energy: {E_x}\\n Hartree + Exchange {E_H+E_x}\")\n",
    "print(f\" Umrigar Hartree: {E_U}\\n Umrigar Exchangecorrelation: {E_xc}\\n  Umrigar Hartree + Exchangecorrelation: {E_U + E_xc}\")"
   ]
  },
  {
   "cell_type": "code",
   "execution_count": 11,
   "id": "de0a3be8-14db-4694-917f-a372cc4fa392",
   "metadata": {},
   "outputs": [],
   "source": [
    "FCI = True\n",
    "if FCI:\n",
    "    fs = fci.FCI(mol, mf.mo_coeff)\n",
    "    e, ci = fs.kernel(verbose=0)\n",
    "FCIgamma = fci.direct_spin1.make_rdm1(ci, mf.mo_coeff.shape[0], mol.nelec)\n",
    "FCIgamma = FCIgamma/2.0\n",
    "FCIoccu, FCInaturalC = np.linalg.eigh(FCIgamma)\n",
    "FCInaturalCTT = np.matmul(C,FCInaturalC)\n",
    "FCInaturalCTTE = expand_matrix(FCInaturalCTT)\n",
    "FCIoccuE = np.append(FCIoccu,FCIoccu)\n",
    "#print(FCInaturalCTTE)"
   ]
  },
  {
   "cell_type": "code",
   "execution_count": 24,
   "id": "c00c1113-d34c-4be8-9f38-11ff02eaf570",
   "metadata": {},
   "outputs": [
    {
     "name": "stdout",
     "output_type": "stream",
     "text": [
      "[2.19023303e-05 2.19030313e-05 2.19037004e-05 1.01393176e-03\n",
      " 3.28327641e-02 3.28328321e-02 3.28329282e-02 9.00486971e-01\n",
      " 9.99934864e-01]\n"
     ]
    }
   ],
   "source": [
    "print(FCIoccu)"
   ]
  },
  {
   "cell_type": "code",
   "execution_count": 12,
   "id": "6b83dde1-f0b1-49c7-94ec-98cec4d2f449",
   "metadata": {},
   "outputs": [
    {
     "name": "stdout",
     "output_type": "stream",
     "text": [
      "E_FCI -14.613545269594093 E_HF -14.566764033509628 E_c -0.04678123608446505\n"
     ]
    }
   ],
   "source": [
    "print(f\"E_FCI {e} E_HF {mf.e_tot} E_c {e-mf.e_tot}\")"
   ]
  },
  {
   "cell_type": "code",
   "execution_count": 13,
   "id": "a1b23c7b-d1c3-4a4d-b642-3b2f31aa77c8",
   "metadata": {},
   "outputs": [
    {
     "name": "stdout",
     "output_type": "stream",
     "text": [
      "Based on expanded FCI density matrix:\n",
      " Hartree Energy: 7.267142831697578\n",
      " Exchange Energy:-2.6330007671336277\n",
      " Umrigar Hartree: 4.694238455285422\n",
      " Umrigar Exchangecorrelation: -0.14907389348298758\n"
     ]
    }
   ],
   "source": [
    "E_H = ONERDMFT_hartree_energy(eri, FCInaturalCTTE, FCIoccuE)\n",
    "E_U = ONERDMFT_Umrigar_hartree_energy(eri, FCInaturalCTTE, FCIoccuE)\n",
    "E_x = ONERDMFT_exchange_energy(eri, FCInaturalCTTE, FCIoccuE)\n",
    "E_xc = ONERDMFT_Umrigar_exchange_corelation_energy(eri, FCInaturalCTTE, FCIoccuE)\n",
    "print(f\"Based on expanded FCI density matrix:\\n Hartree Energy: {E_H}\\n Exchange Energy:{E_x}\\n Umrigar Hartree: {E_U}\\n Umrigar Exchangecorrelation: {E_xc}\")"
   ]
  },
  {
   "cell_type": "code",
   "execution_count": 22,
   "id": "27e6e9bd-028d-43b2-a8d7-832ce481278c",
   "metadata": {},
   "outputs": [
    {
     "data": {
      "text/plain": [
       "-14.572862309624027"
      ]
     },
     "execution_count": 22,
     "metadata": {},
     "output_type": "execute_result"
    }
   ],
   "source": [
    "h = mf.get_hcore()\n",
    "2*np.trace(np.matmul(h,np.matmul(C, np.matmul(FCIgamma,C.T))))+E_U+E_xc"
   ]
  },
  {
   "cell_type": "code",
   "execution_count": 21,
   "id": "b3ab65b7-ad68-4e3f-94e1-299a7cd673e7",
   "metadata": {},
   "outputs": [
    {
     "name": "stdout",
     "output_type": "stream",
     "text": [
      "-9.558578142025207\n",
      "-9.559013435713231\n"
     ]
    }
   ],
   "source": [
    "print(np.trace(np.matmul(h,P)))\n",
    "print(np.trace(np.matmul(h,np.matmul(C, np.matmul(FCIgamma,C.T)))))"
   ]
  },
  {
   "cell_type": "code",
   "execution_count": null,
   "id": "04b10b98-7ebc-476e-ae10-5e4b6e19e52c",
   "metadata": {},
   "outputs": [],
   "source": []
  }
 ],
 "metadata": {
  "kernelspec": {
   "display_name": "Python 3 (ipykernel)",
   "language": "python",
   "name": "python3"
  },
  "language_info": {
   "codemirror_mode": {
    "name": "ipython",
    "version": 3
   },
   "file_extension": ".py",
   "mimetype": "text/x-python",
   "name": "python",
   "nbconvert_exporter": "python",
   "pygments_lexer": "ipython3",
   "version": "3.10.12"
  }
 },
 "nbformat": 4,
 "nbformat_minor": 5
}
