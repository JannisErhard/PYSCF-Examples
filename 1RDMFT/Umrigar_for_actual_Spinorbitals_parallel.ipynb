{
 "cells": [
  {
   "cell_type": "code",
   "execution_count": 1,
   "id": "8f4ae9a1-bf80-4899-8995-801ad4b3f8d9",
   "metadata": {},
   "outputs": [],
   "source": [
    "import numpy as np\n",
    "from pyscf import gto, scf, fci\n",
    "from multiprocessing.pool import Pool\n",
    "from numba import prange, jit, njit\n",
    "#from numba.openmp import openmp_context as openmp"
   ]
  },
  {
   "cell_type": "code",
   "execution_count": 2,
   "id": "1b6f2808-8d7c-4add-ad1d-f663fbd44f88",
   "metadata": {},
   "outputs": [],
   "source": [
    "def expand_matrix(P):\n",
    "    Paa = P\n",
    "    Pbb = P\n",
    "    Pab = np.zeros(P.shape)\n",
    "    Pba = np.zeros(P.shape)\n",
    "    PE = np.concatenate((np.concatenate((Paa, Pab), axis=1), np.concatenate((Pba, Pbb), axis=1)), axis=0) \n",
    "    return PE"
   ]
  },
  {
   "cell_type": "code",
   "execution_count": 3,
   "id": "c36640b3-9299-4c03-a16a-827d622533f1",
   "metadata": {},
   "outputs": [],
   "source": [
    "# for jit and prange\n",
    "@jit(nopython=True, parallel=True)\n",
    "def ONERDMFT_hartree_energy_parallel(Fouridx, C, n):\n",
    "    energy = 0\n",
    "    M = C.shape[0]\n",
    "    K = Fouridx.shape[0]\n",
    "    for a in  prange(0,M):\n",
    "        for b in range(0,M):\n",
    "            for mu in range(0,M):\n",
    "                for nu in range(0,M):\n",
    "                    for kappa in range(0,M):\n",
    "                        for lamda in range(0,M):\n",
    "                            energy += n[a]*n[b]*C[mu,a]*C[nu,a]*C[kappa,b]*C[lamda,b]*Fouridx[mu%K,nu%K,kappa%K,lamda%K]\n",
    "\n",
    "    return 1/2.*energy"
   ]
  },
  {
   "cell_type": "code",
   "execution_count": 4,
   "id": "7957f487-a927-49af-89f2-b5403c7c6a61",
   "metadata": {},
   "outputs": [],
   "source": [
    "# for spinorbitals\n",
    "@jit(nopython=True, parallel=True)\n",
    "def ONERDMFT_Umrigar_hartree_energy_parallel(Fouridx, C, n):\n",
    "    energy = 0\n",
    "    M = C.shape[0]\n",
    "    K = Fouridx.shape[0]\n",
    "    for a in  prange(0,M):\n",
    "        for b in [b for b in range(0,M) if b!=a ]:\n",
    "            for mu in range(0,M):\n",
    "                for nu in range(0,M):\n",
    "                    for kappa in range(0,M):\n",
    "                        for lamda in range(0,M):\n",
    "                            energy += n[a]*n[b]*C[mu,a]*C[nu,a]*C[kappa,b]*C[lamda,b]*Fouridx[mu%K,nu%K,kappa%K,lamda%K]\n",
    "\n",
    "    return 1/2.*energy\n",
    "#                if not(a == b):\n"
   ]
  },
  {
   "cell_type": "code",
   "execution_count": 5,
   "id": "0630de8c-2c97-4488-99a0-6165016a11ab",
   "metadata": {},
   "outputs": [],
   "source": [
    "@jit(nopython=True, parallel=True)\n",
    "def ONERDMFT_Umrigar_exchange_correlation_energy_parallel(Fouridx, C, n):\n",
    "    energy = 0\n",
    "    M = C.shape[0]\n",
    "    K = Fouridx.shape[0]\n",
    "    for a in  prange(0,M//2):\n",
    "        for b in [b for b in range(0,M//2) if b!=a ]:\n",
    "            for mu in range(0,M):\n",
    "                for nu in range(0,M):\n",
    "                    for kappa in range(0,M):\n",
    "                        for lamda in range(0,M):\n",
    "                            energy += np.sqrt(n[a]*n[b])*C[mu,a]*C[nu,b]*C[kappa,a]*C[lamda,b]*Fouridx[mu%K,nu%K,kappa%K,lamda%K]\n",
    "    for a in  prange(M//2,M):\n",
    "        for b in [b for b in range(M//2,M) if b!=a ]:\n",
    "            for mu in range(0,M):\n",
    "                for nu in range(0,M):\n",
    "                    for kappa in range(0,M):\n",
    "                        for lamda in range(0,M):\n",
    "                            energy += np.sqrt(n[a]*n[b])*C[mu,a]*C[nu,b]*C[kappa,a]*C[lamda,b]*Fouridx[mu%K,nu%K,kappa%K,lamda%K]\n",
    "\n",
    "    \n",
    "\n",
    "    return -1/2.*energy"
   ]
  },
  {
   "cell_type": "code",
   "execution_count": 6,
   "id": "399a1e51-cdf5-40c4-9ca1-377ad20aabe7",
   "metadata": {},
   "outputs": [],
   "source": [
    "@jit(parallel=True)\n",
    "def ONERDMFT_exchange_energy_parallel(Fouridx, C, n):\n",
    "    energy = 0\n",
    "    M = C.shape[0]\n",
    "    K = Fouridx.shape[0]\n",
    "    for a in  prange(0,M//2):\n",
    "        for b in range(0,M//2):\n",
    "            for mu in range(0,M):\n",
    "                for nu in range(0,M):\n",
    "                    for kappa in range(0,M):\n",
    "                        for lamda in range(0,M):\n",
    "                            energy += n[a]*n[b]*C[mu,a]*C[nu,b]*C[kappa,a]*C[lamda,b]*Fouridx[mu%K,nu%K,kappa%K,lamda%K]\n",
    "    for a in  prange(M//2,M):\n",
    "        for b in range(M//2,M):\n",
    "            for mu in range(0,M):\n",
    "                for nu in range(0,M):\n",
    "                    for kappa in range(0,M):\n",
    "                        for lamda in range(0,M):\n",
    "                            energy += n[a]*n[b]*C[mu,a]*C[nu,b]*C[kappa,a]*C[lamda,b]*Fouridx[mu%K,nu%K,kappa%K,lamda%K]\n",
    "\n",
    "\n",
    "    return -1/2.*energy"
   ]
  },
  {
   "cell_type": "code",
   "execution_count": 7,
   "id": "e1e416ae-0177-4362-96b3-c8e746ff9ab6",
   "metadata": {},
   "outputs": [],
   "source": [
    "@jit(parallel=True)\n",
    "def ONERDMFT_Mueller_exchange_correlation_energy_parallel(Fouridx, C, n):\n",
    "    energy = 0\n",
    "    M = C.shape[0]\n",
    "    K = Fouridx.shape[0]\n",
    "    for a in  prange(0,M//2):\n",
    "        for b in range(0,M//2):\n",
    "            for mu in range(0,M):\n",
    "                for nu in range(0,M):\n",
    "                    for kappa in range(0,M):\n",
    "                        for lamda in range(0,M):\n",
    "                            energy += np.sqrt(n[a]*n[b])*C[mu,a]*C[nu,b]*C[kappa,a]*C[lamda,b]*Fouridx[mu%K,nu%K,kappa%K,lamda%K]\n",
    "    for a in  prange(M//2,M):\n",
    "        for b in range(M//2,M):\n",
    "            for mu in range(0,M):\n",
    "                for nu in range(0,M):\n",
    "                    for kappa in range(0,M):\n",
    "                        for lamda in range(0,M):\n",
    "                            energy += np.sqrt(n[a]*n[b])*C[mu,a]*C[nu,b]*C[kappa,a]*C[lamda,b]*Fouridx[mu%K,nu%K,kappa%K,lamda%K]\n",
    "\n",
    "\n",
    "    return -1/2.*energy"
   ]
  },
  {
   "cell_type": "code",
   "execution_count": 8,
   "id": "528a883c-f7a1-4f39-875a-335494de1ac2",
   "metadata": {},
   "outputs": [
    {
     "name": "stdout",
     "output_type": "stream",
     "text": [
      "(14, 14, 14, 14)\n",
      "converged SCF energy = -7.43242052759577  <S^2> = 0.75000054  2S+1 = 2.0000005\n"
     ]
    },
    {
     "data": {
      "text/plain": [
       "-7.432420527595772"
      ]
     },
     "execution_count": 8,
     "metadata": {},
     "output_type": "execute_result"
    }
   ],
   "source": [
    "mol = gto.Mole()\n",
    "mol.atom = \"\"\"\n",
    "    Li    0.    0.    0.\n",
    "\"\"\"\n",
    "# this basis has 2 functions for Helium\n",
    "#mol.basis = \"6-31g\" \n",
    "mol.basis = \"ccpvdz\"\n",
    "#mol.basis = \"sto-6g\"\n",
    "mol.spin=1\n",
    "mol.build()\n",
    "\n",
    "# the 2 electron integrals \\langle \\mu \\nu | \\kappa \\lambda \\rangle have M^4 entries\n",
    "eri = mol.intor('int2e')\n",
    "S = mol.intor('int1e_ovlp')\n",
    "\n",
    "print(eri.shape)\n",
    "\n",
    "## Run Hartree-Fock.\n",
    "mf = scf.UHF(mol)\n",
    "mf.kernel()\n",
    "\n"
   ]
  },
  {
   "cell_type": "code",
   "execution_count": 9,
   "id": "cfcf1893-ea3e-45f3-81be-1a3e4e290554",
   "metadata": {},
   "outputs": [
    {
     "name": "stdout",
     "output_type": "stream",
     "text": [
      "(2, 14, 14)\n"
     ]
    }
   ],
   "source": [
    "C = mf.mo_coeff\n",
    "h = mf.get_hcore()\n",
    "N = mol.nelec[0]\n",
    "M = eri.shape[0]\n",
    "print(C.shape)\n",
    "\n",
    "\n",
    "P=np.matmul(C[0,:,0:N],C[0,:,0:N].T)\n",
    "\n",
    "\n"
   ]
  },
  {
   "cell_type": "code",
   "execution_count": 10,
   "id": "62151e87-7cd7-4b2d-b907-ff8099076a96",
   "metadata": {},
   "outputs": [
    {
     "name": "stdout",
     "output_type": "stream",
     "text": [
      "(2, 14, 14)\n"
     ]
    }
   ],
   "source": [
    "P = mf.make_rdm1()\n",
    "print(P.shape)"
   ]
  },
  {
   "cell_type": "code",
   "execution_count": 11,
   "id": "41adf3d8-0f2f-42f4-b53a-a07c613cc09e",
   "metadata": {},
   "outputs": [],
   "source": [
    "P_aa = P[0,:,:]\n",
    "P_bb = P[1,:,:]"
   ]
  },
  {
   "cell_type": "code",
   "execution_count": 12,
   "id": "511b2c49-8274-4ebc-a655-3e6d3cb118dc",
   "metadata": {},
   "outputs": [],
   "source": [
    "gamma, occu, naturalC = {},{},{}\n",
    "for i, name in enumerate(['alpha', 'beta']):\n",
    "    gamma[name] = np.matmul(np.matmul(C[i,:,:].T,np.matmul(np.matmul(S,P[i,:,:]),S)), C[i,:,:])\n",
    "    occu[name], naturalC[name] = np.linalg.eigh(gamma[name])"
   ]
  },
  {
   "cell_type": "code",
   "execution_count": 13,
   "id": "e2502b35-6e28-4fe5-a2a0-15d2fc871292",
   "metadata": {},
   "outputs": [
    {
     "name": "stdout",
     "output_type": "stream",
     "text": [
      "(28, 28) (14, 14) 2 14 14\n"
     ]
    }
   ],
   "source": [
    "# need to first make gamma and then expand into blockdiagonal so \"fake\" alpha and \"beta\" are seperated in this fashion\n",
    "CE = expand_matrix(C[0,:,:])\n",
    "print(CE.shape, C[1,:,:].shape,N,M,M)\n",
    "CE[M:,M:]=C[1,:,:]\n",
    "occu = np.append(occu['alpha'], occu['beta'])\n",
    "naturalCE = expand_matrix(naturalC['alpha'])\n",
    "naturalCE[M:,M:] = naturalC['beta']\n",
    "naturalCTT = np.matmul(CE,naturalCE)"
   ]
  },
  {
   "cell_type": "code",
   "execution_count": 14,
   "id": "65fe1654-68cf-4e85-83f4-f939521a7f8a",
   "metadata": {},
   "outputs": [
    {
     "name": "stdout",
     "output_type": "stream",
     "text": [
      "[0.00000000e+000 0.00000000e+000 0.00000000e+000 0.00000000e+000\n",
      " 0.00000000e+000 0.00000000e+000 1.08652963e-128 1.10953210e-112\n",
      " 1.09323323e-107 1.37128917e-107 2.12899330e-066 2.29525600e-016\n",
      " 1.00000000e+000 1.00000000e+000 0.00000000e+000 0.00000000e+000\n",
      " 0.00000000e+000 0.00000000e+000 0.00000000e+000 0.00000000e+000\n",
      " 0.00000000e+000 1.39654291e-128 1.08334684e-111 9.69891069e-069\n",
      " 1.13873144e-065 7.91357354e-051 4.07434703e-018 1.00000000e+000]\n"
     ]
    }
   ],
   "source": [
    "for i, n  in enumerate(occu):\n",
    "    if n < 0:\n",
    "        occu[i] = 0 \n",
    "print(occu)"
   ]
  },
  {
   "cell_type": "code",
   "execution_count": 15,
   "id": "a531df7a-13d8-4e7b-b5ae-7ffb23d62797",
   "metadata": {},
   "outputs": [
    {
     "name": "stdout",
     "output_type": "stream",
     "text": [
      "Based on expanded HF density matrix:\n",
      "Hartree Energy: 4.062317329440047\n",
      "Exchange Energy: -1.7812507967560527\n",
      "Hartree + Exchange 2.2810665326839943\n",
      "Umrigar Hartree: 2.2950598939116427\n",
      "Umrigar Exchangecorrelation: -0.013993361746237876\n",
      "Umrigar Hartree + Exchangecorrelation: 2.2810665321654047\n"
     ]
    }
   ],
   "source": [
    "#print(naturalCTT)\n",
    "E_H = ONERDMFT_hartree_energy_parallel(eri, naturalCTT, occu)\n",
    "E_U = ONERDMFT_Umrigar_hartree_energy_parallel(eri, naturalCTT, occu)\n",
    "E_x = ONERDMFT_exchange_energy_parallel(eri, naturalCTT, occu)\n",
    "E_xc = ONERDMFT_Umrigar_exchange_correlation_energy_parallel(eri, naturalCTT, occu)\n",
    "print(f\"Based on expanded HF density matrix:\\nHartree Energy: {E_H}\")\n",
    "print(f\"Exchange Energy: {E_x}\\nHartree + Exchange {E_H+E_x}\")\n",
    "print(f\"Umrigar Hartree: {E_U}\\nUmrigar Exchangecorrelation: {E_xc}\\nUmrigar Hartree + Exchangecorrelation: {E_U + E_xc}\")"
   ]
  },
  {
   "cell_type": "code",
   "execution_count": 16,
   "id": "de0a3be8-14db-4694-917f-a372cc4fa392",
   "metadata": {},
   "outputs": [
    {
     "ename": "AssertionError",
     "evalue": "1274 1 2",
     "output_type": "error",
     "traceback": [
      "\u001b[0;31m---------------------------------------------------------------------------\u001b[0m",
      "\u001b[0;31mAssertionError\u001b[0m                            Traceback (most recent call last)",
      "\u001b[0;32m/tmp/ipykernel_624567/3701850011.py\u001b[0m in \u001b[0;36m<module>\u001b[0;34m\u001b[0m\n\u001b[1;32m      3\u001b[0m     \u001b[0mfs\u001b[0m \u001b[0;34m=\u001b[0m \u001b[0mfci\u001b[0m\u001b[0;34m.\u001b[0m\u001b[0mFCI\u001b[0m\u001b[0;34m(\u001b[0m\u001b[0mmol\u001b[0m\u001b[0;34m,\u001b[0m \u001b[0mmf\u001b[0m\u001b[0;34m.\u001b[0m\u001b[0mmo_coeff\u001b[0m\u001b[0;34m)\u001b[0m\u001b[0;34m\u001b[0m\u001b[0;34m\u001b[0m\u001b[0m\n\u001b[1;32m      4\u001b[0m     \u001b[0me\u001b[0m\u001b[0;34m,\u001b[0m \u001b[0mci\u001b[0m \u001b[0;34m=\u001b[0m \u001b[0mfs\u001b[0m\u001b[0;34m.\u001b[0m\u001b[0mkernel\u001b[0m\u001b[0;34m(\u001b[0m\u001b[0mverbose\u001b[0m\u001b[0;34m=\u001b[0m\u001b[0;36m0\u001b[0m\u001b[0;34m)\u001b[0m\u001b[0;34m\u001b[0m\u001b[0;34m\u001b[0m\u001b[0m\n\u001b[0;32m----> 5\u001b[0;31m \u001b[0mFCIgamma\u001b[0m \u001b[0;34m=\u001b[0m \u001b[0mfci\u001b[0m\u001b[0;34m.\u001b[0m\u001b[0mdirect_spin1\u001b[0m\u001b[0;34m.\u001b[0m\u001b[0mmake_rdm1\u001b[0m\u001b[0;34m(\u001b[0m\u001b[0mci\u001b[0m\u001b[0;34m,\u001b[0m \u001b[0mmf\u001b[0m\u001b[0;34m.\u001b[0m\u001b[0mmo_coeff\u001b[0m\u001b[0;34m.\u001b[0m\u001b[0mshape\u001b[0m\u001b[0;34m[\u001b[0m\u001b[0;36m0\u001b[0m\u001b[0;34m]\u001b[0m\u001b[0;34m,\u001b[0m \u001b[0mmol\u001b[0m\u001b[0;34m.\u001b[0m\u001b[0mnelec\u001b[0m\u001b[0;34m)\u001b[0m\u001b[0;34m\u001b[0m\u001b[0;34m\u001b[0m\u001b[0m\n\u001b[0m\u001b[1;32m      6\u001b[0m \u001b[0mFCIgamma\u001b[0m \u001b[0;34m=\u001b[0m \u001b[0mFCIgamma\u001b[0m\u001b[0;34m/\u001b[0m\u001b[0;36m2.0\u001b[0m\u001b[0;34m\u001b[0m\u001b[0;34m\u001b[0m\u001b[0m\n\u001b[1;32m      7\u001b[0m \u001b[0mFCIoccu\u001b[0m\u001b[0;34m,\u001b[0m \u001b[0mFCInaturalC\u001b[0m \u001b[0;34m=\u001b[0m \u001b[0mnp\u001b[0m\u001b[0;34m.\u001b[0m\u001b[0mlinalg\u001b[0m\u001b[0;34m.\u001b[0m\u001b[0meigh\u001b[0m\u001b[0;34m(\u001b[0m\u001b[0mFCIgamma\u001b[0m\u001b[0;34m)\u001b[0m\u001b[0;34m\u001b[0m\u001b[0;34m\u001b[0m\u001b[0m\n",
      "\u001b[0;32m~/.local/lib/python3.10/site-packages/pyscf/fci/direct_spin1.py\u001b[0m in \u001b[0;36mmake_rdm1\u001b[0;34m(fcivec, norb, nelec, link_index)\u001b[0m\n\u001b[1;32m    320\u001b[0m     \u001b[0mE\u001b[0m \u001b[0;34m=\u001b[0m \u001b[0meinsum\u001b[0m\u001b[0;34m(\u001b[0m\u001b[0;34m'pq,qp'\u001b[0m\u001b[0;34m,\u001b[0m \u001b[0mh1\u001b[0m\u001b[0;34m,\u001b[0m \u001b[0mrdm1\u001b[0m\u001b[0;34m)\u001b[0m\u001b[0;34m\u001b[0m\u001b[0;34m\u001b[0m\u001b[0m\n\u001b[1;32m    321\u001b[0m     '''\n\u001b[0;32m--> 322\u001b[0;31m     \u001b[0mrdm1a\u001b[0m\u001b[0;34m,\u001b[0m \u001b[0mrdm1b\u001b[0m \u001b[0;34m=\u001b[0m \u001b[0mmake_rdm1s\u001b[0m\u001b[0;34m(\u001b[0m\u001b[0mfcivec\u001b[0m\u001b[0;34m,\u001b[0m \u001b[0mnorb\u001b[0m\u001b[0;34m,\u001b[0m \u001b[0mnelec\u001b[0m\u001b[0;34m,\u001b[0m \u001b[0mlink_index\u001b[0m\u001b[0;34m)\u001b[0m\u001b[0;34m\u001b[0m\u001b[0;34m\u001b[0m\u001b[0m\n\u001b[0m\u001b[1;32m    323\u001b[0m     \u001b[0;32mreturn\u001b[0m \u001b[0mrdm1a\u001b[0m \u001b[0;34m+\u001b[0m \u001b[0mrdm1b\u001b[0m\u001b[0;34m\u001b[0m\u001b[0;34m\u001b[0m\u001b[0m\n\u001b[1;32m    324\u001b[0m \u001b[0;34m\u001b[0m\u001b[0m\n",
      "\u001b[0;32m~/.local/lib/python3.10/site-packages/pyscf/fci/direct_spin1.py\u001b[0m in \u001b[0;36mmake_rdm1s\u001b[0;34m(fcivec, norb, nelec, link_index)\u001b[0m\n\u001b[1;32m    305\u001b[0m         \u001b[0mlink_indexb\u001b[0m \u001b[0;34m=\u001b[0m \u001b[0mcistring\u001b[0m\u001b[0;34m.\u001b[0m\u001b[0mgen_linkstr_index\u001b[0m\u001b[0;34m(\u001b[0m\u001b[0mrange\u001b[0m\u001b[0;34m(\u001b[0m\u001b[0mnorb\u001b[0m\u001b[0;34m)\u001b[0m\u001b[0;34m,\u001b[0m \u001b[0mnelecb\u001b[0m\u001b[0;34m)\u001b[0m\u001b[0;34m\u001b[0m\u001b[0;34m\u001b[0m\u001b[0m\n\u001b[1;32m    306\u001b[0m         \u001b[0mlink_index\u001b[0m \u001b[0;34m=\u001b[0m \u001b[0;34m(\u001b[0m\u001b[0mlink_indexa\u001b[0m\u001b[0;34m,\u001b[0m \u001b[0mlink_indexb\u001b[0m\u001b[0;34m)\u001b[0m\u001b[0;34m\u001b[0m\u001b[0;34m\u001b[0m\u001b[0m\n\u001b[0;32m--> 307\u001b[0;31m     rdm1a = rdm.make_rdm1_spin1('FCImake_rdm1a', fcivec, fcivec,\n\u001b[0m\u001b[1;32m    308\u001b[0m                                 norb, nelec, link_index)\n\u001b[1;32m    309\u001b[0m     rdm1b = rdm.make_rdm1_spin1('FCImake_rdm1b', fcivec, fcivec,\n",
      "\u001b[0;32m~/.local/lib/python3.10/site-packages/pyscf/fci/rdm.py\u001b[0m in \u001b[0;36mmake_rdm1_spin1\u001b[0;34m(fname, cibra, ciket, norb, nelec, link_index)\u001b[0m\n\u001b[1;32m    102\u001b[0m     \u001b[0mna\u001b[0m\u001b[0;34m,\u001b[0m\u001b[0mnlinka\u001b[0m \u001b[0;34m=\u001b[0m \u001b[0mlink_indexa\u001b[0m\u001b[0;34m.\u001b[0m\u001b[0mshape\u001b[0m\u001b[0;34m[\u001b[0m\u001b[0;34m:\u001b[0m\u001b[0;36m2\u001b[0m\u001b[0;34m]\u001b[0m\u001b[0;34m\u001b[0m\u001b[0;34m\u001b[0m\u001b[0m\n\u001b[1;32m    103\u001b[0m     \u001b[0mnb\u001b[0m\u001b[0;34m,\u001b[0m\u001b[0mnlinkb\u001b[0m \u001b[0;34m=\u001b[0m \u001b[0mlink_indexb\u001b[0m\u001b[0;34m.\u001b[0m\u001b[0mshape\u001b[0m\u001b[0;34m[\u001b[0m\u001b[0;34m:\u001b[0m\u001b[0;36m2\u001b[0m\u001b[0;34m]\u001b[0m\u001b[0;34m\u001b[0m\u001b[0;34m\u001b[0m\u001b[0m\n\u001b[0;32m--> 104\u001b[0;31m     \u001b[0;32massert\u001b[0m \u001b[0;34m(\u001b[0m\u001b[0mcibra\u001b[0m\u001b[0;34m.\u001b[0m\u001b[0msize\u001b[0m \u001b[0;34m==\u001b[0m \u001b[0mna\u001b[0m\u001b[0;34m*\u001b[0m\u001b[0mnb\u001b[0m\u001b[0;34m)\u001b[0m\u001b[0;34m,\u001b[0m \u001b[0;34m'{} {} {}'\u001b[0m\u001b[0;34m.\u001b[0m\u001b[0mformat\u001b[0m \u001b[0;34m(\u001b[0m\u001b[0mcibra\u001b[0m\u001b[0;34m.\u001b[0m\u001b[0msize\u001b[0m\u001b[0;34m,\u001b[0m \u001b[0mna\u001b[0m\u001b[0;34m,\u001b[0m \u001b[0mnb\u001b[0m\u001b[0;34m)\u001b[0m\u001b[0;34m\u001b[0m\u001b[0;34m\u001b[0m\u001b[0m\n\u001b[0m\u001b[1;32m    105\u001b[0m     \u001b[0;32massert\u001b[0m \u001b[0;34m(\u001b[0m\u001b[0mciket\u001b[0m\u001b[0;34m.\u001b[0m\u001b[0msize\u001b[0m \u001b[0;34m==\u001b[0m \u001b[0mna\u001b[0m\u001b[0;34m*\u001b[0m\u001b[0mnb\u001b[0m\u001b[0;34m)\u001b[0m\u001b[0;34m,\u001b[0m \u001b[0;34m'{} {} {}'\u001b[0m\u001b[0;34m.\u001b[0m\u001b[0mformat\u001b[0m \u001b[0;34m(\u001b[0m\u001b[0mciket\u001b[0m\u001b[0;34m.\u001b[0m\u001b[0msize\u001b[0m\u001b[0;34m,\u001b[0m \u001b[0mna\u001b[0m\u001b[0;34m,\u001b[0m \u001b[0mnb\u001b[0m\u001b[0;34m)\u001b[0m\u001b[0;34m\u001b[0m\u001b[0;34m\u001b[0m\u001b[0m\n\u001b[1;32m    106\u001b[0m     \u001b[0mrdm1\u001b[0m \u001b[0;34m=\u001b[0m \u001b[0mnumpy\u001b[0m\u001b[0;34m.\u001b[0m\u001b[0mempty\u001b[0m\u001b[0;34m(\u001b[0m\u001b[0;34m(\u001b[0m\u001b[0mnorb\u001b[0m\u001b[0;34m,\u001b[0m\u001b[0mnorb\u001b[0m\u001b[0;34m)\u001b[0m\u001b[0;34m)\u001b[0m\u001b[0;34m\u001b[0m\u001b[0;34m\u001b[0m\u001b[0m\n",
      "\u001b[0;31mAssertionError\u001b[0m: 1274 1 2"
     ]
    }
   ],
   "source": [
    "FCI = True\n",
    "if FCI:\n",
    "    fs = fci.FCI(mol, mf.mo_coeff)\n",
    "    e, ci = fs.kernel(verbose=0)\n",
    "FCIgamma = fci.direct_spin1.make_rdm1(ci, mf.mo_coeff.shape[0], mol.nelec)\n",
    "FCIgamma = FCIgamma/2.0\n",
    "FCIoccu, FCInaturalC = np.linalg.eigh(FCIgamma)\n",
    "FCInaturalCTT = np.matmul(C,FCInaturalC)\n",
    "FCInaturalCTTE = expand_matrix(FCInaturalCTT)\n",
    "FCIoccuE = np.append(FCIoccu,FCIoccu)\n",
    "#print(FCInaturalCTTE)"
   ]
  },
  {
   "cell_type": "code",
   "execution_count": null,
   "id": "c00c1113-d34c-4be8-9f38-11ff02eaf570",
   "metadata": {},
   "outputs": [],
   "source": [
    "print(FCIoccu)"
   ]
  },
  {
   "cell_type": "code",
   "execution_count": null,
   "id": "6b83dde1-f0b1-49c7-94ec-98cec4d2f449",
   "metadata": {},
   "outputs": [],
   "source": [
    "print(f\"E_FCI {e} E_HF {mf.e_tot} E_c {e-mf.e_tot}\")"
   ]
  },
  {
   "cell_type": "code",
   "execution_count": null,
   "id": "a1b23c7b-d1c3-4a4d-b642-3b2f31aa77c8",
   "metadata": {},
   "outputs": [],
   "source": [
    "E_H = ONERDMFT_hartree_energy_parallel(eri, FCInaturalCTTE, FCIoccuE)\n",
    "E_U = ONERDMFT_Umrigar_hartree_energy_parallel(eri, FCInaturalCTTE, FCIoccuE)\n",
    "E_x = ONERDMFT_exchange_energy_parallel(eri, FCInaturalCTTE, FCIoccuE)\n",
    "E_xc = ONERDMFT_Umrigar_exchange_correlation_energy_parallel(eri, FCInaturalCTTE, FCIoccuE)\n",
    "E_c = (2*np.trace(np.matmul(h,np.matmul(C, np.matmul(FCIgamma,C.T)))) + E_U + E_xc) - mf.e_tot\n",
    "print(f\"Based on expanded FCI density matrix:\\nHartree Energy: {E_H}\")\n",
    "print(f\"Exchange Energy: {E_x}\\nHartree + Exchange {E_H+E_x}\")\n",
    "print(f\"Umrigar Hartree: {E_U}\\nUmrigar Exchange-correlation: {E_xc}\\nUmrigar Hartree + Exchange-correlation: {E_U + E_xc}\")\n",
    "print(f\"Umrigar corelation energy {E_c}\")"
   ]
  },
  {
   "cell_type": "code",
   "execution_count": null,
   "id": "27e6e9bd-028d-43b2-a8d7-832ce481278c",
   "metadata": {},
   "outputs": [],
   "source": [
    "h = mf.get_hcore()\n",
    "2*np.trace(np.matmul(h,np.matmul(C, np.matmul(FCIgamma,C.T))))+E_U+E_xc"
   ]
  },
  {
   "cell_type": "code",
   "execution_count": null,
   "id": "b3ab65b7-ad68-4e3f-94e1-299a7cd673e7",
   "metadata": {},
   "outputs": [],
   "source": [
    "print(np.trace(np.matmul(h,P)))\n",
    "print(np.trace(np.matmul(h,np.matmul(C, np.matmul(FCIgamma,C.T)))))"
   ]
  },
  {
   "cell_type": "code",
   "execution_count": null,
   "id": "04b10b98-7ebc-476e-ae10-5e4b6e19e52c",
   "metadata": {},
   "outputs": [],
   "source": [
    "\n",
    "E_H = ONERDMFT_hartree_energy_parallel(eri, FCInaturalCTTE, FCIoccuE)\n",
    "E_U = ONERDMFT_hartree_energy_parallel(eri, FCInaturalCTTE, FCIoccuE)\n",
    "E_x = ONERDMFT_exchange_energy_parallel(eri, FCInaturalCTTE, FCIoccuE)\n",
    "E_xc = ONERDMFT_Mueller_exchange_correlation_energy_parallel(eri, FCInaturalCTTE, FCIoccuE)\n",
    "E_c = (2*np.trace(np.matmul(h,np.matmul(C, np.matmul(FCIgamma,C.T)))) + E_U + E_xc) - mf.e_tot\n",
    "print(f\"Based on expanded FCI density matrix:\\nHartree Energy: {E_H}\")\n",
    "print(f\"Exchange Energy: {E_x}\\nHartree + Exchange {E_H+E_x}\")\n",
    "print(f\"Mueller Hartree: {E_U}\\nMueller Exchange-correlation: {E_xc}\\nMueller Hartree + Exchange-correlation: {E_U + E_xc}\")\n",
    "print(f\"Mueller corelation energy {E_c}\")"
   ]
  },
  {
   "cell_type": "code",
   "execution_count": null,
   "id": "6287c88b-4a40-4a9c-ad5e-c30304d5cc6a",
   "metadata": {},
   "outputs": [],
   "source": [
    "2*np.trace(np.matmul(h,np.matmul(C, np.matmul(FCIgamma,C.T))))+E_U+E_xc"
   ]
  },
  {
   "cell_type": "code",
   "execution_count": null,
   "id": "a87a8baf-17db-45c0-a4e1-f1d1f5703cfc",
   "metadata": {},
   "outputs": [],
   "source": []
  }
 ],
 "metadata": {
  "kernelspec": {
   "display_name": "Python 3 (ipykernel)",
   "language": "python",
   "name": "python3"
  },
  "language_info": {
   "codemirror_mode": {
    "name": "ipython",
    "version": 3
   },
   "file_extension": ".py",
   "mimetype": "text/x-python",
   "name": "python",
   "nbconvert_exporter": "python",
   "pygments_lexer": "ipython3",
   "version": "3.10.12"
  }
 },
 "nbformat": 4,
 "nbformat_minor": 5
}
