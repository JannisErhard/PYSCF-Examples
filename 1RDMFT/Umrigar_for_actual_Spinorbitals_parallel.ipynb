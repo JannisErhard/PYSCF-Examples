{
 "cells": [
  {
   "cell_type": "code",
   "execution_count": 1,
   "id": "8f4ae9a1-bf80-4899-8995-801ad4b3f8d9",
   "metadata": {},
   "outputs": [],
   "source": [
    "import numpy as np\n",
    "from pyscf import gto, scf, fci\n",
    "from multiprocessing.pool import Pool\n",
    "from numba import prange, jit, njit\n",
    "#from numba.openmp import openmp_context as openmp"
   ]
  },
  {
   "cell_type": "code",
   "execution_count": 2,
   "id": "1b6f2808-8d7c-4add-ad1d-f663fbd44f88",
   "metadata": {},
   "outputs": [],
   "source": [
    "def expand_matrix(P):\n",
    "    Paa = P\n",
    "    Pbb = P\n",
    "    Pab = np.zeros(P.shape)\n",
    "    Pba = np.zeros(P.shape)\n",
    "    PE = np.concatenate((np.concatenate((Paa, Pab), axis=1), np.concatenate((Pba, Pbb), axis=1)), axis=0) \n",
    "    return PE"
   ]
  },
  {
   "cell_type": "code",
   "execution_count": 3,
   "id": "c36640b3-9299-4c03-a16a-827d622533f1",
   "metadata": {},
   "outputs": [],
   "source": [
    "# for jit and prange\n",
    "@jit(nopython=True, parallel=True)\n",
    "def ONERDMFT_hartree_energy_parallel(Fouridx, C, n):\n",
    "    energy = 0\n",
    "    M = C.shape[0]\n",
    "    K = Fouridx.shape[0]\n",
    "    for a in  prange(0,M):\n",
    "        for b in range(0,M):\n",
    "            for mu in range(0,M):\n",
    "                for nu in range(0,M):\n",
    "                    for kappa in range(0,M):\n",
    "                        for lamda in range(0,M):\n",
    "                            energy += n[a]*n[b]*C[mu,a]*C[nu,a]*C[kappa,b]*C[lamda,b]*Fouridx[mu%K,nu%K,kappa%K,lamda%K]\n",
    "\n",
    "    return 1/2.*energy"
   ]
  },
  {
   "cell_type": "code",
   "execution_count": 4,
   "id": "7957f487-a927-49af-89f2-b5403c7c6a61",
   "metadata": {},
   "outputs": [],
   "source": [
    "# for spinorbitals, the Umrigar Hartree term is a Hartree term from which the self interaction has been removed \n",
    "@jit(nopython=True, parallel=True)\n",
    "def ONERDMFT_Umrigar_hartree_energy_parallel(Fouridx, C, n):\n",
    "    energy = 0\n",
    "    M = C.shape[0]\n",
    "    K = Fouridx.shape[0]\n",
    "    for a in  prange(0,M):\n",
    "        for b in [b for b in range(0,M) if b!=a ]:\n",
    "            for mu in range(0,M):\n",
    "                for nu in range(0,M):\n",
    "                    for kappa in range(0,M):\n",
    "                        for lamda in range(0,M):\n",
    "                            energy += n[a]*n[b]*C[mu,a]*C[nu,a]*C[kappa,b]*C[lamda,b]*Fouridx[mu%K,nu%K,kappa%K,lamda%K]\n",
    "\n",
    "    return 1/2.*energy\n"
   ]
  },
  {
   "cell_type": "code",
   "execution_count": 5,
   "id": "0630de8c-2c97-4488-99a0-6165016a11ab",
   "metadata": {},
   "outputs": [],
   "source": [
    "@jit(nopython=True, parallel=True)\n",
    "def ONERDMFT_Umrigar_exchange_correlation_energy_parallel(Fouridx, C, n):\n",
    "    energy = 0\n",
    "    M = C.shape[0]\n",
    "    K = Fouridx.shape[0]\n",
    "    for a in  prange(0,M//2):\n",
    "        for b in [b for b in range(0,M//2) if b!=a ]:\n",
    "            for mu in range(0,M):\n",
    "                for nu in range(0,M):\n",
    "                    for kappa in range(0,M):\n",
    "                        for lamda in range(0,M):\n",
    "                            energy += np.sqrt(n[a]*n[b])*C[mu,a]*C[nu,b]*C[kappa,a]*C[lamda,b]*Fouridx[mu%K,nu%K,kappa%K,lamda%K]\n",
    "    for a in  prange(M//2,M):\n",
    "        for b in [b for b in range(M//2,M) if b!=a ]:\n",
    "            for mu in range(0,M):\n",
    "                for nu in range(0,M):\n",
    "                    for kappa in range(0,M):\n",
    "                        for lamda in range(0,M):\n",
    "                            energy += np.sqrt(n[a]*n[b])*C[mu,a]*C[nu,b]*C[kappa,a]*C[lamda,b]*Fouridx[mu%K,nu%K,kappa%K,lamda%K]\n",
    "\n",
    "    \n",
    "\n",
    "    return -1/2.*energy"
   ]
  },
  {
   "cell_type": "code",
   "execution_count": 6,
   "id": "399a1e51-cdf5-40c4-9ca1-377ad20aabe7",
   "metadata": {},
   "outputs": [],
   "source": [
    "@jit(parallel=True)\n",
    "def ONERDMFT_exchange_energy_parallel(Fouridx, C, n):\n",
    "    energy = 0\n",
    "    M = C.shape[0]\n",
    "    K = Fouridx.shape[0]\n",
    "    for a in  prange(0,M//2):\n",
    "        for b in range(0,M//2):\n",
    "            for mu in range(0,M):\n",
    "                for nu in range(0,M):\n",
    "                    for kappa in range(0,M):\n",
    "                        for lamda in range(0,M):\n",
    "                            energy += n[a]*n[b]*C[mu,a]*C[nu,b]*C[kappa,a]*C[lamda,b]*Fouridx[mu%K,nu%K,kappa%K,lamda%K]\n",
    "    for a in  prange(M//2,M):\n",
    "        for b in range(M//2,M):\n",
    "            for mu in range(0,M):\n",
    "                for nu in range(0,M):\n",
    "                    for kappa in range(0,M):\n",
    "                        for lamda in range(0,M):\n",
    "                            energy += n[a]*n[b]*C[mu,a]*C[nu,b]*C[kappa,a]*C[lamda,b]*Fouridx[mu%K,nu%K,kappa%K,lamda%K]\n",
    "\n",
    "\n",
    "    return -1/2.*energy"
   ]
  },
  {
   "cell_type": "code",
   "execution_count": 7,
   "id": "e1e416ae-0177-4362-96b3-c8e746ff9ab6",
   "metadata": {},
   "outputs": [],
   "source": [
    "@jit(parallel=True)\n",
    "def ONERDMFT_Mueller_exchange_correlation_energy_parallel(Fouridx, C, n):\n",
    "    energy = 0\n",
    "    M = C.shape[0]\n",
    "    K = Fouridx.shape[0]\n",
    "    for a in  prange(0,M//2):\n",
    "        for b in range(0,M//2):\n",
    "            for mu in range(0,M):\n",
    "                for nu in range(0,M):\n",
    "                    for kappa in range(0,M):\n",
    "                        for lamda in range(0,M):\n",
    "                            energy += np.sqrt(n[a]*n[b])*C[mu,a]*C[nu,b]*C[kappa,a]*C[lamda,b]*Fouridx[mu%K,nu%K,kappa%K,lamda%K]\n",
    "    for a in  prange(M//2,M):\n",
    "        for b in range(M//2,M):\n",
    "            for mu in range(0,M):\n",
    "                for nu in range(0,M):\n",
    "                    for kappa in range(0,M):\n",
    "                        for lamda in range(0,M):\n",
    "                            energy += np.sqrt(n[a]*n[b])*C[mu,a]*C[nu,b]*C[kappa,a]*C[lamda,b]*Fouridx[mu%K,nu%K,kappa%K,lamda%K]\n",
    "\n",
    "\n",
    "    return -1/2.*energy"
   ]
  },
  {
   "cell_type": "code",
   "execution_count": 8,
   "id": "528a883c-f7a1-4f39-875a-335494de1ac2",
   "metadata": {},
   "outputs": [
    {
     "name": "stdout",
     "output_type": "stream",
     "text": [
      "(5, 5, 5, 5)\n",
      "converged SCF energy = -7.39993122985156  <S^2> = 0.75  2S+1 = 2\n"
     ]
    },
    {
     "data": {
      "text/plain": [
       "np.float64(-7.399931229851557)"
      ]
     },
     "execution_count": 8,
     "metadata": {},
     "output_type": "execute_result"
    }
   ],
   "source": [
    "mol = gto.Mole()\n",
    "mol.atom = \"\"\"\n",
    "    Li    0.    0.    0.\n",
    "\"\"\"\n",
    "# this basis has 2 functions for Helium\n",
    "#mol.basis = \"6-31g\" \n",
    "#mol.basis = \"ccpvdz\"\n",
    "mol.basis = \"sto-6g\"\n",
    "mol.spin=1\n",
    "mol.build()\n",
    "\n",
    "# the 2 electron integrals \\langle \\mu \\nu | \\kappa \\lambda \\rangle have M^4 entries\n",
    "eri = mol.intor('int2e')\n",
    "S = mol.intor('int1e_ovlp')\n",
    "\n",
    "print(eri.shape)\n",
    "\n",
    "## Run Hartree-Fock.\n",
    "mf = scf.UHF(mol)\n",
    "mf.kernel()\n",
    "\n"
   ]
  },
  {
   "cell_type": "code",
   "execution_count": 9,
   "id": "cfcf1893-ea3e-45f3-81be-1a3e4e290554",
   "metadata": {},
   "outputs": [
    {
     "name": "stdout",
     "output_type": "stream",
     "text": [
      "(2, 5, 5)\n"
     ]
    }
   ],
   "source": [
    "C = mf.mo_coeff\n",
    "h = mf.get_hcore()\n",
    "N_a, N_b = mol.nelec\n",
    "M = eri.shape[0]\n",
    "print(C.shape)\n",
    "\n",
    "\n",
    "P_aa=np.matmul(C[0,:,0:N_a],C[0,:,0:N_a].T)\n",
    "P_bb=np.matmul(C[0,:,0:N_b],C[0,:,0:N_b].T)\n",
    "\n",
    "\n"
   ]
  },
  {
   "cell_type": "code",
   "execution_count": 10,
   "id": "62151e87-7cd7-4b2d-b907-ff8099076a96",
   "metadata": {},
   "outputs": [
    {
     "name": "stdout",
     "output_type": "stream",
     "text": [
      "(2, 5, 5)\n"
     ]
    }
   ],
   "source": [
    "P = mf.make_rdm1()\n",
    "print(P.shape)"
   ]
  },
  {
   "cell_type": "code",
   "execution_count": 11,
   "id": "41adf3d8-0f2f-42f4-b53a-a07c613cc09e",
   "metadata": {},
   "outputs": [],
   "source": [
    "P_aa = P[0,:,:]\n",
    "P_bb = P[1,:,:]"
   ]
  },
  {
   "cell_type": "code",
   "execution_count": 12,
   "id": "511b2c49-8274-4ebc-a655-3e6d3cb118dc",
   "metadata": {},
   "outputs": [],
   "source": [
    "gamma, occu, naturalC = {},{},{}\n",
    "for i, name in enumerate(['alpha', 'beta']):\n",
    "    gamma[name] = np.matmul(np.matmul(C[i,:,:].T,np.matmul(np.matmul(S,P[i,:,:]),S)), C[i,:,:])\n",
    "    occu[name], naturalC[name] = np.linalg.eigh(gamma[name])"
   ]
  },
  {
   "cell_type": "code",
   "execution_count": 13,
   "id": "e2502b35-6e28-4fe5-a2a0-15d2fc871292",
   "metadata": {},
   "outputs": [],
   "source": [
    "# need to first make gamma and then expand into blockdiagonal so \"fake\" alpha and \"beta\" are seperated in this fashion\n",
    "CE = expand_matrix(C[0,:,:])\n",
    "CE[M:,M:]=C[1,:,:]\n",
    "occu = np.append(occu['alpha'], occu['beta'])\n",
    "naturalCE = expand_matrix(naturalC['alpha'])\n",
    "naturalCE[M:,M:] = naturalC['beta']\n",
    "naturalCTT = np.matmul(CE,naturalCE)"
   ]
  },
  {
   "cell_type": "code",
   "execution_count": 14,
   "id": "65fe1654-68cf-4e85-83f4-f939521a7f8a",
   "metadata": {},
   "outputs": [
    {
     "name": "stdout",
     "output_type": "stream",
     "text": [
      "[0.00000000e+00 0.00000000e+00 0.00000000e+00 1.00000000e+00\n",
      " 1.00000000e+00 0.00000000e+00 0.00000000e+00 0.00000000e+00\n",
      " 5.43407302e-18 1.00000000e+00]\n"
     ]
    }
   ],
   "source": [
    "for i, n  in enumerate(occu):\n",
    "    if n < 0:\n",
    "        occu[i] = 0 \n",
    "print(occu)"
   ]
  },
  {
   "cell_type": "code",
   "execution_count": 15,
   "id": "a531df7a-13d8-4e7b-b5ae-7ffb23d62797",
   "metadata": {},
   "outputs": [
    {
     "name": "stderr",
     "output_type": "stream",
     "text": [
      "/home/jerhard/1RDMFT/lib/python3.12/site-packages/numba/parfors/parfor.py:2395: NumbaPerformanceWarning: \n",
      "prange or pndindex loop will not be executed in parallel due to there being more than one entry to or exit from the loop (e.g., an assertion).\n",
      "\n",
      "File \"../../../../tmp/ipykernel_57044/671129904.py\", line 7:\n",
      "<source missing, REPL/exec in use?>\n",
      "\n",
      "  warnings.warn(\n",
      "/home/jerhard/1RDMFT/lib/python3.12/site-packages/numba/core/typed_passes.py:336: NumbaPerformanceWarning: \n",
      "The keyword argument 'parallel=True' was specified but no transformation for parallel execution was possible.\n",
      "\n",
      "To find out why, try turning on parallel diagnostics, see https://numba.readthedocs.io/en/stable/user/parallel.html#diagnostics for help.\n",
      "\n",
      "File \"../../../../tmp/ipykernel_57044/671129904.py\", line 2:\n",
      "<source missing, REPL/exec in use?>\n",
      "\n",
      "  warnings.warn(errors.NumbaPerformanceWarning(msg,\n",
      "/home/jerhard/1RDMFT/lib/python3.12/site-packages/numba/parfors/parfor.py:2395: NumbaPerformanceWarning: \n",
      "prange or pndindex loop will not be executed in parallel due to there being more than one entry to or exit from the loop (e.g., an assertion).\n",
      "\n",
      "File \"../../../../tmp/ipykernel_57044/1064294183.py\", line 13:\n",
      "<source missing, REPL/exec in use?>\n",
      "\n",
      "  warnings.warn(\n",
      "/home/jerhard/1RDMFT/lib/python3.12/site-packages/numba/parfors/parfor.py:2395: NumbaPerformanceWarning: \n",
      "prange or pndindex loop will not be executed in parallel due to there being more than one entry to or exit from the loop (e.g., an assertion).\n",
      "\n",
      "File \"../../../../tmp/ipykernel_57044/1064294183.py\", line 6:\n",
      "<source missing, REPL/exec in use?>\n",
      "\n",
      "  warnings.warn(\n",
      "/home/jerhard/1RDMFT/lib/python3.12/site-packages/numba/core/typed_passes.py:336: NumbaPerformanceWarning: \n",
      "The keyword argument 'parallel=True' was specified but no transformation for parallel execution was possible.\n",
      "\n",
      "To find out why, try turning on parallel diagnostics, see https://numba.readthedocs.io/en/stable/user/parallel.html#diagnostics for help.\n",
      "\n",
      "File \"../../../../tmp/ipykernel_57044/1064294183.py\", line 1:\n",
      "<source missing, REPL/exec in use?>\n",
      "\n",
      "  warnings.warn(errors.NumbaPerformanceWarning(msg,\n"
     ]
    },
    {
     "name": "stdout",
     "output_type": "stream",
     "text": [
      "Based on expanded HF density matrix:\n",
      "Hartree Energy: 4.283183744168103\n",
      "Exchange Energy: -1.8390021481362688\n",
      "Hartree + Exchange 2.4441815960318345\n",
      "Umrigar Hartree: 2.4754792996540163\n",
      "Umrigar Exchangecorrelation: -0.031297703699081136\n",
      "Umrigar Hartree + Exchangecorrelation: 2.444181595954935\n"
     ]
    }
   ],
   "source": [
    "#print(naturalCTT)\n",
    "E_H = ONERDMFT_hartree_energy_parallel(eri, naturalCTT, occu)\n",
    "E_U = ONERDMFT_Umrigar_hartree_energy_parallel(eri, naturalCTT, occu)\n",
    "E_x = ONERDMFT_exchange_energy_parallel(eri, naturalCTT, occu)\n",
    "E_xc = ONERDMFT_Umrigar_exchange_correlation_energy_parallel(eri, naturalCTT, occu)\n",
    "print(f\"Based on expanded HF density matrix:\\nHartree Energy: {E_H}\")\n",
    "print(f\"Exchange Energy: {E_x}\\nHartree + Exchange {E_H+E_x}\")\n",
    "print(f\"Umrigar Hartree: {E_U}\\nUmrigar Exchangecorrelation: {E_xc}\\nUmrigar Hartree + Exchangecorrelation: {E_U + E_xc}\")"
   ]
  },
  {
   "cell_type": "code",
   "execution_count": 16,
   "id": "de0a3be8-14db-4694-917f-a372cc4fa392",
   "metadata": {},
   "outputs": [
    {
     "name": "stdout",
     "output_type": "stream",
     "text": [
      "(5, 5) (5, 5)\n"
     ]
    }
   ],
   "source": [
    "FCI = True\n",
    "if FCI:\n",
    "    fs = fci.FCI(mol, mf.mo_coeff)\n",
    "    e, ci = fs.kernel(verbose=0)\n",
    "FCIgamma_aa, FCIgamma_bb = fci.direct_spin1.make_rdm1s(ci, M, mol.nelec)\n",
    "print(FCIgamma_aa.shape, FCIgamma_bb.shape)"
   ]
  },
  {
   "cell_type": "code",
   "execution_count": 17,
   "id": "11aa956f-73ba-4e2a-8cd7-864190d39912",
   "metadata": {},
   "outputs": [],
   "source": [
    "FCIoccu_aa, FCInaturalC_aa = np.linalg.eigh(FCIgamma_aa)\n",
    "FCIoccu_bb, FCInaturalC_bb = np.linalg.eigh(FCIgamma_bb)\n",
    "\n",
    "FCInaturalCTT_aa = np.matmul(C[0,:,:],FCInaturalC_aa)\n",
    "FCInaturalCTT_bb = np.matmul(C[1,:,:],FCInaturalC_bb)\n",
    "\n",
    "\n",
    "FCInaturalCTTE = expand_matrix(FCInaturalCTT_aa)\n",
    "FCInaturalCTTE[M:,M:] = FCInaturalCTT_bb\n",
    "FCIoccuE = np.append(FCIoccu_aa,FCIoccu_bb)\n",
    "#print(FCInaturalCTTE)"
   ]
  },
  {
   "cell_type": "code",
   "execution_count": 18,
   "id": "c00c1113-d34c-4be8-9f38-11ff02eaf570",
   "metadata": {},
   "outputs": [
    {
     "name": "stdout",
     "output_type": "stream",
     "text": [
      "[ 4.03000085e-05  4.03000085e-05  4.03000085e-05  9.99879100e-01\n",
      "  1.00000000e+00 -1.23092377e-25  4.03000085e-05  4.03000085e-05\n",
      "  4.03000085e-05  9.99879100e-01]\n"
     ]
    }
   ],
   "source": [
    "print(FCIoccuE)"
   ]
  },
  {
   "cell_type": "code",
   "execution_count": 19,
   "id": "c9cbe048-a78b-48dd-9afd-815be96c456b",
   "metadata": {},
   "outputs": [
    {
     "name": "stdout",
     "output_type": "stream",
     "text": [
      "5-th value is nonsense: -1.230923765364894e-25 and removed.\n",
      "[4.03000085e-05 4.03000085e-05 4.03000085e-05 9.99879100e-01\n",
      " 1.00000000e+00 0.00000000e+00 4.03000085e-05 4.03000085e-05\n",
      " 4.03000085e-05 9.99879100e-01]\n"
     ]
    }
   ],
   "source": [
    "for i, n  in enumerate(FCIoccuE):\n",
    "    if n < 0:\n",
    "        print(f\"{i}-th value is nonsense: {n} and removed.\")\n",
    "        FCIoccuE[i] = 0 \n",
    "print(FCIoccuE)"
   ]
  },
  {
   "cell_type": "code",
   "execution_count": 20,
   "id": "6b83dde1-f0b1-49c7-94ec-98cec4d2f449",
   "metadata": {},
   "outputs": [
    {
     "name": "stdout",
     "output_type": "stream",
     "text": [
      "E_FCI -7.400238382274363 E_HF -7.399931229851557 E_c -0.0003071524228062117\n"
     ]
    }
   ],
   "source": [
    "print(f\"E_FCI {e} E_HF {mf.e_tot} E_c {e-mf.e_tot}\")"
   ]
  },
  {
   "cell_type": "code",
   "execution_count": 21,
   "id": "a1b23c7b-d1c3-4a4d-b642-3b2f31aa77c8",
   "metadata": {},
   "outputs": [
    {
     "name": "stdout",
     "output_type": "stream",
     "text": [
      "Based on expanded FCI density matrix:\n",
      "Hartree Energy: 4.282422289202717\n",
      "Exchange Energy: -1.8385589546104075\n",
      "Hartree + Exchange 2.4438633345923098\n",
      "Umrigar Hartree: 2.4821027271175224\n",
      "Umrigar Exchange-correlation: -0.03977809600477905\n",
      "Umrigar Hartree + Exchange-correlation: 2.4423246311127436\n"
     ]
    }
   ],
   "source": [
    "E_H = ONERDMFT_hartree_energy_parallel(eri, FCInaturalCTTE, FCIoccuE)\n",
    "E_U = ONERDMFT_Umrigar_hartree_energy_parallel(eri, FCInaturalCTTE, FCIoccuE)\n",
    "E_x = ONERDMFT_exchange_energy_parallel(eri, FCInaturalCTTE, FCIoccuE)\n",
    "E_xc = ONERDMFT_Umrigar_exchange_correlation_energy_parallel(eri, FCInaturalCTTE, FCIoccuE)\n",
    "# E_c = (2*np.trace(np.matmul(h,np.matmul(C, np.matmul(FCIgamma,C.T)))) + E_U + E_xc) - mf.e_tot\n",
    "print(f\"Based on expanded FCI density matrix:\\nHartree Energy: {E_H}\")\n",
    "print(f\"Exchange Energy: {E_x}\\nHartree + Exchange {E_H+E_x}\")\n",
    "print(f\"Umrigar Hartree: {E_U}\")\n",
    "print(f\"Umrigar Exchange-correlation: {E_xc}\\nUmrigar Hartree + Exchange-correlation: {E_U + E_xc}\")\n",
    "# print(f\"Umrigar corelation energy {E_c}\")"
   ]
  },
  {
   "cell_type": "code",
   "execution_count": 22,
   "id": "27e6e9bd-028d-43b2-a8d7-832ce481278c",
   "metadata": {},
   "outputs": [
    {
     "data": {
      "text/plain": [
       "np.float64(-7.401096152964811)"
      ]
     },
     "execution_count": 22,
     "metadata": {},
     "output_type": "execute_result"
    }
   ],
   "source": [
    "h = mf.get_hcore()\n",
    "np.trace(np.matmul(h,np.matmul(C[1,:,:], np.matmul(FCIgamma_bb,C[1,:,:].T))))+np.trace(np.matmul(h,np.matmul(C[0,:,:], np.matmul(FCIgamma_aa,C[0,:,:].T))))+E_U+E_xc"
   ]
  },
  {
   "cell_type": "code",
   "execution_count": null,
   "id": "a87a8baf-17db-45c0-a4e1-f1d1f5703cfc",
   "metadata": {},
   "outputs": [],
   "source": []
  }
 ],
 "metadata": {
  "kernelspec": {
   "display_name": "Python 3 (ipykernel)",
   "language": "python",
   "name": "python3"
  },
  "language_info": {
   "codemirror_mode": {
    "name": "ipython",
    "version": 3
   },
   "file_extension": ".py",
   "mimetype": "text/x-python",
   "name": "python",
   "nbconvert_exporter": "python",
   "pygments_lexer": "ipython3",
   "version": "3.12.3"
  }
 },
 "nbformat": 4,
 "nbformat_minor": 5
}
