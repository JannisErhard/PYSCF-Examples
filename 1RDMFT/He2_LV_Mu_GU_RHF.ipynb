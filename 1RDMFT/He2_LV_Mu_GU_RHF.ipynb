{
 "cells": [
  {
   "cell_type": "code",
   "execution_count": 1,
   "id": "e0098ed9-0a60-48d7-94a6-e831bb5cdb7d",
   "metadata": {},
   "outputs": [],
   "source": [
    "import numpy as np\n",
    "from qmrdmft import Calculator, OptimalCalculator, tools\n",
    "from pyscf import gto, scf, ao2mo\n",
    "from numba import prange, jit, njit\n",
    "\n",
    "#import tools"
   ]
  },
  {
   "cell_type": "code",
   "execution_count": 2,
   "id": "ca1ee16f-16ef-457f-a947-dabf2f34b7fb",
   "metadata": {},
   "outputs": [],
   "source": [
    "def expand_matrix(P):\n",
    "    Paa = P\n",
    "    Pbb = P\n",
    "    Pab = np.zeros(P.shape)\n",
    "    Pba = np.zeros(P.shape)\n",
    "    PE = np.concatenate((np.concatenate((Paa, Pab), axis=1), np.concatenate((Pba, Pbb), axis=1)), axis=0) \n",
    "    return PE"
   ]
  },
  {
   "cell_type": "markdown",
   "id": "4a4614c5-fef6-4a87-b667-15cf4388d55f",
   "metadata": {},
   "source": [
    "\n",
    "$$\n",
    "\\begin{split}\n",
    "E_H[\\gamma_1] & =  \\sum_a^M \\sum_b^M n_a n_b \\sum_{\\mu}^M \\sum_{\\nu}^M \\sum_{\\kappa}^M \\sum_{\\lambda}^M  \\tilde{\\tilde{c}}_{a,\\mu} \\tilde{\\tilde{c}}_{b,\\nu} \\tilde{\\tilde{c}}_{a,\\kappa} \\tilde{\\tilde{c}}_{b,\\lambda} \\left [ \\mu \\nu | \\kappa \\lambda \\right ] \\\\\n",
    "E_H[\\gamma_1] & =  \\iint \\sum_a^M \\sum_b^M n_a n_b \\frac{\\eta_a(r)^{\\ast} \\eta_a(r) \\eta_b(r')^{\\ast}  \\eta_b(r')}{|r-r'|} dr dr' \\\\\n",
    "E_H[\\gamma_1] & =  \\iint \\frac{\\gamma_1(r,r) \\gamma_1(r',r')}{|r-r'|} dr dr' \\\\\n",
    "\\end{split}\n",
    "$$\n",
    "\n",
    "where $\\{\\eta_{a}\\}$ is the set of natural orbitals, $M$ the number of basis functions $\\{\\chi_{\\mu}\\}$ and of natural orbitals. The coefficients $\\tilde{\\tilde{c}}$ represent $\\eta$ in the basis $\\chi$."
   ]
  },
  {
   "cell_type": "code",
   "execution_count": 3,
   "id": "2c9eba83-9a20-4916-9586-a27f8f82e805",
   "metadata": {},
   "outputs": [],
   "source": [
    "# for jit and prange\n",
    "@jit(nopython=True, parallel=True)\n",
    "def ONERDMFT_hartree_energy_parallel(Fouridx, C, n):\n",
    "    energy = 0\n",
    "    M = C.shape[0]\n",
    "    K = Fouridx.shape[0]\n",
    "    for a in  range(0,M):\n",
    "        for b in range(0,M):\n",
    "            for mu in range(0,M):\n",
    "                for nu in range(0,M):\n",
    "                    for kappa in range(0,M):\n",
    "                        for lamda in range(0,M):\n",
    "                            energy += n[a]*n[b]*C[mu,a]*C[nu,a]*C[kappa,b]*C[lamda,b]*Fouridx[mu%K,nu%K,kappa%K,lamda%K]\n",
    "\n",
    "    return 1/2.*energy"
   ]
  },
  {
   "cell_type": "markdown",
   "id": "2db0a05f-dcfe-4561-a884-b4ef705fcc13",
   "metadata": {},
   "source": [
    "The Geodecker Umrigar Hartree-like Term\n",
    "\n",
    "$$\n",
    "\\begin{split}\n",
    "^{GU}E_H[\\gamma_1] & =  \\sum_a^M' \\sum_b^M' n_a n_b \\sum_{\\mu}^M \\sum_{\\nu}^M \\sum_{\\kappa}^M \\sum_{\\lambda}^M  \\tilde{\\tilde{c}}_{a,\\mu} \\tilde{\\tilde{c}}_{b,\\nu} \\tilde{\\tilde{c}}_{a,\\kappa} \\tilde{\\tilde{c}}_{b,\\lambda} \\left [ \\mu \\nu | \\kappa \\lambda \\right ] \\\\\n",
    "^{GU}E_H[\\gamma_1] & =  \\iint \\sum_a^M' \\sum_b^M' n_a n_b \\frac{\\eta_a(r)^{\\ast} \\eta_a(r) \\eta_b(r')^{\\ast}  \\eta_b(r')}{|r-r'|} dr dr' \\\\\n",
    "^{GU}E_H[\\gamma_1] & =  \\iint \\frac{\\gamma_1'(r,r) \\gamma_1'(r',r')}{|r-r'|} dr dr' \\\\\n",
    "\\end{split}\n",
    "$$\n",
    "Here the prime indicates that terms in which $a=b$ are .left out of the sum, and the out of the sume consituting $\\gamma_1$.\n",
    "\n",
    "where $\\{\\eta_{a}\\}$ is the set of natural orbitals, $M$ the number of basis functions $\\{\\chi_{\\mu}\\}$ and of natural orbitals. The coefficients $\\tilde{\\tilde{c}}$ represent $\\eta$ in the basis $\\chi$."
   ]
  },
  {
   "cell_type": "code",
   "execution_count": 4,
   "id": "90b5fc45-6f3f-4a1d-9f30-2f847f97f99f",
   "metadata": {},
   "outputs": [],
   "source": [
    "# for spinorbitals, the Umrigar Hartree term is a Hartree term from which the self interaction has been removed \n",
    "@jit(nopython=True, parallel=True)\n",
    "def ONERDMFT_Umrigar_hartree_energy_parallel(Fouridx, C, n):\n",
    "    energy = 0\n",
    "    M = C.shape[0]\n",
    "    K = Fouridx.shape[0]\n",
    "    for a in  range(0,M):\n",
    "        for b in [b for b in range(0,M) if b!=a ]:\n",
    "            for mu in range(0,M):\n",
    "                for nu in range(0,M):\n",
    "                    for kappa in range(0,M):\n",
    "                        for lamda in range(0,M):\n",
    "                            energy += n[a]*n[b]*C[mu,a]*C[nu,a]*C[kappa,b]*C[lamda,b]*Fouridx[mu%K,nu%K,kappa%K,lamda%K]\n",
    "\n",
    "    return 1/2.*energy"
   ]
  },
  {
   "cell_type": "markdown",
   "id": "bbf17e88-8294-4fbf-8a1c-66b823575902",
   "metadata": {},
   "source": [
    "The Geodecker Umrigar Exchange-like Term, since the self interaction compensation is altready done in the Hartree like term, it is inaccurate to call this term exchange term. \n",
    "\n",
    "\n",
    "$$\n",
    "\\begin{split}\n",
    "^{GU}E_{xc}[\\gamma_1] & = -\\frac{1}{2} \\sum_a^M' \\sum_b^M' \\sqrt{n_a n_b} \\sum_{\\mu}^M \\sum_{\\nu}^M \\sum_{\\kappa}^M \\sum_{\\lambda}^M  \\tilde{\\tilde{c}}_{a,\\mu} \\tilde{\\tilde{c}}_{b,\\nu} \\tilde{\\tilde{c}}_{b,\\kappa} \\tilde{\\tilde{c}}_{a,\\lambda} \\left [ \\mu \\nu | \\kappa \\lambda \\right ] \\\\\n",
    "^{GU}E_{xc}[\\gamma_1] & = -\\frac{1}{2} \\iint \\sum_a^M' \\sum_b^M' \\sqrt{n_a n_b} \\frac{\\eta_a(r)^{\\ast} \\eta_b(r) \\eta_b(r')^{\\ast}  \\eta_a(r')}{|r-r'|} dr dr' \\\\\n",
    "^{GU}E_{xc}[\\gamma_1] & = -\\frac{1}{2} \\iint \\frac{\\gamma_1'^{\\frac{1}{2}}(r,r') \\gamma_1'^{\\frac{1}{2}}(r',r)}{|r-r'|} dr dr' \\\\\n",
    "\\end{split}\n",
    "$$\n",
    "\n",
    "Here the prime indicates that terms in which $a=b$ are .left out of the sum, and the out of the sume consituting $\\gamma_1$.\n",
    "\n",
    "where $\\{\\eta_{a}\\}$ is the set of natural orbitals, $M$ the number of basis functions $\\{\\chi_{\\mu}\\}$ and of natural orbitals. The coefficients $\\tilde{\\tilde{c}}$ represent $\\eta$ in the basis $\\chi$."
   ]
  },
  {
   "cell_type": "code",
   "execution_count": 5,
   "id": "75781bdb-b957-4158-8609-3a41ae1984cb",
   "metadata": {},
   "outputs": [],
   "source": [
    "@jit(nopython=True, parallel=True)\n",
    "def ONERDMFT_Umrigar_exchange_correlation_energy_parallel(Fouridx, C, n):\n",
    "    energy = 0\n",
    "    M = C.shape[0]\n",
    "    K = Fouridx.shape[0]\n",
    "    for a in  range(0,M//2):\n",
    "        for b in [b for b in range(0,M//2) if b!=a ]:\n",
    "            for mu in range(0,M):\n",
    "                for nu in range(0,M):\n",
    "                    for kappa in range(0,M):\n",
    "                        for lamda in range(0,M):\n",
    "                            energy += np.sqrt(n[a]*n[b])*C[mu,a]*C[nu,b]*C[kappa,a]*C[lamda,b]*Fouridx[mu%K,nu%K,kappa%K,lamda%K]\n",
    "    for a in  range(M//2,M):\n",
    "        for b in [b for b in range(M//2,M) if b!=a ]:\n",
    "            for mu in range(0,M):\n",
    "                for nu in range(0,M):\n",
    "                    for kappa in range(0,M):\n",
    "                        for lamda in range(0,M):\n",
    "                            energy += np.sqrt(n[a]*n[b])*C[mu,a]*C[nu,b]*C[kappa,a]*C[lamda,b]*Fouridx[mu%K,nu%K,kappa%K,lamda%K]\n",
    "\n",
    "    \n",
    "\n",
    "    return -1/2.*energy"
   ]
  },
  {
   "cell_type": "markdown",
   "id": "e8be4572-63ae-4dd0-ab5b-75b31347242d",
   "metadata": {},
   "source": [
    "\n",
    "$$\n",
    "\\begin{split}\n",
    "^{MU}E_{xc}[\\gamma_1] & = -\\frac{1}{2} \\sum_a^M \\sum_b^M \\sqrt{n_a n_b} \\sum_{\\mu}^M \\sum_{\\nu}^M \\sum_{\\kappa}^M \\sum_{\\lambda}^M  \\tilde{\\tilde{c}}_{a,\\mu} \\tilde{\\tilde{c}}_{b,\\nu} \\tilde{\\tilde{c}}_{b,\\kappa} \\tilde{\\tilde{c}}_{a,\\lambda} \\left [ \\mu \\nu | \\kappa \\lambda \\right ] \\\\\n",
    "^{MU}E_{xc}[\\gamma_1] & = -\\frac{1}{2} \\iint \\sum_a^M \\sum_b^M \\sqrt{n_a n_b} \\frac{\\eta_a(r)^{\\ast} \\eta_b(r) \\eta_b(r')^{\\ast}  \\eta_a(r')}{|r-r'|} dr dr' \\\\\n",
    "^{MU}E_{xc}[\\gamma_1] & = -\\frac{1}{2} \\iint \\frac{\\gamma_1^{\\frac{1}{2}}(r,r') \\gamma_1^{\\frac{1}{2}}(r',r)}{|r-r'|} dr dr' \\\\\n",
    "\\end{split}\n",
    "$$\n",
    "\n",
    "where $\\{\\eta_{a}\\}$ is the set of natural orbitals, $M$ the number of basis functions $\\{\\chi_{\\mu}\\}$ and of natural orbitals. The coefficients $\\tilde{\\tilde{c}}$ represent $\\eta$ in the basis $\\chi$."
   ]
  },
  {
   "cell_type": "code",
   "execution_count": 6,
   "id": "5f6fc5e6-611b-499b-b81c-b73de7758adb",
   "metadata": {},
   "outputs": [],
   "source": [
    "@jit(parallel=True)\n",
    "def ONERDMFT_Mueller_exchange_correlation_energy_parallel(Fouridx, C, n):\n",
    "    energy = 0\n",
    "    M = C.shape[0]\n",
    "    K = Fouridx.shape[0]\n",
    "    for a in  range(0,M//2):\n",
    "        for b in range(0,M//2):\n",
    "            for mu in range(0,M):\n",
    "                for nu in range(0,M):\n",
    "                    for kappa in range(0,M):\n",
    "                        for lamda in range(0,M):\n",
    "                            energy += np.sqrt(n[a]*n[b])*C[mu,a]*C[nu,b]*C[kappa,a]*C[lamda,b]*Fouridx[mu%K,nu%K,kappa%K,lamda%K]\n",
    "    for a in  range(M//2,M):\n",
    "        for b in range(M//2,M):\n",
    "            for mu in range(0,M):\n",
    "                for nu in range(0,M):\n",
    "                    for kappa in range(0,M):\n",
    "                        for lamda in range(0,M):\n",
    "                            energy += np.sqrt(n[a]*n[b])*C[mu,a]*C[nu,b]*C[kappa,a]*C[lamda,b]*Fouridx[mu%K,nu%K,kappa%K,lamda%K]\n",
    "\n",
    "\n",
    "    return -1/2.*energy"
   ]
  },
  {
   "cell_type": "code",
   "execution_count": 7,
   "id": "27d82b0a-8036-4bfa-b8bc-856be2b2e887",
   "metadata": {},
   "outputs": [
    {
     "data": {
      "text/plain": [
       "<pyscf.gto.mole.Mole at 0x73a5fb57e480>"
      ]
     },
     "execution_count": 7,
     "metadata": {},
     "output_type": "execute_result"
    }
   ],
   "source": [
    "element = \"Li\"\n",
    "mol = gto.Mole()\n",
    "mol.atom = f'''{element}  0 0 0; {element} 0 0 1'''\n",
    "mol.charge = 0\n",
    "mol.spin = 0\n",
    "mol.basis = 'Sto-3g'\n",
    "#mol.basis = \"6-31g\" \n",
    "mol.unit = 'AU'\n",
    "mol.build()"
   ]
  },
  {
   "cell_type": "code",
   "execution_count": 8,
   "id": "8926f162-d851-4848-a946-ed429e2549d1",
   "metadata": {},
   "outputs": [],
   "source": [
    "# get molecuar quantities \n",
    "eri = mol.intor('int2e')\n",
    "S = mol.intor('int1e_ovlp')\n",
    "N_a, N_b = mol.nelec\n",
    "M = eri.shape[0]"
   ]
  },
  {
   "cell_type": "code",
   "execution_count": 9,
   "id": "e204e066-450a-451c-9a82-018f054e3770",
   "metadata": {},
   "outputs": [
    {
     "name": "stdout",
     "output_type": "stream",
     "text": [
      "converged SCF energy = -12.9518686845497\n"
     ]
    }
   ],
   "source": [
    "hf = scf.HF(mol).run()"
   ]
  },
  {
   "cell_type": "code",
   "execution_count": 10,
   "id": "09dcc628-16ec-42d8-9e1a-6183283548e9",
   "metadata": {},
   "outputs": [],
   "source": [
    "# get fock properties\n",
    "C = hf.mo_coeff\n",
    "h = hf.get_hcore()\n",
    "J = hf.get_j()\n",
    "K = hf.get_k()\n",
    "\n",
    "#print(K.shape)\n",
    "#print(J.shape)"
   ]
  },
  {
   "cell_type": "code",
   "execution_count": 11,
   "id": "5f68bcd5-7378-4d61-bbff-5dd4dca2b9f8",
   "metadata": {},
   "outputs": [],
   "source": [
    "# AO MO transformation of elements of fock operator\n",
    "h1 = C.T@h@C\n",
    "\n",
    "#JKmo = C.T@(J+K)@C\n",
    "h2 = ao2mo.kernel(mol, hf.mo_coeff)\n",
    "#print(JKmo)"
   ]
  },
  {
   "cell_type": "code",
   "execution_count": 12,
   "id": "0b6780f9-c3de-4b13-bbed-372df0ab1d16",
   "metadata": {},
   "outputs": [],
   "source": [
    "e, rdms1 = tools.e_rdms(h1, h2, mol.energy_nuc(), mol.nelec, h1.shape[1],  nroots=3)"
   ]
  },
  {
   "cell_type": "code",
   "execution_count": 13,
   "id": "91ec8d29-615f-418a-81d3-eb7cc379f329",
   "metadata": {},
   "outputs": [],
   "source": [
    "V_ee = e[0]-np.trace(np.matmul(h1,rdms1[0]))"
   ]
  },
  {
   "cell_type": "code",
   "execution_count": 14,
   "id": "9252dca9-64de-41ab-924f-d3b0d589fa1a",
   "metadata": {},
   "outputs": [
    {
     "name": "stderr",
     "output_type": "stream",
     "text": [
      "/home/jerhard/1RDMFT/lib/python3.12/site-packages/scipy/optimize/_differentiable_functions.py:551: UserWarning: delta_grad == 0.0. Check if the approximated function is linear. If the function is linear better results can be obtained by defining the Hessian as zero instead of using quasi-Newton approximations.\n",
      "  self.H.update(delta_x, delta_g)\n",
      "/home/jerhard/1RDMFT/QMRDMFT/qmrdmft/calculator.py:119: SyntaxWarning: invalid escape sequence '\\m'\n",
      "  \"\"\"Calculator class\n",
      "/home/jerhard/1RDMFT/QMRDMFT/qmrdmft/calculator.py:196: SyntaxWarning: invalid escape sequence '\\m'\n",
      "  \"\"\"OptimalCalculator class\n"
     ]
    },
    {
     "ename": "KeyboardInterrupt",
     "evalue": "",
     "output_type": "error",
     "traceback": [
      "\u001b[0;31m---------------------------------------------------------------------------\u001b[0m",
      "\u001b[0;31mKeyboardInterrupt\u001b[0m                         Traceback (most recent call last)",
      "Cell \u001b[0;32mIn[14], line 16\u001b[0m\n\u001b[1;32m     11\u001b[0m L, dL \u001b[38;5;241m=\u001b[39m calculator\u001b[38;5;241m.\u001b[39mcalculate_objctv_grdnt(h1)\n\u001b[1;32m     12\u001b[0m \u001b[38;5;66;03m#print(\"Exact value of the objective function\", L)\u001b[39;00m\n\u001b[1;32m     13\u001b[0m \n\u001b[1;32m     14\u001b[0m \u001b[38;5;66;03m# run the optimizer\u001b[39;00m\n\u001b[1;32m     15\u001b[0m \u001b[38;5;66;03m## objectiva function value changes when we add constraint\u001b[39;00m\n\u001b[0;32m---> 16\u001b[0m res \u001b[38;5;241m=\u001b[39m \u001b[43mcalculator\u001b[49m\u001b[38;5;241;43m.\u001b[39;49m\u001b[43moptimize\u001b[49m\u001b[43m(\u001b[49m\u001b[43mnp\u001b[49m\u001b[38;5;241;43m.\u001b[39;49m\u001b[43mzeros\u001b[49m\u001b[43m(\u001b[49m\u001b[43mh1\u001b[49m\u001b[38;5;241;43m.\u001b[39;49m\u001b[43msize\u001b[49m\u001b[43m)\u001b[49m\u001b[43m,\u001b[49m\u001b[43m \u001b[49m\n\u001b[1;32m     17\u001b[0m \u001b[43m                          \u001b[49m\u001b[43mmethod\u001b[49m\u001b[38;5;241;43m=\u001b[39;49m\u001b[38;5;124;43m'\u001b[39;49m\u001b[38;5;124;43mtrust-constr\u001b[39;49m\u001b[38;5;124;43m'\u001b[39;49m\u001b[43m,\u001b[49m\n\u001b[1;32m     18\u001b[0m \u001b[43m                          \u001b[49m\u001b[43moptions\u001b[49m\u001b[38;5;241;43m=\u001b[39;49m\u001b[43m{\u001b[49m\u001b[38;5;124;43m\"\u001b[39;49m\u001b[38;5;124;43mmaxiter\u001b[39;49m\u001b[38;5;124;43m\"\u001b[39;49m\u001b[43m:\u001b[49m\u001b[38;5;241;43m500\u001b[39;49m\u001b[43m,\u001b[49m\u001b[43m \u001b[49m\u001b[38;5;124;43m'\u001b[39;49m\u001b[38;5;124;43mdisp\u001b[39;49m\u001b[38;5;124;43m'\u001b[39;49m\u001b[43m:\u001b[49m\u001b[38;5;28;43;01mFalse\u001b[39;49;00m\u001b[43m,\u001b[49m\u001b[43m \u001b[49m\u001b[38;5;124;43m'\u001b[39;49m\u001b[38;5;124;43mverbose\u001b[39;49m\u001b[38;5;124;43m'\u001b[39;49m\u001b[43m:\u001b[49m\u001b[38;5;241;43m0\u001b[39;49m\u001b[43m,\u001b[49m\u001b[43m \u001b[49m\u001b[38;5;124;43m'\u001b[39;49m\u001b[38;5;124;43mgtol\u001b[39;49m\u001b[38;5;124;43m'\u001b[39;49m\u001b[43m:\u001b[49m\u001b[38;5;241;43m1e-7\u001b[39;49m\u001b[43m,\u001b[49m\u001b[43m}\u001b[49m\u001b[43m,\u001b[49m\n\u001b[1;32m     19\u001b[0m \u001b[43m                          \u001b[49m\u001b[43mconstraints\u001b[49m\u001b[38;5;241;43m=\u001b[39;49m\u001b[43meq_cons\u001b[49m\u001b[43m)\u001b[49m\n\u001b[1;32m     21\u001b[0m \u001b[38;5;28mprint\u001b[39m(\u001b[38;5;124m\"\u001b[39m\u001b[38;5;124mPrint value after optimization: \u001b[39m\u001b[38;5;124m\"\u001b[39m, res\u001b[38;5;241m.\u001b[39mfun, res\u001b[38;5;241m.\u001b[39mfun\u001b[38;5;241m+\u001b[39mV_ee) \n\u001b[1;32m     22\u001b[0m W\u001b[38;5;241m=\u001b[39mres\u001b[38;5;241m.\u001b[39mfun\n",
      "File \u001b[0;32m~/1RDMFT/QMRDMFT/qmrdmft/calculator.py:112\u001b[0m, in \u001b[0;36mCalculatorBase.optimize\u001b[0;34m(self, h0, *args, **kwargs)\u001b[0m\n\u001b[1;32m     94\u001b[0m \u001b[38;5;28;01mdef\u001b[39;00m \u001b[38;5;21moptimize\u001b[39m(\u001b[38;5;28mself\u001b[39m, h0, \u001b[38;5;241m*\u001b[39margs, \u001b[38;5;241m*\u001b[39m\u001b[38;5;241m*\u001b[39mkwargs):\n\u001b[1;32m     95\u001b[0m \u001b[38;5;250m    \u001b[39m\u001b[38;5;124;03m\"\"\"\u001b[39;00m\n\u001b[1;32m     96\u001b[0m \u001b[38;5;124;03m    Optimize the objective function.\u001b[39;00m\n\u001b[1;32m     97\u001b[0m \n\u001b[0;32m   (...)\u001b[0m\n\u001b[1;32m    110\u001b[0m \u001b[38;5;124;03m        Optimized one-electron integrals\u001b[39;00m\n\u001b[1;32m    111\u001b[0m \u001b[38;5;124;03m    \"\"\"\u001b[39;00m\n\u001b[0;32m--> 112\u001b[0m     h_optimized \u001b[38;5;241m=\u001b[39m \u001b[38;5;28;43mself\u001b[39;49m\u001b[38;5;241;43m.\u001b[39;49m\u001b[43moptimizer\u001b[49m\u001b[43m(\u001b[49m\u001b[43mh0\u001b[49m\u001b[43m,\u001b[49m\u001b[43m \u001b[49m\u001b[38;5;28;43mself\u001b[39;49m\u001b[38;5;241;43m.\u001b[39;49m\u001b[43mcalculate_objctv_grdnt\u001b[49m\u001b[43m,\u001b[49m\u001b[43m \u001b[49m\u001b[38;5;241;43m*\u001b[39;49m\u001b[38;5;241;43m*\u001b[39;49m\u001b[43mkwargs\u001b[49m\u001b[43m)\u001b[49m\n\u001b[1;32m    113\u001b[0m     \u001b[38;5;28;01mreturn\u001b[39;00m h_optimized\n",
      "File \u001b[0;32m~/1RDMFT/QMRDMFT/qmrdmft/tools.py:62\u001b[0m, in \u001b[0;36moptimize\u001b[0;34m(h, objective, method, **kwargs)\u001b[0m\n\u001b[1;32m     45\u001b[0m \u001b[38;5;250m\u001b[39m\u001b[38;5;124;03m\"\"\"\u001b[39;00m\n\u001b[1;32m     46\u001b[0m \u001b[38;5;124;03mMaximize the objective function.\u001b[39;00m\n\u001b[1;32m     47\u001b[0m \n\u001b[0;32m   (...)\u001b[0m\n\u001b[1;32m     58\u001b[0m \n\u001b[1;32m     59\u001b[0m \u001b[38;5;124;03m\"\"\"\u001b[39;00m\n\u001b[1;32m     60\u001b[0m \u001b[38;5;66;03m# initialize the parameters\u001b[39;00m\n\u001b[1;32m     61\u001b[0m \u001b[38;5;66;03m# minimize the objective function\u001b[39;00m\n\u001b[0;32m---> 62\u001b[0m res \u001b[38;5;241m=\u001b[39m \u001b[43mminimize\u001b[49m\u001b[43m(\u001b[49m\u001b[43mobjective\u001b[49m\u001b[43m,\u001b[49m\u001b[43m \u001b[49m\n\u001b[1;32m     63\u001b[0m \u001b[43m               \u001b[49m\u001b[43mx0\u001b[49m\u001b[38;5;241;43m=\u001b[39;49m\u001b[43mh\u001b[49m\u001b[43m,\u001b[49m\u001b[43m \u001b[49m\n\u001b[1;32m     64\u001b[0m \u001b[43m               \u001b[49m\u001b[43mjac\u001b[49m\u001b[38;5;241;43m=\u001b[39;49m\u001b[38;5;28;43;01mTrue\u001b[39;49;00m\u001b[43m,\u001b[49m\n\u001b[1;32m     65\u001b[0m \u001b[43m               \u001b[49m\u001b[43mmethod\u001b[49m\u001b[38;5;241;43m=\u001b[39;49m\u001b[43mmethod\u001b[49m\u001b[43m,\u001b[49m\u001b[43m \u001b[49m\u001b[38;5;241;43m*\u001b[39;49m\u001b[38;5;241;43m*\u001b[39;49m\u001b[43mkwargs\u001b[49m\u001b[43m)\u001b[49m\n\u001b[1;32m     67\u001b[0m \u001b[38;5;66;03m# return the optimized parameters\u001b[39;00m\n\u001b[1;32m     68\u001b[0m \u001b[38;5;28;01mreturn\u001b[39;00m res\n",
      "File \u001b[0;32m~/1RDMFT/lib/python3.12/site-packages/scipy/optimize/_minimize.py:746\u001b[0m, in \u001b[0;36mminimize\u001b[0;34m(fun, x0, args, method, jac, hess, hessp, bounds, constraints, tol, callback, options)\u001b[0m\n\u001b[1;32m    743\u001b[0m     res \u001b[38;5;241m=\u001b[39m _minimize_slsqp(fun, x0, args, jac, bounds,\n\u001b[1;32m    744\u001b[0m                           constraints, callback\u001b[38;5;241m=\u001b[39mcallback, \u001b[38;5;241m*\u001b[39m\u001b[38;5;241m*\u001b[39moptions)\n\u001b[1;32m    745\u001b[0m \u001b[38;5;28;01melif\u001b[39;00m meth \u001b[38;5;241m==\u001b[39m \u001b[38;5;124m'\u001b[39m\u001b[38;5;124mtrust-constr\u001b[39m\u001b[38;5;124m'\u001b[39m:\n\u001b[0;32m--> 746\u001b[0m     res \u001b[38;5;241m=\u001b[39m \u001b[43m_minimize_trustregion_constr\u001b[49m\u001b[43m(\u001b[49m\u001b[43mfun\u001b[49m\u001b[43m,\u001b[49m\u001b[43m \u001b[49m\u001b[43mx0\u001b[49m\u001b[43m,\u001b[49m\u001b[43m \u001b[49m\u001b[43margs\u001b[49m\u001b[43m,\u001b[49m\u001b[43m \u001b[49m\u001b[43mjac\u001b[49m\u001b[43m,\u001b[49m\u001b[43m \u001b[49m\u001b[43mhess\u001b[49m\u001b[43m,\u001b[49m\u001b[43m \u001b[49m\u001b[43mhessp\u001b[49m\u001b[43m,\u001b[49m\n\u001b[1;32m    747\u001b[0m \u001b[43m                                       \u001b[49m\u001b[43mbounds\u001b[49m\u001b[43m,\u001b[49m\u001b[43m \u001b[49m\u001b[43mconstraints\u001b[49m\u001b[43m,\u001b[49m\n\u001b[1;32m    748\u001b[0m \u001b[43m                                       \u001b[49m\u001b[43mcallback\u001b[49m\u001b[38;5;241;43m=\u001b[39;49m\u001b[43mcallback\u001b[49m\u001b[43m,\u001b[49m\u001b[43m \u001b[49m\u001b[38;5;241;43m*\u001b[39;49m\u001b[38;5;241;43m*\u001b[39;49m\u001b[43moptions\u001b[49m\u001b[43m)\u001b[49m\n\u001b[1;32m    749\u001b[0m \u001b[38;5;28;01melif\u001b[39;00m meth \u001b[38;5;241m==\u001b[39m \u001b[38;5;124m'\u001b[39m\u001b[38;5;124mdogleg\u001b[39m\u001b[38;5;124m'\u001b[39m:\n\u001b[1;32m    750\u001b[0m     res \u001b[38;5;241m=\u001b[39m _minimize_dogleg(fun, x0, args, jac, hess,\n\u001b[1;32m    751\u001b[0m                            callback\u001b[38;5;241m=\u001b[39mcallback, \u001b[38;5;241m*\u001b[39m\u001b[38;5;241m*\u001b[39moptions)\n",
      "File \u001b[0;32m~/1RDMFT/lib/python3.12/site-packages/scipy/optimize/_trustregion_constr/minimize_trustregion_constr.py:519\u001b[0m, in \u001b[0;36m_minimize_trustregion_constr\u001b[0;34m(fun, x0, args, grad, hess, hessp, bounds, constraints, xtol, gtol, barrier_tol, sparse_jacobian, callback, maxiter, verbose, finite_diff_rel_step, initial_constr_penalty, initial_tr_radius, initial_barrier_parameter, initial_barrier_tolerance, factorization_method, disp)\u001b[0m\n\u001b[1;32m    516\u001b[0m         J_eq, _ \u001b[38;5;241m=\u001b[39m canonical\u001b[38;5;241m.\u001b[39mjac(x)\n\u001b[1;32m    517\u001b[0m         \u001b[38;5;28;01mreturn\u001b[39;00m g, J_eq\n\u001b[0;32m--> 519\u001b[0m     _, result \u001b[38;5;241m=\u001b[39m \u001b[43mequality_constrained_sqp\u001b[49m\u001b[43m(\u001b[49m\n\u001b[1;32m    520\u001b[0m \u001b[43m        \u001b[49m\u001b[43mfun_and_constr\u001b[49m\u001b[43m,\u001b[49m\u001b[43m \u001b[49m\u001b[43mgrad_and_jac\u001b[49m\u001b[43m,\u001b[49m\u001b[43m \u001b[49m\u001b[43mlagrangian_hess\u001b[49m\u001b[43m,\u001b[49m\n\u001b[1;32m    521\u001b[0m \u001b[43m        \u001b[49m\u001b[43mx0\u001b[49m\u001b[43m,\u001b[49m\u001b[43m \u001b[49m\u001b[43mobjective\u001b[49m\u001b[38;5;241;43m.\u001b[39;49m\u001b[43mf\u001b[49m\u001b[43m,\u001b[49m\u001b[43m \u001b[49m\u001b[43mobjective\u001b[49m\u001b[38;5;241;43m.\u001b[39;49m\u001b[43mg\u001b[49m\u001b[43m,\u001b[49m\n\u001b[1;32m    522\u001b[0m \u001b[43m        \u001b[49m\u001b[43mc_eq0\u001b[49m\u001b[43m,\u001b[49m\u001b[43m \u001b[49m\u001b[43mJ_eq0\u001b[49m\u001b[43m,\u001b[49m\n\u001b[1;32m    523\u001b[0m \u001b[43m        \u001b[49m\u001b[43mstop_criteria\u001b[49m\u001b[43m,\u001b[49m\u001b[43m \u001b[49m\u001b[43mstate\u001b[49m\u001b[43m,\u001b[49m\n\u001b[1;32m    524\u001b[0m \u001b[43m        \u001b[49m\u001b[43minitial_constr_penalty\u001b[49m\u001b[43m,\u001b[49m\u001b[43m \u001b[49m\u001b[43minitial_tr_radius\u001b[49m\u001b[43m,\u001b[49m\n\u001b[1;32m    525\u001b[0m \u001b[43m        \u001b[49m\u001b[43mfactorization_method\u001b[49m\u001b[43m)\u001b[49m\n\u001b[1;32m    527\u001b[0m \u001b[38;5;28;01melif\u001b[39;00m method \u001b[38;5;241m==\u001b[39m \u001b[38;5;124m'\u001b[39m\u001b[38;5;124mtr_interior_point\u001b[39m\u001b[38;5;124m'\u001b[39m:\n\u001b[1;32m    528\u001b[0m     _, result \u001b[38;5;241m=\u001b[39m tr_interior_point(\n\u001b[1;32m    529\u001b[0m         objective\u001b[38;5;241m.\u001b[39mfun, objective\u001b[38;5;241m.\u001b[39mgrad, lagrangian_hess,\n\u001b[1;32m    530\u001b[0m         n_vars, canonical\u001b[38;5;241m.\u001b[39mn_ineq, canonical\u001b[38;5;241m.\u001b[39mn_eq,\n\u001b[0;32m   (...)\u001b[0m\n\u001b[1;32m    538\u001b[0m         initial_constr_penalty, initial_tr_radius,\n\u001b[1;32m    539\u001b[0m         factorization_method)\n",
      "File \u001b[0;32m~/1RDMFT/lib/python3.12/site-packages/scipy/optimize/_trustregion_constr/equality_constrained_sqp.py:161\u001b[0m, in \u001b[0;36mequality_constrained_sqp\u001b[0;34m(fun_and_constr, grad_and_jac, lagr_hess, x0, fun0, grad0, constr0, jac0, stop_criteria, state, initial_penalty, initial_trust_radius, factorization_method, trust_lb, trust_ub, scaling)\u001b[0m\n\u001b[1;32m    159\u001b[0m \u001b[38;5;66;03m# Evaluate function and constraints at trial point\u001b[39;00m\n\u001b[1;32m    160\u001b[0m x_next \u001b[38;5;241m=\u001b[39m x \u001b[38;5;241m+\u001b[39m S\u001b[38;5;241m.\u001b[39mdot(d)\n\u001b[0;32m--> 161\u001b[0m f_next, b_next \u001b[38;5;241m=\u001b[39m \u001b[43mfun_and_constr\u001b[49m\u001b[43m(\u001b[49m\u001b[43mx_next\u001b[49m\u001b[43m)\u001b[49m\n\u001b[1;32m    162\u001b[0m \u001b[38;5;66;03m# Compute merit function at trial point\u001b[39;00m\n\u001b[1;32m    163\u001b[0m merit_function_next \u001b[38;5;241m=\u001b[39m f_next \u001b[38;5;241m+\u001b[39m penalty\u001b[38;5;241m*\u001b[39mnorm(b_next)\n",
      "File \u001b[0;32m~/1RDMFT/lib/python3.12/site-packages/scipy/optimize/_trustregion_constr/minimize_trustregion_constr.py:510\u001b[0m, in \u001b[0;36m_minimize_trustregion_constr.<locals>.fun_and_constr\u001b[0;34m(x)\u001b[0m\n\u001b[1;32m    509\u001b[0m \u001b[38;5;28;01mdef\u001b[39;00m \u001b[38;5;21mfun_and_constr\u001b[39m(x):\n\u001b[0;32m--> 510\u001b[0m     f \u001b[38;5;241m=\u001b[39m \u001b[43mobjective\u001b[49m\u001b[38;5;241;43m.\u001b[39;49m\u001b[43mfun\u001b[49m\u001b[43m(\u001b[49m\u001b[43mx\u001b[49m\u001b[43m)\u001b[49m\n\u001b[1;32m    511\u001b[0m     c_eq, _ \u001b[38;5;241m=\u001b[39m canonical\u001b[38;5;241m.\u001b[39mfun(x)\n\u001b[1;32m    512\u001b[0m     \u001b[38;5;28;01mreturn\u001b[39;00m f, c_eq\n",
      "File \u001b[0;32m~/1RDMFT/lib/python3.12/site-packages/scipy/optimize/_differentiable_functions.py:324\u001b[0m, in \u001b[0;36mScalarFunction.fun\u001b[0;34m(self, x)\u001b[0m\n\u001b[1;32m    322\u001b[0m \u001b[38;5;28;01mdef\u001b[39;00m \u001b[38;5;21mfun\u001b[39m(\u001b[38;5;28mself\u001b[39m, x):\n\u001b[1;32m    323\u001b[0m     \u001b[38;5;28;01mif\u001b[39;00m \u001b[38;5;129;01mnot\u001b[39;00m np\u001b[38;5;241m.\u001b[39marray_equal(x, \u001b[38;5;28mself\u001b[39m\u001b[38;5;241m.\u001b[39mx):\n\u001b[0;32m--> 324\u001b[0m         \u001b[38;5;28;43mself\u001b[39;49m\u001b[38;5;241;43m.\u001b[39;49m\u001b[43m_update_x\u001b[49m\u001b[43m(\u001b[49m\u001b[43mx\u001b[49m\u001b[43m)\u001b[49m\n\u001b[1;32m    325\u001b[0m     \u001b[38;5;28mself\u001b[39m\u001b[38;5;241m.\u001b[39m_update_fun()\n\u001b[1;32m    326\u001b[0m     \u001b[38;5;28;01mreturn\u001b[39;00m \u001b[38;5;28mself\u001b[39m\u001b[38;5;241m.\u001b[39mf\n",
      "File \u001b[0;32m~/1RDMFT/lib/python3.12/site-packages/scipy/optimize/_differentiable_functions.py:282\u001b[0m, in \u001b[0;36mScalarFunction._update_x\u001b[0;34m(self, x)\u001b[0m\n\u001b[1;32m    280\u001b[0m     \u001b[38;5;28mself\u001b[39m\u001b[38;5;241m.\u001b[39mg_updated \u001b[38;5;241m=\u001b[39m \u001b[38;5;28;01mFalse\u001b[39;00m\n\u001b[1;32m    281\u001b[0m     \u001b[38;5;28mself\u001b[39m\u001b[38;5;241m.\u001b[39mH_updated \u001b[38;5;241m=\u001b[39m \u001b[38;5;28;01mFalse\u001b[39;00m\n\u001b[0;32m--> 282\u001b[0m     \u001b[38;5;28;43mself\u001b[39;49m\u001b[38;5;241;43m.\u001b[39;49m\u001b[43m_update_hess\u001b[49m\u001b[43m(\u001b[49m\u001b[43m)\u001b[49m\n\u001b[1;32m    283\u001b[0m \u001b[38;5;28;01melse\u001b[39;00m:\n\u001b[1;32m    284\u001b[0m     \u001b[38;5;66;03m# ensure that self.x is a copy of x. Don't store a reference\u001b[39;00m\n\u001b[1;32m    285\u001b[0m     \u001b[38;5;66;03m# otherwise the memoization doesn't work properly.\u001b[39;00m\n\u001b[1;32m    286\u001b[0m     _x \u001b[38;5;241m=\u001b[39m atleast_nd(x, ndim\u001b[38;5;241m=\u001b[39m\u001b[38;5;241m1\u001b[39m, xp\u001b[38;5;241m=\u001b[39m\u001b[38;5;28mself\u001b[39m\u001b[38;5;241m.\u001b[39mxp)\n",
      "File \u001b[0;32m~/1RDMFT/lib/python3.12/site-packages/scipy/optimize/_differentiable_functions.py:315\u001b[0m, in \u001b[0;36mScalarFunction._update_hess\u001b[0;34m(self)\u001b[0m\n\u001b[1;32m    313\u001b[0m     \u001b[38;5;28mself\u001b[39m\u001b[38;5;241m.\u001b[39mH \u001b[38;5;241m=\u001b[39m \u001b[38;5;28mself\u001b[39m\u001b[38;5;241m.\u001b[39m_wrapped_hess(\u001b[38;5;28mself\u001b[39m\u001b[38;5;241m.\u001b[39mx, f0\u001b[38;5;241m=\u001b[39m\u001b[38;5;28mself\u001b[39m\u001b[38;5;241m.\u001b[39mg)\n\u001b[1;32m    314\u001b[0m \u001b[38;5;28;01melif\u001b[39;00m \u001b[38;5;28misinstance\u001b[39m(\u001b[38;5;28mself\u001b[39m\u001b[38;5;241m.\u001b[39m_orig_hess, HessianUpdateStrategy):\n\u001b[0;32m--> 315\u001b[0m     \u001b[38;5;28;43mself\u001b[39;49m\u001b[38;5;241;43m.\u001b[39;49m\u001b[43m_update_grad\u001b[49m\u001b[43m(\u001b[49m\u001b[43m)\u001b[49m\n\u001b[1;32m    316\u001b[0m     \u001b[38;5;28mself\u001b[39m\u001b[38;5;241m.\u001b[39mH\u001b[38;5;241m.\u001b[39mupdate(\u001b[38;5;28mself\u001b[39m\u001b[38;5;241m.\u001b[39mx \u001b[38;5;241m-\u001b[39m \u001b[38;5;28mself\u001b[39m\u001b[38;5;241m.\u001b[39mx_prev, \u001b[38;5;28mself\u001b[39m\u001b[38;5;241m.\u001b[39mg \u001b[38;5;241m-\u001b[39m \u001b[38;5;28mself\u001b[39m\u001b[38;5;241m.\u001b[39mg_prev)\n\u001b[1;32m    317\u001b[0m \u001b[38;5;28;01melse\u001b[39;00m:       \u001b[38;5;66;03m# should be callable(hess)\u001b[39;00m\n",
      "File \u001b[0;32m~/1RDMFT/lib/python3.12/site-packages/scipy/optimize/_differentiable_functions.py:306\u001b[0m, in \u001b[0;36mScalarFunction._update_grad\u001b[0;34m(self)\u001b[0m\n\u001b[1;32m    304\u001b[0m \u001b[38;5;28;01mif\u001b[39;00m \u001b[38;5;28mself\u001b[39m\u001b[38;5;241m.\u001b[39m_orig_grad \u001b[38;5;129;01min\u001b[39;00m FD_METHODS:\n\u001b[1;32m    305\u001b[0m     \u001b[38;5;28mself\u001b[39m\u001b[38;5;241m.\u001b[39m_update_fun()\n\u001b[0;32m--> 306\u001b[0m \u001b[38;5;28mself\u001b[39m\u001b[38;5;241m.\u001b[39mg \u001b[38;5;241m=\u001b[39m \u001b[38;5;28;43mself\u001b[39;49m\u001b[38;5;241;43m.\u001b[39;49m\u001b[43m_wrapped_grad\u001b[49m\u001b[43m(\u001b[49m\u001b[38;5;28;43mself\u001b[39;49m\u001b[38;5;241;43m.\u001b[39;49m\u001b[43mx\u001b[49m\u001b[43m,\u001b[49m\u001b[43m \u001b[49m\u001b[43mf0\u001b[49m\u001b[38;5;241;43m=\u001b[39;49m\u001b[38;5;28;43mself\u001b[39;49m\u001b[38;5;241;43m.\u001b[39;49m\u001b[43mf\u001b[49m\u001b[43m)\u001b[49m\n\u001b[1;32m    307\u001b[0m \u001b[38;5;28mself\u001b[39m\u001b[38;5;241m.\u001b[39mg_updated \u001b[38;5;241m=\u001b[39m \u001b[38;5;28;01mTrue\u001b[39;00m\n",
      "File \u001b[0;32m~/1RDMFT/lib/python3.12/site-packages/scipy/optimize/_differentiable_functions.py:41\u001b[0m, in \u001b[0;36m_wrapper_grad.<locals>.wrapped\u001b[0;34m(x, **kwds)\u001b[0m\n\u001b[1;32m     38\u001b[0m \u001b[38;5;28;01mdef\u001b[39;00m \u001b[38;5;21mwrapped\u001b[39m(x, \u001b[38;5;241m*\u001b[39m\u001b[38;5;241m*\u001b[39mkwds):\n\u001b[1;32m     39\u001b[0m     \u001b[38;5;66;03m# kwds present to give function same signature as numdiff variant\u001b[39;00m\n\u001b[1;32m     40\u001b[0m     ncalls[\u001b[38;5;241m0\u001b[39m] \u001b[38;5;241m+\u001b[39m\u001b[38;5;241m=\u001b[39m \u001b[38;5;241m1\u001b[39m\n\u001b[0;32m---> 41\u001b[0m     \u001b[38;5;28;01mreturn\u001b[39;00m np\u001b[38;5;241m.\u001b[39matleast_1d(\u001b[43mgrad\u001b[49m\u001b[43m(\u001b[49m\u001b[43mnp\u001b[49m\u001b[38;5;241;43m.\u001b[39;49m\u001b[43mcopy\u001b[49m\u001b[43m(\u001b[49m\u001b[43mx\u001b[49m\u001b[43m)\u001b[49m\u001b[43m,\u001b[49m\u001b[43m \u001b[49m\u001b[38;5;241;43m*\u001b[39;49m\u001b[43margs\u001b[49m\u001b[43m)\u001b[49m)\n",
      "File \u001b[0;32m~/1RDMFT/lib/python3.12/site-packages/scipy/optimize/_optimize.py:83\u001b[0m, in \u001b[0;36mMemoizeJac.derivative\u001b[0;34m(self, x, *args)\u001b[0m\n\u001b[1;32m     82\u001b[0m \u001b[38;5;28;01mdef\u001b[39;00m \u001b[38;5;21mderivative\u001b[39m(\u001b[38;5;28mself\u001b[39m, x, \u001b[38;5;241m*\u001b[39margs):\n\u001b[0;32m---> 83\u001b[0m     \u001b[38;5;28;43mself\u001b[39;49m\u001b[38;5;241;43m.\u001b[39;49m\u001b[43m_compute_if_needed\u001b[49m\u001b[43m(\u001b[49m\u001b[43mx\u001b[49m\u001b[43m,\u001b[49m\u001b[43m \u001b[49m\u001b[38;5;241;43m*\u001b[39;49m\u001b[43margs\u001b[49m\u001b[43m)\u001b[49m\n\u001b[1;32m     84\u001b[0m     \u001b[38;5;28;01mreturn\u001b[39;00m \u001b[38;5;28mself\u001b[39m\u001b[38;5;241m.\u001b[39mjac\n",
      "File \u001b[0;32m~/1RDMFT/lib/python3.12/site-packages/scipy/optimize/_optimize.py:73\u001b[0m, in \u001b[0;36mMemoizeJac._compute_if_needed\u001b[0;34m(self, x, *args)\u001b[0m\n\u001b[1;32m     71\u001b[0m \u001b[38;5;28;01mif\u001b[39;00m \u001b[38;5;129;01mnot\u001b[39;00m np\u001b[38;5;241m.\u001b[39mall(x \u001b[38;5;241m==\u001b[39m \u001b[38;5;28mself\u001b[39m\u001b[38;5;241m.\u001b[39mx) \u001b[38;5;129;01mor\u001b[39;00m \u001b[38;5;28mself\u001b[39m\u001b[38;5;241m.\u001b[39m_value \u001b[38;5;129;01mis\u001b[39;00m \u001b[38;5;28;01mNone\u001b[39;00m \u001b[38;5;129;01mor\u001b[39;00m \u001b[38;5;28mself\u001b[39m\u001b[38;5;241m.\u001b[39mjac \u001b[38;5;129;01mis\u001b[39;00m \u001b[38;5;28;01mNone\u001b[39;00m:\n\u001b[1;32m     72\u001b[0m     \u001b[38;5;28mself\u001b[39m\u001b[38;5;241m.\u001b[39mx \u001b[38;5;241m=\u001b[39m np\u001b[38;5;241m.\u001b[39masarray(x)\u001b[38;5;241m.\u001b[39mcopy()\n\u001b[0;32m---> 73\u001b[0m     fg \u001b[38;5;241m=\u001b[39m \u001b[38;5;28;43mself\u001b[39;49m\u001b[38;5;241;43m.\u001b[39;49m\u001b[43mfun\u001b[49m\u001b[43m(\u001b[49m\u001b[43mx\u001b[49m\u001b[43m,\u001b[49m\u001b[43m \u001b[49m\u001b[38;5;241;43m*\u001b[39;49m\u001b[43margs\u001b[49m\u001b[43m)\u001b[49m\n\u001b[1;32m     74\u001b[0m     \u001b[38;5;28mself\u001b[39m\u001b[38;5;241m.\u001b[39mjac \u001b[38;5;241m=\u001b[39m fg[\u001b[38;5;241m1\u001b[39m]\n\u001b[1;32m     75\u001b[0m     \u001b[38;5;28mself\u001b[39m\u001b[38;5;241m.\u001b[39m_value \u001b[38;5;241m=\u001b[39m fg[\u001b[38;5;241m0\u001b[39m]\n",
      "File \u001b[0;32m~/1RDMFT/QMRDMFT/qmrdmft/calculator.py:180\u001b[0m, in \u001b[0;36mCalculator.calculate_objctv_grdnt\u001b[0;34m(self, h, *args, **kwargs)\u001b[0m\n\u001b[1;32m    177\u001b[0m \u001b[38;5;28;01mif\u001b[39;00m \u001b[38;5;28mself\u001b[39m\u001b[38;5;241m.\u001b[39msymmetrize:\n\u001b[1;32m    178\u001b[0m     h \u001b[38;5;241m=\u001b[39m (h \u001b[38;5;241m+\u001b[39m h\u001b[38;5;241m.\u001b[39mT)\u001b[38;5;241m/\u001b[39m\u001b[38;5;241m2\u001b[39m\n\u001b[0;32m--> 180\u001b[0m energies, rdms \u001b[38;5;241m=\u001b[39m \u001b[38;5;28;43mself\u001b[39;49m\u001b[38;5;241;43m.\u001b[39;49m\u001b[43mcalculate_e_rdms\u001b[49m\u001b[43m(\u001b[49m\u001b[43mh\u001b[49m\u001b[43m,\u001b[49m\u001b[43m \u001b[49m\u001b[38;5;241;43m*\u001b[39;49m\u001b[38;5;241;43m*\u001b[39;49m\u001b[38;5;28;43mself\u001b[39;49m\u001b[38;5;241;43m.\u001b[39;49m\u001b[43mobjective_kwargs\u001b[49m\u001b[43m)\u001b[49m\n\u001b[1;32m    182\u001b[0m score \u001b[38;5;241m=\u001b[39m energies[\u001b[38;5;241m0\u001b[39m] \u001b[38;5;241m-\u001b[39m np\u001b[38;5;241m.\u001b[39mtrace(h\u001b[38;5;129m@self\u001b[39m\u001b[38;5;241m.\u001b[39mgamma) \n\u001b[1;32m    184\u001b[0m weights \u001b[38;5;241m=\u001b[39m calc_weights(energies, \u001b[38;5;28mself\u001b[39m\u001b[38;5;241m.\u001b[39malpha)\n",
      "File \u001b[0;32m~/1RDMFT/QMRDMFT/qmrdmft/calculator.py:63\u001b[0m, in \u001b[0;36mCalculatorBase.calculate_e_rdms\u001b[0;34m(self, h, **kwargs)\u001b[0m\n\u001b[1;32m     45\u001b[0m \u001b[38;5;28;01mdef\u001b[39;00m \u001b[38;5;21mcalculate_e_rdms\u001b[39m(\u001b[38;5;28mself\u001b[39m, h, \u001b[38;5;241m*\u001b[39m\u001b[38;5;241m*\u001b[39mkwargs):\n\u001b[1;32m     46\u001b[0m \u001b[38;5;250m    \u001b[39m\u001b[38;5;124;03m\"\"\"\u001b[39;00m\n\u001b[1;32m     47\u001b[0m \u001b[38;5;124;03m    Calculate the energies and 1-RDM from the given parameters.\u001b[39;00m\n\u001b[1;32m     48\u001b[0m \n\u001b[0;32m   (...)\u001b[0m\n\u001b[1;32m     61\u001b[0m \u001b[38;5;124;03m        1-RDMs\u001b[39;00m\n\u001b[1;32m     62\u001b[0m \u001b[38;5;124;03m    \"\"\"\u001b[39;00m\n\u001b[0;32m---> 63\u001b[0m     energies, rdms \u001b[38;5;241m=\u001b[39m \u001b[38;5;28;43mself\u001b[39;49m\u001b[38;5;241;43m.\u001b[39;49m\u001b[43me_rdm_generator\u001b[49m\u001b[43m(\u001b[49m\u001b[43mh\u001b[49m\u001b[43m,\u001b[49m\u001b[43m \u001b[49m\u001b[43mv\u001b[49m\u001b[38;5;241;43m=\u001b[39;49m\u001b[38;5;28;43mself\u001b[39;49m\u001b[38;5;241;43m.\u001b[39;49m\u001b[43mv\u001b[49m\u001b[43m,\u001b[49m\u001b[43m \u001b[49m\u001b[38;5;241;43m*\u001b[39;49m\u001b[38;5;241;43m*\u001b[39;49m\u001b[43mkwargs\u001b[49m\u001b[43m)\u001b[49m\n\u001b[1;32m     65\u001b[0m     \u001b[38;5;66;03m# populate the class variables\u001b[39;00m\n\u001b[1;32m     66\u001b[0m     \u001b[38;5;28mself\u001b[39m\u001b[38;5;241m.\u001b[39menergies \u001b[38;5;241m=\u001b[39m energies\n",
      "File \u001b[0;32m~/1RDMFT/QMRDMFT/qmrdmft/tools.py:30\u001b[0m, in \u001b[0;36me_rdms\u001b[0;34m(h, v, ecore, nelec, norbs, nroots)\u001b[0m\n\u001b[1;32m      9\u001b[0m \u001b[38;5;250m\u001b[39m\u001b[38;5;124;03m\"\"\"\u001b[39;00m\n\u001b[1;32m     10\u001b[0m \u001b[38;5;124;03mCalculate the energies and 1-RDM from the given parameters.\u001b[39;00m\n\u001b[1;32m     11\u001b[0m \n\u001b[0;32m   (...)\u001b[0m\n\u001b[1;32m     27\u001b[0m \u001b[38;5;124;03m    Number of roots to calculate\u001b[39;00m\n\u001b[1;32m     28\u001b[0m \u001b[38;5;124;03m\"\"\"\u001b[39;00m\n\u001b[1;32m     29\u001b[0m \u001b[38;5;66;03m# calculate the energies and 1-RDM using pyscf\u001b[39;00m\n\u001b[0;32m---> 30\u001b[0m e_arr, ci_vec \u001b[38;5;241m=\u001b[39m \u001b[43mfci\u001b[49m\u001b[38;5;241;43m.\u001b[39;49m\u001b[43mdirect_spin1\u001b[49m\u001b[38;5;241;43m.\u001b[39;49m\u001b[43mkernel\u001b[49m\u001b[43m(\u001b[49m\u001b[43mh\u001b[49m\u001b[43m,\u001b[49m\u001b[43m \u001b[49m\n\u001b[1;32m     31\u001b[0m \u001b[43m                                    \u001b[49m\u001b[43mv\u001b[49m\u001b[43m,\u001b[49m\u001b[43m \u001b[49m\n\u001b[1;32m     32\u001b[0m \u001b[43m                                    \u001b[49m\u001b[43mnorbs\u001b[49m\u001b[43m,\u001b[49m\u001b[43m \u001b[49m\n\u001b[1;32m     33\u001b[0m \u001b[43m                                    \u001b[49m\u001b[43mnelec\u001b[49m\u001b[43m,\u001b[49m\n\u001b[1;32m     34\u001b[0m \u001b[43m                                    \u001b[49m\u001b[43mecore\u001b[49m\u001b[38;5;241;43m=\u001b[39;49m\u001b[43mecore\u001b[49m\u001b[43m,\u001b[49m\u001b[43m \u001b[49m\n\u001b[1;32m     35\u001b[0m \u001b[43m                                    \u001b[49m\u001b[43mnroots\u001b[49m\u001b[38;5;241;43m=\u001b[39;49m\u001b[43mnroots\u001b[49m\u001b[43m)\u001b[49m\n\u001b[1;32m     36\u001b[0m \u001b[38;5;66;03m# initialize the 1-RDMs list\u001b[39;00m\n\u001b[1;32m     37\u001b[0m rdms1 \u001b[38;5;241m=\u001b[39m []\n",
      "File \u001b[0;32m~/1RDMFT/lib/python3.12/site-packages/pyscf/fci/direct_spin1.py:257\u001b[0m, in \u001b[0;36mkernel\u001b[0;34m(h1e, eri, norb, nelec, ci0, level_shift, tol, lindep, max_cycle, max_space, nroots, davidson_only, pspace_size, orbsym, wfnsym, ecore, **kwargs)\u001b[0m\n\u001b[1;32m    253\u001b[0m \u001b[38;5;28;01mdef\u001b[39;00m \u001b[38;5;21mkernel\u001b[39m(h1e, eri, norb, nelec, ci0\u001b[38;5;241m=\u001b[39m\u001b[38;5;28;01mNone\u001b[39;00m, level_shift\u001b[38;5;241m=\u001b[39m\u001b[38;5;241m1e-3\u001b[39m, tol\u001b[38;5;241m=\u001b[39m\u001b[38;5;241m1e-10\u001b[39m,\n\u001b[1;32m    254\u001b[0m            lindep\u001b[38;5;241m=\u001b[39m\u001b[38;5;241m1e-14\u001b[39m, max_cycle\u001b[38;5;241m=\u001b[39m\u001b[38;5;241m50\u001b[39m, max_space\u001b[38;5;241m=\u001b[39m\u001b[38;5;241m12\u001b[39m, nroots\u001b[38;5;241m=\u001b[39m\u001b[38;5;241m1\u001b[39m,\n\u001b[1;32m    255\u001b[0m            davidson_only\u001b[38;5;241m=\u001b[39m\u001b[38;5;28;01mFalse\u001b[39;00m, pspace_size\u001b[38;5;241m=\u001b[39m\u001b[38;5;241m400\u001b[39m, orbsym\u001b[38;5;241m=\u001b[39m\u001b[38;5;28;01mNone\u001b[39;00m, wfnsym\u001b[38;5;241m=\u001b[39m\u001b[38;5;28;01mNone\u001b[39;00m,\n\u001b[1;32m    256\u001b[0m            ecore\u001b[38;5;241m=\u001b[39m\u001b[38;5;241m0\u001b[39m, \u001b[38;5;241m*\u001b[39m\u001b[38;5;241m*\u001b[39mkwargs):\n\u001b[0;32m--> 257\u001b[0m     \u001b[38;5;28;01mreturn\u001b[39;00m \u001b[43m_kfactory\u001b[49m\u001b[43m(\u001b[49m\u001b[43mFCISolver\u001b[49m\u001b[43m,\u001b[49m\u001b[43m \u001b[49m\u001b[43mh1e\u001b[49m\u001b[43m,\u001b[49m\u001b[43m \u001b[49m\u001b[43meri\u001b[49m\u001b[43m,\u001b[49m\u001b[43m \u001b[49m\u001b[43mnorb\u001b[49m\u001b[43m,\u001b[49m\u001b[43m \u001b[49m\u001b[43mnelec\u001b[49m\u001b[43m,\u001b[49m\u001b[43m \u001b[49m\u001b[43mci0\u001b[49m\u001b[43m,\u001b[49m\u001b[43m \u001b[49m\u001b[43mlevel_shift\u001b[49m\u001b[43m,\u001b[49m\n\u001b[1;32m    258\u001b[0m \u001b[43m                     \u001b[49m\u001b[43mtol\u001b[49m\u001b[43m,\u001b[49m\u001b[43m \u001b[49m\u001b[43mlindep\u001b[49m\u001b[43m,\u001b[49m\u001b[43m \u001b[49m\u001b[43mmax_cycle\u001b[49m\u001b[43m,\u001b[49m\u001b[43m \u001b[49m\u001b[43mmax_space\u001b[49m\u001b[43m,\u001b[49m\u001b[43m \u001b[49m\u001b[43mnroots\u001b[49m\u001b[43m,\u001b[49m\n\u001b[1;32m    259\u001b[0m \u001b[43m                     \u001b[49m\u001b[43mdavidson_only\u001b[49m\u001b[43m,\u001b[49m\u001b[43m \u001b[49m\u001b[43mpspace_size\u001b[49m\u001b[43m,\u001b[49m\u001b[43m \u001b[49m\u001b[43mecore\u001b[49m\u001b[38;5;241;43m=\u001b[39;49m\u001b[43mecore\u001b[49m\u001b[43m,\u001b[49m\u001b[43m \u001b[49m\u001b[38;5;241;43m*\u001b[39;49m\u001b[38;5;241;43m*\u001b[39;49m\u001b[43mkwargs\u001b[49m\u001b[43m)\u001b[49m\n",
      "File \u001b[0;32m~/1RDMFT/lib/python3.12/site-packages/pyscf/fci/direct_spin1.py:281\u001b[0m, in \u001b[0;36m_kfactory\u001b[0;34m(Solver, h1e, eri, norb, nelec, ci0, level_shift, tol, lindep, max_cycle, max_space, nroots, davidson_only, pspace_size, ecore, **kwargs)\u001b[0m\n\u001b[1;32m    278\u001b[0m \u001b[38;5;28;01mif\u001b[39;00m unknown:\n\u001b[1;32m    279\u001b[0m     sys\u001b[38;5;241m.\u001b[39mstderr\u001b[38;5;241m.\u001b[39mwrite(\u001b[38;5;124m'\u001b[39m\u001b[38;5;124mUnknown keys \u001b[39m\u001b[38;5;132;01m%s\u001b[39;00m\u001b[38;5;124m for FCI kernel \u001b[39m\u001b[38;5;132;01m%s\u001b[39;00m\u001b[38;5;130;01m\\n\u001b[39;00m\u001b[38;5;124m'\u001b[39m \u001b[38;5;241m%\u001b[39m\n\u001b[1;32m    280\u001b[0m                      (\u001b[38;5;28mstr\u001b[39m(unknown\u001b[38;5;241m.\u001b[39mkeys()), \u001b[38;5;18m__name__\u001b[39m))\n\u001b[0;32m--> 281\u001b[0m e, c \u001b[38;5;241m=\u001b[39m \u001b[43mcis\u001b[49m\u001b[38;5;241;43m.\u001b[39;49m\u001b[43mkernel\u001b[49m\u001b[43m(\u001b[49m\u001b[43mh1e\u001b[49m\u001b[43m,\u001b[49m\u001b[43m \u001b[49m\u001b[43meri\u001b[49m\u001b[43m,\u001b[49m\u001b[43m \u001b[49m\u001b[43mnorb\u001b[49m\u001b[43m,\u001b[49m\u001b[43m \u001b[49m\u001b[43mnelec\u001b[49m\u001b[43m,\u001b[49m\u001b[43m \u001b[49m\u001b[43mci0\u001b[49m\u001b[43m,\u001b[49m\u001b[43m \u001b[49m\u001b[43mecore\u001b[49m\u001b[38;5;241;43m=\u001b[39;49m\u001b[43mecore\u001b[49m\u001b[43m,\u001b[49m\u001b[43m \u001b[49m\u001b[38;5;241;43m*\u001b[39;49m\u001b[38;5;241;43m*\u001b[39;49m\u001b[43munknown\u001b[49m\u001b[43m)\u001b[49m\n\u001b[1;32m    282\u001b[0m \u001b[38;5;28;01mreturn\u001b[39;00m e, c\n",
      "File \u001b[0;32m~/1RDMFT/lib/python3.12/site-packages/pyscf/fci/direct_spin1.py:842\u001b[0m, in \u001b[0;36mFCIBase.kernel\u001b[0;34m(self, h1e, eri, norb, nelec, ci0, tol, lindep, max_cycle, max_space, nroots, davidson_only, pspace_size, orbsym, wfnsym, ecore, **kwargs)\u001b[0m\n\u001b[1;32m    840\u001b[0m \u001b[38;5;28mself\u001b[39m\u001b[38;5;241m.\u001b[39mnelec \u001b[38;5;241m=\u001b[39m nelec \u001b[38;5;241m=\u001b[39m _unpack_nelec(nelec, \u001b[38;5;28mself\u001b[39m\u001b[38;5;241m.\u001b[39mspin)\n\u001b[1;32m    841\u001b[0m link_index \u001b[38;5;241m=\u001b[39m _unpack(norb, nelec, \u001b[38;5;28;01mNone\u001b[39;00m)\n\u001b[0;32m--> 842\u001b[0m e, c \u001b[38;5;241m=\u001b[39m \u001b[43mkernel_ms1\u001b[49m\u001b[43m(\u001b[49m\u001b[38;5;28;43mself\u001b[39;49m\u001b[43m,\u001b[49m\u001b[43m \u001b[49m\u001b[43mh1e\u001b[49m\u001b[43m,\u001b[49m\u001b[43m \u001b[49m\u001b[43meri\u001b[49m\u001b[43m,\u001b[49m\u001b[43m \u001b[49m\u001b[43mnorb\u001b[49m\u001b[43m,\u001b[49m\u001b[43m \u001b[49m\u001b[43mnelec\u001b[49m\u001b[43m,\u001b[49m\u001b[43m \u001b[49m\u001b[43mci0\u001b[49m\u001b[43m,\u001b[49m\u001b[43m \u001b[49m\u001b[43mlink_index\u001b[49m\u001b[43m,\u001b[49m\n\u001b[1;32m    843\u001b[0m \u001b[43m                  \u001b[49m\u001b[43mtol\u001b[49m\u001b[43m,\u001b[49m\u001b[43m \u001b[49m\u001b[43mlindep\u001b[49m\u001b[43m,\u001b[49m\u001b[43m \u001b[49m\u001b[43mmax_cycle\u001b[49m\u001b[43m,\u001b[49m\u001b[43m \u001b[49m\u001b[43mmax_space\u001b[49m\u001b[43m,\u001b[49m\u001b[43m \u001b[49m\u001b[43mnroots\u001b[49m\u001b[43m,\u001b[49m\n\u001b[1;32m    844\u001b[0m \u001b[43m                  \u001b[49m\u001b[43mdavidson_only\u001b[49m\u001b[43m,\u001b[49m\u001b[43m \u001b[49m\u001b[43mpspace_size\u001b[49m\u001b[43m,\u001b[49m\u001b[43m \u001b[49m\u001b[43mecore\u001b[49m\u001b[38;5;241;43m=\u001b[39;49m\u001b[43mecore\u001b[49m\u001b[43m,\u001b[49m\u001b[43m \u001b[49m\u001b[38;5;241;43m*\u001b[39;49m\u001b[38;5;241;43m*\u001b[39;49m\u001b[43mkwargs\u001b[49m\u001b[43m)\u001b[49m\n\u001b[1;32m    845\u001b[0m \u001b[38;5;28mself\u001b[39m\u001b[38;5;241m.\u001b[39meci \u001b[38;5;241m=\u001b[39m e\n\u001b[1;32m    847\u001b[0m na \u001b[38;5;241m=\u001b[39m link_index[\u001b[38;5;241m0\u001b[39m]\u001b[38;5;241m.\u001b[39mshape[\u001b[38;5;241m0\u001b[39m]\n",
      "File \u001b[0;32m~/1RDMFT/lib/python3.12/site-packages/pyscf/fci/direct_spin1.py:612\u001b[0m, in \u001b[0;36mkernel_ms1\u001b[0;34m(fci, h1e, eri, norb, nelec, ci0, link_index, tol, lindep, max_cycle, max_space, nroots, davidson_only, pspace_size, hop, max_memory, verbose, ecore, **kwargs)\u001b[0m\n\u001b[1;32m    609\u001b[0m tol_residual \u001b[38;5;241m=\u001b[39m \u001b[38;5;28mgetattr\u001b[39m(fci, \u001b[38;5;124m'\u001b[39m\u001b[38;5;124mconv_tol_residual\u001b[39m\u001b[38;5;124m'\u001b[39m, \u001b[38;5;28;01mNone\u001b[39;00m)\n\u001b[1;32m    611\u001b[0m \u001b[38;5;28;01mwith\u001b[39;00m lib\u001b[38;5;241m.\u001b[39mwith_omp_threads(fci\u001b[38;5;241m.\u001b[39mthreads):\n\u001b[0;32m--> 612\u001b[0m     e, c \u001b[38;5;241m=\u001b[39m \u001b[43mfci\u001b[49m\u001b[38;5;241;43m.\u001b[39;49m\u001b[43meig\u001b[49m\u001b[43m(\u001b[49m\u001b[43mhop\u001b[49m\u001b[43m,\u001b[49m\u001b[43m \u001b[49m\u001b[43mci0\u001b[49m\u001b[43m,\u001b[49m\u001b[43m \u001b[49m\u001b[43mprecond\u001b[49m\u001b[43m,\u001b[49m\u001b[43m \u001b[49m\u001b[43mtol\u001b[49m\u001b[38;5;241;43m=\u001b[39;49m\u001b[43mtol\u001b[49m\u001b[43m,\u001b[49m\u001b[43m \u001b[49m\u001b[43mlindep\u001b[49m\u001b[38;5;241;43m=\u001b[39;49m\u001b[43mlindep\u001b[49m\u001b[43m,\u001b[49m\n\u001b[1;32m    613\u001b[0m \u001b[43m                   \u001b[49m\u001b[43mmax_cycle\u001b[49m\u001b[38;5;241;43m=\u001b[39;49m\u001b[43mmax_cycle\u001b[49m\u001b[43m,\u001b[49m\u001b[43m \u001b[49m\u001b[43mmax_space\u001b[49m\u001b[38;5;241;43m=\u001b[39;49m\u001b[43mmax_space\u001b[49m\u001b[43m,\u001b[49m\u001b[43m \u001b[49m\u001b[43mnroots\u001b[49m\u001b[38;5;241;43m=\u001b[39;49m\u001b[43mnroots\u001b[49m\u001b[43m,\u001b[49m\n\u001b[1;32m    614\u001b[0m \u001b[43m                   \u001b[49m\u001b[43mmax_memory\u001b[49m\u001b[38;5;241;43m=\u001b[39;49m\u001b[43mmax_memory\u001b[49m\u001b[43m,\u001b[49m\u001b[43m \u001b[49m\u001b[43mverbose\u001b[49m\u001b[38;5;241;43m=\u001b[39;49m\u001b[43mlog\u001b[49m\u001b[43m,\u001b[49m\u001b[43m \u001b[49m\u001b[43mfollow_state\u001b[49m\u001b[38;5;241;43m=\u001b[39;49m\u001b[38;5;28;43;01mTrue\u001b[39;49;00m\u001b[43m,\u001b[49m\n\u001b[1;32m    615\u001b[0m \u001b[43m                   \u001b[49m\u001b[43mtol_residual\u001b[49m\u001b[38;5;241;43m=\u001b[39;49m\u001b[43mtol_residual\u001b[49m\u001b[43m,\u001b[49m\u001b[43m \u001b[49m\u001b[38;5;241;43m*\u001b[39;49m\u001b[38;5;241;43m*\u001b[39;49m\u001b[43mkwargs\u001b[49m\u001b[43m)\u001b[49m\n\u001b[1;32m    616\u001b[0m \u001b[38;5;28;01mreturn\u001b[39;00m e\u001b[38;5;241m+\u001b[39mecore, c\n",
      "File \u001b[0;32m~/1RDMFT/lib/python3.12/site-packages/pyscf/fci/direct_spin1.py:810\u001b[0m, in \u001b[0;36mFCIBase.eig\u001b[0;34m(self, op, x0, precond, **kwargs)\u001b[0m\n\u001b[1;32m    806\u001b[0m     \u001b[38;5;28mself\u001b[39m\u001b[38;5;241m.\u001b[39mconverged \u001b[38;5;241m=\u001b[39m \u001b[38;5;28;01mTrue\u001b[39;00m\n\u001b[1;32m    807\u001b[0m     \u001b[38;5;28;01mreturn\u001b[39;00m scipy\u001b[38;5;241m.\u001b[39mlinalg\u001b[38;5;241m.\u001b[39meigh(op)\n\u001b[1;32m    809\u001b[0m \u001b[38;5;28mself\u001b[39m\u001b[38;5;241m.\u001b[39mconverged, e, ci \u001b[38;5;241m=\u001b[39m \\\n\u001b[0;32m--> 810\u001b[0m         \u001b[43mlib\u001b[49m\u001b[38;5;241;43m.\u001b[39;49m\u001b[43mdavidson1\u001b[49m\u001b[43m(\u001b[49m\u001b[38;5;28;43;01mlambda\u001b[39;49;00m\u001b[43m \u001b[49m\u001b[43mxs\u001b[49m\u001b[43m:\u001b[49m\u001b[43m \u001b[49m\u001b[43m[\u001b[49m\u001b[43mop\u001b[49m\u001b[43m(\u001b[49m\u001b[43mx\u001b[49m\u001b[43m)\u001b[49m\u001b[43m \u001b[49m\u001b[38;5;28;43;01mfor\u001b[39;49;00m\u001b[43m \u001b[49m\u001b[43mx\u001b[49m\u001b[43m \u001b[49m\u001b[38;5;129;43;01min\u001b[39;49;00m\u001b[43m \u001b[49m\u001b[43mxs\u001b[49m\u001b[43m]\u001b[49m\u001b[43m,\u001b[49m\n\u001b[1;32m    811\u001b[0m \u001b[43m                      \u001b[49m\u001b[43mx0\u001b[49m\u001b[43m,\u001b[49m\u001b[43m \u001b[49m\u001b[43mprecond\u001b[49m\u001b[43m,\u001b[49m\u001b[43m \u001b[49m\u001b[43mlessio\u001b[49m\u001b[38;5;241;43m=\u001b[39;49m\u001b[38;5;28;43mself\u001b[39;49m\u001b[38;5;241;43m.\u001b[39;49m\u001b[43mlessio\u001b[49m\u001b[43m,\u001b[49m\u001b[43m \u001b[49m\u001b[38;5;241;43m*\u001b[39;49m\u001b[38;5;241;43m*\u001b[39;49m\u001b[43mkwargs\u001b[49m\u001b[43m)\u001b[49m\n\u001b[1;32m    812\u001b[0m \u001b[38;5;28;01mif\u001b[39;00m kwargs[\u001b[38;5;124m'\u001b[39m\u001b[38;5;124mnroots\u001b[39m\u001b[38;5;124m'\u001b[39m] \u001b[38;5;241m==\u001b[39m \u001b[38;5;241m1\u001b[39m:\n\u001b[1;32m    813\u001b[0m     \u001b[38;5;28mself\u001b[39m\u001b[38;5;241m.\u001b[39mconverged \u001b[38;5;241m=\u001b[39m \u001b[38;5;28mself\u001b[39m\u001b[38;5;241m.\u001b[39mconverged[\u001b[38;5;241m0\u001b[39m]\n",
      "File \u001b[0;32m~/1RDMFT/lib/python3.12/site-packages/pyscf/lib/linalg_helper.py:465\u001b[0m, in \u001b[0;36mdavidson1\u001b[0;34m(aop, x0, precond, tol, max_cycle, max_space, lindep, max_memory, dot, callback, nroots, lessio, pick, verbose, follow_state, tol_residual, fill_heff)\u001b[0m\n\u001b[1;32m    462\u001b[0m vlast \u001b[38;5;241m=\u001b[39m v\n\u001b[1;32m    463\u001b[0m conv_last \u001b[38;5;241m=\u001b[39m conv\n\u001b[0;32m--> 465\u001b[0m \u001b[43mfill_heff\u001b[49m\u001b[43m(\u001b[49m\u001b[43mheff\u001b[49m\u001b[43m,\u001b[49m\u001b[43m \u001b[49m\u001b[43mxs\u001b[49m\u001b[43m,\u001b[49m\u001b[43m \u001b[49m\u001b[43max\u001b[49m\u001b[43m,\u001b[49m\u001b[43m \u001b[49m\u001b[43mxt\u001b[49m\u001b[43m,\u001b[49m\u001b[43m \u001b[49m\u001b[43maxt\u001b[49m\u001b[43m,\u001b[49m\u001b[43m \u001b[49m\u001b[43mdot\u001b[49m\u001b[43m)\u001b[49m\n\u001b[1;32m    466\u001b[0m xt \u001b[38;5;241m=\u001b[39m axt \u001b[38;5;241m=\u001b[39m \u001b[38;5;28;01mNone\u001b[39;00m\n\u001b[1;32m    467\u001b[0m w, v \u001b[38;5;241m=\u001b[39m scipy\u001b[38;5;241m.\u001b[39mlinalg\u001b[38;5;241m.\u001b[39meigh(heff[:space,:space])\n",
      "File \u001b[0;32m~/1RDMFT/lib/python3.12/site-packages/pyscf/lib/linalg_helper.py:178\u001b[0m, in \u001b[0;36m_fill_heff_hermitian\u001b[0;34m(heff, xs, ax, xt, axt, dot)\u001b[0m\n\u001b[1;32m    176\u001b[0m axi \u001b[38;5;241m=\u001b[39m numpy\u001b[38;5;241m.\u001b[39masarray(ax[i])\n\u001b[1;32m    177\u001b[0m \u001b[38;5;28;01mfor\u001b[39;00m jp, j \u001b[38;5;129;01min\u001b[39;00m \u001b[38;5;28menumerate\u001b[39m(\u001b[38;5;28mrange\u001b[39m(row0, row1)):\n\u001b[0;32m--> 178\u001b[0m     heff[j,i] \u001b[38;5;241m=\u001b[39m \u001b[43mdot\u001b[49m\u001b[43m(\u001b[49m\u001b[43mxt\u001b[49m\u001b[43m[\u001b[49m\u001b[43mjp\u001b[49m\u001b[43m]\u001b[49m\u001b[38;5;241;43m.\u001b[39;49m\u001b[43mconj\u001b[49m\u001b[43m(\u001b[49m\u001b[43m)\u001b[49m\u001b[43m,\u001b[49m\u001b[43m \u001b[49m\u001b[43maxi\u001b[49m\u001b[43m)\u001b[49m\n\u001b[1;32m    179\u001b[0m     heff[i,j] \u001b[38;5;241m=\u001b[39m heff[j,i]\u001b[38;5;241m.\u001b[39mconj()\n\u001b[1;32m    180\u001b[0m axi \u001b[38;5;241m=\u001b[39m \u001b[38;5;28;01mNone\u001b[39;00m\n",
      "\u001b[0;31mKeyboardInterrupt\u001b[0m: "
     ]
    }
   ],
   "source": [
    "## LFT of Levy Valone\n",
    "\n",
    "eq_cons = {'type': 'eq',\n",
    "           'fun' : lambda x: x[0]-h1[0, 0]}\n",
    "# initializing the calculator\n",
    "calculator = Calculator(h2, rdms1[0].copy(), # two body term and rdm for the ground state\n",
    "                        tools.e_rdms, tools.optimize, 1e-7, # function that calculates (energies, rdms) and optimizer \n",
    "                        ecore=mol.energy_nuc(), norbs=h1.shape[1], nelec=mol.nelec, maximize=True, symmetrize=True, nroots=5) # parameters for the\n",
    "\n",
    "# get the exact value of the objective function\n",
    "L, dL = calculator.calculate_objctv_grdnt(h1)\n",
    "#print(\"Exact value of the objective function\", L)\n",
    "\n",
    "# run the optimizer\n",
    "## objectiva function value changes when we add constraint\n",
    "res = calculator.optimize(np.zeros(h1.size), \n",
    "                          method='trust-constr',\n",
    "                          options={\"maxiter\":500, 'disp':False, 'verbose':0, 'gtol':1e-7,},\n",
    "                          constraints=eq_cons)\n",
    "\n",
    "print(\"Print value after optimization: \", res.fun, res.fun+V_ee) \n",
    "W=res.fun\n",
    "#print(\"Difference:\", res.fun-L)"
   ]
  },
  {
   "cell_type": "code",
   "execution_count": null,
   "id": "c5b0c22b-706f-4baf-bb61-eec9749afc84",
   "metadata": {},
   "outputs": [],
   "source": [
    "FCIoccu, FCInaturalC = np.linalg.eigh(rdms1[0]/2.0)\n",
    "#naturalCTT = np.matmul(C,naturalC) # I think this might just be a diagonal matrix  \n",
    "FCInaturalCTT = np.matmul(C,FCInaturalC)\n",
    "FCInaturalCTTE = expand_matrix(FCInaturalCTT)\n",
    "FCIoccuE = np.append(FCIoccu,FCIoccu)\n",
    "\n",
    "print(FCIoccuE,  sum(FCIoccuE))"
   ]
  },
  {
   "cell_type": "code",
   "execution_count": null,
   "id": "ca9cd15c-979c-425b-a69d-f1163ed2a136",
   "metadata": {},
   "outputs": [],
   "source": [
    "Um_2 = ONERDMFT_Umrigar_exchange_correlation_energy_parallel(eri, FCInaturalCTTE, FCIoccuE) # these routines expect all the maytrices to be expanded first\n",
    "Um_1 = ONERDMFT_Umrigar_hartree_energy_parallel(eri, FCInaturalCTTE, FCIoccuE)\n",
    "H    = ONERDMFT_hartree_energy_parallel(eri, FCInaturalCTTE, FCIoccuE)\n",
    "Mu   = ONERDMFT_Mueller_exchange_correlation_energy_parallel(eri, FCInaturalCTTE, FCIoccuE)\n",
    "\n",
    "print(f\"{Um_1:2.4f} {Um_2:2.4f} {H:2.4f} {Mu:2.4f}\")"
   ]
  },
  {
   "cell_type": "code",
   "execution_count": null,
   "id": "3b71e4b0-2c69-4bc7-a736-0a5ede58f429",
   "metadata": {},
   "outputs": [],
   "source": [
    "print(.5*np.trace(np.matmul(rdms1[0],J)))"
   ]
  },
  {
   "cell_type": "code",
   "execution_count": null,
   "id": "1b3886a0-b741-41cd-b5bb-109c5b8f1c9b",
   "metadata": {},
   "outputs": [],
   "source": [
    "print(f\"{2*(Um_1+Um_2)}  {2*(H+Mu)}  {V_ee}\")"
   ]
  },
  {
   "cell_type": "code",
   "execution_count": null,
   "id": "2977eeb9-ee2a-4fbf-9249-f8f37b477a88",
   "metadata": {},
   "outputs": [],
   "source": []
  }
 ],
 "metadata": {
  "kernelspec": {
   "display_name": "1RDMFT",
   "language": "python",
   "name": "1rdmft"
  },
  "language_info": {
   "codemirror_mode": {
    "name": "ipython",
    "version": 3
   },
   "file_extension": ".py",
   "mimetype": "text/x-python",
   "name": "python",
   "nbconvert_exporter": "python",
   "pygments_lexer": "ipython3",
   "version": "3.12.3"
  }
 },
 "nbformat": 4,
 "nbformat_minor": 5
}
