{
 "cells": [
  {
   "cell_type": "code",
   "execution_count": 1,
   "id": "571c7437-0c9b-4ebd-bc44-280cc113ee20",
   "metadata": {},
   "outputs": [],
   "source": [
    "import numpy as np\n",
    "from pyscf import gto, scf, ao2mo, fci"
   ]
  },
  {
   "cell_type": "markdown",
   "id": "e215b050-47ab-4e0b-98c1-cd3761c95058",
   "metadata": {},
   "source": [
    "this an example on how to do FCI fro the 4 index integrals, or the 2 electron integrals. "
   ]
  },
  {
   "cell_type": "code",
   "execution_count": 2,
   "id": "4932a6bb-bc78-42f8-8548-eaacfb35e9c6",
   "metadata": {},
   "outputs": [],
   "source": [
    "def Add_Block_Matrices(Paa, Pbb):\n",
    "    Pab = np.zeros(Paa.shape)\n",
    "    Pba = np.zeros(Paa.shape)\n",
    "    PE = np.concatenate((np.concatenate((Paa, Pab), axis=1), np.concatenate((Pba, Pbb), axis=1)), axis=0) \n",
    "    return PE"
   ]
  },
  {
   "cell_type": "code",
   "execution_count": 3,
   "id": "0eace2fe-116a-4efc-b755-4cb6bf6ad9a3",
   "metadata": {},
   "outputs": [],
   "source": [
    "# basic setup of a molecule\n",
    "element = \"He\"\n",
    "mol = gto.Mole()\n",
    "mol.atom = f'''{element}  0 0 0'''\n",
    "mol.basis = '631-g'\n",
    "mol.build()\n",
    "eri_ao = mol.intor('int2e')"
   ]
  },
  {
   "cell_type": "code",
   "execution_count": 4,
   "id": "b6833175-57d4-40ef-b9c0-698e9b5dbece",
   "metadata": {},
   "outputs": [
    {
     "name": "stdout",
     "output_type": "stream",
     "text": [
      "converged SCF energy = -2.85516042615445  <S^2> = -4.4408921e-16  2S+1 = 1\n"
     ]
    },
    {
     "data": {
      "text/plain": [
       "np.float64(-2.8551604261544465)"
      ]
     },
     "execution_count": 4,
     "metadata": {},
     "output_type": "execute_result"
    }
   ],
   "source": [
    "# run Hartree Fock\n",
    "mf = scf.UHF(mol)\n",
    "mf.kernel()"
   ]
  },
  {
   "cell_type": "code",
   "execution_count": 18,
   "id": "af34308f-e299-4fc1-a789-9c5825bc15c7",
   "metadata": {},
   "outputs": [],
   "source": [
    "# Harvest HF quantities\n",
    "# M = h1.shape[0]\n",
    "h1 = mf.get_hcore()\n",
    "C_a = mf.mo_coeff[0,:,:]\n",
    "C_b = mf.mo_coeff[0,:,:]\n",
    "\n",
    "h1_a = C_a.T@h1@C_a\n",
    "h1_b = C_b.T@h1@C_b\n",
    "\n",
    "eri_h2_aa = eri_ao.copy()\n",
    "eri_h2_bb = eri_ao.copy()\n",
    "eri_h2_ab = eri_ao.copy()\n",
    "\n",
    "\n",
    "for i in range(4):\n",
    "  eri_h2_aa = np.tensordot(eri_h2_aa, C_a, axes=1).transpose(3, 0, 1, 2)\n",
    "  eri_h2_bb = np.tensordot(eri_h2_bb, C_b, axes=1).transpose(3, 0, 1, 2)\n",
    "\n",
    "eri_h2_ab = np.tensordot(eri_h2_ab, C_a, axes=1).transpose(3, 0, 1, 2)\n",
    "eri_h2_ab = np.tensordot(eri_h2_ab, C_b, axes=1).transpose(3, 0, 1, 2)\n",
    "eri_h2_ab = np.tensordot(eri_h2_ab, C_a, axes=1).transpose(3, 0, 1, 2)\n",
    "eri_h2_ab = np.tensordot(eri_h2_ab, C_b, axes=1).transpose(3, 0, 1, 2)\n",
    "    \n"
   ]
  },
  {
   "cell_type": "code",
   "execution_count": 19,
   "id": "b3b0f30d-0489-453e-9b14-a3228632a22b",
   "metadata": {},
   "outputs": [],
   "source": [
    "# and this is the purpose of this script print(\n",
    "e_1, ci = fci.direct_uhf.kernel((h1_a, h1_b), (eri_h2_aa, eri_h2_ab, eri_h2_bb), h1.shape[0], mol.nelec, ecore=mf.energy_nuc())"
   ]
  },
  {
   "cell_type": "code",
   "execution_count": 7,
   "id": "56949002-fc09-4ff4-ac78-52c098f92fd3",
   "metadata": {},
   "outputs": [],
   "source": [
    "e_2, ci = fci.direct_spin0.kernel(h1_a, eri_h2_aa, h1.shape[0], mol.nelec, ecore=mf.energy_nuc())"
   ]
  },
  {
   "cell_type": "code",
   "execution_count": 20,
   "id": "29a41656-28f9-4058-bb2e-2521fc2df0b3",
   "metadata": {},
   "outputs": [
    {
     "name": "stdout",
     "output_type": "stream",
     "text": [
      "-2.870162138900823 -2.8701621389008234\n"
     ]
    }
   ],
   "source": [
    "print(e_1, e_2)"
   ]
  },
  {
   "cell_type": "code",
   "execution_count": null,
   "id": "2ba20f9c-0a99-4604-856d-694f02d5e227",
   "metadata": {},
   "outputs": [],
   "source": []
  }
 ],
 "metadata": {
  "kernelspec": {
   "display_name": "Python 3 (ipykernel)",
   "language": "python",
   "name": "python3"
  },
  "language_info": {
   "codemirror_mode": {
    "name": "ipython",
    "version": 3
   },
   "file_extension": ".py",
   "mimetype": "text/x-python",
   "name": "python",
   "nbconvert_exporter": "python",
   "pygments_lexer": "ipython3",
   "version": "3.12.3"
  }
 },
 "nbformat": 4,
 "nbformat_minor": 5
}
