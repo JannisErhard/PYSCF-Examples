{
 "cells": [
  {
   "cell_type": "code",
   "execution_count": 1,
   "id": "571c7437-0c9b-4ebd-bc44-280cc113ee20",
   "metadata": {},
   "outputs": [],
   "source": [
    "import numpy as np\n",
    "from pyscf import gto, scf, ao2mo, fci"
   ]
  },
  {
   "cell_type": "markdown",
   "id": "e215b050-47ab-4e0b-98c1-cd3761c95058",
   "metadata": {},
   "source": [
    "this an example on how to do FCI fro the 4 index integrals, or the 2 electron integrals. "
   ]
  },
  {
   "cell_type": "code",
   "execution_count": 2,
   "id": "4932a6bb-bc78-42f8-8548-eaacfb35e9c6",
   "metadata": {},
   "outputs": [],
   "source": [
    "def Add_Block_Matrices(Paa, Pbb):\n",
    "    Pab = np.zeros(Paa.shape)\n",
    "    Pba = np.zeros(Paa.shape)\n",
    "    PE = np.concatenate((np.concatenate((Paa, Pab), axis=1), np.concatenate((Pba, Pbb), axis=1)), axis=0) \n",
    "    return PE"
   ]
  },
  {
   "cell_type": "code",
   "execution_count": 3,
   "id": "0eace2fe-116a-4efc-b755-4cb6bf6ad9a3",
   "metadata": {},
   "outputs": [],
   "source": [
    "# basic setup of a molecule\n",
    "element = \"He\"\n",
    "mol = gto.Mole()\n",
    "mol.atom = f'''{element}  0 0 0'''\n",
    "# mol.spin = 1\n",
    "# mol.charge = -1\n",
    "mol.basis = '631-g'\n",
    "mol.build()\n",
    "eri_ao = mol.intor('int2e')"
   ]
  },
  {
   "cell_type": "code",
   "execution_count": 4,
   "id": "b6833175-57d4-40ef-b9c0-698e9b5dbece",
   "metadata": {},
   "outputs": [
    {
     "name": "stdout",
     "output_type": "stream",
     "text": [
      "converged SCF energy = -2.85516042615445  <S^2> = -4.4408921e-16  2S+1 = 1\n"
     ]
    },
    {
     "data": {
      "text/plain": [
       "np.float64(-2.8551604261544465)"
      ]
     },
     "execution_count": 4,
     "metadata": {},
     "output_type": "execute_result"
    }
   ],
   "source": [
    "# run Hartree Fock\n",
    "mf = scf.UHF(mol)\n",
    "mf.kernel()"
   ]
  },
  {
   "cell_type": "code",
   "execution_count": 24,
   "id": "af34308f-e299-4fc1-a789-9c5825bc15c7",
   "metadata": {},
   "outputs": [],
   "source": [
    "# Harvest HF quantities\n",
    "M = h1.shape[0]\n",
    "C = mf.mo_coeff[0,:,:]\n",
    "h1 = mf.mo_coeff[0,:,:].T.dot(mf.get_hcore()).dot(mf.mo_coeff[0,:,:])\n",
    "h2 = ao2mo.kernel(mol, mf.mo_coeff[0,:,:])\n",
    "# h2_a = ao2mo.kernel(mol, mf.mo_coeff[0,:,:], symm )\n",
    "# h2_b = ao2mo.kernel(mol, mf.mo_coeff[1,:,:])\n",
    "# h2 = Add_Block_Matrices(h2_a, h2_b)\n",
    "# print(h2.shape)\n"
   ]
  },
  {
   "cell_type": "code",
   "execution_count": 25,
   "id": "3d1af5f3-7107-4ba6-b185-0d21580ac3a7",
   "metadata": {},
   "outputs": [],
   "source": [
    "# for reference the simplest way\n",
    "cisolver = fci.FCI(mol, mf.mo_coeff)\n",
    "e_1, fcivec = cisolver.kernel()"
   ]
  },
  {
   "cell_type": "code",
   "execution_count": 26,
   "id": "b3b0f30d-0489-453e-9b14-a3228632a22b",
   "metadata": {},
   "outputs": [],
   "source": [
    "# and this is the purpose of this script \n",
    "e_2, ci = fci.direct_spin0.kernel(h1, h2, M, mol.nelec, ecore=mf.energy_nuc())"
   ]
  },
  {
   "cell_type": "code",
   "execution_count": 27,
   "id": "56949002-fc09-4ff4-ac78-52c098f92fd3",
   "metadata": {},
   "outputs": [],
   "source": [
    "eri_mo = np.asarray(ao2mo.restore(1, h2, mol.nao))\n",
    "e_3, ci = fci.direct_spin0.kernel(h1, eri_mo, M, mol.nelec, ecore=mf.energy_nuc())"
   ]
  },
  {
   "cell_type": "code",
   "execution_count": 28,
   "id": "6c1fbf88-d5f1-48f1-92e8-1dcaf9399983",
   "metadata": {},
   "outputs": [],
   "source": [
    "e_4, ci = fci.direct_spin0.kernel(mf.get_hcore(), eri_ao,M, mol.nelec, ecore=mf.energy_nuc())"
   ]
  },
  {
   "cell_type": "code",
   "execution_count": 29,
   "id": "29a41656-28f9-4058-bb2e-2521fc2df0b3",
   "metadata": {},
   "outputs": [
    {
     "name": "stdout",
     "output_type": "stream",
     "text": [
      "-2.8701621389008225 -2.8701621389008234 -2.8701621389008234 -3.661036580713073\n"
     ]
    }
   ],
   "source": [
    "print(e_1, e_2, e_3, e_4)"
   ]
  },
  {
   "cell_type": "code",
   "execution_count": 10,
   "id": "1deeac18-5ec1-4e3a-b6e8-f79cee2852e4",
   "metadata": {},
   "outputs": [
    {
     "name": "stdout",
     "output_type": "stream",
     "text": [
      "(2, 2, 2, 2) (2, 2, 2, 2) (3, 3) 2\n"
     ]
    }
   ],
   "source": [
    "print(eri_ao.shape, eri_mo.shape, h2.shape, h1.shape[0])"
   ]
  },
  {
   "cell_type": "code",
   "execution_count": 11,
   "id": "3b34a258-8bb3-4496-9783-36965cb57f04",
   "metadata": {},
   "outputs": [
    {
     "name": "stdout",
     "output_type": "stream",
     "text": [
      "[[[[1.54393568 0.78544719]\n",
      "   [0.78544719 0.80395186]]\n",
      "\n",
      "  [[0.78544719 0.42702546]\n",
      "   [0.42702546 0.47618957]]]\n",
      "\n",
      "\n",
      " [[[0.78544719 0.42702546]\n",
      "   [0.42702546 0.47618957]]\n",
      "\n",
      "  [[0.80395186 0.47618957]\n",
      "   [0.47618957 0.61593794]]]]\n"
     ]
    }
   ],
   "source": [
    "print(eri_ao)"
   ]
  },
  {
   "cell_type": "code",
   "execution_count": 12,
   "id": "d7f0cdf4-5265-4530-939f-f93b657af86f",
   "metadata": {},
   "outputs": [
    {
     "name": "stdout",
     "output_type": "stream",
     "text": [
      "[[[[ 1.02690717 -0.31649047]\n",
      "   [-0.31649047  0.85813333]]\n",
      "\n",
      "  [[-0.31649047  0.2276705 ]\n",
      "   [ 0.2276705  -0.25555355]]]\n",
      "\n",
      "\n",
      " [[[-0.31649047  0.2276705 ]\n",
      "   [ 0.2276705  -0.25555355]]\n",
      "\n",
      "  [[ 0.85813333 -0.25555355]\n",
      "   [-0.25555355  0.7663629 ]]]]\n"
     ]
    }
   ],
   "source": [
    "print(eri_mo)"
   ]
  },
  {
   "cell_type": "code",
   "execution_count": 18,
   "id": "e76763b0-032e-4be7-8bb7-8d365cc27a2a",
   "metadata": {},
   "outputs": [],
   "source": [
    "ao_mo_eri = eri_ao\n",
    "for i in range(4):\n",
    "   ao_mo_eri = np.tensordot(ao_mo_eri, C, axes=1).transpose(3, 0, 1, 2)"
   ]
  },
  {
   "cell_type": "code",
   "execution_count": 19,
   "id": "60df6536-b79e-4dad-b95c-c89b5cdbc9a0",
   "metadata": {},
   "outputs": [
    {
     "name": "stdout",
     "output_type": "stream",
     "text": [
      "[[[[ 1.02690717 -0.31649047]\n",
      "   [-0.31649047  0.85813333]]\n",
      "\n",
      "  [[-0.31649047  0.2276705 ]\n",
      "   [ 0.2276705  -0.25555355]]]\n",
      "\n",
      "\n",
      " [[[-0.31649047  0.2276705 ]\n",
      "   [ 0.2276705  -0.25555355]]\n",
      "\n",
      "  [[ 0.85813333 -0.25555355]\n",
      "   [-0.25555355  0.7663629 ]]]]\n"
     ]
    }
   ],
   "source": [
    "print(ao_mo_eri)"
   ]
  },
  {
   "cell_type": "code",
   "execution_count": 32,
   "id": "c334151c-70e3-48f2-beab-9adc269b814f",
   "metadata": {},
   "outputs": [
    {
     "name": "stdout",
     "output_type": "stream",
     "text": [
      "-3.3221330047855946\n"
     ]
    }
   ],
   "source": [
    "e_4, ci = fci.direct_spin0.kernel(h1, eri_ao,M, mol.nelec, ecore=mf.energy_nuc())\n",
    "print(e_4)"
   ]
  },
  {
   "cell_type": "code",
   "execution_count": null,
   "id": "2ba20f9c-0a99-4604-856d-694f02d5e227",
   "metadata": {},
   "outputs": [],
   "source": []
  }
 ],
 "metadata": {
  "kernelspec": {
   "display_name": "Python 3 (ipykernel)",
   "language": "python",
   "name": "python3"
  },
  "language_info": {
   "codemirror_mode": {
    "name": "ipython",
    "version": 3
   },
   "file_extension": ".py",
   "mimetype": "text/x-python",
   "name": "python",
   "nbconvert_exporter": "python",
   "pygments_lexer": "ipython3",
   "version": "3.12.3"
  }
 },
 "nbformat": 4,
 "nbformat_minor": 5
}
