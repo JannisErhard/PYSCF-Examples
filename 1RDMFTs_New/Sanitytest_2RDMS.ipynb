{
 "cells": [
  {
   "cell_type": "code",
   "execution_count": 1,
   "id": "a62a99e0-f2fb-4c1e-bfed-8516a37bb695",
   "metadata": {},
   "outputs": [],
   "source": [
    "import numpy as np\n",
    "from pyscf import gto, scf, fci\n",
    "from tabulate import tabulate\n",
    "from RDMFS_phys import HF_2RDM, MU_2RDM, GU_2RDM, BBC1_2RDM\n",
    "from utils_phys import R_spectral_clean, DM2_DiagSum, twoDM_Eigvals\n",
    "import scipy "
   ]
  },
  {
   "cell_type": "code",
   "execution_count": 2,
   "id": "9b47cd18-e6d8-4637-8078-99f9a25d420f",
   "metadata": {},
   "outputs": [],
   "source": [
    "# Get Hydrogen in mo basis from PySCF\n",
    "\n",
    "mol = gto.Mole()\n",
    "mol.unit = 'B' \n",
    "L = 1.5\n",
    "mol.atom = f\"\"\"\n",
    "# He 0 0 0 \n",
    "H   {-L}   {-L}   0.0\n",
    "H    {L}   {-L}   0.0\n",
    "H    {L}    {L}   0.0\n",
    "H   {-L}    {L}   0.0\n",
    "\"\"\"\n",
    "# this basis has 2 functions for Helium\n",
    "# mol.basis = \"ccpvdz\"\n",
    "mol.basis = \"sto-3g\"\n",
    "# mol.basis = \"631g\"\n",
    "\n",
    "mol.spin =  0\n",
    "mol.verbose= 0\n",
    "mol.build()\n",
    "\n",
    "# the 2 electron integrals \\langle \\mu \\nu | \\kappa \\lambda \\rangle have M^4 entries\n",
    "eri_ao = mol.intor('int2e')\n",
    "S = mol.intor('int1e_ovlp')\n",
    "\n",
    "## Run Hartree-Fock.\n",
    "mf = scf.UHF(mol)\n",
    "mf.kernel()\n",
    "\n",
    "\n",
    "# Harvest HF quantities\n",
    "\n",
    "h1 = mf.get_hcore()\n",
    "M = h1.shape[0]\n",
    "C_a = mf.mo_coeff[0,:,:]\n",
    "C_b = mf.mo_coeff[1,:,:]\n",
    "\n",
    "h1_a = C_a.T@h1@C_a\n",
    "h1_b = C_b.T@h1@C_b\n",
    "\n",
    "eri_h2_aa = eri_ao.copy()\n",
    "eri_h2_bb = eri_ao.copy()\n",
    "eri_h2_ab = eri_ao.copy()\n",
    "\n",
    "\n",
    "for i in range(4):\n",
    "  eri_h2_aa = np.tensordot(eri_h2_aa, C_a, axes=1).transpose(3, 0, 1, 2)\n",
    "  eri_h2_bb = np.tensordot(eri_h2_bb, C_b, axes=1).transpose(3, 0, 1, 2)\n",
    "\n",
    "eri_h2_ab = np.tensordot(eri_h2_ab, C_a, axes=1).transpose(3, 0, 1, 2)\n",
    "eri_h2_ab = np.tensordot(eri_h2_ab, C_a, axes=1).transpose(3, 0, 1, 2)\n",
    "eri_h2_ab = np.tensordot(eri_h2_ab, C_b, axes=1).transpose(3, 0, 1, 2)\n",
    "eri_h2_ab = np.tensordot(eri_h2_ab, C_b, axes=1).transpose(3, 0, 1, 2)\n",
    "\n",
    "h1_mo = (h1_a, h1_b)\n",
    "h2_mo = (eri_h2_aa, eri_h2_ab, eri_h2_bb)"
   ]
  },
  {
   "cell_type": "code",
   "execution_count": 9,
   "id": "7f27cc52-33be-478a-bf64-4bdca0e1e7ab",
   "metadata": {},
   "outputs": [
    {
     "name": "stdout",
     "output_type": "stream",
     "text": [
      "[1.08535919e+00 6.53157060e-01 1.28695015e-16 0.00000000e+00] 1.7385162533770555\n",
      "(4, 4, 4, 4)\n"
     ]
    }
   ],
   "source": [
    "dm1_mo = mf.make_rdm1()\n",
    "dm2 = mf.make_rdm2()\n",
    "\n",
    "occ, C = R_spectral_clean(dm1_mo[0], h1.shape[0])\n",
    "print(occ, np.sum(occ))\n",
    "\n",
    "dm2_mo = dm2[0]+2*dm2[1]+dm2[2] # for this system HF just decides spin polarisation, to fix this I add all parts\n",
    "\n",
    "print(dm2_mo.shape)"
   ]
  },
  {
   "cell_type": "code",
   "execution_count": 4,
   "id": "0a77b954-0db4-4032-9b05-b0a6ccf2adb0",
   "metadata": {},
   "outputs": [],
   "source": [
    "dm2_HF_mo = HF_2RDM(occ*2, M)\n",
    "dm2_MU_mo = MU_2RDM(occ*2, M)\n",
    "dm2_GU_mo = GU_2RDM(occ*2, M)\n",
    "dm2_BBC1_mo = BBC1_2RDM(occ*2,M,mol.nelec[0])\n"
   ]
  },
  {
   "cell_type": "code",
   "execution_count": 5,
   "id": "f6bc9c76-01fa-44e7-a276-ccffedce6a42",
   "metadata": {},
   "outputs": [
    {
     "name": "stdout",
     "output_type": "stream",
     "text": [
      "8.880517605860677 6.0\n",
      "8.612722546270666 6.0\n",
      "8.612722546270666 6.0\n",
      "8.880517605860677 6.0\n"
     ]
    }
   ],
   "source": [
    "print(np.sum(twoDM_Eigvals(dm2_HF_mo)), scipy.special.binom(4,2))\n",
    "print(np.sum(twoDM_Eigvals(np.transpose(dm2_MU_mo, (0, 2, 1, 3)))), scipy.special.binom(4,2))\n",
    "print(np.sum(twoDM_Eigvals(np.transpose(dm2_BBC1_mo, (0, 2, 1, 3)))), scipy.special.binom(4,2))\n",
    "print(np.sum(twoDM_Eigvals(np.transpose(dm2_GU_mo, (0, 2, 1, 3)))), scipy.special.binom(4,2))"
   ]
  },
  {
   "cell_type": "code",
   "execution_count": 10,
   "id": "b2ce6a36-256a-4fab-8f9f-0a365c1ef583",
   "metadata": {},
   "outputs": [
    {
     "name": "stdout",
     "output_type": "stream",
     "text": [
      "[0.89413956 0.5        0.5        0.10586044] 2.0000000000000004\n"
     ]
    }
   ],
   "source": [
    "# Run FCI  \n",
    "cisolver = fci.direct_uhf.FCI()\n",
    "cisolver.max_cycle = 100\n",
    "cisolver.conv_tol = 1e-8\n",
    "e_mo, ci_mo = cisolver.kernel(h1_mo, h2_mo, h1.shape[0], mol.nelec, ecore=mf.energy_nuc())\n",
    "dm1_mo, dm2_mo  = cisolver.make_rdm12s(ci_mo, h1.shape[0], mol.nelec)\n",
    "occ, C = R_spectral_clean(dm1_mo[0], h1.shape[0])\n",
    "print(occ, np.sum(occ))\n"
   ]
  },
  {
   "cell_type": "code",
   "execution_count": 7,
   "id": "0a19c932-3043-46be-ab78-99b06ba97f54",
   "metadata": {},
   "outputs": [],
   "source": [
    "dm2_HF_mo = HF_2RDM(occ*2, M)\n",
    "dm2_MU_mo = MU_2RDM(occ*2, M)\n",
    "dm2_GU_mo = GU_2RDM(occ*2, M)\n",
    "dm2_BBC1_mo = BBC1_2RDM(occ*2,M,mol.nelec[0])"
   ]
  },
  {
   "cell_type": "code",
   "execution_count": 8,
   "id": "8e53859c-1edb-460a-af7d-a85a39ab60fb",
   "metadata": {},
   "outputs": [
    {
     "name": "stdout",
     "output_type": "stream",
     "text": [
      "13.378616040724475 6.0\n",
      "12.000000000000004 6.0\n",
      "12.000000000000004 6.0\n",
      "13.378616040724474 6.0\n"
     ]
    }
   ],
   "source": [
    "print(np.sum(twoDM_Eigvals(dm2_HF_mo)), scipy.special.binom(4,2))\n",
    "print(np.sum(twoDM_Eigvals(np.transpose(dm2_MU_mo, (0, 2, 1, 3)))), scipy.special.binom(4,2))\n",
    "print(np.sum(twoDM_Eigvals(np.transpose(dm2_BBC1_mo, (0, 2, 1, 3)))), scipy.special.binom(4,2))\n",
    "print(np.sum(twoDM_Eigvals(np.transpose(dm2_GU_mo, (0, 2, 1, 3)))), scipy.special.binom(4,2))"
   ]
  },
  {
   "cell_type": "code",
   "execution_count": null,
   "id": "4315c22b-45fc-4076-99ba-c7b8413f8449",
   "metadata": {},
   "outputs": [],
   "source": []
  }
 ],
 "metadata": {
  "kernelspec": {
   "display_name": "Python 3 (ipykernel)",
   "language": "python",
   "name": "python3"
  },
  "language_info": {
   "codemirror_mode": {
    "name": "ipython",
    "version": 3
   },
   "file_extension": ".py",
   "mimetype": "text/x-python",
   "name": "python",
   "nbconvert_exporter": "python",
   "pygments_lexer": "ipython3",
   "version": "3.12.3"
  }
 },
 "nbformat": 4,
 "nbformat_minor": 5
}
