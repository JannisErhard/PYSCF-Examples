{
 "cells": [
  {
   "cell_type": "code",
   "execution_count": 1,
   "id": "a62a99e0-f2fb-4c1e-bfed-8516a37bb695",
   "metadata": {},
   "outputs": [],
   "source": [
    "import numpy as np\n",
    "from pyscf import gto, scf, fci\n",
    "from tabulate import tabulate\n",
    "from RDMFS import HF_U2RDM, MU_U2RDM, GU_U2RDM, BBC1_U2RDM\n",
    "from PNOFs import PNOF2, PNOF4\n",
    "from utils import spectral_clean, DM2_DiagSum, BST_FIDX, twoDM_Eigvals, twoDM_Eigvals_phys, DM2_DiagSum_phys\n",
    "import scipy "
   ]
  },
  {
   "cell_type": "code",
   "execution_count": 2,
   "id": "86de4d48-a1fb-4dee-b2cc-abdb8c0be3c5",
   "metadata": {},
   "outputs": [],
   "source": [
    "def check_symmetric(a, rtol=1e-05, atol=1e-08):\n",
    "    return np.allclose(a, a.T, rtol=rtol, atol=atol)"
   ]
  },
  {
   "cell_type": "code",
   "execution_count": 3,
   "id": "9b47cd18-e6d8-4637-8078-99f9a25d420f",
   "metadata": {},
   "outputs": [],
   "source": [
    "# Get Hydrogen in mo basis from PySCF\n",
    "\n",
    "mol = gto.Mole()\n",
    "mol.unit = 'B' \n",
    "L = 3.0\n",
    "mol.atom = f\"\"\"\n",
    "# He 0 0 0 \n",
    "H   {-L}   {-L}   0.0\n",
    "H    {L}   {-L}   0.0\n",
    "# H    {L}    {L}   0.0\n",
    "# H   {-L}    {L}   0.0\n",
    "# H   {-L}   {-L}   {L}\n",
    "# H    {L}   {-L}   {L}\n",
    "# H    {L}    {L}   {L}\n",
    "# H   {-L}    {L}   {L}\n",
    "\"\"\"\n",
    "# this basis has 2 functions for Helium\n",
    "# mol.basis = \"ccpvdz\"\n",
    "mol.basis = \"sto-3g\"\n",
    "\n",
    "# mol.basis = \"631g\"\n",
    "\n",
    "mol.spin =  0\n",
    "mol.verbose= 0\n",
    "mol.build()\n",
    "\n",
    "# the 2 electron integrals \\langle \\mu \\nu | \\kappa \\lambda \\rangle have M^4 entries\n",
    "eri_ao = mol.intor('int2e')\n",
    "S = mol.intor('int1e_ovlp')\n",
    "\n",
    "## Run Hartree-Fock.\n",
    "mf = scf.UHF(mol)\n",
    "mf.kernel()\n",
    "\n",
    "\n",
    "# Harvest HF quantities\n",
    "\n",
    "h1 = mf.get_hcore()\n",
    "M = h1.shape[0]\n",
    "C_a = mf.mo_coeff[0,:,:]\n",
    "C_b = mf.mo_coeff[1,:,:]\n",
    "\n",
    "h1_a = C_a.T@h1@C_a\n",
    "h1_b = C_b.T@h1@C_b\n",
    "h1_mo = (h1_a, h1_b)\n",
    "\n",
    "\n",
    "h2_mo = BST_FIDX((eri_ao, eri_ao, eri_ao),S@C_a,S@C_b)"
   ]
  },
  {
   "cell_type": "code",
   "execution_count": 4,
   "id": "7f27cc52-33be-478a-bf64-4bdca0e1e7ab",
   "metadata": {},
   "outputs": [
    {
     "name": "stdout",
     "output_type": "stream",
     "text": [
      "[1. 0.] 1.0000000000000002\n",
      "[1. 0.] 1.0000000000000002\n"
     ]
    }
   ],
   "source": [
    "dm1_ao = mf.make_rdm1()\n",
    "dm2_ao = mf.make_rdm2()\n",
    "\n",
    "dm1_mo = dm1_ao.copy()\n",
    "# # dm1_mo=C[:,0:N]@dm1_ao@C[:,0:N].T\n",
    "dm1_mo[0]=(C_a.T@(S.T@dm1_mo[0]@S))@C_a\n",
    "dm1_mo[1]=(C_a.T@(S.T@dm1_mo[1]@S))@C_a\n",
    "\n",
    "dm2_mo = BST_FIDX(dm2_ao,S@C_a,S@C_b)\n",
    "\n",
    "# P = C@C.T\n",
    "# print(P)\n",
    "\n",
    "occ_mo_a, occ_mo_b, C_mo_a, C_mo_b = spectral_clean(dm1_mo)\n",
    "print(occ_mo_a, np.sum(occ_mo_a))\n",
    "print(occ_mo_b, np.sum(occ_mo_b))\n"
   ]
  },
  {
   "cell_type": "code",
   "execution_count": 5,
   "id": "0a77b954-0db4-4032-9b05-b0a6ccf2adb0",
   "metadata": {},
   "outputs": [],
   "source": [
    "dm2_HF_mo = HF_U2RDM(occ_mo_a, occ_mo_b,M)\n",
    "dm2_MU_mo = MU_U2RDM(occ_mo_a, occ_mo_b,M)\n",
    "dm2_GU_mo = GU_U2RDM(occ_mo_a, occ_mo_b,M)\n",
    "dm2_BBC1_mo = BBC1_U2RDM(occ_mo_a, occ_mo_b,M,mol.nelec[0],mol.nelec[1])\n",
    "# dm2_PNOF2_mo = PNOF2(occ_mo_a, occ_mo_b,M,mol.nelec[0],mol.nelec[1])\n"
   ]
  },
  {
   "cell_type": "code",
   "execution_count": 6,
   "id": "f6bc9c76-01fa-44e7-a276-ccffedce6a42",
   "metadata": {},
   "outputs": [
    {
     "name": "stdout",
     "output_type": "stream",
     "text": [
      "2.0000000000000013 1.0\n",
      "2.000000000000001 1.0\n",
      "2.000000000000001 1.0\n",
      "2.0000000000000013 1.0\n",
      "2.0000000000000004 1.0\n"
     ]
    }
   ],
   "source": [
    "print(DM2_DiagSum(dm2_MU_mo), scipy.special.binom(np.sum(mol.nelec),2))\n",
    "print(DM2_DiagSum(dm2_HF_mo), scipy.special.binom(np.sum(mol.nelec),2))\n",
    "print(DM2_DiagSum(dm2_GU_mo), scipy.special.binom(np.sum(mol.nelec),2))\n",
    "print(DM2_DiagSum(dm2_BBC1_mo), scipy.special.binom(np.sum(mol.nelec),2))\n",
    "# print(DM2_DiagSum_phys(dm2_PNOF2_mo), scipy.special.binom(np.sum(mol.nelec),2))\n",
    "print(DM2_DiagSum(dm2_mo), scipy.special.binom(np.sum(mol.nelec),2))"
   ]
  },
  {
   "cell_type": "code",
   "execution_count": 7,
   "id": "b2ce6a36-256a-4fab-8f9f-0a365c1ef583",
   "metadata": {},
   "outputs": [
    {
     "name": "stdout",
     "output_type": "stream",
     "text": [
      "[0.5 0.5] 1.0\n",
      "[0.5 0.5] 1.0\n"
     ]
    }
   ],
   "source": [
    "# Run FCI  \n",
    "cisolver = fci.direct_uhf.FCI()\n",
    "cisolver.max_cycle = 100\n",
    "cisolver.conv_tol = 1e-8\n",
    "e_mo, ci_mo = cisolver.kernel(h1_mo, h2_mo, h1.shape[0], mol.nelec, ecore=mf.energy_nuc())\n",
    "dm1_fci, dm2_fci  = cisolver.make_rdm12s(ci_mo, h1.shape[0], mol.nelec)\n",
    "occ_mo_a, occ_mo_b, C_mo_a, C_mo_b = spectral_clean(dm1_fci)\n",
    "print(occ_mo_a, np.sum(occ_mo_a))\n",
    "print(occ_mo_b, np.sum(occ_mo_b))"
   ]
  },
  {
   "cell_type": "code",
   "execution_count": 8,
   "id": "8e53859c-1edb-460a-af7d-a85a39ab60fb",
   "metadata": {},
   "outputs": [
    {
     "name": "stdout",
     "output_type": "stream",
     "text": [
      "0.499999999997368 1.000000000010528\n",
      "0.4999999999973681 1.0000000000105276\n",
      "0.499999999997368 1.000000000010528\n",
      "0.4999999999973681 1.0000000000105276\n"
     ]
    }
   ],
   "source": [
    "dm2_HF_fci = HF_U2RDM(occ_mo_a, occ_mo_b, mol.nao)\n",
    "dm2_MU_fci = MU_U2RDM(occ_mo_a, occ_mo_b, mol.nao)\n",
    "dm2_GU_fci = GU_U2RDM(occ_mo_a, occ_mo_b, mol.nao)\n",
    "dm2_BBC1_fci = BBC1_U2RDM(occ_mo_a, occ_mo_b, mol.nao, mol.nelec[0], mol.nelec[1])\n",
    "dm2_PNOF2_mo = PNOF2(occ_mo_a, occ_mo_b,M,mol.nelec[0],mol.nelec[1])\n",
    "dm2_PNOF4_mo = PNOF4(occ_mo_a, occ_mo_b,M,mol.nelec[0],mol.nelec[1])\n"
   ]
  },
  {
   "cell_type": "code",
   "execution_count": 9,
   "id": "7015321a-4482-45c8-8958-a7eceb703743",
   "metadata": {},
   "outputs": [
    {
     "name": "stdout",
     "output_type": "stream",
     "text": [
      "3.000000000000001 1.0\n",
      "2.000000000000001 1.0\n",
      "3.000000000000001 1.0\n",
      "2.000000000000001 1.0\n",
      "2.000000000000001 1.0\n",
      "2.000000000000001\n",
      "2.000000000000001\n",
      "1.9999999999999996 1.0\n"
     ]
    }
   ],
   "source": [
    "print(np.sum(twoDM_Eigvals(dm2_HF_fci)), scipy.special.binom(np.sum(mol.nelec),2))\n",
    "print(np.sum(twoDM_Eigvals(dm2_MU_fci)), scipy.special.binom(np.sum(mol.nelec),2))\n",
    "print(np.sum(twoDM_Eigvals(dm2_GU_fci)), scipy.special.binom(np.sum(mol.nelec),2))\n",
    "print(np.sum(twoDM_Eigvals(dm2_BBC1_fci)), scipy.special.binom(np.sum(mol.nelec),2))\n",
    "print(np.sum(twoDM_Eigvals_phys(dm2_PNOF2_mo)), scipy.special.binom(np.sum(mol.nelec),2))\n",
    "print(DM2_DiagSum_phys(dm2_PNOF2_mo))\n",
    "print(DM2_DiagSum_phys(dm2_PNOF4_mo))\n",
    "\n",
    "print(np.sum(twoDM_Eigvals(dm2_fci)), scipy.special.binom(np.sum(mol.nelec),2))"
   ]
  },
  {
   "cell_type": "code",
   "execution_count": 10,
   "id": "9e8913f8-6332-44b9-8b07-04a1b5c56061",
   "metadata": {},
   "outputs": [
    {
     "name": "stdout",
     "output_type": "stream",
     "text": [
      "3\n"
     ]
    }
   ],
   "source": [
    "print(len(dm2_PNOF2_mo))"
   ]
  },
  {
   "cell_type": "code",
   "execution_count": 11,
   "id": "82370fea-0101-4d29-a84e-776637dad7eb",
   "metadata": {},
   "outputs": [
    {
     "name": "stdout",
     "output_type": "stream",
     "text": [
      "2.000000000000001 1.0\n",
      "3.000000000000001 1.0\n",
      "3.000000000000001 1.0\n",
      "2.000000000000001 1.0\n",
      "2.000000000000001 1.0\n",
      "2.0 1.0\n"
     ]
    }
   ],
   "source": [
    "print(DM2_DiagSum(dm2_MU_fci), scipy.special.binom(np.sum(mol.nelec),2))\n",
    "print(DM2_DiagSum(dm2_HF_fci), scipy.special.binom(np.sum(mol.nelec),2))\n",
    "print(DM2_DiagSum(dm2_GU_fci), scipy.special.binom(np.sum(mol.nelec),2))\n",
    "print(DM2_DiagSum(dm2_BBC1_fci), scipy.special.binom(np.sum(mol.nelec),2))\n",
    "print(DM2_DiagSum_phys(dm2_PNOF2_mo), scipy.special.binom(np.sum(mol.nelec),2))\n",
    "print(DM2_DiagSum(dm2_fci), scipy.special.binom(np.sum(mol.nelec),2))"
   ]
  },
  {
   "cell_type": "code",
   "execution_count": 12,
   "id": "3b80b4f9-748d-4ad2-8525-79ccd7fe2018",
   "metadata": {},
   "outputs": [
    {
     "name": "stdout",
     "output_type": "stream",
     "text": [
      "0 0 0 0 0.500000000002632 0.500000000002632\n",
      "0 0 0 1 0.0 0.0\n",
      "0 0 1 0 0.0 0.0\n",
      "0 0 1 1 2.63206123563009e-12 -0.3535533905923432\n",
      "0 1 0 0 0.0 0.0\n",
      "0 1 0 1 1.1102230246251565e-16 1.1102230246251565e-16\n",
      "0 1 1 0 0.0 0.0\n",
      "0 1 1 1 0.0 0.0\n",
      "1 0 0 0 0.0 0.0\n",
      "1 0 0 1 0.0 0.0\n",
      "1 0 1 0 1.1102230246251565e-16 1.1102230246251565e-16\n",
      "1 0 1 1 0.0 0.0\n",
      "1 1 0 0 2.63206123563009e-12 -0.3535533905923432\n",
      "1 1 0 1 0.0 0.0\n",
      "1 1 1 0 0.0 0.0\n",
      "1 1 1 1 0.4999999999973681 0.4999999999973681\n"
     ]
    }
   ],
   "source": [
    "for i in range(0,M):\n",
    "    for j in range(0,M):\n",
    "        for k in range(0,M):\n",
    "            for l in range(0,M):\n",
    "                print(i,j,k,l,dm2_PNOF2_mo[1][i,j,k,l], dm2_PNOF4_mo[1][i,j,k,l])"
   ]
  },
  {
   "cell_type": "code",
   "execution_count": null,
   "id": "a7fea36e-af70-4e3f-8a6c-55578478f340",
   "metadata": {},
   "outputs": [],
   "source": []
  }
 ],
 "metadata": {
  "kernelspec": {
   "display_name": "Python 3 (ipykernel)",
   "language": "python",
   "name": "python3"
  },
  "language_info": {
   "codemirror_mode": {
    "name": "ipython",
    "version": 3
   },
   "file_extension": ".py",
   "mimetype": "text/x-python",
   "name": "python",
   "nbconvert_exporter": "python",
   "pygments_lexer": "ipython3",
   "version": "3.12.3"
  }
 },
 "nbformat": 4,
 "nbformat_minor": 5
}
