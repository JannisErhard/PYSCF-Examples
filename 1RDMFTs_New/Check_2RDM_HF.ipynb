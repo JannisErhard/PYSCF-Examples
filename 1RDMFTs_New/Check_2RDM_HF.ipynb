{
 "cells": [
  {
   "cell_type": "code",
   "execution_count": 1,
   "id": "a62a99e0-f2fb-4c1e-bfed-8516a37bb695",
   "metadata": {},
   "outputs": [],
   "source": [
    "import numpy as np\n",
    "from pyscf import gto, scf, fci\n",
    "from tabulate import tabulate\n",
    "from RDMFS import HF_2RDM\n",
    "from utils import R_spectral_clean, R_twoDM_Eigvals\n",
    "import scipy "
   ]
  },
  {
   "cell_type": "code",
   "execution_count": 2,
   "id": "9b47cd18-e6d8-4637-8078-99f9a25d420f",
   "metadata": {},
   "outputs": [
    {
     "name": "stdout",
     "output_type": "stream",
     "text": [
      "(4, 4)\n"
     ]
    }
   ],
   "source": [
    "# Get Hydrogen in mo basis from PySCF\n",
    "\n",
    "mol = gto.Mole()\n",
    "mol.unit = 'B' \n",
    "L = 1.5\n",
    "mol.atom = f\"\"\"\n",
    "# He 0 0 0 \n",
    "H   {-L}   {-L}   0.0\n",
    "H    {L}   {-L}   0.0\n",
    "H    {L}    {L}   0.0\n",
    "H   {-L}    {L}   0.0\n",
    "H   {-L}   {-L}   {L}\n",
    "H    {L}   {-L}   {L}\n",
    "H    {L}    {L}   {L}\n",
    "H   {-L}    {L}   {L}\n",
    "\"\"\"\n",
    "# this basis has 2 functions for Helium\n",
    "# mol.basis = \"ccpvdz\"\n",
    "# mol.basis = \"sto-3g\"\n",
    "mol.basis = \"631g\"\n",
    "\n",
    "mol.spin =  0\n",
    "mol.verbose= 0\n",
    "mol.build()\n",
    "\n",
    "# the 2 electron integrals \\langle \\mu \\nu | \\kappa \\lambda \\rangle have M^4 entries\n",
    "eri_ao = mol.intor('int2e')\n",
    "S = mol.intor('int1e_ovlp')\n",
    "\n",
    "## Run Hartree-Fock.\n",
    "mf = scf.RHF(mol)\n",
    "mf.kernel()\n",
    "\n",
    "\n",
    "# Harvest HF quantities\n",
    "\n",
    "h1 = mf.get_hcore()\n",
    "M = h1.shape[0]\n",
    "C_a = mf.mo_coeff\n",
    "h1_a = C_a.T@h1@C_a\n",
    "eri_h2_aa = eri_ao.copy()\n",
    "\n",
    "print(mol.nelec)\n",
    "\n",
    "for i in range(4):\n",
    "  eri_h2_aa = np.tensordot(eri_h2_aa, C_a, axes=1).transpose(3, 0, 1, 2)\n",
    "\n",
    "\n",
    "h1_mo = (h1_a )\n",
    "h2_mo = (eri_h2_aa )"
   ]
  },
  {
   "cell_type": "code",
   "execution_count": 3,
   "id": "7f27cc52-33be-478a-bf64-4bdca0e1e7ab",
   "metadata": {},
   "outputs": [
    {
     "name": "stdout",
     "output_type": "stream",
     "text": [
      "[2.00000000e+00 2.00000000e+00 2.00000000e+00 2.00000000e+00\n",
      " 3.90638279e-15 1.82585354e-15 9.14352245e-16 5.91700955e-16\n",
      " 0.00000000e+00 0.00000000e+00 0.00000000e+00 0.00000000e+00\n",
      " 0.00000000e+00 0.00000000e+00 0.00000000e+00 0.00000000e+00] 8.000000000000002\n",
      "(16, 16) (16, 16) (16, 16)\n"
     ]
    }
   ],
   "source": [
    "dm1_ao = mf.make_rdm1()\n",
    "dm2_ao = mf.make_rdm2()\n",
    "\n",
    "# # dm1_mo=C[:,0:N]@dm1_ao@C[:,0:N].T\n",
    "dm1_mo=(C_a.T@(S.T@dm1_ao@S))@C_a\n",
    "\n",
    "dm2_mo = dm2_ao.copy()\n",
    "for i in range(4):\n",
    "  dm2_mo = np.tensordot(dm2_mo, S@C_a, axes=1).transpose(3, 0, 1, 2)\n",
    "\n",
    "\n",
    "# P = C@C.T\n",
    "# print(P)\n",
    "\n",
    "occ, C = R_spectral_clean(dm1_mo, h1.shape[0])\n",
    "print(occ, np.sum(occ))\n",
    "print(dm1_mo.shape, dm1_ao.shape, C_a.shape)"
   ]
  },
  {
   "cell_type": "code",
   "execution_count": 4,
   "id": "0a77b954-0db4-4032-9b05-b0a6ccf2adb0",
   "metadata": {},
   "outputs": [],
   "source": [
    "dm2_HF_mo = HF_2RDM(occ, M)"
   ]
  },
  {
   "cell_type": "code",
   "execution_count": 5,
   "id": "f6bc9c76-01fa-44e7-a276-ccffedce6a42",
   "metadata": {},
   "outputs": [
    {
     "name": "stdout",
     "output_type": "stream",
     "text": [
      "0 0 0 0 2.0000000000000036 1.9999999999999956\n",
      "0 0 0 1 0.0 -2.664085977324235e-16\n",
      "0 0 1 0 0.0 -3.2891158908618024e-16\n",
      "0 0 1 1 4.0000000000000036 3.999999999999995\n",
      "0 1 0 0 0.0 -1.3331661931024693e-16\n",
      "0 1 0 1 0.0 -3.6268839862535565e-17\n",
      "0 1 1 0 -2.0000000000000018 -1.9999999999999973\n",
      "0 1 1 1 0.0 -3.8602474495498034e-16\n",
      "1 0 0 0 0.0 -4.1065120617458737e-16\n",
      "1 0 0 1 -2.0000000000000018 -1.9999999999999978\n",
      "1 0 1 0 0.0 3.027752177006714e-17\n",
      "1 0 1 1 0.0 -2.8557948970127705e-16\n",
      "1 1 0 0 4.0000000000000036 3.999999999999996\n",
      "1 1 0 1 0.0 -2.617780012749776e-16\n",
      "1 1 1 0 0.0 -2.083096481300116e-16\n",
      "1 1 1 1 2.0 2.0\n"
     ]
    }
   ],
   "source": [
    "N=2\n",
    "for i in range(0,N):\n",
    "    for j in range(0,N):\n",
    "        for k in range(0,N):\n",
    "            for l in range(0,N):\n",
    "                print(i,j,k,l, dm2_HF_mo[i,j,k,l], dm2_mo[i,j,k,l])"
   ]
  },
  {
   "cell_type": "code",
   "execution_count": 6,
   "id": "715a2006-85e8-4f6b-9c07-f6f71b47c164",
   "metadata": {},
   "outputs": [
    {
     "name": "stdout",
     "output_type": "stream",
     "text": [
      "56.00000000000002 28.0\n",
      "55.99999999999989 28.0\n"
     ]
    }
   ],
   "source": [
    "print(np.sum(R_twoDM_Eigvals(np.transpose(dm2_HF_mo, (0, 2, 1, 3)))), scipy.special.binom(np.sum(mol.nelec),2))\n",
    "print(np.sum(R_twoDM_Eigvals(np.transpose(dm2_mo, (0, 2, 1, 3)))), scipy.special.binom(np.sum(mol.nelec),2))\n",
    "\n",
    "# print(np.sum(twoDM_Eigvals(dm2_HF_mo)), scipy.special.binom(4,2))\n",
    "# print(np.sum(twoDM_Eigvals(dm2_mo)), scipy.special.binom(4,2))"
   ]
  },
  {
   "cell_type": "code",
   "execution_count": 7,
   "id": "b2ce6a36-256a-4fab-8f9f-0a365c1ef583",
   "metadata": {},
   "outputs": [
    {
     "name": "stdout",
     "output_type": "stream",
     "text": [
      "[2.00000000e+00 2.00000000e+00 2.00000000e+00 2.00000000e+00\n",
      " 3.90638279e-15 1.82585354e-15 9.14352245e-16 5.91700955e-16\n",
      " 0.00000000e+00 0.00000000e+00 0.00000000e+00 0.00000000e+00\n",
      " 0.00000000e+00 0.00000000e+00 0.00000000e+00 0.00000000e+00] 8.000000000000002\n"
     ]
    }
   ],
   "source": [
    "# Run FCI  \n",
    "cisolver = fci.direct_spin0.FCI()\n",
    "cisolver.max_cycle = 100\n",
    "cisolver.conv_tol = 1e-8\n",
    "e, ci_mo = cisolver.kernel(h1_mo, h2_mo, h1.shape[0], mol.nelec, ecore=mf.energy_nuc())\n",
    "dm1_fci, dm2_fci  = cisolver.make_rdm12(ci_mo, h1.shape[0], mol.nelec)\n",
    "occ, C = R_spectral_clean(dm1_mo, h1.shape[0])\n",
    "print(occ, np.sum(occ))\n"
   ]
  },
  {
   "cell_type": "code",
   "execution_count": 8,
   "id": "0a19c932-3043-46be-ab78-99b06ba97f54",
   "metadata": {},
   "outputs": [],
   "source": [
    "dm2_HF_fci = HF_2RDM(occ, M)"
   ]
  },
  {
   "cell_type": "code",
   "execution_count": 9,
   "id": "8e53859c-1edb-460a-af7d-a85a39ab60fb",
   "metadata": {},
   "outputs": [
    {
     "name": "stdout",
     "output_type": "stream",
     "text": [
      "56.00000000000002 28.0\n",
      "55.99999999999986 28.0\n"
     ]
    }
   ],
   "source": [
    "print(np.sum(R_twoDM_Eigvals(np.transpose(dm2_HF_fci, (0, 2, 1, 3)))), scipy.special.binom(np.sum(mol.nelec),2))\n",
    "print(np.sum(R_twoDM_Eigvals(np.transpose(dm2_fci, (0, 2, 1, 3)))), scipy.special.binom(np.sum(mol.nelec),2))"
   ]
  },
  {
   "cell_type": "code",
   "execution_count": null,
   "id": "4315c22b-45fc-4076-99ba-c7b8413f8449",
   "metadata": {},
   "outputs": [],
   "source": []
  }
 ],
 "metadata": {
  "kernelspec": {
   "display_name": "Python 3 (ipykernel)",
   "language": "python",
   "name": "python3"
  },
  "language_info": {
   "codemirror_mode": {
    "name": "ipython",
    "version": 3
   },
   "file_extension": ".py",
   "mimetype": "text/x-python",
   "name": "python",
   "nbconvert_exporter": "python",
   "pygments_lexer": "ipython3",
   "version": "3.12.3"
  }
 },
 "nbformat": 4,
 "nbformat_minor": 5
}
