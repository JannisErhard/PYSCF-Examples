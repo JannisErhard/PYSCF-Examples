{
 "cells": [
  {
   "cell_type": "code",
   "execution_count": 1,
   "id": "d4083445-46f8-40b3-a491-8bc393da344d",
   "metadata": {},
   "outputs": [],
   "source": [
    "from pyscf import gto, scf\n",
    "import numpy as np    "
   ]
  },
  {
   "cell_type": "code",
   "execution_count": 2,
   "id": "94c5b483-21d3-44e4-a47a-4ad22c0ea4bc",
   "metadata": {},
   "outputs": [
    {
     "name": "stdout",
     "output_type": "stream",
     "text": [
      "converged SCF energy = -1.00510670656849\n",
      "Hartree-Fock energy: -1.00510671 Hartree\n",
      "Converged: True\n"
     ]
    }
   ],
   "source": [
    "# Define molecule: water molecule as an example\n",
    "mol = gto.Mole()\n",
    "mol.atom = '''\n",
    "# O  0.0  0.0  0.0\n",
    "H  0.0  0.8  0.6\n",
    "H  0.0  0.8 -0.6\n",
    "'''\n",
    "mol.basis = 'sto-3g'  # Minimal basis set\n",
    "mol.build()\n",
    "\n",
    "# Run Hartree-Fock calculation\n",
    "mf = scf.RHF(mol)\n",
    "mf.kernel()\n",
    "\n",
    "# Get the 1-electron and 2-electron reduced density matrices (RDMs)p\n",
    "# 1-RDM in MO basis\n",
    "rdm1 = mf.make_rdm1()\n",
    "\n",
    "# 2-RDM in MO basis\n",
    "rdm2 = mf.make_rdm2()\n",
    "\n",
    "print(f\"Hartree-Fock energy: {mf.e_tot:.8f} Hartree\")\n",
    "print(f\"Converged: {mf.converged}\")\n"
   ]
  },
  {
   "cell_type": "code",
   "execution_count": 3,
   "id": "f12d9039-c3e2-485c-938d-85aaf2a7bb4f",
   "metadata": {},
   "outputs": [],
   "source": [
    "# Get the two-electron integrals in MO basis\n",
    "# Transform atomic orbital integrals to molecular orbital basis\n",
    "mo_coeff = mf.mo_coeff\n",
    "# Get 1-electron integrals in MO basis\n",
    "h1_ao = mol.intor('int1e_kin') + mol.intor('int1e_nuc')\n",
    "h1_mo = np.einsum('pq,pi,qj->ij', h1_ao, mo_coeff, mo_coeff)\n",
    "\n",
    "# Get  Two-electron integrals in AO basis\n",
    "eri_ao = mol.intor('int2e')  \n",
    "eri_mo = np.einsum('pqrs,pi,qj,rk,sl->ijkl', eri_ao, \n",
    "                  mo_coeff, mo_coeff, mo_coeff, mo_coeff)\n",
    "\n"
   ]
  },
  {
   "cell_type": "code",
   "execution_count": 4,
   "id": "541320b9-494a-4a1e-b0a3-2eae5afa3d00",
   "metadata": {},
   "outputs": [
    {
     "name": "stdout",
     "output_type": "stream",
     "text": [
      "-2.0391701470806454\n"
     ]
    }
   ],
   "source": [
    "# Get nuclear energy\n",
    "nuc_energy = mol.energy_nuc()\n",
    "\n",
    "# Calculate 1-electron energy\n",
    "one_elec_energy = np.trace(h1_ao@rdm1)\n",
    "\n",
    "two_elec_energy_A = mf.e_tot - nuc_energy - one_elec_energy\n",
    "\n",
    "print(one_elec_energy)"
   ]
  },
  {
   "cell_type": "code",
   "execution_count": 5,
   "id": "25ed6ddb-ce7d-4aed-b3a7-0513ae8aeb72",
   "metadata": {},
   "outputs": [],
   "source": [
    "\n",
    "two_elec_energy_B = 0.5 * np.einsum('ijkl,ijkl', eri_ao, rdm2)\n",
    "two_elec_energy_C = 0.5* ( np.trace(rdm1@mf.get_j()) - 0.5 * np.trace(rdm1@mf.get_k()))"
   ]
  },
  {
   "cell_type": "code",
   "execution_count": 6,
   "id": "779d0170-af9f-48b3-8f0c-b6036c00f995",
   "metadata": {},
   "outputs": [
    {
     "name": "stdout",
     "output_type": "stream",
     "text": [
      "0.5930824314121552 0.5930824314121553 0.5930824314121553 0.5930824314121554\n"
     ]
    }
   ],
   "source": [
    "print(two_elec_energy_A, mf.energy_elec()[1], two_elec_energy_B, two_elec_energy_C)"
   ]
  },
  {
   "cell_type": "code",
   "execution_count": 7,
   "id": "bd1d95b3-1f4a-4bcf-92ff-9fa47150af83",
   "metadata": {},
   "outputs": [
    {
     "name": "stdout",
     "output_type": "stream",
     "text": [
      "['CASCI', 'CASSCF', 'CCSD', 'CISD', 'COSX', 'DDCOSMO', 'DFMP2', 'DIIS', 'Gradients', 'Hessian', 'MP2', 'QCISD', 'QMMM', 'TDA', 'TDHF', '__call__', '__class__', '__delattr__', '__dict__', '__dir__', '__doc__', '__eq__', '__format__', '__ge__', '__getattr__', '__getattribute__', '__getstate__', '__gt__', '__hash__', '__init__', '__init_subclass__', '__le__', '__lt__', '__module__', '__ne__', '__new__', '__reduce__', '__reduce_ex__', '__repr__', '__setattr__', '__sizeof__', '__str__', '__subclasshook__', '__weakref__', '_chkfile', '_eigh', '_eri', '_finalize', '_is_mem_enough', '_keys', '_opt', '_t0', '_transfer_attrs_', '_w0', 'analyze', 'apply', 'as_scanner', 'build', 'callback', 'canonicalize', 'check_convergence', 'check_sanity', 'chkfile', 'conv_check', 'conv_tol', 'conv_tol_cpscf', 'conv_tol_grad', 'converged', 'convert_from_', 'copy', 'damp', 'ddCOSMO', 'density_fit', 'diis', 'diis_damp', 'diis_file', 'diis_space', 'diis_space_rollback', 'diis_start_cycle', 'dip_moment', 'direct_scf', 'direct_scf_tol', 'disp', 'do_disp', 'dump_chk', 'dump_flags', 'dump_scf_summary', 'e_tot', 'eig', 'energy_elec', 'energy_nuc', 'energy_tot', 'from_chk', 'from_fcidump', 'gen_response', 'get_dispersion', 'get_fock', 'get_grad', 'get_hcore', 'get_init_guess', 'get_j', 'get_jk', 'get_k', 'get_occ', 'get_ovlp', 'get_veff', 'init_direct_scf', 'init_guess', 'init_guess_by_1e', 'init_guess_by_atom', 'init_guess_by_chkfile', 'init_guess_by_huckel', 'init_guess_by_minao', 'init_guess_by_mod_huckel', 'istype', 'kernel', 'level_shift', 'make_rdm1', 'make_rdm2', 'max_cycle', 'max_memory', 'mo_coeff', 'mo_energy', 'mo_occ', 'mol', 'mulliken_meta', 'mulliken_pop', 'mulliken_pop_meta_lowdin_ao', 'newton', 'nuc_grad_method', 'opt', 'pop', 'post_kernel', 'pre_kernel', 'remove_soscf', 'reset', 'run', 'scf', 'scf_summary', 'set', 'sfx2c1e', 'spin_square', 'stability', 'stdout', 'to_ghf', 'to_gks', 'to_gpu', 'to_ks', 'to_rhf', 'to_rks', 'to_uhf', 'to_uks', 'update', 'update_', 'update_from_chk', 'update_from_chk_', 'verbose', 'view', 'x2c', 'x2c1e']\n"
     ]
    }
   ],
   "source": [
    "print(dir(mf))"
   ]
  }
 ],
 "metadata": {
  "kernelspec": {
   "display_name": "1RDMFT",
   "language": "python",
   "name": "1rdmft"
  },
  "language_info": {
   "codemirror_mode": {
    "name": "ipython",
    "version": 3
   },
   "file_extension": ".py",
   "mimetype": "text/x-python",
   "name": "python",
   "nbconvert_exporter": "python",
   "pygments_lexer": "ipython3",
   "version": "3.12.3"
  }
 },
 "nbformat": 4,
 "nbformat_minor": 5
}
