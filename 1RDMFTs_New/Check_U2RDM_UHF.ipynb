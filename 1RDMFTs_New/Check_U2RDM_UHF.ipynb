{
 "cells": [
  {
   "cell_type": "code",
   "execution_count": 1,
   "id": "a62a99e0-f2fb-4c1e-bfed-8516a37bb695",
   "metadata": {},
   "outputs": [],
   "source": [
    "import numpy as np\n",
    "from pyscf import gto, scf, fci\n",
    "from tabulate import tabulate\n",
    "from RDMFS import HF_U2RDM, MU_U2RDM, GU_U2RDM, BBC1_U2RDM\n",
    "from utils import R_spectral_clean, DM2_DiagSum, twoDM_Eigvals, BST_FIDX, spectral_clean\n",
    "import scipy \n",
    "import math"
   ]
  },
  {
   "cell_type": "code",
   "execution_count": 2,
   "id": "9b47cd18-e6d8-4637-8078-99f9a25d420f",
   "metadata": {},
   "outputs": [],
   "source": [
    "# Get Hydrogen in mo basis from PySCF\n",
    "\n",
    "mol = gto.Mole()\n",
    "mol.unit = 'B' \n",
    "L = 1.5\n",
    "mol.atom = f\"\"\"\n",
    "# He 0 0 0 \n",
    "H   {-L}   {-L}   0.0\n",
    "H    {L}   {-L}   0.0\n",
    "H    {L}    {L}   0.0\n",
    "H   {-L}    {L}   0.0\n",
    "\"\"\"\n",
    "# this basis has 2 functions for Helium\n",
    "# mol.basis = \"ccpvdz\"\n",
    "mol.basis = \"sto-3g\"\n",
    "# mol.basis = \"631g\"\n",
    "\n",
    "mol.spin =  0\n",
    "mol.verbose= 0\n",
    "mol.build()\n",
    "\n",
    "# the 2 electron integrals \\langle \\mu \\nu | \\kappa \\lambda \\rangle have M^4 entries\n",
    "eri_ao = mol.intor('int2e')\n",
    "S = mol.intor('int1e_ovlp')\n",
    "\n",
    "## Run Hartree-Fock.\n",
    "mf = scf.UHF(mol)\n",
    "mf.kernel()\n",
    "\n",
    "\n",
    "# Harvest HF quantities\n",
    "\n",
    "h1 = mf.get_hcore()\n",
    "M = h1.shape[0]\n",
    "C_a = mf.mo_coeff[0,:,:]\n",
    "C_b = mf.mo_coeff[1,:,:]\n",
    "\n",
    "h1_a = C_a.T@h1@C_a\n",
    "h1_b = C_b.T@h1@C_b\n",
    "h1_mo = (h1_a, h1_b)\n",
    "\n",
    "\n",
    "h2_mo = BST_FIDX((eri_ao, eri_ao, eri_ao),S@C_a,S@C_b)\n",
    "\n",
    "\n"
   ]
  },
  {
   "cell_type": "code",
   "execution_count": 3,
   "id": "7f27cc52-33be-478a-bf64-4bdca0e1e7ab",
   "metadata": {},
   "outputs": [
    {
     "name": "stdout",
     "output_type": "stream",
     "text": [
      "[1.0000000e+00 1.0000000e+00 1.1596858e-16 0.0000000e+00] 1.9999999999999993\n",
      "[1.00000000e+00 1.00000000e+00 8.80978257e-17 0.00000000e+00] 1.9999999999999993\n"
     ]
    }
   ],
   "source": [
    "dm1_ao = mf.make_rdm1()\n",
    "dm2_ao = mf.make_rdm2()\n",
    "\n",
    "dm1_mo = dm1_ao.copy()\n",
    "# # dm1_mo=C[:,0:N]@dm1_ao@C[:,0:N].T\n",
    "dm1_mo[0]=(C_a.T@(S.T@dm1_mo[0]@S))@C_a\n",
    "dm1_mo[1]=(C_a.T@(S.T@dm1_mo[1]@S))@C_a\n",
    "\n",
    "dm2_mo = BST_FIDX(dm2_ao,S@C_a,S@C_b)\n",
    "\n",
    "# P = C@C.T\n",
    "# print(P)\n",
    "\n",
    "occ_mo_a, occ_mo_b, C_mo_a, C_mo_b = spectral_clean(dm1_mo, h1.shape[0])\n",
    "print(occ_mo_a, np.sum(occ_mo_a))\n",
    "print(occ_mo_b, np.sum(occ_mo_b))\n"
   ]
  },
  {
   "cell_type": "code",
   "execution_count": 4,
   "id": "0a77b954-0db4-4032-9b05-b0a6ccf2adb0",
   "metadata": {},
   "outputs": [],
   "source": [
    "dm2_HF_mo = HF_U2RDM(occ_mo_a, occ_mo_b, mol.nao)"
   ]
  },
  {
   "cell_type": "code",
   "execution_count": 5,
   "id": "f6bc9c76-01fa-44e7-a276-ccffedce6a42",
   "metadata": {},
   "outputs": [
    {
     "name": "stdout",
     "output_type": "stream",
     "text": [
      "0 0 0 3 0.0 3.736584101047309e-06\n",
      "0 0 1 2 0.0 1.171706257177095e-05\n",
      "0 0 2 1 0.0 1.1717062571755257e-05\n",
      "0 0 2 2 8.80978256731728e-17 1.372895370901281e-10\n",
      "0 0 3 0 0.0 3.7365841010547473e-06\n",
      "0 3 0 0 0.0 3.7365841007629114e-06\n",
      "0 3 1 1 0.0 3.7365841002841527e-06\n",
      "1 1 0 3 0.0 3.736584100588321e-06\n",
      "1 1 1 2 0.0 1.17170625703266e-05\n",
      "1 1 2 1 0.0 1.1717062570322502e-05\n",
      "1 1 2 2 8.809782567317272e-17 1.3728953509797533e-10\n",
      "1 1 3 0 0.0 3.7365841006006474e-06\n",
      "1 2 0 0 0.0 1.1717062571325755e-05\n",
      "1 2 1 1 0.0 1.1717062569879775e-05\n",
      "1 2 1 2 0.0 1.3728955211978974e-10\n",
      "1 2 2 1 0.0 1.37289551689799e-10\n",
      "2 1 0 0 0.0 1.171706257129136e-05\n",
      "2 1 1 1 0.0 1.1717062569897553e-05\n",
      "2 1 1 2 0.0 1.3728955212007912e-10\n",
      "2 1 2 1 0.0 1.3728955168944336e-10\n",
      "2 2 0 0 1.159685796530515e-16 1.3728952703485306e-10\n",
      "2 2 1 1 1.1596857965305133e-16 1.3728954170395028e-10\n",
      "3 0 0 0 0.0 3.7365841007853205e-06\n",
      "3 0 1 1 0.0 3.7365841003118643e-06\n"
     ]
    }
   ],
   "source": [
    "L_CONCERN = False\n",
    "if L_CONCERN:\n",
    "    for i in range(0,mol.nao):\n",
    "        for j in range(0,mol.nao):\n",
    "            for k in range(0,mol.nao):\n",
    "                for l in range(0,mol.nao):\n",
    "                    if not math.isclose(dm2_HF_mo[0][i,j,k,l], dm2_mo[0][i,j,k,l], abs_tol = 1e-10):\n",
    "                        print(i,j,k,l, dm2_HF_mo[0][i,j,k,l], dm2_mo[0][i,j,k,l] )\n",
    "    for i in range(0,mol.nao):\n",
    "        for j in range(0,mol.nao):\n",
    "            for k in range(0,mol.nao):\n",
    "                for l in range(0,mol.nao):\n",
    "                    if not math.isclose(dm2_HF_mo[1][i,j,k,l], dm2_mo[1][i,j,k,l], abs_tol = 1e-10):\n",
    "                        print(i,j,k,l, dm2_HF_mo[1][i,j,k,l], dm2_mo[1][i,j,k,l])\n",
    "    for i in range(0,mol.nao):\n",
    "        for j in range(0,mol.nao):\n",
    "            for k in range(0,mol.nao):\n",
    "                for l in range(0,mol.nao):\n",
    "                    if not math.isclose(dm2_HF_mo[2][i,j,k,l], dm2_mo[2][i,j,k,l], abs_tol = 1e-10):\n",
    "                        print(i,j,k,l, dm2_HF_mo[2][i,j,k,l], dm2_mo[2][i,j,k,l] )"
   ]
  },
  {
   "cell_type": "code",
   "execution_count": 10,
   "id": "715a2006-85e8-4f6b-9c07-f6f71b47c164",
   "metadata": {},
   "outputs": [
    {
     "name": "stdout",
     "output_type": "stream",
     "text": [
      "11.999999999999993 6.0\n",
      "11.999999999999984 6.0\n"
     ]
    }
   ],
   "source": [
    "print(np.sum(twoDM_Eigvals(dm2_HF_mo)), scipy.special.binom(4,2))\n",
    "print(np.sum(twoDM_Eigvals(dm2_mo)), scipy.special.binom(4,2))\n",
    "\n",
    "# print(np.sum(twoDM_Eigvals(dm2_HF_mo)), scipy.special.binom(4,2))\n",
    "# print(np.sum(twoDM_Eigvals(dm2_mo)), scipy.special.binom(4,2))"
   ]
  },
  {
   "cell_type": "code",
   "execution_count": 11,
   "id": "b2ce6a36-256a-4fab-8f9f-0a365c1ef583",
   "metadata": {},
   "outputs": [
    {
     "name": "stdout",
     "output_type": "stream",
     "text": [
      "[0.98295595 0.5        0.5        0.01704405] 2.000000000000001\n",
      "[0.98295595 0.5        0.5        0.01704405] 2.0000000000000013\n"
     ]
    }
   ],
   "source": [
    "# Run FCI  \n",
    "cisolver = fci.direct_uhf.FCI()\n",
    "cisolver.max_cycle = 100\n",
    "cisolver.conv_tol = 1e-8\n",
    "e_mo, ci_mo = cisolver.kernel(h1_mo, h2_mo, h1.shape[0], mol.nelec, ecore=mf.energy_nuc())\n",
    "dm1_fci, dm2_fci  = cisolver.make_rdm12s(ci_mo, h1.shape[0], mol.nelec)\n",
    "occ_mo_a, occ_mo_b, C_mo_a, C_mo_b = spectral_clean(dm1_fci, h1.shape[0])\n",
    "print(occ_mo_a, np.sum(occ_mo_a))\n",
    "print(occ_mo_b, np.sum(occ_mo_b))\n"
   ]
  },
  {
   "cell_type": "code",
   "execution_count": 12,
   "id": "0a19c932-3043-46be-ab78-99b06ba97f54",
   "metadata": {},
   "outputs": [],
   "source": [
    "dm2_HF_fci = HF_U2RDM(occ_mo_a, occ_mo_b, mol.nao)"
   ]
  },
  {
   "cell_type": "code",
   "execution_count": 13,
   "id": "8e53859c-1edb-460a-af7d-a85a39ab60fb",
   "metadata": {},
   "outputs": [
    {
     "name": "stdout",
     "output_type": "stream",
     "text": [
      "13.067014208521433 6.0\n",
      "12.000000000000009 6.0\n"
     ]
    }
   ],
   "source": [
    "print(np.sum(twoDM_Eigvals(dm2_HF_fci)), scipy.special.binom(4,2))\n",
    "print(np.sum(twoDM_Eigvals(dm2_fci)), scipy.special.binom(4,2))"
   ]
  },
  {
   "cell_type": "code",
   "execution_count": null,
   "id": "4315c22b-45fc-4076-99ba-c7b8413f8449",
   "metadata": {},
   "outputs": [],
   "source": []
  }
 ],
 "metadata": {
  "kernelspec": {
   "display_name": "Python 3 (ipykernel)",
   "language": "python",
   "name": "python3"
  },
  "language_info": {
   "codemirror_mode": {
    "name": "ipython",
    "version": 3
   },
   "file_extension": ".py",
   "mimetype": "text/x-python",
   "name": "python",
   "nbconvert_exporter": "python",
   "pygments_lexer": "ipython3",
   "version": "3.12.3"
  }
 },
 "nbformat": 4,
 "nbformat_minor": 5
}
