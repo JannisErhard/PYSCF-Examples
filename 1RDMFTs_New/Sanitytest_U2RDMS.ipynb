{
 "cells": [
  {
   "cell_type": "code",
   "execution_count": 1,
   "id": "a62a99e0-f2fb-4c1e-bfed-8516a37bb695",
   "metadata": {},
   "outputs": [],
   "source": [
    "import numpy as np\n",
    "from pyscf import gto, scf, fci\n",
    "from tabulate import tabulate\n",
    "from RDMFS import HF_U2RDM, MU_U2RDM, GU_U2RDM, BBC1_U2RDM\n",
    "from utils import spectral_clean, DM2_DiagSum, BST_FIDX, twoDM_Eigvals\n",
    "import scipy "
   ]
  },
  {
   "cell_type": "code",
   "execution_count": 2,
   "id": "9b47cd18-e6d8-4637-8078-99f9a25d420f",
   "metadata": {},
   "outputs": [],
   "source": [
    "# Get Hydrogen in mo basis from PySCF\n",
    "\n",
    "mol = gto.Mole()\n",
    "mol.unit = 'B' \n",
    "L = 1.5\n",
    "mol.atom = f\"\"\"\n",
    "# He 0 0 0 \n",
    "H   {-L}   {-L}   0.0\n",
    "H    {L}   {-L}   0.0\n",
    "H    {L}    {L}   0.0\n",
    "H   {-L}    {L}   0.0\n",
    "\"\"\"\n",
    "# this basis has 2 functions for Helium\n",
    "# mol.basis = \"ccpvdz\"\n",
    "mol.basis = \"sto-3g\"\n",
    "# mol.basis = \"631g\"\n",
    "\n",
    "mol.spin =  0\n",
    "mol.verbose= 0\n",
    "mol.build()\n",
    "\n",
    "# the 2 electron integrals \\langle \\mu \\nu | \\kappa \\lambda \\rangle have M^4 entries\n",
    "eri_ao = mol.intor('int2e')\n",
    "S = mol.intor('int1e_ovlp')\n",
    "\n",
    "## Run Hartree-Fock.\n",
    "mf = scf.UHF(mol)\n",
    "mf.kernel()\n",
    "\n",
    "\n",
    "# Harvest HF quantities\n",
    "\n",
    "h1 = mf.get_hcore()\n",
    "M = h1.shape[0]\n",
    "C_a = mf.mo_coeff[0,:,:]\n",
    "C_b = mf.mo_coeff[1,:,:]\n",
    "\n",
    "h1_a = C_a.T@h1@C_a\n",
    "h1_b = C_b.T@h1@C_b\n",
    "h1_mo = (h1_a, h1_b)\n",
    "\n",
    "\n",
    "h2_mo = BST_FIDX((eri_ao, eri_ao, eri_ao),S@C_a,S@C_b)"
   ]
  },
  {
   "cell_type": "code",
   "execution_count": 3,
   "id": "7f27cc52-33be-478a-bf64-4bdca0e1e7ab",
   "metadata": {},
   "outputs": [
    {
     "name": "stdout",
     "output_type": "stream",
     "text": [
      "[1.00000000e+00 1.00000000e+00 1.79735152e-16 0.00000000e+00] 1.9999999999999993\n",
      "[1.00000000e+00 1.00000000e+00 1.02571065e-16 0.00000000e+00] 1.9999999999999987\n"
     ]
    }
   ],
   "source": [
    "dm1_ao = mf.make_rdm1()\n",
    "dm2_ao = mf.make_rdm2()\n",
    "\n",
    "dm1_mo = dm1_ao.copy()\n",
    "# # dm1_mo=C[:,0:N]@dm1_ao@C[:,0:N].T\n",
    "dm1_mo[0]=(C_a.T@(S.T@dm1_mo[0]@S))@C_a\n",
    "dm1_mo[1]=(C_a.T@(S.T@dm1_mo[1]@S))@C_a\n",
    "\n",
    "dm2_mo = BST_FIDX(dm2_ao,S@C_a,S@C_b)\n",
    "\n",
    "# P = C@C.T\n",
    "# print(P)\n",
    "\n",
    "occ_mo_a, occ_mo_b, C_mo_a, C_mo_b = spectral_clean(dm1_mo, h1.shape[0])\n",
    "print(occ_mo_a, np.sum(occ_mo_a))\n",
    "print(occ_mo_b, np.sum(occ_mo_b))\n"
   ]
  },
  {
   "cell_type": "code",
   "execution_count": 4,
   "id": "0a77b954-0db4-4032-9b05-b0a6ccf2adb0",
   "metadata": {},
   "outputs": [],
   "source": [
    "dm2_HF_mo = HF_U2RDM(occ_mo_a, occ_mo_b,M)\n",
    "dm2_MU_mo = MU_U2RDM(occ_mo_a, occ_mo_b,M)\n",
    "dm2_GU_mo = GU_U2RDM(occ_mo_a, occ_mo_b,M)\n",
    "dm2_BBC1_mo = BBC1_U2RDM(occ_mo_a, occ_mo_b,M,mol.nelec[0],mol.nelec[1])\n"
   ]
  },
  {
   "cell_type": "code",
   "execution_count": 10,
   "id": "f6bc9c76-01fa-44e7-a276-ccffedce6a42",
   "metadata": {},
   "outputs": [
    {
     "name": "stdout",
     "output_type": "stream",
     "text": [
      "11.999999999999984 6.0\n",
      "11.999999999999988 6.0\n",
      "11.999999999999988 6.0\n",
      "11.999999999999984 6.0\n",
      "11.999999999999984 6.0\n"
     ]
    }
   ],
   "source": [
    "print(DM2_DiagSum(dm2_MU_mo), scipy.special.binom(np.sum(mol.nelec),2))\n",
    "print(DM2_DiagSum(dm2_HF_mo), scipy.special.binom(np.sum(mol.nelec),2))\n",
    "print(DM2_DiagSum(dm2_GU_mo), scipy.special.binom(np.sum(mol.nelec),2))\n",
    "print(DM2_DiagSum(dm2_BBC1_mo), scipy.special.binom(np.sum(mol.nelec),2))\n",
    "print(DM2_DiagSum(dm2_mo), scipy.special.binom(np.sum(mol.nelec),2))"
   ]
  },
  {
   "cell_type": "code",
   "execution_count": 11,
   "id": "b2ce6a36-256a-4fab-8f9f-0a365c1ef583",
   "metadata": {},
   "outputs": [
    {
     "name": "stdout",
     "output_type": "stream",
     "text": [
      "[0.98295595 0.5        0.5        0.01704405] 2.000000000000001\n",
      "[0.98295595 0.5        0.5        0.01704405] 2.0000000000000013\n"
     ]
    }
   ],
   "source": [
    "# Run FCI  \n",
    "cisolver = fci.direct_uhf.FCI()\n",
    "cisolver.max_cycle = 100\n",
    "cisolver.conv_tol = 1e-8\n",
    "e_mo, ci_mo = cisolver.kernel(h1_mo, h2_mo, h1.shape[0], mol.nelec, ecore=mf.energy_nuc())\n",
    "dm1_fci, dm2_fci  = cisolver.make_rdm12s(ci_mo, h1.shape[0], mol.nelec)\n",
    "occ_mo_a, occ_mo_b, C_mo_a, C_mo_b = spectral_clean(dm1_fci, h1.shape[0])\n",
    "print(occ_mo_a, np.sum(occ_mo_a))\n",
    "print(occ_mo_b, np.sum(occ_mo_b))"
   ]
  },
  {
   "cell_type": "code",
   "execution_count": 12,
   "id": "8e53859c-1edb-460a-af7d-a85a39ab60fb",
   "metadata": {},
   "outputs": [],
   "source": [
    "dm2_HF_fci = HF_U2RDM(occ_mo_a, occ_mo_b, mol.nao)\n",
    "dm2_MU_fci = MU_U2RDM(occ_mo_a, occ_mo_b, mol.nao)\n",
    "dm2_GU_fci = GU_U2RDM(occ_mo_a, occ_mo_b, mol.nao)\n",
    "dm2_BBC1_fci = BBC1_U2RDM(occ_mo_a, occ_mo_b, mol.nao, mol.nelec[0], mol.nelec[1])"
   ]
  },
  {
   "cell_type": "code",
   "execution_count": 13,
   "id": "7015321a-4482-45c8-8958-a7eceb703743",
   "metadata": {},
   "outputs": [
    {
     "name": "stdout",
     "output_type": "stream",
     "text": [
      "13.067014208521432 6.0\n",
      "12.000000000000014 6.0\n",
      "13.067014208521432 6.0\n",
      "12.000000000000014 6.0\n",
      "12.000000000000005 6.0\n"
     ]
    }
   ],
   "source": [
    "print(np.sum(twoDM_Eigvals(dm2_HF_fci)), scipy.special.binom(4,2))\n",
    "print(np.sum(twoDM_Eigvals(dm2_MU_fci)), scipy.special.binom(4,2))\n",
    "print(np.sum(twoDM_Eigvals(dm2_GU_fci)), scipy.special.binom(4,2))\n",
    "print(np.sum(twoDM_Eigvals(dm2_BBC1_fci)), scipy.special.binom(4,2))\n",
    "print(np.sum(twoDM_Eigvals(dm2_fci)), scipy.special.binom(4,2))"
   ]
  },
  {
   "cell_type": "code",
   "execution_count": 14,
   "id": "82370fea-0101-4d29-a84e-776637dad7eb",
   "metadata": {},
   "outputs": [
    {
     "name": "stdout",
     "output_type": "stream",
     "text": [
      "[-1.42194853e-16 -1.00613962e-16 -1.72974906e-17 -1.53376447e-17\n",
      " -1.04083409e-17 -1.41478297e-18  0.00000000e+00  0.00000000e+00\n",
      "  0.00000000e+00  0.00000000e+00  0.00000000e+00  0.00000000e+00\n",
      "  0.00000000e+00  0.00000000e+00  5.72220638e-18  6.09327227e-18\n",
      "  8.67361738e-18  1.53376447e-17  2.14852215e-17  2.30825504e-17\n",
      "  2.90499703e-04  2.90499703e-04  8.52202592e-03  8.52202592e-03\n",
      "  8.52202592e-03  8.52202592e-03  8.52202592e-03  8.52202592e-03\n",
      "  8.52202592e-03  8.52202592e-03  1.67535521e-02  1.67535521e-02\n",
      "  1.67535521e-02  1.67535521e-02  1.70440518e-02  1.70440518e-02\n",
      "  1.70440518e-02  1.70440518e-02  3.35071043e-02  3.35071043e-02\n",
      "  2.50000000e-01  2.50000000e-01  2.50000000e-01  2.50000000e-01\n",
      "  2.50000000e-01  2.50000000e-01  2.50000000e-01  2.50000000e-01\n",
      "  4.91477974e-01  4.91477974e-01  4.91477974e-01  4.91477974e-01\n",
      "  4.91477974e-01  4.91477974e-01  4.91477974e-01  4.91477974e-01\n",
      "  5.00000000e-01  5.00000000e-01  9.66202396e-01  9.66202396e-01\n",
      "  9.82955948e-01  9.82955948e-01  9.82955948e-01  9.82955948e-01]\n"
     ]
    }
   ],
   "source": [
    "print(twoDM_Eigvals(dm2_HF_fci))"
   ]
  },
  {
   "cell_type": "code",
   "execution_count": null,
   "id": "3b80b4f9-748d-4ad2-8525-79ccd7fe2018",
   "metadata": {},
   "outputs": [],
   "source": []
  }
 ],
 "metadata": {
  "kernelspec": {
   "display_name": "Python 3 (ipykernel)",
   "language": "python",
   "name": "python3"
  },
  "language_info": {
   "codemirror_mode": {
    "name": "ipython",
    "version": 3
   },
   "file_extension": ".py",
   "mimetype": "text/x-python",
   "name": "python",
   "nbconvert_exporter": "python",
   "pygments_lexer": "ipython3",
   "version": "3.12.3"
  }
 },
 "nbformat": 4,
 "nbformat_minor": 5
}
