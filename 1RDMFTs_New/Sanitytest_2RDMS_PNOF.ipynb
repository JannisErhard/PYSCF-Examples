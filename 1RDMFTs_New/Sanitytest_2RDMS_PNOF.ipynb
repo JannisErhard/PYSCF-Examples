{
 "cells": [
  {
   "cell_type": "code",
   "execution_count": 1,
   "id": "a62a99e0-f2fb-4c1e-bfed-8516a37bb695",
   "metadata": {},
   "outputs": [],
   "source": [
    "import numpy as np\n",
    "from pyscf import gto, scf, fci\n",
    "from tabulate import tabulate\n",
    "from PNOFs import HF_2RDM, MU_2RDM, GU_2RDM, BBC1_2RDM, R_PNOF2\n",
    "from utils import R_spectral_clean, DM2_DiagSum, R_twoDM_Eigvals\n",
    "import scipy "
   ]
  },
  {
   "cell_type": "code",
   "execution_count": 2,
   "id": "9b47cd18-e6d8-4637-8078-99f9a25d420f",
   "metadata": {},
   "outputs": [
    {
     "name": "stdout",
     "output_type": "stream",
     "text": [
      "(2, 2)\n"
     ]
    }
   ],
   "source": [
    "# Get Hydrogen in mo basis from PySCF\n",
    "\n",
    "mol = gto.Mole()\n",
    "mol.unit = 'B' \n",
    "L = 1.5\n",
    "mol.atom = f\"\"\"\n",
    "# He 0 0 0 \n",
    "H   {-L}   {-L}   0.0\n",
    "H    {L}   {-L}   0.0\n",
    "H    {L}    {L}   0.0\n",
    "H   {-L}    {L}   0.0\n",
    "\"\"\"\n",
    "# this basis has 2 functions for Helium\n",
    "mol.basis = \"ccpvdz\"\n",
    "# mol.basis = \"sto-3g\"\n",
    "# mol.basis = \"631g\"\n",
    "\n",
    "mol.spin =  0\n",
    "mol.verbose= 0\n",
    "mol.build()\n",
    "\n",
    "# the 2 electron integrals \\langle \\mu \\nu | \\kappa \\lambda \\rangle have M^4 entries\n",
    "eri_ao = mol.intor('int2e')\n",
    "S = mol.intor('int1e_ovlp')\n",
    "\n",
    "## Run Hartree-Fock.\n",
    "mf = scf.RHF(mol)\n",
    "mf.kernel()\n",
    "\n",
    "\n",
    "# Harvest HF quantities\n",
    "\n",
    "h1 = mf.get_hcore()\n",
    "M = h1.shape[0]\n",
    "C_a = mf.mo_coeff\n",
    "h1_a = C_a.T@h1@C_a\n",
    "eri_h2_aa = eri_ao.copy()\n",
    "\n",
    "print(mol.nelec)\n",
    "\n",
    "for i in range(4):\n",
    "  eri_h2_aa = np.tensordot(eri_h2_aa, C_a, axes=1).transpose(3, 0, 1, 2)\n",
    "\n",
    "\n",
    "h1_mo = (h1_a )\n",
    "h2_mo = (eri_h2_aa )"
   ]
  },
  {
   "cell_type": "code",
   "execution_count": 3,
   "id": "58754f76-21d9-4667-8a3d-419637662b5d",
   "metadata": {},
   "outputs": [
    {
     "name": "stdout",
     "output_type": "stream",
     "text": [
      "[2.00000000e+00 2.00000000e+00 2.30454246e-15 1.22390827e-15\n",
      " 3.12126884e-16 2.39928888e-16 6.90117144e-17 3.87005074e-17\n",
      " 1.60108885e-18 1.77156083e-19 6.02325242e-26 0.00000000e+00\n",
      " 0.00000000e+00 0.00000000e+00 0.00000000e+00 0.00000000e+00\n",
      " 0.00000000e+00 0.00000000e+00 0.00000000e+00 0.00000000e+00] 3.999999999999999\n",
      "(20, 20) (20, 20) (20, 20)\n"
     ]
    }
   ],
   "source": [
    "dm1_ao = mf.make_rdm1()\n",
    "dm2_ao = mf.make_rdm2()\n",
    "\n",
    "# # dm1_mo=C[:,0:N]@dm1_ao@C[:,0:N].T\n",
    "dm1_mo=(C_a.T@(S.T@dm1_ao@S))@C_a\n",
    "\n",
    "dm2_mo = dm2_ao.copy()\n",
    "for i in range(4):\n",
    "  dm2_mo = np.tensordot(dm2_mo, S@C_a, axes=1).transpose(3, 0, 1, 2)\n",
    "\n",
    "\n",
    "# P = C@C.T\n",
    "# print(P)\n",
    "\n",
    "occ, C = R_spectral_clean(dm1_mo, h1.shape[0])\n",
    "print(occ, np.sum(occ))\n",
    "print(dm1_mo.shape, dm1_ao.shape, C_a.shape)"
   ]
  },
  {
   "cell_type": "code",
   "execution_count": 4,
   "id": "0a77b954-0db4-4032-9b05-b0a6ccf2adb0",
   "metadata": {},
   "outputs": [],
   "source": [
    "dm2_HF_mo = HF_2RDM(occ, mol.nao)\n",
    "dm2_MU_mo = MU_2RDM(occ,  mol.nao)\n",
    "dm2_GU_mo = GU_2RDM(occ,  mol.nao)\n",
    "dm2_BBC1_mo = BBC1_2RDM(occ, mol.nao,mol.nelec[0])\n",
    "dm2_PNOF2_mo = R_PNOF2(occ, mol.nao,mol.nelec[0])\n"
   ]
  },
  {
   "cell_type": "code",
   "execution_count": 5,
   "id": "f6bc9c76-01fa-44e7-a276-ccffedce6a42",
   "metadata": {},
   "outputs": [
    {
     "name": "stdout",
     "output_type": "stream",
     "text": [
      "12.000000000000005 6.0\n",
      "11.999999999999995 6.0\n",
      "11.999999999999995 6.0\n",
      "12.000000000000002 6.0\n",
      "5.999999999999997 6.0\n",
      "11.999999999999972 6.0\n"
     ]
    }
   ],
   "source": [
    "print(np.sum(R_twoDM_Eigvals(np.transpose(dm2_HF_mo, (0, 2, 1, 3)))), scipy.special.binom(np.sum(mol.nelec),2))\n",
    "print(np.sum(R_twoDM_Eigvals(np.transpose(dm2_MU_mo, (0, 2, 1, 3)))),scipy.special.binom(np.sum(mol.nelec),2))\n",
    "print(np.sum(R_twoDM_Eigvals(np.transpose(dm2_BBC1_mo, (0, 2, 1, 3)))), scipy.special.binom(np.sum(mol.nelec),2))\n",
    "print(np.sum(R_twoDM_Eigvals(np.transpose(dm2_GU_mo, (0, 2, 1, 3)))), scipy.special.binom(np.sum(mol.nelec),2))\n",
    "print(np.sum(R_twoDM_Eigvals(np.transpose(dm2_PNOF2_mo, (0, 2, 1, 3)))), scipy.special.binom(np.sum(mol.nelec),2))\n",
    "print(np.sum(R_twoDM_Eigvals(np.transpose(dm2_mo, (0, 2, 1, 3)))), scipy.special.binom(np.sum(mol.nelec),2))"
   ]
  },
  {
   "cell_type": "code",
   "execution_count": 11,
   "id": "b2ce6a36-256a-4fab-8f9f-0a365c1ef583",
   "metadata": {},
   "outputs": [
    {
     "name": "stdout",
     "output_type": "stream",
     "text": [
      "[1.84126337e+00 9.98674093e-01 9.98673622e-01 1.51259634e-01\n",
      " 2.10753932e-03 2.10750726e-03 1.69551543e-03 1.07665095e-03\n",
      " 5.86470302e-04 5.00311273e-04 5.00272422e-04 3.70006362e-04\n",
      " 2.86443459e-04 2.86424506e-04 1.69899266e-04 1.24251235e-04\n",
      " 1.09522699e-04 1.09518315e-04 7.54439787e-05 2.34994030e-05] 4.000000000000002\n"
     ]
    }
   ],
   "source": [
    "# Run FCI  \n",
    "cisolver = fci.direct_spin0.FCI()\n",
    "cisolver.max_cycle = 100\n",
    "cisolver.conv_tol = 1e-8\n",
    "e, ci_mo = cisolver.kernel(h1_mo, h2_mo, h1.shape[0], mol.nelec, ecore=mf.energy_nuc())\n",
    "dm1_fci, dm2_fci  = cisolver.make_rdm12(ci_mo, h1.shape[0], mol.nelec)\n",
    "occ, C = R_spectral_clean(dm1_fci, h1.shape[0])\n",
    "print(occ, np.sum(occ))\n"
   ]
  },
  {
   "cell_type": "code",
   "execution_count": 12,
   "id": "172319a0-35ca-4dda-92d3-1a0100018db0",
   "metadata": {},
   "outputs": [
    {
     "name": "stdout",
     "output_type": "stream",
     "text": [
      "-2.0714737862826027\n"
     ]
    }
   ],
   "source": [
    "print(e)"
   ]
  },
  {
   "cell_type": "code",
   "execution_count": 13,
   "id": "0a19c932-3043-46be-ab78-99b06ba97f54",
   "metadata": {},
   "outputs": [],
   "source": [
    "dm2_HF_mo = HF_2RDM(occ, M)\n",
    "dm2_MU_mo = MU_2RDM(occ, M)\n",
    "dm2_GU_mo = GU_2RDM(occ, M)\n",
    "dm2_BBC1_mo = BBC1_2RDM(occ,M,mol.nelec[0])\n",
    "dm2_PNOF2_mo = R_PNOF2(occ, mol.nao,mol.nelec[0])\n"
   ]
  },
  {
   "cell_type": "code",
   "execution_count": 14,
   "id": "8e53859c-1edb-460a-af7d-a85a39ab60fb",
   "metadata": {},
   "outputs": [
    {
     "name": "stdout",
     "output_type": "stream",
     "text": [
      "13.296078311525738 6.0\n",
      "12.000000000000009 6.0\n",
      "12.000000000000009 6.0\n",
      "6.680593329086053 6.0\n",
      "13.296078311525733 6.0\n",
      "12.000000000000002 6.0\n"
     ]
    }
   ],
   "source": [
    "print(np.sum(R_twoDM_Eigvals(np.transpose(dm2_HF_mo, (0, 2, 1, 3)))), scipy.special.binom(np.sum(mol.nelec),2))\n",
    "print(np.sum(R_twoDM_Eigvals(np.transpose(dm2_MU_mo, (0, 2, 1, 3)))), scipy.special.binom(np.sum(mol.nelec),2))\n",
    "print(np.sum(R_twoDM_Eigvals(np.transpose(dm2_BBC1_mo, (0, 2, 1, 3)))), scipy.special.binom(np.sum(mol.nelec),2))\n",
    "print(np.sum(R_twoDM_Eigvals(np.transpose(dm2_PNOF2_mo, (0, 2, 1, 3)))), scipy.special.binom(np.sum(mol.nelec),2))\n",
    "\n",
    "print(np.sum(R_twoDM_Eigvals(np.transpose(dm2_GU_mo, (0, 2, 1, 3)))), scipy.special.binom(np.sum(mol.nelec),2))\n",
    "print(np.sum(R_twoDM_Eigvals(np.transpose(dm2_fci, (0, 2, 1, 3)))), scipy.special.binom(np.sum(mol.nelec),2))"
   ]
  },
  {
   "cell_type": "code",
   "execution_count": null,
   "id": "6bd51191-2c77-4b6e-b18a-a1df8e15a74d",
   "metadata": {},
   "outputs": [],
   "source": []
  }
 ],
 "metadata": {
  "kernelspec": {
   "display_name": "Python 3 (ipykernel)",
   "language": "python",
   "name": "python3"
  },
  "language_info": {
   "codemirror_mode": {
    "name": "ipython",
    "version": 3
   },
   "file_extension": ".py",
   "mimetype": "text/x-python",
   "name": "python",
   "nbconvert_exporter": "python",
   "pygments_lexer": "ipython3",
   "version": "3.12.3"
  }
 },
 "nbformat": 4,
 "nbformat_minor": 5
}
