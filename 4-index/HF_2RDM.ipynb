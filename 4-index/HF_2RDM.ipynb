{
 "cells": [
  {
   "cell_type": "code",
   "execution_count": 1,
   "id": "07c3c03e-a7d8-4d59-b897-521daedfef36",
   "metadata": {},
   "outputs": [],
   "source": [
    "import numpy as np\n",
    "from pyscf import gto, scf, ao2mo, fci"
   ]
  },
  {
   "cell_type": "markdown",
   "id": "07501768-48e6-4a9a-b15d-8c26e7d327ab",
   "metadata": {},
   "source": [
    "I build this scrit to see wether I can reproduce the electron electron interaction energy form the 2RDM, this serves as test to see wether I understand the data struvctures and theorie accurately to move on to other ideas."
   ]
  },
  {
   "cell_type": "markdown",
   "id": "6e69761a-173a-41a1-8184-1e83a5f68878",
   "metadata": {},
   "source": [
    "The following function caculates the electron electron interactio  energy from the Fock basis representation of the 2RDM $\\gamma_2$ in the follwong way:\n",
    "$$E_{ee} = \\sum_p \\sum_q \\sum_r \\sum_s \\gamma_{2_{pqrs}} \\langle p q | r s \\rangle$$"
   ]
  },
  {
   "cell_type": "code",
   "execution_count": 2,
   "id": "b8379475-f49c-4bc2-82de-7125b74da1ec",
   "metadata": {},
   "outputs": [],
   "source": [
    "def ee_from_gamma_2(eri,dm2):\n",
    "    E = 0 \n",
    "    dim = eri.shape[0]\n",
    "    for p in range(0,dim):\n",
    "        for q in range(0,dim):\n",
    "            for r in range(0,dim):\n",
    "                for s in range(0,dim):\n",
    "                    E+=eri[p,q,r,s]*dm2[p,q,r,s]\n",
    "    return E"
   ]
  },
  {
   "cell_type": "code",
   "execution_count": 3,
   "id": "db733615-4b21-4b92-8742-b4cc56a9d844",
   "metadata": {},
   "outputs": [
    {
     "name": "stdout",
     "output_type": "stream",
     "text": [
      "(1, 1)\n"
     ]
    }
   ],
   "source": [
    "mol = gto.Mole()\n",
    "mol.atom = \"\"\"\n",
    "    He    0.    0.    0.\n",
    "\"\"\"\n",
    "#mol.basis = \"cc-pvdz\"\n",
    "mol.basis = \"6-31g\" \n",
    "mol.build()\n",
    "print(mol.nelec)"
   ]
  },
  {
   "cell_type": "code",
   "execution_count": 24,
   "id": "0a7b3787-19cc-4bba-947b-b56e49b7beff",
   "metadata": {},
   "outputs": [
    {
     "name": "stdout",
     "output_type": "stream",
     "text": [
      "converged SCF energy = -2.85516042615445\n"
     ]
    }
   ],
   "source": [
    "# Run Hartree-Fock.\n",
    "mf = scf.RHF(mol)\n",
    "mf.kernel()\n",
    "hf_1RDM = mf.make_rdm1() # -> AO basis\n",
    "hf_2RDM = mf.make_rdm2() # -> AO basis\n",
    "J = mf.get_j()\n",
    "K = mf.get_k()\n",
    "h = mf.get_hcore()\n",
    "C = mf.mo_coeff\n",
    "#P=np.matmul(C[:,0:N],C[:,0:N].T)\n",
    "h1 = C.T@h@C\n",
    "hf_1RDM_MO = C.T@hf_1RDM@C"
   ]
  },
  {
   "cell_type": "code",
   "execution_count": 25,
   "id": "78d2e4d2-c1fa-484f-ad6c-fb0773759eae",
   "metadata": {},
   "outputs": [],
   "source": [
    "# Find electron-repulsion integrals (eri).\n",
    "eri = ao2mo.kernel(mol, mf.mo_coeff)\n",
    "eri = np.asarray(ao2mo.restore(1, eri, mol.nao))"
   ]
  },
  {
   "cell_type": "code",
   "execution_count": 26,
   "id": "e8fcb98f-ef8a-4711-8e96-d80ce048e64b",
   "metadata": {},
   "outputs": [
    {
     "name": "stdout",
     "output_type": "stream",
     "text": [
      "(2, 2, 2, 2)\n"
     ]
    }
   ],
   "source": [
    "print(eri.shape)"
   ]
  },
  {
   "cell_type": "code",
   "execution_count": 27,
   "id": "f96b25c9-ec1a-41d4-8ac2-b7199ae5245b",
   "metadata": {},
   "outputs": [],
   "source": [
    "# First create FCI solver with function fci.FCI and solve the FCI problem\n",
    "#\n",
    "cisolver = fci.FCI(mol, mf.mo_coeff)\n",
    "e, fcivec = cisolver.kernel()"
   ]
  },
  {
   "cell_type": "code",
   "execution_count": 28,
   "id": "5ca8d097-812f-4209-b2f6-dbe484160d91",
   "metadata": {},
   "outputs": [],
   "source": [
    "dm1, dm2 = cisolver.make_rdm12(fcivec, mf.mo_coeff.shape[1], mol.nelec)"
   ]
  },
  {
   "cell_type": "code",
   "execution_count": 29,
   "id": "3f6ccfce-4894-4159-93d6-a9702925f4c4",
   "metadata": {},
   "outputs": [
    {
     "name": "stdout",
     "output_type": "stream",
     "text": [
      "0.9934201474038266 0.9934201474038242\n"
     ]
    }
   ],
   "source": [
    "print(.5*ee_from_gamma_2(eri,dm2), e-np.trace(np.matmul(dm1,h1)))"
   ]
  },
  {
   "cell_type": "markdown",
   "id": "25fa014d-720b-4f06-91de-94499bcce813",
   "metadata": {},
   "source": [
    "Reference energy from 1 rdm for Hartree Fock just to be sure what we are dealing with"
   ]
  },
  {
   "cell_type": "code",
   "execution_count": 32,
   "id": "5bb1f898-ce11-4d97-a9ac-b750187bc0f6",
   "metadata": {},
   "outputs": [
    {
     "name": "stdout",
     "output_type": "stream",
     "text": [
      "-2.8551604261544465\n"
     ]
    }
   ],
   "source": [
    "print(np.trace(np.matmul(hf_1RDM,h))+1/2.*np.trace(np.matmul(hf_1RDM, J))+-1/4.*np.trace(np.matmul(hf_1RDM, K)))"
   ]
  },
  {
   "cell_type": "code",
   "execution_count": 33,
   "id": "67614233-c531-4cc4-afb1-632430bdc9fc",
   "metadata": {},
   "outputs": [
    {
     "name": "stdout",
     "output_type": "stream",
     "text": [
      "-3.882067595029823\n",
      "-3.8635822863046467\n"
     ]
    }
   ],
   "source": [
    "print(np.trace(np.matmul(hf_1RDM,h)))\n",
    "print(np.trace(np.matmul(dm1,h1)))\n"
   ]
  },
  {
   "cell_type": "code",
   "execution_count": 11,
   "id": "00e2a81d-a8b1-463b-894e-0e37b25534fc",
   "metadata": {},
   "outputs": [
    {
     "name": "stdout",
     "output_type": "stream",
     "text": [
      "[[[[0.24578494 0.21319997]\n",
      "   [0.21319997 0.18493495]]\n",
      "\n",
      "  [[0.21319997 0.18493495]\n",
      "   [0.18493495 0.16041718]]]\n",
      "\n",
      "\n",
      " [[[0.21319997 0.18493495]\n",
      "   [0.18493495 0.16041718]]\n",
      "\n",
      "  [[0.18493495 0.16041718]\n",
      "   [0.16041718 0.13914985]]]]\n"
     ]
    }
   ],
   "source": [
    "print(hf_2RDM)"
   ]
  },
  {
   "cell_type": "code",
   "execution_count": 12,
   "id": "cc4fefdb-a970-4fb6-bd40-e3165ba4d756",
   "metadata": {},
   "outputs": [
    {
     "name": "stdout",
     "output_type": "stream",
     "text": [
      "0.20548423672055594 0.9934201474038242\n"
     ]
    }
   ],
   "source": [
    "print(.5*ee_from_gamma_2(eri,hf_2RDM), e-np.trace(np.matmul(dm1,h1)))"
   ]
  },
  {
   "cell_type": "code",
   "execution_count": null,
   "id": "066d31b5-1470-4fff-a135-b2f6d845210a",
   "metadata": {},
   "outputs": [],
   "source": []
  }
 ],
 "metadata": {
  "kernelspec": {
   "display_name": "Python 3 (ipykernel)",
   "language": "python",
   "name": "python3"
  },
  "language_info": {
   "codemirror_mode": {
    "name": "ipython",
    "version": 3
   },
   "file_extension": ".py",
   "mimetype": "text/x-python",
   "name": "python",
   "nbconvert_exporter": "python",
   "pygments_lexer": "ipython3",
   "version": "3.10.12"
  }
 },
 "nbformat": 4,
 "nbformat_minor": 5
}
