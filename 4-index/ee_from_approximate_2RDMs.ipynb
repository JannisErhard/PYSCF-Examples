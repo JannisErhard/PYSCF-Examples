{
 "cells": [
  {
   "cell_type": "code",
   "execution_count": 1,
   "id": "07c3c03e-a7d8-4d59-b897-521daedfef36",
   "metadata": {},
   "outputs": [],
   "source": [
    "import numpy as np\n",
    "from pyscf import gto, scf, ao2mo, fci"
   ]
  },
  {
   "cell_type": "markdown",
   "id": "07501768-48e6-4a9a-b15d-8c26e7d327ab",
   "metadata": {},
   "source": [
    "I build this scrit to see wether I can reproduce the electron electron interaction energy form the 2RDM, this serves as test to see wether I understand the data struvctures and theorie accurately to move on to other ideas."
   ]
  },
  {
   "cell_type": "markdown",
   "id": "6e69761a-173a-41a1-8184-1e83a5f68878",
   "metadata": {},
   "source": [
    "The following function caculates the electron electron interactio  energy from the Fock basis representation of the 2RDM $\\gamma_2$ in the follwong way:\n",
    "$$E_{ee} = \\sum_p \\sum_q \\sum_r \\sum_s \\gamma_{2_{pqrs}} \\langle p q | r s \\rangle$$"
   ]
  },
  {
   "cell_type": "code",
   "execution_count": 2,
   "id": "b8379475-f49c-4bc2-82de-7125b74da1ec",
   "metadata": {},
   "outputs": [],
   "source": [
    "def ee_from_gamma_2(eri,dm2):\n",
    "    E = 0 \n",
    "    dim = eri.shape[0]\n",
    "    for p in range(0,dim):\n",
    "        for q in range(0,dim):\n",
    "            for r in range(0,dim):\n",
    "                for s in range(0,dim):\n",
    "                    E+=eri[p,q,r,s]*dm2[p,q,r,s]\n",
    "    return E"
   ]
  },
  {
   "cell_type": "code",
   "execution_count": 3,
   "id": "23fb7c35-6a2e-441c-a94b-a9503021b4e4",
   "metadata": {},
   "outputs": [],
   "source": [
    "def HF_2RDM(n, M):\n",
    "    TWORDM = np.zeros((M,M,M,M))\n",
    "    for i in range(0,M):\n",
    "        for j in range(0,M):\n",
    "            for k in range(0,M):\n",
    "                for l in range(0,M):\n",
    "                    if i==k and j==l:\n",
    "                        TWORDM[i,j,k,l] = 1\n",
    "                    if i==l and j==k:\n",
    "                        TWORDM[i,j,k,l] -= 1\n",
    "                    TWORDM[i,j,k,l] = n[i]*n[j]/2*TWORDM[i,j,k,l]\n",
    "    return TWORDM\n",
    "    "
   ]
  },
  {
   "cell_type": "code",
   "execution_count": 4,
   "id": "c7b242e8-72ac-4734-947e-61613feb333a",
   "metadata": {},
   "outputs": [],
   "source": [
    "def FOURIDX_2_NAOS(eri, C):\n",
    "    for i in range(4):\n",
    "        Fouridx = np.tensordot(eri, C, axes=1).transpose(3, 0, 1, 2)\n",
    "    return Fouridx"
   ]
  },
  {
   "cell_type": "code",
   "execution_count": 5,
   "id": "710b8e9f-7da0-4578-ba54-3dc593082474",
   "metadata": {},
   "outputs": [],
   "source": [
    "def print_2RDM(TWORDM):\n",
    "    M = TWORDM.shape[0]\n",
    "    for i in range(0,M):\n",
    "        for j in range(0,M):\n",
    "            for k in range(0,M):\n",
    "                for l in range(0,M):\n",
    "                    print(i,j,k,l, TWORDM[i,j,k,l]) "
   ]
  },
  {
   "cell_type": "code",
   "execution_count": 6,
   "id": "db733615-4b21-4b92-8742-b4cc56a9d844",
   "metadata": {},
   "outputs": [
    {
     "name": "stdout",
     "output_type": "stream",
     "text": [
      "(1, 1)\n"
     ]
    }
   ],
   "source": [
    "mol = gto.Mole()\n",
    "mol.atom = \"\"\"\n",
    "    He    0.    0.    0.\n",
    "\"\"\"\n",
    "#mol.basis = \"cc-pvdz\"\n",
    "mol.basis = \"6-31g\" \n",
    "mol.build()\n",
    "print(mol.nelec)"
   ]
  },
  {
   "cell_type": "code",
   "execution_count": 7,
   "id": "0a7b3787-19cc-4bba-947b-b56e49b7beff",
   "metadata": {},
   "outputs": [
    {
     "name": "stdout",
     "output_type": "stream",
     "text": [
      "converged SCF energy = -2.85516042615445\n"
     ]
    }
   ],
   "source": [
    "# Run Hartree-Fock.\n",
    "mf = scf.RHF(mol)\n",
    "mf.kernel()\n",
    "h = mf.get_hcore()\n",
    "C = mf.mo_coeff\n",
    "h1 = C.T@h@C"
   ]
  },
  {
   "cell_type": "code",
   "execution_count": 8,
   "id": "78d2e4d2-c1fa-484f-ad6c-fb0773759eae",
   "metadata": {},
   "outputs": [],
   "source": [
    "# Find electron-repulsion integrals (eri).\n",
    "eri = ao2mo.kernel(mol, mf.mo_coeff)\n",
    "eri = np.asarray(ao2mo.restore(1, eri, mol.nao))"
   ]
  },
  {
   "cell_type": "code",
   "execution_count": 9,
   "id": "e8fcb98f-ef8a-4711-8e96-d80ce048e64b",
   "metadata": {},
   "outputs": [
    {
     "name": "stdout",
     "output_type": "stream",
     "text": [
      "(2, 2, 2, 2)\n"
     ]
    }
   ],
   "source": [
    "print(eri.shape)"
   ]
  },
  {
   "cell_type": "code",
   "execution_count": 10,
   "id": "f96b25c9-ec1a-41d4-8ac2-b7199ae5245b",
   "metadata": {},
   "outputs": [],
   "source": [
    "# First create FCI solver with function fci.FCI and solve the FCI problem\n",
    "#\n",
    "cisolver = fci.FCI(mol, mf.mo_coeff)\n",
    "e, fcivec = cisolver.kernel()"
   ]
  },
  {
   "cell_type": "code",
   "execution_count": 11,
   "id": "5ca8d097-812f-4209-b2f6-dbe484160d91",
   "metadata": {},
   "outputs": [],
   "source": [
    "dm1, dm2 = cisolver.make_rdm12(fcivec, mf.mo_coeff.shape[1], mol.nelec)"
   ]
  },
  {
   "cell_type": "code",
   "execution_count": 12,
   "id": "3f6ccfce-4894-4159-93d6-a9702925f4c4",
   "metadata": {},
   "outputs": [
    {
     "name": "stdout",
     "output_type": "stream",
     "text": [
      "0.9934201474038266 0.9934201474038242\n"
     ]
    }
   ],
   "source": [
    "print(.5*ee_from_gamma_2(eri,dm2), e-np.trace(np.matmul(dm1,h1)))"
   ]
  },
  {
   "cell_type": "code",
   "execution_count": 13,
   "id": "00e2a81d-a8b1-463b-894e-0e37b25534fc",
   "metadata": {},
   "outputs": [],
   "source": [
    "FCIoccu, FCInaturalC = np.linalg.eigh(dm1)\n",
    "hf_dm2 = HF_2RDM(FCIoccu, h.shape[0])\n",
    "h2_NAO = FOURIDX_2_NAOS(eri, FCInaturalC)"
   ]
  },
  {
   "cell_type": "code",
   "execution_count": 14,
   "id": "4e21cc17-336e-4a7b-85bf-69ce1f1eb8ec",
   "metadata": {},
   "outputs": [
    {
     "name": "stdout",
     "output_type": "stream",
     "text": [
      "-2.168404344971009e-19 0.9934201474038242\n",
      "[[[[ 0.          0.        ]\n",
      "   [ 0.          0.        ]]\n",
      "\n",
      "  [[ 0.          0.00860964]\n",
      "   [-0.00860964  0.        ]]]\n",
      "\n",
      "\n",
      " [[[ 0.         -0.00860964]\n",
      "   [ 0.00860964  0.        ]]\n",
      "\n",
      "  [[ 0.          0.        ]\n",
      "   [ 0.          0.        ]]]] \n",
      " [[[[ 1.99133674e+00  4.15105995e-03]\n",
      "   [ 4.15105995e-03  8.65313150e-06]]\n",
      "\n",
      "  [[ 4.15105995e-03 -1.31213584e-01]\n",
      "   [ 8.65313150e-06 -2.73522526e-04]]]\n",
      "\n",
      "\n",
      " [[[ 4.15105995e-03  8.65313150e-06]\n",
      "   [-1.31213584e-01 -2.73522526e-04]]\n",
      "\n",
      "  [[ 8.65313150e-06 -2.73522526e-04]\n",
      "   [-2.73522526e-04  8.64595344e-03]]]]\n"
     ]
    }
   ],
   "source": [
    "print(.5*ee_from_gamma_2(h2_NAO,hf_dm2), e-np.trace(np.matmul(dm1,h1)))\n",
    "print(hf_dm2, \"\\n\", dm2)"
   ]
  },
  {
   "cell_type": "code",
   "execution_count": 15,
   "id": "17d27d74-cab8-4023-bfd9-4b71c02926b2",
   "metadata": {},
   "outputs": [
    {
     "name": "stdout",
     "output_type": "stream",
     "text": [
      "0 0 0 0 1.9913367402938411\n",
      "0 0 0 1 0.004151059946534481\n",
      "0 0 1 0 0.004151059946534481\n",
      "0 0 1 1 8.653131502600713e-06\n",
      "0 1 0 0 0.004151059946534481\n",
      "0 1 0 1 -0.13121358445764078\n",
      "0 1 1 0 8.653131502634262e-06\n",
      "0 1 1 1 -0.00027352252577982365\n",
      "1 0 0 0 0.004151059946534481\n",
      "1 0 0 1 8.653131502634262e-06\n",
      "1 0 1 0 -0.13121358445764078\n",
      "1 0 1 1 -0.00027352252577982365\n",
      "1 1 0 0 8.653131502600713e-06\n",
      "1 1 0 1 -0.00027352252577982365\n",
      "1 1 1 0 -0.00027352252577982365\n",
      "1 1 1 1 0.008645953443153914\n"
     ]
    }
   ],
   "source": [
    "print_2RDM(dm2)"
   ]
  }
 ],
 "metadata": {
  "kernelspec": {
   "display_name": "Python 3 (ipykernel)",
   "language": "python",
   "name": "python3"
  },
  "language_info": {
   "codemirror_mode": {
    "name": "ipython",
    "version": 3
   },
   "file_extension": ".py",
   "mimetype": "text/x-python",
   "name": "python",
   "nbconvert_exporter": "python",
   "pygments_lexer": "ipython3",
   "version": "3.12.3"
  }
 },
 "nbformat": 4,
 "nbformat_minor": 5
}
