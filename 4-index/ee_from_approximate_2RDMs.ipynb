{
 "cells": [
  {
   "cell_type": "code",
   "execution_count": 1,
   "id": "07c3c03e-a7d8-4d59-b897-521daedfef36",
   "metadata": {},
   "outputs": [],
   "source": [
    "import numpy as np\n",
    "from pyscf import gto, scf, ao2mo, fci"
   ]
  },
  {
   "cell_type": "markdown",
   "id": "07501768-48e6-4a9a-b15d-8c26e7d327ab",
   "metadata": {},
   "source": [
    "script that contains collection of approximate 2RDMs."
   ]
  },
  {
   "cell_type": "markdown",
   "id": "6e69761a-173a-41a1-8184-1e83a5f68878",
   "metadata": {},
   "source": [
    "The following function caculates the electron electron interactio  energy from the Fock basis representation of the 2RDM $\\gamma_2$ in the follwong way:\n",
    "$$E_{ee} = \\sum_p \\sum_q \\sum_r \\sum_s \\gamma_{2_{pqrs}} \\langle p q | r s \\rangle$$"
   ]
  },
  {
   "cell_type": "code",
   "execution_count": 2,
   "id": "b8379475-f49c-4bc2-82de-7125b74da1ec",
   "metadata": {},
   "outputs": [],
   "source": [
    "def ee_from_gamma_2(eri,dm2):\n",
    "    E = 0 \n",
    "    dim = eri.shape[0]\n",
    "    for p in range(0,dim):\n",
    "        for q in range(0,dim):\n",
    "            for r in range(0,dim):\n",
    "                for s in range(0,dim):\n",
    "                    E+=eri[p,q,r,s]*dm2[p,q,r,s]\n",
    "    return E"
   ]
  },
  {
   "cell_type": "code",
   "execution_count": 3,
   "id": "23fb7c35-6a2e-441c-a94b-a9503021b4e4",
   "metadata": {},
   "outputs": [],
   "source": [
    "def HF_2RDM(n, M):\n",
    "    # this form is for spin restriced orbitals \n",
    "    TWORDM = np.zeros((M,M,M,M))\n",
    "    for i in range(0,M):\n",
    "        for j in range(0,M):\n",
    "            for k in range(0,M):\n",
    "                for l in range(0,M):\n",
    "                    if i==k and j==l:\n",
    "                        TWORDM[i,k,j,l] = n[i]*n[j]\n",
    "                    if i==l and j==k:\n",
    "                        TWORDM[i,k,j,l] -= TWORDM[i,k,j,l]\n",
    "\n",
    "    return TWORDM"
   ]
  },
  {
   "cell_type": "code",
   "execution_count": 4,
   "id": "1777dd77-f30d-478d-b062-77421d072c03",
   "metadata": {},
   "outputs": [],
   "source": [
    "def MU_2RDM(n, M):\n",
    "    # this form is for spin restriced orbitals \n",
    "    TWORDM = np.zeros((M,M,M,M))\n",
    "    for i in range(0,M):\n",
    "        for j in range(0,M):\n",
    "            for k in range(0,M):\n",
    "                for l in range(0,M):\n",
    "                    if i==k and j==l:\n",
    "                        TWORDM[i,k,j,l] = n[i]*n[j]\n",
    "                    if i==l and j==k:\n",
    "                        TWORDM[i,k,j,l] -= np.sqrt(n[i]*n[j])\n",
    "    return TWORDM"
   ]
  },
  {
   "cell_type": "code",
   "execution_count": 5,
   "id": "47963777-5ea8-4ef9-abe1-3f6507a3f494",
   "metadata": {},
   "outputs": [],
   "source": [
    "def POW_2RDM(n, M, alpha):\n",
    "    # this form is for spin restriced orbitals \n",
    "    TWORDM = np.zeros((M,M,M,M))\n",
    "    for i in range(0,M):\n",
    "        for j in range(0,M):\n",
    "            for k in range(0,M):\n",
    "                for l in range(0,M):\n",
    "                    if i==k and j==l:\n",
    "                        TWORDM[i,k,j,l] = n[i]*n[j]\n",
    "                    if i==l and j==k:\n",
    "                        TWORDM[i,k,j,l] -= (n[i]*n[j])**(alpha)\n",
    "    return TWORDM"
   ]
  },
  {
   "cell_type": "code",
   "execution_count": 6,
   "id": "4c429429-cf67-48f8-bd36-2d38cf1af95d",
   "metadata": {},
   "outputs": [],
   "source": [
    "def GU_2RDM(n, M):\n",
    "    # this form is for spin restriced orbitals \n",
    "    TWORDM = np.zeros((M,M,M,M))\n",
    "    for i in range(0,M):\n",
    "        for j in range(0,M):\n",
    "            for k in range(0,M):\n",
    "                for l in range(0,M):\n",
    "                    if i==k and j==l and j != k :\n",
    "                        TWORDM[i,k,j,l] +=  n[i]*n[j]\n",
    "                    if i==l and j==k and i != j :\n",
    "                        TWORDM[i,k,j,l] -= .5*np.sqrt(n[i]*n[j])\n",
    "                    if i==j and j==k and k==l :\n",
    "                        TWORDM[i,k,j,l] += (n[i]-.5)*.5*n[i]\n",
    "\n",
    "\n",
    "    return TWORDM"
   ]
  },
  {
   "cell_type": "code",
   "execution_count": 7,
   "id": "db733615-4b21-4b92-8742-b4cc56a9d844",
   "metadata": {},
   "outputs": [
    {
     "data": {
      "text/plain": [
       "<pyscf.gto.mole.Mole at 0x72fb3433b830>"
      ]
     },
     "execution_count": 7,
     "metadata": {},
     "output_type": "execute_result"
    }
   ],
   "source": [
    "mol = gto.Mole()\n",
    "mol.atom = \"\"\"\n",
    "    O    0.    0.    0.\n",
    "\"\"\"\n",
    "#mol.basis = \"cc-pvdz\"\n",
    "mol.basis = \"6-31g\" \n",
    "mol.build()"
   ]
  },
  {
   "cell_type": "code",
   "execution_count": 8,
   "id": "0a7b3787-19cc-4bba-947b-b56e49b7beff",
   "metadata": {},
   "outputs": [
    {
     "name": "stdout",
     "output_type": "stream",
     "text": [
      "converged SCF energy = -74.6558129536031\n"
     ]
    }
   ],
   "source": [
    "# Run Hartree-Fock.\n",
    "mf = scf.RHF(mol)\n",
    "mf.kernel()\n",
    "h = mf.get_hcore()\n",
    "C = mf.mo_coeff\n",
    "h1 = C.T@h@C"
   ]
  },
  {
   "cell_type": "code",
   "execution_count": 9,
   "id": "78d2e4d2-c1fa-484f-ad6c-fb0773759eae",
   "metadata": {},
   "outputs": [],
   "source": [
    "# Find electron-repulsion integrals (eri).\n",
    "eri = ao2mo.kernel(mol, mf.mo_coeff)\n",
    "h2_MO = np.asarray(ao2mo.restore(1, eri, mol.nao))"
   ]
  },
  {
   "cell_type": "code",
   "execution_count": 10,
   "id": "f96b25c9-ec1a-41d4-8ac2-b7199ae5245b",
   "metadata": {},
   "outputs": [],
   "source": [
    "# First create FCI solver with function fci.FCI and solve the FCI problem\n",
    "cisolver = fci.FCI(mol, mf.mo_coeff)\n",
    "e, fcivec = cisolver.kernel()"
   ]
  },
  {
   "cell_type": "code",
   "execution_count": 11,
   "id": "5ca8d097-812f-4209-b2f6-dbe484160d91",
   "metadata": {},
   "outputs": [],
   "source": [
    "dm1, dm2 = cisolver.make_rdm12(fcivec, mf.mo_coeff.shape[1], mol.nelec)\n",
    "FCIoccu, FCInaturalC = np.linalg.eigh(dm1)"
   ]
  },
  {
   "cell_type": "code",
   "execution_count": 12,
   "id": "3f6ccfce-4894-4159-93d6-a9702925f4c4",
   "metadata": {},
   "outputs": [
    {
     "name": "stdout",
     "output_type": "stream",
     "text": [
      "28.23071205706589 28.230712057065915\n"
     ]
    }
   ],
   "source": [
    "print(.5*ee_from_gamma_2(h2_MO,dm2), e-np.trace(np.matmul(dm1,h1)))"
   ]
  },
  {
   "cell_type": "code",
   "execution_count": 13,
   "id": "e6d0e0bc-620b-49fb-b0fe-5c17e2fdadf8",
   "metadata": {},
   "outputs": [],
   "source": [
    "eri_fciNAO = h2_MO.copy()\n",
    "for i in range(4):\n",
    "  eri_fciNAO = np.tensordot(eri_fciNAO, FCInaturalC, axes=1).transpose(3, 0, 1, 2)\n"
   ]
  },
  {
   "cell_type": "code",
   "execution_count": 14,
   "id": "4e21cc17-336e-4a7b-85bf-69ce1f1eb8ec",
   "metadata": {},
   "outputs": [],
   "source": [
    "hf_dm2 = HF_2RDM(FCIoccu, h.shape[0])\n",
    "mu_dm2 = MU_2RDM(FCIoccu, h.shape[0])\n",
    "gu_dm2 = GU_2RDM(FCIoccu, h.shape[0])"
   ]
  },
  {
   "cell_type": "code",
   "execution_count": 15,
   "id": "93b7de12-28f8-4080-bd79-cbf4d443d3a3",
   "metadata": {},
   "outputs": [
    {
     "name": "stdout",
     "output_type": "stream",
     "text": [
      "23.059968712706297 28.230712057065915\n",
      "28.015393442712423 28.230712057065915\n",
      "27.329547873832635 28.230712057065915\n"
     ]
    }
   ],
   "source": [
    "print(.5*ee_from_gamma_2(eri_fciNAO,hf_dm2), e-np.trace(np.matmul(dm1,h1)))\n",
    "print(.5*ee_from_gamma_2(eri_fciNAO,mu_dm2), e-np.trace(np.matmul(dm1,h1)))\n",
    "print(.5*ee_from_gamma_2(eri_fciNAO,gu_dm2), e-np.trace(np.matmul(dm1,h1)))"
   ]
  },
  {
   "cell_type": "code",
   "execution_count": null,
   "id": "2df46f11-0a41-4d8f-b5f6-a8ab0e96177b",
   "metadata": {},
   "outputs": [],
   "source": []
  }
 ],
 "metadata": {
  "kernelspec": {
   "display_name": "Python 3 (ipykernel)",
   "language": "python",
   "name": "python3"
  },
  "language_info": {
   "codemirror_mode": {
    "name": "ipython",
    "version": 3
   },
   "file_extension": ".py",
   "mimetype": "text/x-python",
   "name": "python",
   "nbconvert_exporter": "python",
   "pygments_lexer": "ipython3",
   "version": "3.12.3"
  }
 },
 "nbformat": 4,
 "nbformat_minor": 5
}
