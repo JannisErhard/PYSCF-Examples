{
 "cells": [
  {
   "cell_type": "code",
   "execution_count": 1,
   "id": "35aa8d01-603a-4496-9946-8d18db7800d4",
   "metadata": {},
   "outputs": [],
   "source": [
    "import numpy as np"
   ]
  },
  {
   "cell_type": "code",
   "execution_count": 2,
   "id": "61ba2652-3f13-41f4-bd78-a2bd1ba20823",
   "metadata": {},
   "outputs": [],
   "source": [
    "eri = np.asarray([[1.0,2.0], [3.0, 4.0]])"
   ]
  },
  {
   "cell_type": "code",
   "execution_count": 3,
   "id": "29faff4d-1aea-4abc-99e6-69e485bb8547",
   "metadata": {},
   "outputs": [
    {
     "name": "stdout",
     "output_type": "stream",
     "text": [
      "(2, 2)\n"
     ]
    }
   ],
   "source": [
    "print(eri.shape)"
   ]
  },
  {
   "cell_type": "code",
   "execution_count": 4,
   "id": "7516941e-56ec-4956-a408-4a9308204d8d",
   "metadata": {},
   "outputs": [],
   "source": [
    "eri_2 = np.stack((eri,eri), axis=0)"
   ]
  },
  {
   "cell_type": "code",
   "execution_count": 5,
   "id": "18f38c15-41c7-4d97-a648-d493b6cbc1b0",
   "metadata": {},
   "outputs": [
    {
     "name": "stdout",
     "output_type": "stream",
     "text": [
      "(2, 2, 2)\n"
     ]
    }
   ],
   "source": [
    "print(eri_2.shape)"
   ]
  },
  {
   "cell_type": "code",
   "execution_count": 6,
   "id": "c6ec0296-6268-4bb6-829e-d8e04055b0d1",
   "metadata": {},
   "outputs": [],
   "source": [
    "eri_4 = np.stack((eri_2,eri_2), axis=0)"
   ]
  },
  {
   "cell_type": "code",
   "execution_count": 7,
   "id": "ae3335c4-8ea8-48e7-9153-d455faa7b5f6",
   "metadata": {},
   "outputs": [
    {
     "name": "stdout",
     "output_type": "stream",
     "text": [
      "(2, 2, 2, 2)\n"
     ]
    }
   ],
   "source": [
    "print(eri_4.shape)"
   ]
  },
  {
   "cell_type": "code",
   "execution_count": 8,
   "id": "acd90b4d-3444-4d10-b6ae-fc773d1eacda",
   "metadata": {},
   "outputs": [],
   "source": [
    "FourEri = np.asarray([[1.0,2.0,3.0,4.0], [5.0, 6.0, 7.0, 8.0], [9.0, 10.0, 11.0, 12.0], [13.0, 14.0, 15.0, 16.0]])"
   ]
  },
  {
   "cell_type": "code",
   "execution_count": 9,
   "id": "9716a1c1-4f7e-4679-8112-cc04f42de949",
   "metadata": {},
   "outputs": [
    {
     "name": "stdout",
     "output_type": "stream",
     "text": [
      "(4, 4)\n"
     ]
    }
   ],
   "source": [
    "print(FourEri.shape)"
   ]
  },
  {
   "cell_type": "code",
   "execution_count": 10,
   "id": "30d30fce-2cac-4df2-811a-43c2c09fcc1e",
   "metadata": {},
   "outputs": [],
   "source": [
    "FourEri_2 = np.stack((FourEri,FourEri), axis=0)"
   ]
  },
  {
   "cell_type": "code",
   "execution_count": 11,
   "id": "3932c691-5963-4301-bfc1-fd1bff0dd5f6",
   "metadata": {},
   "outputs": [
    {
     "name": "stdout",
     "output_type": "stream",
     "text": [
      "(2, 4, 4)\n"
     ]
    }
   ],
   "source": [
    "print(FourEri_2.shape)"
   ]
  },
  {
   "cell_type": "code",
   "execution_count": 12,
   "id": "480506eb-1f55-4c74-b517-4d1471a36fbe",
   "metadata": {},
   "outputs": [],
   "source": [
    "FourEri_4 = np.stack((FourEri_2,FourEri_2), axis=0)"
   ]
  },
  {
   "cell_type": "code",
   "execution_count": 13,
   "id": "07399314-4137-4873-988e-3abb8a158515",
   "metadata": {},
   "outputs": [
    {
     "name": "stdout",
     "output_type": "stream",
     "text": [
      "(2, 2, 4, 4)\n"
     ]
    }
   ],
   "source": [
    "print(FourEri_4.shape)"
   ]
  },
  {
   "cell_type": "code",
   "execution_count": null,
   "id": "421d752e-c62f-4066-adb8-9def61e44214",
   "metadata": {},
   "outputs": [],
   "source": []
  }
 ],
 "metadata": {
  "kernelspec": {
   "display_name": "Python 3 (ipykernel)",
   "language": "python",
   "name": "python3"
  },
  "language_info": {
   "codemirror_mode": {
    "name": "ipython",
    "version": 3
   },
   "file_extension": ".py",
   "mimetype": "text/x-python",
   "name": "python",
   "nbconvert_exporter": "python",
   "pygments_lexer": "ipython3",
   "version": "3.10.12"
  }
 },
 "nbformat": 4,
 "nbformat_minor": 5
}
