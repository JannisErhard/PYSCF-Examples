{
 "cells": [
  {
   "cell_type": "code",
   "execution_count": 1,
   "id": "7691e77b-1626-44a4-abc9-79581f67ae9a",
   "metadata": {},
   "outputs": [],
   "source": [
    "import numpy as np\n",
    "from pyscf import gto, scf, ao2mo\n"
   ]
  },
  {
   "cell_type": "markdown",
   "id": "4ddfcaa8-6cec-4174-9930-7623be78f9df",
   "metadata": {},
   "source": [
    "$$\n",
    "\\begin{split}\n",
    "E_x & = \\sum_i^N \\sum_j^N \\sum_{\\mu}^M \\sum_{\\nu}^M \\sum_{\\kappa}^M \\sum_{\\lambda}^M c_{i,\\mu} c_{j,\\nu} c_{i,\\kappa} c_{j,\\lambda} \\left [ \\mu \\nu | \\kappa \\lambda \\right ] \\\\\n",
    "E_x & = \\sum_i^N \\sum_j^N  \\left [ i j | i j \\right ] \\\\\n",
    "E_x & = \\sum_i^N \\sum_j^N  \\langle  i j | j i  \\rangle \n",
    "\\end{split}\n",
    "$$"
   ]
  },
  {
   "cell_type": "code",
   "execution_count": 2,
   "id": "79ff686b-5579-4a82-a856-123b9ea9c1e3",
   "metadata": {},
   "outputs": [],
   "source": [
    "def exchange_energy(Fouridx, C, mol):\n",
    "    energy = 0\n",
    "    M = Fouridx.shape[0]\n",
    "    N = mol.nelec[0]\n",
    "    for i in  range(0,N):\n",
    "        for j in range(0,N):\n",
    "            for mu in range(0,M):\n",
    "                for nu in range(0,M):\n",
    "                    for kappa in range(0,M):\n",
    "                        for lamda in range(0,M):\n",
    "                            #print(i,j,mu,nu,kappa,lamda)\n",
    "                            energy += C[mu,i]*C[nu,j]*C[kappa,i]*C[lamda,j]*Fouridx[mu,nu,kappa,lamda]\n",
    "\n",
    "    return energy\n"
   ]
  },
  {
   "cell_type": "markdown",
   "id": "2f28a973-334b-43bc-b60e-560f1fa95ebc",
   "metadata": {},
   "source": [
    "$$\n",
    "\\begin{split}\n",
    "E_H & = \\sum_i^N \\sum_j^N \\sum_{\\mu}^M \\sum_{\\nu}^M \\sum_{\\kappa}^M \\sum_{\\lambda}^M c_{i,\\mu} c_{j,\\nu} c_{i,\\kappa} c_{j,\\lambda} \\left [ \\mu \\nu | \\kappa \\lambda \\right ] \\\\\n",
    "E_H & = \\sum_i^N \\sum_j^N  \\left [ i i | j j \\right ] \\\\\n",
    "E_H & = \\sum_i^N \\sum_j^N  \\langle  i j | i j \\rangle \n",
    "\\end{split}\n",
    "$$"
   ]
  },
  {
   "cell_type": "code",
   "execution_count": 3,
   "id": "cac8afac-1a69-496a-8c79-b3993f71e245",
   "metadata": {},
   "outputs": [],
   "source": [
    "def hartree_energy(Fouridx, C, mol):\n",
    "    energy = 0\n",
    "    M = Fouridx.shape[0]\n",
    "    N = mol.nelec[0]\n",
    "    for i in  range(0,N):\n",
    "        for j in range(0,N):\n",
    "            for mu in range(0,M):\n",
    "                for nu in range(0,M):\n",
    "                    for kappa in range(0,M):\n",
    "                        for lamda in range(0,M):\n",
    "                            #print(i,j,mu,nu,kappa,lamda)\n",
    "                            energy += C[mu,i]*C[nu,i]*C[kappa,j]*C[lamda,j]*Fouridx[mu,nu,kappa,lamda]\n",
    "\n",
    "    return energy\n"
   ]
  },
  {
   "cell_type": "code",
   "execution_count": 4,
   "id": "28f2c03f-3010-4bb3-bbf8-89b897c538ad",
   "metadata": {},
   "outputs": [],
   "source": [
    "def ONERDMFT_hartree_energy(Fouridx, C, n, mol):\n",
    "    energy = 0\n",
    "    M = Fouridx.shape[0]\n",
    "    N = mol.nelec[0]\n",
    "    for i in  range(0,M):\n",
    "        for j in range(0,M):\n",
    "            for mu in range(0,M):\n",
    "                for nu in range(0,M):\n",
    "                    for kappa in range(0,M):\n",
    "                        for lamda in range(0,M):\n",
    "                            #print(i,j,mu,nu,kappa,lamda)\n",
    "                            energy += n[i]*n[j]*C[mu,i]*C[nu,i]*C[kappa,j]*C[lamda,j]*Fouridx[mu,nu,kappa,lamda]\n",
    "\n",
    "    return energy\n"
   ]
  },
  {
   "cell_type": "code",
   "execution_count": 5,
   "id": "4eec63f9-0583-4ed7-b8be-2a1d178145bf",
   "metadata": {},
   "outputs": [
    {
     "name": "stdout",
     "output_type": "stream",
     "text": [
      "The System \n",
      "    Ne    0.    0.    0.\n",
      " has 6561 or 9^4 elements in 2-electron-intergrals/4-index-integrals matrix with the 6-31g-basis\n"
     ]
    }
   ],
   "source": [
    "mol = gto.Mole()\n",
    "mol.atom = \"\"\"\n",
    "    Ne    0.    0.    0.\n",
    "\"\"\"\n",
    "# this basis has 2 functions for Helium\n",
    "mol.basis = \"6-31g\" #mol.basis = \"ccpvdz\", mol.basis = \"sto-6g\"\n",
    "mol.build()\n",
    "\n",
    "# the 2 electron integrals \\langle \\mu \\nu | \\kappa \\lambda \\rangle have M^4 in the case of  case 16 distinct elements\n",
    "eri = mol.intor('int2e')\n",
    "print(f\"The System {mol.atom} has {eri.size} or {eri.shape[0]}^4 elements in 2-electron-intergrals/4-index-integrals matrix with the {mol.basis}-basis\")\n",
    "\n"
   ]
  },
  {
   "cell_type": "code",
   "execution_count": 6,
   "id": "e6d3bb1a-8d61-4d78-8f0a-7304e9b9e4be",
   "metadata": {},
   "outputs": [
    {
     "name": "stdout",
     "output_type": "stream",
     "text": [
      "Overlap Integrals\n",
      "S_00 = 0.9999999999999998\n",
      "S_01 = 0.24901801230727033\n",
      "S_02 = 0.17191310932176385\n",
      "S_03 = 0.0\n",
      "S_04 = 0.0\n",
      "S_05 = 0.0\n",
      "S_06 = 0.0\n",
      "S_07 = 0.0\n",
      "S_08 = 0.0\n",
      "S_10 = 0.24901801230727028\n",
      "S_11 = 0.9999999999999998\n",
      "S_12 = 0.7590309056851063\n",
      "S_13 = 0.0\n",
      "S_14 = 0.0\n",
      "S_15 = 0.0\n",
      "S_16 = 0.0\n",
      "S_17 = 0.0\n",
      "S_18 = 0.0\n",
      "S_20 = 0.17191310932176382\n",
      "S_21 = 0.7590309056851063\n",
      "S_22 = 0.9999999999999999\n",
      "S_23 = 0.0\n",
      "S_24 = 0.0\n",
      "S_25 = 0.0\n",
      "S_26 = 0.0\n",
      "S_27 = 0.0\n",
      "S_28 = 0.0\n",
      "S_30 = 0.0\n",
      "S_31 = 0.0\n",
      "S_32 = 0.0\n",
      "S_33 = 1.0000000000000002\n",
      "S_34 = 0.0\n",
      "S_35 = 0.0\n",
      "S_36 = 0.4929819049679909\n",
      "S_37 = 0.0\n",
      "S_38 = 0.0\n",
      "S_40 = 0.0\n",
      "S_41 = 0.0\n",
      "S_42 = 0.0\n",
      "S_43 = 0.0\n",
      "S_44 = 1.0000000000000002\n",
      "S_45 = 0.0\n",
      "S_46 = 0.0\n",
      "S_47 = 0.4929819049679909\n",
      "S_48 = 0.0\n",
      "S_50 = 0.0\n",
      "S_51 = 0.0\n",
      "S_52 = 0.0\n",
      "S_53 = 0.0\n",
      "S_54 = 0.0\n",
      "S_55 = 1.0000000000000002\n",
      "S_56 = 0.0\n",
      "S_57 = 0.0\n",
      "S_58 = 0.4929819049679909\n",
      "S_60 = 0.0\n",
      "S_61 = 0.0\n",
      "S_62 = 0.0\n",
      "S_63 = 0.4929819049679909\n",
      "S_64 = 0.0\n",
      "S_65 = 0.0\n",
      "S_66 = 1.0000000000000004\n",
      "S_67 = 0.0\n",
      "S_68 = 0.0\n",
      "S_70 = 0.0\n",
      "S_71 = 0.0\n",
      "S_72 = 0.0\n",
      "S_73 = 0.0\n",
      "S_74 = 0.4929819049679909\n",
      "S_75 = 0.0\n",
      "S_76 = 0.0\n",
      "S_77 = 1.0000000000000004\n",
      "S_78 = 0.0\n",
      "S_80 = 0.0\n",
      "S_81 = 0.0\n",
      "S_82 = 0.0\n",
      "S_83 = 0.0\n",
      "S_84 = 0.0\n",
      "S_85 = 0.4929819049679909\n",
      "S_86 = 0.0\n",
      "S_87 = 0.0\n",
      "S_88 = 1.0000000000000004\n"
     ]
    }
   ],
   "source": [
    "print(\"Overlap Integrals\")\n",
    "S = mol.intor('int1e_ovlp')\n",
    "for i in range(0,S.shape[0]):\n",
    "    for j in range(0,S.shape[1]):\n",
    "        print(f\"S_{i}{j} = {S[i,j]}\" )\n",
    "\n"
   ]
  },
  {
   "cell_type": "code",
   "execution_count": 7,
   "id": "f8395957-b32d-4d2b-99d1-6610a9946f8a",
   "metadata": {},
   "outputs": [
    {
     "name": "stdout",
     "output_type": "stream",
     "text": [
      "converged SCF energy = -128.473876870668\n",
      "************************\n",
      "MO-Coefficent matrix\n",
      "Coefficients of mu=0 [ 0.99550796 -0.24482371  0.          0.          0.         -0.\n",
      "  0.         -0.         -0.12617152]\n",
      "Coefficients of mu=1 [ 0.02008192  0.54555307  0.          0.          0.         -0.\n",
      "  0.          0.          1.46444498]\n",
      "Coefficients of mu=2 [-0.00378329  0.5485072   0.          0.          0.         -0.\n",
      "  0.         -0.         -1.43529233]\n",
      "Coefficients of mu=3 [-0.         -0.         -0.04469569  0.68878616 -0.00360283  0.01303942\n",
      " -0.91791131 -0.04347514 -0.        ]\n",
      "Coefficients of mu=4 [-0.         -0.          0.68368424  0.04480243  0.08369987 -0.03465753\n",
      "  0.04295735 -0.91737386 -0.        ]\n",
      "Coefficients of mu=5 [-0.          0.         -0.08375692 -0.00185127  0.68514116 -0.91828651\n",
      " -0.01465537  0.03400575 -0.        ]\n",
      "Coefficients of mu=6 [-0.          0.         -0.02974236  0.45834675 -0.00239747 -0.01494878\n",
      "  1.05232059  0.04984118 -0.        ]\n",
      "Coefficients of mu=7 [-0.          0.          0.45495172  0.02981339  0.05569735  0.03973242\n",
      " -0.04924757  1.05170445 -0.        ]\n",
      "Coefficients of mu=8 [-0.          0.         -0.05573531 -0.00123191  0.45592121  1.05275074\n",
      "  0.01680135 -0.0389852  -0.        ]\n",
      "************************\n"
     ]
    }
   ],
   "source": [
    "## Run Hartree-Fock.\n",
    "mf = scf.RHF(mol)\n",
    "mf.kernel()\n",
    "\n",
    "print(\"*\"*24)\n",
    "print(\"MO-Coefficent matrix\")\n",
    "for mu,AO in enumerate(mf.mo_coeff):\n",
    "    print(f\"Coefficients of mu={mu} {AO}\")\n",
    "print(\"*\"*24)\n",
    "\n",
    "#print(\"den ?\")\n",
    "#print(np.matmul(mf.mo_coeff.T,mf.mo_coeff))\n",
    "#print(\"*\"*24)"
   ]
  },
  {
   "cell_type": "code",
   "execution_count": 8,
   "id": "51baef71-4668-4a98-a0b3-f85b2ae27f59",
   "metadata": {},
   "outputs": [
    {
     "name": "stdout",
     "output_type": "stream",
     "text": [
      "Energy Components from PySCF Tools:\n",
      "h_0 = -182.62284394764515; U = 66.27654288017764; E_x =  12.12757580320087\n",
      "h_0 + U + E_x = -128.4738768706684\n",
      "Energy Components from direct calculations:\n",
      "U = 66.27654288017776 E_x = 12.127575803200841 \n"
     ]
    }
   ],
   "source": [
    "# get j, k and gamma (1RDM) matrix from hf, \n",
    "J = mf.get_j()\n",
    "K = mf.get_k()\n",
    "h = mf.get_hcore()\n",
    "C = mf.mo_coeff\n",
    "gamma = mf.make_rdm1()\n",
    "\n",
    "# calculate the energy components to see what they are from the matrices the mf object offers you \n",
    "print(\"Energy Components from PySCF Tools:\")\n",
    "print(f\"h_0 = {np.trace(np.matmul(h,gamma))}; U = {1/2*np.trace(np.matmul(J,gamma))}; E_x =  {1/4.*np.trace(np.matmul(K,gamma))}\")\n",
    "print(f\"h_0 + U + E_x = {np.trace(np.matmul(h,gamma))+1/2.*np.trace(np.matmul(J,gamma))-1/4.*np.trace(np.matmul(K,gamma))}\")\n",
    "\n",
    "# this should also work\n",
    "print(\"Energy Components from direct calculations:\")\n",
    "print(f\"U = {2*hartree_energy(eri, mf.mo_coeff, mol)} E_x = {exchange_energy(eri, mf.mo_coeff, mol)} \")"
   ]
  },
  {
   "cell_type": "code",
   "execution_count": 9,
   "id": "25cf5ddd-30bf-492d-ac64-3bf82e066434",
   "metadata": {},
   "outputs": [
    {
     "name": "stdout",
     "output_type": "stream",
     "text": [
      "Text-Book Gamma\n",
      "5\n",
      "Coefficients of mu=0 [ 2.1019495  -0.22714523 -0.27610773  0.          0.          0.\n",
      "  0.          0.          0.        ]\n",
      "Coefficients of mu=1 [-0.22714523  0.59606287  0.59832762  0.          0.          0.\n",
      "  0.          0.          0.        ]\n",
      "Coefficients of mu=2 [-0.27610773  0.59832762  0.60174891  0.          0.          0.\n",
      "  0.          0.          0.        ]\n",
      "Coefficients of mu=3 [ 0.00000000e+00  0.00000000e+00  0.00000000e+00  9.52874120e-01\n",
      " -7.02559005e-17 -2.23172127e-17  6.34081779e-01 -2.51764138e-18\n",
      " -5.46610797e-18]\n",
      "Coefficients of mu=4 [ 0.00000000e+00  0.00000000e+00  0.00000000e+00 -7.02559005e-17\n",
      "  9.52874120e-01  3.28656657e-17  1.14958427e-16  6.34081779e-01\n",
      "  1.56974021e-16]\n",
      "Coefficients of mu=5 [ 0.00000000e+00  0.00000000e+00  0.00000000e+00 -2.23172127e-17\n",
      "  3.28656657e-17  9.52874120e-01 -3.07085968e-18 -4.06366135e-16\n",
      "  6.34081779e-01]\n",
      "Coefficients of mu=6 [ 0.00000000e+00  0.00000000e+00  0.00000000e+00  6.34081779e-01\n",
      "  1.14958427e-16 -3.07085968e-18  4.21944193e-01  1.05242956e-16\n",
      "  3.79381077e-18]\n",
      "Coefficients of mu=7 [ 0.00000000e+00  0.00000000e+00  0.00000000e+00 -2.51764138e-18\n",
      "  6.34081779e-01 -4.06366135e-16  1.05242956e-16  4.21944193e-01\n",
      " -1.66855854e-16]\n",
      "Coefficients of mu=8 [ 0.00000000e+00  0.00000000e+00  0.00000000e+00 -5.46610797e-18\n",
      "  1.56974021e-16  6.34081779e-01  3.79381077e-18 -1.66855854e-16\n",
      "  4.21944193e-01]\n",
      "PySCF Gamma\n",
      "Coefficients of mu=0 [ 2.1019495  -0.22714523 -0.27610773  0.          0.          0.\n",
      "  0.          0.          0.        ]\n",
      "Coefficients of mu=1 [-0.22714523  0.59606287  0.59832762  0.          0.          0.\n",
      "  0.          0.          0.        ]\n",
      "Coefficients of mu=2 [-0.27610773  0.59832762  0.60174891  0.          0.          0.\n",
      "  0.          0.          0.        ]\n",
      "Coefficients of mu=3 [ 0.00000000e+00  0.00000000e+00  0.00000000e+00  9.52874120e-01\n",
      " -7.02559005e-17 -2.23172127e-17  6.34081779e-01 -2.51764138e-18\n",
      " -5.46610797e-18]\n",
      "Coefficients of mu=4 [ 0.00000000e+00  0.00000000e+00  0.00000000e+00 -7.02559005e-17\n",
      "  9.52874120e-01  3.28656657e-17  1.14958427e-16  6.34081779e-01\n",
      "  1.56974021e-16]\n",
      "Coefficients of mu=5 [ 0.00000000e+00  0.00000000e+00  0.00000000e+00 -2.23172127e-17\n",
      "  3.28656657e-17  9.52874120e-01 -3.07085968e-18 -4.06366135e-16\n",
      "  6.34081779e-01]\n",
      "Coefficients of mu=6 [ 0.00000000e+00  0.00000000e+00  0.00000000e+00  6.34081779e-01\n",
      "  1.14958427e-16 -3.07085968e-18  4.21944193e-01  1.05242956e-16\n",
      "  3.79381077e-18]\n",
      "Coefficients of mu=7 [ 0.00000000e+00  0.00000000e+00  0.00000000e+00 -2.51764138e-18\n",
      "  6.34081779e-01 -4.06366135e-16  1.05242956e-16  4.21944193e-01\n",
      " -1.66855854e-16]\n",
      "Coefficients of mu=8 [ 0.00000000e+00  0.00000000e+00  0.00000000e+00 -5.46610797e-18\n",
      "  1.56974021e-16  6.34081779e-01  3.79381077e-18 -1.66855854e-16\n",
      "  4.21944193e-01]\n"
     ]
    }
   ],
   "source": [
    "print(\"Text-Book Gamma\")\n",
    "N = mol.nelec[0]\n",
    "print(N)\n",
    "MPgamma=np.matmul(C[:,0:N],C[:,0:N].T)*2\n",
    "for mu,AO in enumerate(MPgamma):\n",
    "    print(f\"Coefficients of mu={mu} {AO}\")\n",
    "\n",
    "print(\"PySCF Gamma\")\n",
    "for mu,AO in enumerate(gamma):\n",
    "    print(f\"Coefficients of mu={mu} {AO}\")\n",
    "\n",
    "\n"
   ]
  },
  {
   "cell_type": "code",
   "execution_count": 12,
   "id": "bd4579d8-7118-4482-8ac7-54b2fc8d279e",
   "metadata": {},
   "outputs": [
    {
     "name": "stdout",
     "output_type": "stream",
     "text": [
      "should be natural occupation numbers, the sum of occupation numbers, i.e. N is 7.4242162236765115\n",
      "[-1.66533454e-16  8.29737796e-17  9.06096660e-17  1.62659962e-16\n",
      "  1.07410947e+00  1.37481831e+00  1.37481831e+00  1.37481831e+00\n",
      "  2.22565181e+00]\n",
      "************************\n",
      "Natural Orbital LC-Coefficent matrix\n",
      "Coefficients of mu=0 [ 0.          0.01691819 -0.          0.          0.3269097   0.\n",
      "  0.         -0.         -0.94490413]\n",
      "Coefficients of mu=1 [ 0.         -0.70512623 -0.          0.          0.67391634  0.\n",
      "  0.         -0.          0.22053066]\n",
      "Coefficients of mu=2 [ 0.          0.70887995 -0.          0.          0.66254571  0.\n",
      "  0.         -0.          0.24191405]\n",
      "Coefficients of mu=3 [ 0.55399373  0.         -0.          0.          0.          0.\n",
      "  0.         -0.83252084 -0.        ]\n",
      "Coefficients of mu=4 [ 2.22044605e-16  0.00000000e+00  4.47080745e-01 -3.27151135e-01\n",
      "  0.00000000e+00  6.75111608e-01 -4.87150140e-01  1.11022302e-16\n",
      " -0.00000000e+00]\n",
      "Coefficients of mu=5 [ 2.93014958e-17  0.00000000e+00  3.27151135e-01  4.47080745e-01\n",
      "  0.00000000e+00 -4.87150140e-01 -6.75111608e-01  1.94984250e-17\n",
      " -0.00000000e+00]\n",
      "Coefficients of mu=6 [-8.32520836e-01  0.00000000e+00  1.11022302e-16 -5.55111512e-17\n",
      "  0.00000000e+00  1.11022302e-16 -1.11022302e-16 -5.53993734e-01\n",
      " -0.00000000e+00]\n",
      "Coefficients of mu=7 [ 3.30554982e-18  0.00000000e+00 -6.71856039e-01  4.91630355e-01\n",
      "  0.00000000e+00  4.49247136e-01 -3.24169815e-01  2.19964932e-18\n",
      " -0.00000000e+00]\n",
      "Coefficients of mu=8 [ 7.17675373e-18  0.00000000e+00 -4.91630355e-01 -6.71856039e-01\n",
      "  0.00000000e+00 -3.24169815e-01 -4.49247136e-01  4.77570822e-18\n",
      " -0.00000000e+00]\n",
      "************************\n",
      "[[ 1.00000000e+00  5.84760754e-17  2.91196146e-17  0.00000000e+00\n",
      "   0.00000000e+00  0.00000000e+00  0.00000000e+00  0.00000000e+00\n",
      "   0.00000000e+00]\n",
      " [ 5.84760754e-17  1.00000000e+00  1.18623512e-16  0.00000000e+00\n",
      "   0.00000000e+00  0.00000000e+00  0.00000000e+00  0.00000000e+00\n",
      "   0.00000000e+00]\n",
      " [ 2.91196146e-17  1.18623512e-16  1.00000000e+00  0.00000000e+00\n",
      "   0.00000000e+00  0.00000000e+00  0.00000000e+00  0.00000000e+00\n",
      "   0.00000000e+00]\n",
      " [ 0.00000000e+00  0.00000000e+00  0.00000000e+00  1.00000000e+00\n",
      "   3.05829399e-17  9.15669680e-34  1.54267060e-17  3.60864899e-34\n",
      "  -2.51807952e-34]\n",
      " [ 0.00000000e+00  0.00000000e+00  0.00000000e+00  3.05829399e-17\n",
      "   1.00000000e+00  8.77421733e-17 -4.95289749e-17 -5.16876776e-16\n",
      "   8.64564679e-17]\n",
      " [ 0.00000000e+00  0.00000000e+00  0.00000000e+00  9.15669680e-34\n",
      "   8.77421733e-17  1.00000000e+00 -2.82509073e-18 -3.62195014e-16\n",
      "  -1.04207645e-16]\n",
      " [ 0.00000000e+00  0.00000000e+00  0.00000000e+00  1.54267060e-17\n",
      "  -4.95289749e-17 -2.82509073e-18  1.00000000e+00 -1.99859717e-17\n",
      "  -1.20205691e-17]\n",
      " [ 0.00000000e+00  0.00000000e+00  0.00000000e+00  3.60864899e-34\n",
      "  -5.16876776e-16 -3.62195014e-16 -1.99859717e-17  1.00000000e+00\n",
      "  -1.52101628e-16]\n",
      " [ 0.00000000e+00  0.00000000e+00  0.00000000e+00 -2.51807952e-34\n",
      "   8.64564679e-17 -1.04207645e-16 -1.20205691e-17 -1.52101628e-16\n",
      "   1.00000000e+00]]\n"
     ]
    }
   ],
   "source": [
    "#occu, naturalC = np.linalg.eigh(np.matmul(S,gamma))\n",
    "occu, naturalC = np.linalg.eigh(gamma)\n",
    "print(f\"should be natural occupation numbers, the sum of occupation numbers, i.e. N is {np.sum(occu)}\")\n",
    "print(occu)\n",
    "print(\"*\"*24)\n",
    "print(\"Natural Orbital LC-Coefficent matrix\")\n",
    "for mu,AO in enumerate(naturalC):\n",
    "    print(f\"Coefficients of mu={mu} {AO}\")\n",
    "print(\"*\"*24)\n",
    "print(np.matmul(naturalC, naturalC.T))"
   ]
  },
  {
   "cell_type": "code",
   "execution_count": 13,
   "id": "9244b13d-2db5-4170-8d32-b4cd0e297f03",
   "metadata": {},
   "outputs": [
    {
     "name": "stdout",
     "output_type": "stream",
     "text": [
      "3.999999999999988\n"
     ]
    }
   ],
   "source": [
    "# this is always off by a factor of 4 but it works, i.e. I get reasonable numbers\n",
    "#which means here I deal as before only with quantities that are given \n",
    "# with respect to a basis set, never the quanities itselff.\n",
    "\n",
    "print(ONERDMFT_hartree_energy(eri, naturalC, occu, mol)/hartree_energy(eri, mf.mo_coeff, mol))"
   ]
  },
  {
   "cell_type": "code",
   "execution_count": null,
   "id": "65d48459-14b4-4cd9-b258-740ee1bdce09",
   "metadata": {},
   "outputs": [],
   "source": []
  }
 ],
 "metadata": {
  "kernelspec": {
   "display_name": "Python 3 (ipykernel)",
   "language": "python",
   "name": "python3"
  },
  "language_info": {
   "codemirror_mode": {
    "name": "ipython",
    "version": 3
   },
   "file_extension": ".py",
   "mimetype": "text/x-python",
   "name": "python",
   "nbconvert_exporter": "python",
   "pygments_lexer": "ipython3",
   "version": "3.10.12"
  }
 },
 "nbformat": 4,
 "nbformat_minor": 5
}
