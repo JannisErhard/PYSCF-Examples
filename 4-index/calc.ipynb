{
 "cells": [
  {
   "cell_type": "code",
   "execution_count": 1,
   "id": "7691e77b-1626-44a4-abc9-79581f67ae9a",
   "metadata": {},
   "outputs": [],
   "source": [
    "import numpy as np\n",
    "from pyscf import gto, scf, ao2mo"
   ]
  },
  {
   "cell_type": "markdown",
   "id": "8526649b-8564-4a85-9607-e7dea9628de9",
   "metadata": {},
   "source": [
    "Be $A$ a matrix and $A = U^T \\lambda U$, with $\\lambda_{ij} = \\lambda_i \\delta_{ij}$ where $\\lambda$ are the eigenvalues of $A$, then\n",
    "$A^{\\frac{1}{2}}= U^T \\lambda^{\\frac{1}{2}} U$ in the sense, that $$A^{\\frac{1}{2}} A^{\\frac{1}{2}} = A$$ since $$A^{\\frac{1}{2}} A^{\\frac{1}{2}} = U^T \\lambda^{\\frac{1}{2}} U U^T \\lambda^{\\frac{1}{2}} U = U^T \\lambda U$$"
   ]
  },
  {
   "cell_type": "code",
   "execution_count": 2,
   "id": "5ab6a950-ced9-46c2-8a11-531678559381",
   "metadata": {},
   "outputs": [],
   "source": [
    "def sqrt_matrix(in_mat):\n",
    "    eigval, eigvec = np.linalg.eigh(in_mat)\n",
    "    sqrt_eigval = np.sqrt(eigval)\n",
    "    return(np.matmul(eigvec.T,np.matmul(np.diag(sqrt_eigval),eigvec)))\n"
   ]
  },
  {
   "cell_type": "markdown",
   "id": "4ddfcaa8-6cec-4174-9930-7623be78f9df",
   "metadata": {},
   "source": [
    "$$\n",
    "\\begin{split}\n",
    "E_x & = \\sum_i^N \\sum_j^N \\sum_{\\mu}^M \\sum_{\\nu}^M \\sum_{\\kappa}^M \\sum_{\\lambda}^M c_{i,\\mu} c_{j,\\nu} c_{i,\\kappa} c_{j,\\lambda} \\left [ \\mu \\nu | \\kappa \\lambda \\right ] \\\\\n",
    "E_x & = \\sum_i^N \\sum_j^N  \\left [ i j | i j \\right ] \\\\\n",
    "E_x & = \\sum_i^N \\sum_j^N  \\langle  i j | j i  \\rangle \n",
    "\\end{split}\n",
    "$$"
   ]
  },
  {
   "cell_type": "code",
   "execution_count": 3,
   "id": "79ff686b-5579-4a82-a856-123b9ea9c1e3",
   "metadata": {},
   "outputs": [],
   "source": [
    "def exchange_energy(Fouridx, C, mol):\n",
    "    energy = 0\n",
    "    M = Fouridx.shape[0]\n",
    "    N = mol.nelec[0]\n",
    "    for i in  range(0,N):\n",
    "        for j in range(0,N):\n",
    "            for mu in range(0,M):\n",
    "                for nu in range(0,M):\n",
    "                    for kappa in range(0,M):\n",
    "                        for lamda in range(0,M):\n",
    "                            energy += C[mu,i]*C[nu,j]*C[kappa,i]*C[lamda,j]*Fouridx[mu,nu,kappa,lamda]\n",
    "\n",
    "    return energy\n"
   ]
  },
  {
   "cell_type": "markdown",
   "id": "2f28a973-334b-43bc-b60e-560f1fa95ebc",
   "metadata": {},
   "source": [
    "$$\n",
    "\\begin{split}\n",
    "E_H & = \\sum_i^N \\sum_j^N \\sum_{\\mu}^M \\sum_{\\nu}^M \\sum_{\\kappa}^M \\sum_{\\lambda}^M c_{i,\\mu} c_{j,\\nu} c_{i,\\kappa} c_{j,\\lambda} \\left [ \\mu \\nu | \\kappa \\lambda \\right ] \\\\\n",
    "E_H & = \\sum_i^N \\sum_j^N  \\left [ i i | j j \\right ] \\\\\n",
    "E_H & = \\sum_i^N \\sum_j^N  \\langle  i j | i j \\rangle \n",
    "\\end{split}\n",
    "$$"
   ]
  },
  {
   "cell_type": "code",
   "execution_count": 4,
   "id": "cac8afac-1a69-496a-8c79-b3993f71e245",
   "metadata": {},
   "outputs": [],
   "source": [
    "def hartree_energy(Fouridx, C, mol):\n",
    "    energy = 0\n",
    "    M = Fouridx.shape[0]\n",
    "    N = mol.nelec[0]\n",
    "    for i in  range(0,N):\n",
    "        for j in range(0,N):\n",
    "            for mu in range(0,M):\n",
    "                for nu in range(0,M):\n",
    "                    for kappa in range(0,M):\n",
    "                        for lamda in range(0,M):\n",
    "                            energy += C[mu,i]*C[nu,i]*C[kappa,j]*C[lamda,j]*Fouridx[mu,nu,kappa,lamda]\n",
    "\n",
    "    return energy\n"
   ]
  },
  {
   "cell_type": "markdown",
   "id": "dc39dce9-7b70-457d-a5c3-ca3d09e3bfb9",
   "metadata": {},
   "source": [
    "In contrast to the previous expression for the hartree energy, this expression runs over all orbitals {$\\phi_a$}, which are the natural orbitals.  $n_a$ are the occupation numbers. $c_{a, \\mu}$ are the coefficients of the matrix that diagonalizes $P$, which is the basis set representation of $\\gamma^{(1)}$.\n",
    "\n",
    "$$\n",
    "\\begin{split}\n",
    "E_H[\\gamma_1] & = \\sum_a^M \\sum_b^M n_a n_b \\sum_{\\mu}^M \\sum_{\\nu}^M \\sum_{\\kappa}^M \\sum_{\\lambda}^M  c_{a,\\mu} c_{b,\\nu} c_{a,\\kappa} c_{b,\\lambda} \\left [ \\mu \\nu | \\kappa \\lambda \\right ] \\\\\n",
    "E_H[\\gamma_1] & = \\iint \\sum_a^M \\sum_b^M n_a n_b \\frac{\\phi_a(r)^{\\ast} \\phi_a(r) \\phi_b(r')^{\\ast}  \\phi_b(r')}{|r-r'|} dr dr' \\\\\n",
    "E_H[\\gamma_1] & = \\iint \\frac{\\gamma_1(r,r) \\gamma_1(r',r')}{|r-r'|} dr dr' \\\\\n",
    "E_H[\\gamma_1] & = \\sum_a^M \\sum_b^M n_a n_b \\left [ a a  | b b \\right ] \\\\\n",
    "E_H[\\gamma_1] & = \\sum_a^N \\sum_b^N n_a n_b \\langle  a b | a b \\rangle \n",
    "\\end{split}\n",
    "$$"
   ]
  },
  {
   "cell_type": "code",
   "execution_count": 5,
   "id": "28f2c03f-3010-4bb3-bbf8-89b897c538ad",
   "metadata": {},
   "outputs": [],
   "source": [
    "def ONERDMFT_hartree_energy(Fouridx, C, n, mol):\n",
    "    energy = 0\n",
    "    M = Fouridx.shape[0]\n",
    "    N = mol.nelec[0]\n",
    "    for i in  range(0,M):\n",
    "        for j in range(0,M):\n",
    "            for mu in range(0,M):\n",
    "                for nu in range(0,M):\n",
    "                    for kappa in range(0,M):\n",
    "                        for lamda in range(0,M):\n",
    "                            energy += n[i]*n[j]*C[mu,i]*C[nu,i]*C[kappa,j]*C[lamda,j]*Fouridx[mu,nu,kappa,lamda]\n",
    "\n",
    "    return energy\n"
   ]
  },
  {
   "cell_type": "markdown",
   "id": "f24744be-63b8-4725-aead-aee4c6a2323e",
   "metadata": {},
   "source": [
    "\n",
    "$$\n",
    "\\begin{split}\n",
    "E_x[\\gamma_1] & = \\sum_a^M \\sum_b^M n_a n_b \\sum_{\\mu}^M \\sum_{\\nu}^M \\sum_{\\kappa}^M \\sum_{\\lambda}^M  c_{a,\\mu} c_{b,\\nu} c_{b,\\kappa} c_{a,\\lambda} \\left [ \\mu \\nu | \\kappa \\lambda \\right ] \\\\\n",
    "E_x[\\gamma_1] & = \\iint \\sum_a^M \\sum_b^M n_a n_b \\frac{\\phi_a(r)^{\\ast} \\phi_b(r) \\phi_b(r')^{\\ast}  \\phi_a(r')}{|r-r'|} dr dr' \\\\\n",
    "E_x[\\gamma_1] & = \\iint \\frac{\\gamma_1(r,r') \\gamma_1(r',r)}{|r-r'|} dr dr' \\\\\n",
    "\\end{split}\n",
    "$$"
   ]
  },
  {
   "cell_type": "code",
   "execution_count": 6,
   "id": "0cc9f71b-a876-4405-98d7-bad006b8e535",
   "metadata": {},
   "outputs": [],
   "source": [
    "def ONERDMFT_exchange_energy(Fouridx, C, n, mol):\n",
    "    energy = 0\n",
    "    M = Fouridx.shape[0]\n",
    "    N = mol.nelec[0]\n",
    "    for i in  range(0,M):\n",
    "        for j in range(0,M):\n",
    "            for mu in range(0,M):\n",
    "                for nu in range(0,M):\n",
    "                    for kappa in range(0,M):\n",
    "                        for lamda in range(0,M):\n",
    "                            energy += n[i]*n[j]*C[mu,i]*C[nu,j]*C[kappa,j]*C[lamda,i]*Fouridx[mu,nu,kappa,lamda]\n",
    "\n",
    "    return energy"
   ]
  },
  {
   "cell_type": "markdown",
   "id": "d8573760-7a71-47e0-87ab-4e9bb8311e01",
   "metadata": {},
   "source": [
    "$$\n",
    "\\begin{split}\n",
    "E_{xc}[\\gamma_1] & = \\sum_a^M \\sum_b^M \\sqrt{n_a n_b} \\sum_{\\mu}^M \\sum_{\\nu}^M \\sum_{\\kappa}^M \\sum_{\\lambda}^M  c_{a,\\mu} c_{b,\\nu} c_{b,\\kappa} c_{a,\\lambda} \\left [ \\mu \\nu | \\kappa \\lambda \\right ] \\\\\n",
    "E_{xc}[\\gamma_1] & = \\iint \\sum_a^M \\sum_b^M \\sqrt{n_a n_b} \\frac{\\phi_a(r)^{\\ast} \\phi_b(r) \\phi_b(r')^{\\ast}  \\phi_a(r')}{|r-r'|} dr dr' \\\\\n",
    "E_{xc}[\\gamma_1] & = \\iint \\frac{\\gamma_1^{\\frac{1}{2}}(r,r') \\gamma_1^{\\frac{1}{2}}(r',r)}{|r-r'|} dr dr' \\\\\n",
    "\\end{split}\n",
    "$$"
   ]
  },
  {
   "cell_type": "code",
   "execution_count": 7,
   "id": "78b918bb-464b-4b07-8ff2-6c2bf039e70d",
   "metadata": {},
   "outputs": [],
   "source": [
    "def ONERDMFT_Mueller_functional(Fouridx, C, n, mol):\n",
    "    energy = 0\n",
    "    M = Fouridx.shape[0]\n",
    "    N = mol.nelec[0]\n",
    "    for i in  range(0,M):\n",
    "        for j in range(0,M):\n",
    "            for mu in range(0,M):\n",
    "                for nu in range(0,M):\n",
    "                    for kappa in range(0,M):\n",
    "                        for lamda in range(0,M):\n",
    "                            energy += np.sqrt(n[i]*n[j])*C[mu,i]*C[nu,j]*C[kappa,j]*C[lamda,i]*Fouridx[mu,nu,kappa,lamda]\n",
    "\n",
    "    return energy"
   ]
  },
  {
   "cell_type": "code",
   "execution_count": 8,
   "id": "4eec63f9-0583-4ed7-b8be-2a1d178145bf",
   "metadata": {},
   "outputs": [
    {
     "name": "stdout",
     "output_type": "stream",
     "text": [
      "The System \n",
      "    He    0.    0.    0.\n",
      " has 16 or 2^4 elements in 2-electron-intergrals/4-index-integrals matrix with the 6-31g-basis\n"
     ]
    }
   ],
   "source": [
    "mol = gto.Mole()\n",
    "mol.atom = \"\"\"\n",
    "    He    0.    0.    0.\n",
    "\"\"\"\n",
    "# this basis has 2 functions for Helium\n",
    "mol.basis = \"6-31g\" #mol.basis = \"ccpvdz\", mol.basis = \"sto-6g\"\n",
    "mol.build()\n",
    "\n",
    "# the 2 electron integrals \\langle \\mu \\nu | \\kappa \\lambda \\rangle have M^4 in the case of  case 16 distinct elements\n",
    "eri = mol.intor('int2e')\n",
    "print(f\"The System {mol.atom} has {eri.size} or {eri.shape[0]}^4 elements in 2-electron-intergrals/4-index-integrals matrix with the {mol.basis}-basis\")\n",
    "\n"
   ]
  },
  {
   "cell_type": "code",
   "execution_count": 9,
   "id": "e6d3bb1a-8d61-4d78-8f0a-7304e9b9e4be",
   "metadata": {},
   "outputs": [
    {
     "name": "stdout",
     "output_type": "stream",
     "text": [
      "Overlap Integrals\n",
      "S_00 = 1.0\n",
      "S_01 = 0.6341477386718484\n",
      "S_10 = 0.6341477386718484\n",
      "S_11 = 1.0\n"
     ]
    }
   ],
   "source": [
    "print(\"Overlap Integrals\")\n",
    "S = mol.intor('int1e_ovlp')\n",
    "for i in range(0,S.shape[0]):\n",
    "    for j in range(0,S.shape[1]):\n",
    "        print(f\"S_{i}{j} = {S[i,j]}\" )\n",
    "SMH = sqrt_matrix(S)"
   ]
  },
  {
   "cell_type": "code",
   "execution_count": 10,
   "id": "f8395957-b32d-4d2b-99d1-6610a9946f8a",
   "metadata": {},
   "outputs": [
    {
     "name": "stdout",
     "output_type": "stream",
     "text": [
      "converged SCF energy = -2.85516042615445\n",
      "************************\n",
      "MO-Coefficent matrix\n",
      "Coefficients of mu=0 [ 0.59208126 -1.14981805]\n",
      "Coefficients of mu=1 [0.51358601 1.1869588 ]\n",
      "************************\n"
     ]
    }
   ],
   "source": [
    "## Run Hartree-Fock.\n",
    "mf = scf.RHF(mol)\n",
    "mf.kernel()\n",
    "\n",
    "print(\"*\"*24)\n",
    "print(\"MO-Coefficent matrix\")\n",
    "for mu,AO in enumerate(mf.mo_coeff):\n",
    "    print(f\"Coefficients of mu={mu} {AO}\")\n",
    "print(\"*\"*24)\n",
    "\n",
    "#print(\"den ?\")\n",
    "#print(np.matmul(mf.mo_coeff.T,mf.mo_coeff))\n",
    "#print(\"*\"*24)"
   ]
  },
  {
   "cell_type": "markdown",
   "id": "48a6022f-db63-4b2a-96d6-645efbfb7f61",
   "metadata": {},
   "source": [
    "Energy Components from PySCF Tools:\n",
    "$$ T + V_{eK} = Tr[h \\gamma^{(1)}];  U = \\frac{1}{2} Tr[J \\gamma^{(1)}]; E_x = -\\frac{1}{4} Tr[K \\gamma^{(1)}]$$\n"
   ]
  },
  {
   "cell_type": "code",
   "execution_count": 11,
   "id": "51baef71-4668-4a98-a0b3-f85b2ae27f59",
   "metadata": {},
   "outputs": [
    {
     "name": "stdout",
     "output_type": "stream",
     "text": [
      "Energy Components from PySCF Tools:\n",
      "h_0 = -3.882067595029823; U = 2.0538143377507527; E_x =  1.0269071688753764\n",
      "h_0 + U + E_x = -2.8551604261544465\n"
     ]
    }
   ],
   "source": [
    "# get j, k and gamma (1RDM) matrix from hf, \n",
    "J = mf.get_j()\n",
    "K = mf.get_k()\n",
    "h = mf.get_hcore()\n",
    "C = mf.mo_coeff\n",
    "gamma = mf.make_rdm1()\n",
    "\n",
    "# calculate the energy components to see what they are from the matrices the mf object offers you \n",
    "print(\"Energy Components from PySCF Tools:\")\n",
    "print(f\"h_0 = {np.trace(np.matmul(h,gamma))}; U = {1/2*np.trace(np.matmul(J,gamma))}; E_x =  {1/4.*np.trace(np.matmul(K,gamma))}\")\n",
    "print(f\"h_0 + U + E_x = {np.trace(np.matmul(h,gamma))+1/2.*np.trace(np.matmul(J,gamma))-1/4.*np.trace(np.matmul(K,gamma))}\")"
   ]
  },
  {
   "cell_type": "markdown",
   "id": "5c697cd8-b519-4baa-aaf5-a8525dd923d4",
   "metadata": {},
   "source": [
    "Energy Components 4IDX:\n",
    "\n",
    "$$U = 2 E_h[C]; E_x = -E_x[C]$$"
   ]
  },
  {
   "cell_type": "code",
   "execution_count": 12,
   "id": "0577a923-1e20-4f17-a88c-631e09b6b2d5",
   "metadata": {},
   "outputs": [
    {
     "name": "stdout",
     "output_type": "stream",
     "text": [
      "Energy Components from direct calculations:\n",
      "U = 2.0538143377507527 E_x = 1.0269071688753764 \n"
     ]
    }
   ],
   "source": [
    "# this should also work\n",
    "print(\"Energy Components from direct calculations:\")\n",
    "print(f\"U = {2*hartree_energy(eri, mf.mo_coeff, mol)} E_x = {exchange_energy(eri, mf.mo_coeff, mol)} \")"
   ]
  },
  {
   "cell_type": "code",
   "execution_count": 13,
   "id": "25cf5ddd-30bf-492d-ac64-3bf82e066434",
   "metadata": {},
   "outputs": [
    {
     "name": "stdout",
     "output_type": "stream",
     "text": [
      "Text-Book Gamma\n",
      "1\n",
      "Coefficients of mu=0 [0.70112044 0.60816931]\n",
      "Coefficients of mu=1 [0.60816931 0.52754118]\n",
      "PySCF Gamma\n",
      "Coefficients of mu=0 [0.70112044 0.60816931]\n",
      "Coefficients of mu=1 [0.60816931 0.52754118]\n"
     ]
    }
   ],
   "source": [
    "print(\"Text-Book Gamma\")\n",
    "N = mol.nelec[0]\n",
    "print(N)\n",
    "MPgamma=np.matmul(C[:,0:N],C[:,0:N].T)*2\n",
    "for mu,AO in enumerate(MPgamma):\n",
    "    print(f\"Coefficients of mu={mu} {AO}\")\n",
    "\n",
    "print(\"PySCF Gamma\")\n",
    "for mu,AO in enumerate(gamma):\n",
    "    print(f\"Coefficients of mu={mu} {AO}\")\n",
    "\n",
    "\n"
   ]
  },
  {
   "cell_type": "code",
   "execution_count": 14,
   "id": "037e6d58-dbb8-4eed-9b0a-1ae8b679a4b8",
   "metadata": {},
   "outputs": [
    {
     "name": "stdout",
     "output_type": "stream",
     "text": [
      "[[1.00000000e+00 6.39451579e-17]\n",
      " [0.00000000e+00 1.00000000e+00]]\n"
     ]
    }
   ],
   "source": [
    "# this serves to show  that, not C is orthogonal, but S^{-1/2} C\n",
    "print(np.matmul(S,np.matmul(C,C.T)))"
   ]
  },
  {
   "cell_type": "code",
   "execution_count": 15,
   "id": "bd4579d8-7118-4482-8ac7-54b2fc8d279e",
   "metadata": {},
   "outputs": [
    {
     "name": "stdout",
     "output_type": "stream",
     "text": [
      "should be natural occupation numbers, the sum of occupation numbers, i.e. N is 1.2286616201239735\n",
      "[5.55111512e-17 1.22866162e+00]\n",
      "************************\n",
      "Natural Orbital LC-Coefficent matrix\n",
      "Coefficients of mu=0 [ 0.65525756 -0.75540554]\n",
      "Coefficients of mu=1 [-0.75540554 -0.65525756]\n",
      "************************\n",
      "[[1.00000000e+00 1.92290416e-17]\n",
      " [1.92290416e-17 1.00000000e+00]]\n"
     ]
    }
   ],
   "source": [
    "occu, naturalC = np.linalg.eigh(gamma)\n",
    "print(f\"should be natural occupation numbers, the sum of occupation numbers, i.e. N is {np.sum(occu)}\")\n",
    "print(occu)\n",
    "print(\"*\"*24)\n",
    "print(\"Natural Orbital LC-Coefficent matrix\")\n",
    "for mu,AO in enumerate(naturalC):\n",
    "    print(f\"Coefficients of mu={mu} {AO}\")\n",
    "print(\"*\"*24)\n",
    "print(np.matmul(naturalC, naturalC.T))"
   ]
  },
  {
   "cell_type": "code",
   "execution_count": 16,
   "id": "9244b13d-2db5-4170-8d32-b4cd0e297f03",
   "metadata": {},
   "outputs": [
    {
     "name": "stdout",
     "output_type": "stream",
     "text": [
      "Hartree DM, 4I 2.0538143377507523 2.0538143377507527\n",
      "Exchange DM, 4I 1.0269071688753761 1.0269071688753764\n"
     ]
    }
   ],
   "source": [
    "# this is always off by a factor of 4 but it works, i.e. I get reasonable numbers\n",
    "#which means here I deal as before only with quantities that are given \n",
    "# with respect to a basis set, never the quanities itselff.\n",
    "\n",
    "print(\"Hartree DM, 4I\", 1/2*ONERDMFT_hartree_energy(eri, naturalC, occu, mol), 2*hartree_energy(eri, mf.mo_coeff, mol))\n",
    "print(\"Exchange DM, 4I\", 1/4*ONERDMFT_exchange_energy(eri, naturalC, occu, mol), exchange_energy(eri, mf.mo_coeff, mol))"
   ]
  },
  {
   "cell_type": "code",
   "execution_count": 17,
   "id": "47b68cca-580f-4cff-8a92-824b63135465",
   "metadata": {},
   "outputs": [
    {
     "name": "stdout",
     "output_type": "stream",
     "text": [
      "2.0538143377507527 2.0538143377507527 2.0538143377507523\n"
     ]
    }
   ],
   "source": [
    "J_PY = 1/2*np.trace(np.matmul(J,gamma))\n",
    "J_4I = 2*hartree_energy(eri, mf.mo_coeff, mol)\n",
    "J_DM = 1/2*ONERDMFT_hartree_energy(eri, naturalC, occu, mol)\n",
    "\n",
    "print(J_PY, J_4I, J_DM)"
   ]
  },
  {
   "cell_type": "code",
   "execution_count": null,
   "id": "65d48459-14b4-4cd9-b258-740ee1bdce09",
   "metadata": {},
   "outputs": [],
   "source": []
  },
  {
   "cell_type": "code",
   "execution_count": 18,
   "id": "fb26d21c-3bc6-4831-9338-a576139a98ad",
   "metadata": {},
   "outputs": [
    {
     "name": "stdout",
     "output_type": "stream",
     "text": [
      "Mueller Correlation Energy: -0.19111385356716337\n"
     ]
    }
   ],
   "source": [
    "for i, n  in enumerate(occu):\n",
    "    if abs(n) < 1e-10:\n",
    "        occu[i] = 0 \n",
    "\n",
    "print(\"Mueller Correlation Energy:\", 1/4*ONERDMFT_Mueller_functional(eri, naturalC, occu, mol)-1/4*ONERDMFT_exchange_energy(eri, naturalC, occu, mol))"
   ]
  },
  {
   "cell_type": "code",
   "execution_count": null,
   "id": "d1c77f1d-29fd-4773-9ed7-f038befdd70b",
   "metadata": {},
   "outputs": [],
   "source": []
  }
 ],
 "metadata": {
  "kernelspec": {
   "display_name": "newkernel",
   "language": "python",
   "name": "newkernel"
  },
  "language_info": {
   "codemirror_mode": {
    "name": "ipython",
    "version": 3
   },
   "file_extension": ".py",
   "mimetype": "text/x-python",
   "name": "python",
   "nbconvert_exporter": "python",
   "pygments_lexer": "ipython3",
   "version": "3.10.12"
  }
 },
 "nbformat": 4,
 "nbformat_minor": 5
}
