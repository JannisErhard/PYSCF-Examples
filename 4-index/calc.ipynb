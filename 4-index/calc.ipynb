{
 "cells": [
  {
   "cell_type": "code",
   "execution_count": 1,
   "id": "7691e77b-1626-44a4-abc9-79581f67ae9a",
   "metadata": {},
   "outputs": [],
   "source": [
    "import numpy as np\n",
    "from pyscf import gto, scf, ao2mo"
   ]
  },
  {
   "cell_type": "markdown",
   "id": "8526649b-8564-4a85-9607-e7dea9628de9",
   "metadata": {},
   "source": [
    "Be $A$ a matrix and $A = U^T \\lambda U$, with $\\lambda_{ij} = \\lambda_i \\delta_{ij}$ where $\\lambda$ are the eigenvalues of $A$, then\n",
    "$A^{\\frac{1}{2}}= U^T \\lambda^{\\frac{1}{2}} U$ in the sense, that $$A^{\\frac{1}{2}} A^{\\frac{1}{2}} = A$$ since $$A^{\\frac{1}{2}} A^{\\frac{1}{2}} = U^T \\lambda^{\\frac{1}{2}} U U^T \\lambda^{\\frac{1}{2}} U = U^T \\lambda U$$"
   ]
  },
  {
   "cell_type": "code",
   "execution_count": 2,
   "id": "5ab6a950-ced9-46c2-8a11-531678559381",
   "metadata": {},
   "outputs": [],
   "source": [
    "def sqrt_matrix(in_mat):\n",
    "    eigval, eigvec = np.linalg.eigh(in_mat)\n",
    "    sqrt_eigval = np.sqrt(eigval)\n",
    "    return(np.matmul(eigvec.T,np.matmul(np.diag(sqrt_eigval),eigvec)))\n"
   ]
  },
  {
   "cell_type": "markdown",
   "id": "4ddfcaa8-6cec-4174-9930-7623be78f9df",
   "metadata": {},
   "source": [
    "$$\n",
    "\\begin{split}\n",
    "E_x & = \\sum_i^N \\sum_j^N \\sum_{\\mu}^M \\sum_{\\nu}^M \\sum_{\\kappa}^M \\sum_{\\lambda}^M c_{i,\\mu} c_{j,\\nu} c_{i,\\kappa} c_{j,\\lambda} \\left [ \\mu \\nu | \\kappa \\lambda \\right ] \\\\\n",
    "E_x & = \\sum_i^N \\sum_j^N  \\left [ i j | i j \\right ] \\\\\n",
    "E_x & = \\sum_i^N \\sum_j^N  \\langle  i j | j i  \\rangle \n",
    "\\end{split}\n",
    "$$"
   ]
  },
  {
   "cell_type": "code",
   "execution_count": 3,
   "id": "79ff686b-5579-4a82-a856-123b9ea9c1e3",
   "metadata": {},
   "outputs": [],
   "source": [
    "def exchange_energy(Fouridx, C, mol):\n",
    "    energy = 0\n",
    "    M = Fouridx.shape[0]\n",
    "    N = mol.nelec[0]\n",
    "    for i in  range(0,N):\n",
    "        for j in range(0,N):\n",
    "            for mu in range(0,M):\n",
    "                for nu in range(0,M):\n",
    "                    for kappa in range(0,M):\n",
    "                        for lamda in range(0,M):\n",
    "                            energy += C[mu,i]*C[nu,j]*C[kappa,i]*C[lamda,j]*Fouridx[mu,nu,kappa,lamda]\n",
    "\n",
    "    return energy\n"
   ]
  },
  {
   "cell_type": "markdown",
   "id": "2f28a973-334b-43bc-b60e-560f1fa95ebc",
   "metadata": {},
   "source": [
    "$$\n",
    "\\begin{split}\n",
    "E_H & = \\sum_i^N \\sum_j^N \\sum_{\\mu}^M \\sum_{\\nu}^M \\sum_{\\kappa}^M \\sum_{\\lambda}^M c_{i,\\mu} c_{j,\\nu} c_{i,\\kappa} c_{j,\\lambda} \\left [ \\mu \\nu | \\kappa \\lambda \\right ] \\\\\n",
    "E_H & = \\sum_i^N \\sum_j^N  \\left [ i i | j j \\right ] \\\\\n",
    "E_H & = \\sum_i^N \\sum_j^N  \\langle  i j | i j \\rangle \n",
    "\\end{split}\n",
    "$$"
   ]
  },
  {
   "cell_type": "code",
   "execution_count": 4,
   "id": "cac8afac-1a69-496a-8c79-b3993f71e245",
   "metadata": {},
   "outputs": [],
   "source": [
    "def hartree_energy(Fouridx, C, mol):\n",
    "    energy = 0\n",
    "    M = Fouridx.shape[0]\n",
    "    N = mol.nelec[0]\n",
    "    for i in  range(0,N):\n",
    "        for j in range(0,N):\n",
    "            for mu in range(0,M):\n",
    "                for nu in range(0,M):\n",
    "                    for kappa in range(0,M):\n",
    "                        for lamda in range(0,M):\n",
    "                            energy += C[mu,i]*C[nu,i]*C[kappa,j]*C[lamda,j]*Fouridx[mu,nu,kappa,lamda]\n",
    "\n",
    "    return energy\n"
   ]
  },
  {
   "cell_type": "markdown",
   "id": "dc39dce9-7b70-457d-a5c3-ca3d09e3bfb9",
   "metadata": {},
   "source": [
    "In contrast to the previous expression for the hartree energy, this expression runs over all orbitals {$\\phi_a$}, which are the natural orbitals.  $n_a$ are the occupation numbers. $c_{a, \\mu}$ are the coefficients of the matrix that diagonalizes $P$, which is the basis set representation of $\\gamma^{(1)}$.\n",
    "\n",
    "$$\n",
    "\\begin{split}\n",
    "E_H[\\gamma^{(1)}] & = \\sum_a^M \\sum_b^M n_a n_b \\sum_{\\mu}^M \\sum_{\\nu}^M \\sum_{\\kappa}^M \\sum_{\\lambda}^M  c_{a,\\mu} c_{b,\\nu} c_{a,\\kappa} c_{b,\\lambda} \\left [ \\mu \\nu | \\kappa \\lambda \\right ] \\\\\n",
    "E_H[\\gamma^{(1)}] & = \\iint \\sum_a^M \\sum_b^M n_a n_b \\frac{\\phi_a(r)^{\\ast} \\phi_a(r) \\phi_b(r')^{\\ast}  \\phi_b(r')}{|r-r'|} dr dr' \\\\\n",
    "E_H[\\gamma^{(1)}] & = \\iint \\frac{\\gamma^{(1)}(r,r) \\gamma^{(1)}(r',r')}{|r-r'|} dr dr' \\\\\n",
    "E_H[\\gamma^{(1)}] & = \\sum_a^M \\sum_b^M n_a n_b \\left [ a a  | b b \\right ] \\\\\n",
    "E_H[\\gamma^{(1)}] & = \\sum_a^N \\sum_b^N n_a n_b \\langle  a b | a b \\rangle \n",
    "\\end{split}\n",
    "$$"
   ]
  },
  {
   "cell_type": "code",
   "execution_count": 5,
   "id": "28f2c03f-3010-4bb3-bbf8-89b897c538ad",
   "metadata": {},
   "outputs": [],
   "source": [
    "def ONERDMFT_hartree_energy(Fouridx, C, n, mol):\n",
    "    energy = 0\n",
    "    M = Fouridx.shape[0]\n",
    "    N = mol.nelec[0]\n",
    "    for i in  range(0,M):\n",
    "        for j in range(0,M):\n",
    "            for mu in range(0,M):\n",
    "                for nu in range(0,M):\n",
    "                    for kappa in range(0,M):\n",
    "                        for lamda in range(0,M):\n",
    "                            energy += n[i]*n[j]*C[mu,i]*C[nu,i]*C[kappa,j]*C[lamda,j]*Fouridx[mu,nu,kappa,lamda]\n",
    "\n",
    "    return energy\n"
   ]
  },
  {
   "cell_type": "code",
   "execution_count": 6,
   "id": "0cc9f71b-a876-4405-98d7-bad006b8e535",
   "metadata": {},
   "outputs": [],
   "source": [
    "def ONERDMFT_exchange_energy(Fouridx, C, n, mol):\n",
    "    energy = 0\n",
    "    M = Fouridx.shape[0]\n",
    "    N = mol.nelec[0]\n",
    "    for i in  range(0,M):\n",
    "        for j in range(0,M):\n",
    "            for mu in range(0,M):\n",
    "                for nu in range(0,M):\n",
    "                    for kappa in range(0,M):\n",
    "                        for lamda in range(0,M):\n",
    "                            energy += n[i]*n[j]*C[mu,i]*C[nu,j]*C[kappa,j]*C[lamda,i]*Fouridx[mu,nu,kappa,lamda]\n",
    "\n",
    "    return energy"
   ]
  },
  {
   "cell_type": "code",
   "execution_count": 7,
   "id": "78b918bb-464b-4b07-8ff2-6c2bf039e70d",
   "metadata": {},
   "outputs": [],
   "source": [
    "def ONERDMFT_Mueller_functional(Fouridx, C, n, mol):\n",
    "    energy = 0\n",
    "    M = Fouridx.shape[0]\n",
    "    N = mol.nelec[0]\n",
    "    for i in  range(0,M):\n",
    "        for j in range(0,M):\n",
    "            for mu in range(0,M):\n",
    "                for nu in range(0,M):\n",
    "                    for kappa in range(0,M):\n",
    "                        for lamda in range(0,M):\n",
    "                            energy += np.sqrt(n[i]*n[j])*C[mu,i]*C[nu,j]*C[kappa,j]*C[lamda,i]*Fouridx[mu,nu,kappa,lamda]\n",
    "\n",
    "    return energy"
   ]
  },
  {
   "cell_type": "code",
   "execution_count": 8,
   "id": "4eec63f9-0583-4ed7-b8be-2a1d178145bf",
   "metadata": {},
   "outputs": [
    {
     "name": "stdout",
     "output_type": "stream",
     "text": [
      "The System \n",
      "    Ne    0.    0.    0.\n",
      " has 6561 or 9^4 elements in 2-electron-intergrals/4-index-integrals matrix with the 6-31g-basis\n"
     ]
    }
   ],
   "source": [
    "mol = gto.Mole()\n",
    "mol.atom = \"\"\"\n",
    "    Ne    0.    0.    0.\n",
    "\"\"\"\n",
    "# this basis has 2 functions for Helium\n",
    "mol.basis = \"6-31g\" #mol.basis = \"ccpvdz\", mol.basis = \"sto-6g\"\n",
    "mol.build()\n",
    "\n",
    "# the 2 electron integrals \\langle \\mu \\nu | \\kappa \\lambda \\rangle have M^4 in the case of  case 16 distinct elements\n",
    "eri = mol.intor('int2e')\n",
    "print(f\"The System {mol.atom} has {eri.size} or {eri.shape[0]}^4 elements in 2-electron-intergrals/4-index-integrals matrix with the {mol.basis}-basis\")\n",
    "\n"
   ]
  },
  {
   "cell_type": "code",
   "execution_count": 9,
   "id": "e6d3bb1a-8d61-4d78-8f0a-7304e9b9e4be",
   "metadata": {},
   "outputs": [
    {
     "name": "stdout",
     "output_type": "stream",
     "text": [
      "Overlap Integrals\n",
      "S_00 = 0.9999999999999998\n",
      "S_01 = 0.24901801230727033\n",
      "S_02 = 0.17191310932176385\n",
      "S_03 = 0.0\n",
      "S_04 = 0.0\n",
      "S_05 = 0.0\n",
      "S_06 = 0.0\n",
      "S_07 = 0.0\n",
      "S_08 = 0.0\n",
      "S_10 = 0.24901801230727028\n",
      "S_11 = 0.9999999999999998\n",
      "S_12 = 0.7590309056851063\n",
      "S_13 = 0.0\n",
      "S_14 = 0.0\n",
      "S_15 = 0.0\n",
      "S_16 = 0.0\n",
      "S_17 = 0.0\n",
      "S_18 = 0.0\n",
      "S_20 = 0.17191310932176382\n",
      "S_21 = 0.7590309056851063\n",
      "S_22 = 0.9999999999999999\n",
      "S_23 = 0.0\n",
      "S_24 = 0.0\n",
      "S_25 = 0.0\n",
      "S_26 = 0.0\n",
      "S_27 = 0.0\n",
      "S_28 = 0.0\n",
      "S_30 = 0.0\n",
      "S_31 = 0.0\n",
      "S_32 = 0.0\n",
      "S_33 = 1.0000000000000002\n",
      "S_34 = 0.0\n",
      "S_35 = 0.0\n",
      "S_36 = 0.4929819049679909\n",
      "S_37 = 0.0\n",
      "S_38 = 0.0\n",
      "S_40 = 0.0\n",
      "S_41 = 0.0\n",
      "S_42 = 0.0\n",
      "S_43 = 0.0\n",
      "S_44 = 1.0000000000000002\n",
      "S_45 = 0.0\n",
      "S_46 = 0.0\n",
      "S_47 = 0.4929819049679909\n",
      "S_48 = 0.0\n",
      "S_50 = 0.0\n",
      "S_51 = 0.0\n",
      "S_52 = 0.0\n",
      "S_53 = 0.0\n",
      "S_54 = 0.0\n",
      "S_55 = 1.0000000000000002\n",
      "S_56 = 0.0\n",
      "S_57 = 0.0\n",
      "S_58 = 0.4929819049679909\n",
      "S_60 = 0.0\n",
      "S_61 = 0.0\n",
      "S_62 = 0.0\n",
      "S_63 = 0.4929819049679909\n",
      "S_64 = 0.0\n",
      "S_65 = 0.0\n",
      "S_66 = 1.0000000000000004\n",
      "S_67 = 0.0\n",
      "S_68 = 0.0\n",
      "S_70 = 0.0\n",
      "S_71 = 0.0\n",
      "S_72 = 0.0\n",
      "S_73 = 0.0\n",
      "S_74 = 0.4929819049679909\n",
      "S_75 = 0.0\n",
      "S_76 = 0.0\n",
      "S_77 = 1.0000000000000004\n",
      "S_78 = 0.0\n",
      "S_80 = 0.0\n",
      "S_81 = 0.0\n",
      "S_82 = 0.0\n",
      "S_83 = 0.0\n",
      "S_84 = 0.0\n",
      "S_85 = 0.4929819049679909\n",
      "S_86 = 0.0\n",
      "S_87 = 0.0\n",
      "S_88 = 1.0000000000000004\n"
     ]
    }
   ],
   "source": [
    "print(\"Overlap Integrals\")\n",
    "S = mol.intor('int1e_ovlp')\n",
    "for i in range(0,S.shape[0]):\n",
    "    for j in range(0,S.shape[1]):\n",
    "        print(f\"S_{i}{j} = {S[i,j]}\" )\n",
    "SMH = sqrt_matrix(S)"
   ]
  },
  {
   "cell_type": "code",
   "execution_count": 10,
   "id": "f8395957-b32d-4d2b-99d1-6610a9946f8a",
   "metadata": {},
   "outputs": [
    {
     "name": "stdout",
     "output_type": "stream",
     "text": [
      "converged SCF energy = -128.473876870668\n",
      "************************\n",
      "MO-Coefficent matrix\n",
      "Coefficients of mu=0 [ 0.99550796 -0.24482371  0.         -0.         -0.          0.\n",
      "  0.         -0.         -0.12617152]\n",
      "Coefficients of mu=1 [ 0.02008192  0.54555307  0.         -0.         -0.          0.\n",
      "  0.         -0.          1.46444498]\n",
      "Coefficients of mu=2 [-0.00378329  0.5485072   0.         -0.         -0.          0.\n",
      "  0.         -0.         -1.43529233]\n",
      "Coefficients of mu=3 [-0.        -0.         0.         0.6902442 -0.        -0.9190328\n",
      " -0.        -0.        -0.       ]\n",
      "Coefficients of mu=4 [-0.00000000e+00  0.00000000e+00  6.76783419e-01 -6.73442924e-18\n",
      "  1.35651260e-01 -1.54478002e-17  3.11075242e-01 -8.64785218e-01\n",
      " -0.00000000e+00]\n",
      "Coefficients of mu=5 [-0.00000000e+00 -0.00000000e+00 -1.35651260e-01 -1.75798261e-18\n",
      "  6.76783419e-01 -4.03255616e-18 -8.64785218e-01 -3.11075242e-01\n",
      " -0.00000000e+00]\n",
      "Coefficients of mu=6 [-0.          0.          0.          0.45931699 -0.          1.0536063\n",
      "  0.         -0.         -0.        ]\n",
      "Coefficients of mu=7 [-0.00000000e+00  0.00000000e+00  4.50359628e-01  1.36606013e-17\n",
      "  9.02679487e-02  3.13354305e-17 -3.56625832e-01  9.91415280e-01\n",
      " -0.00000000e+00]\n",
      "Coefficients of mu=8 [-0.00000000e+00  0.00000000e+00 -9.02679487e-02  4.51109772e-19\n",
      "  4.50359628e-01  1.03478014e-18  9.91415280e-01  3.56625832e-01\n",
      " -0.00000000e+00]\n",
      "************************\n"
     ]
    }
   ],
   "source": [
    "## Run Hartree-Fock.\n",
    "mf = scf.RHF(mol)\n",
    "mf.kernel()\n",
    "\n",
    "print(\"*\"*24)\n",
    "print(\"MO-Coefficent matrix\")\n",
    "for mu,AO in enumerate(mf.mo_coeff):\n",
    "    print(f\"Coefficients of mu={mu} {AO}\")\n",
    "print(\"*\"*24)\n",
    "\n",
    "#print(\"den ?\")\n",
    "#print(np.matmul(mf.mo_coeff.T,mf.mo_coeff))\n",
    "#print(\"*\"*24)"
   ]
  },
  {
   "cell_type": "markdown",
   "id": "48a6022f-db63-4b2a-96d6-645efbfb7f61",
   "metadata": {},
   "source": [
    "Energy Components from PySCF Tools:\n",
    "$$ T + V_{eK} = Tr[h \\gamma^{(1)}];  U = \\frac{1}{2} Tr[J \\gamma^{(1)}]; E_x = -\\frac{1}{4} Tr[K \\gamma^{(1)}]$$\n"
   ]
  },
  {
   "cell_type": "code",
   "execution_count": 11,
   "id": "51baef71-4668-4a98-a0b3-f85b2ae27f59",
   "metadata": {},
   "outputs": [
    {
     "name": "stdout",
     "output_type": "stream",
     "text": [
      "Energy Components from PySCF Tools:\n",
      "h_0 = -182.62284394764518; U = 66.27654288017766; E_x =  12.127575803200871\n",
      "h_0 + U + E_x = -128.4738768706684\n"
     ]
    }
   ],
   "source": [
    "# get j, k and gamma (1RDM) matrix from hf, \n",
    "J = mf.get_j()\n",
    "K = mf.get_k()\n",
    "h = mf.get_hcore()\n",
    "C = mf.mo_coeff\n",
    "gamma = mf.make_rdm1()\n",
    "\n",
    "# calculate the energy components to see what they are from the matrices the mf object offers you \n",
    "print(\"Energy Components from PySCF Tools:\")\n",
    "print(f\"h_0 = {np.trace(np.matmul(h,gamma))}; U = {1/2*np.trace(np.matmul(J,gamma))}; E_x =  {1/4.*np.trace(np.matmul(K,gamma))}\")\n",
    "print(f\"h_0 + U + E_x = {np.trace(np.matmul(h,gamma))+1/2.*np.trace(np.matmul(J,gamma))-1/4.*np.trace(np.matmul(K,gamma))}\")"
   ]
  },
  {
   "cell_type": "markdown",
   "id": "5c697cd8-b519-4baa-aaf5-a8525dd923d4",
   "metadata": {},
   "source": [
    "Energy Components 4IDX:\n",
    "\n",
    "$$U = 2 E_h[C]; E_x = -E_x[C]$$"
   ]
  },
  {
   "cell_type": "code",
   "execution_count": 12,
   "id": "0577a923-1e20-4f17-a88c-631e09b6b2d5",
   "metadata": {},
   "outputs": [
    {
     "name": "stdout",
     "output_type": "stream",
     "text": [
      "Energy Components from direct calculations:\n",
      "U = 66.27654288017764 E_x = 12.127575803200898 \n"
     ]
    }
   ],
   "source": [
    "# this should also work\n",
    "print(\"Energy Components from direct calculations:\")\n",
    "print(f\"U = {2*hartree_energy(eri, mf.mo_coeff, mol)} E_x = {exchange_energy(eri, mf.mo_coeff, mol)} \")"
   ]
  },
  {
   "cell_type": "code",
   "execution_count": 13,
   "id": "25cf5ddd-30bf-492d-ac64-3bf82e066434",
   "metadata": {},
   "outputs": [
    {
     "name": "stdout",
     "output_type": "stream",
     "text": [
      "Text-Book Gamma\n",
      "5\n",
      "Coefficients of mu=0 [ 2.1019495  -0.22714523 -0.27610773  0.          0.          0.\n",
      "  0.          0.          0.        ]\n",
      "Coefficients of mu=1 [-0.22714523  0.59606287  0.59832762  0.          0.          0.\n",
      "  0.          0.          0.        ]\n",
      "Coefficients of mu=2 [-0.27610773  0.59832762  0.60174891  0.          0.          0.\n",
      "  0.          0.          0.        ]\n",
      "Coefficients of mu=3 [ 0.00000000e+00  0.00000000e+00  0.00000000e+00  9.52874120e-01\n",
      " -9.29680149e-18 -2.42687461e-18  6.34081779e-01  1.88583017e-17\n",
      "  6.22751810e-19]\n",
      "Coefficients of mu=4 [ 0.00000000e+00  0.00000000e+00  0.00000000e+00 -9.29680149e-18\n",
      "  9.52874120e-01 -2.08780887e-16 -6.18647553e-18  6.34081779e-01\n",
      " -2.35671212e-16]\n",
      "Coefficients of mu=5 [ 0.00000000e+00  0.00000000e+00  0.00000000e+00 -2.42687461e-18\n",
      " -2.08780887e-16  9.52874120e-01 -1.61494256e-18 -3.92891796e-17\n",
      "  6.34081779e-01]\n",
      "Coefficients of mu=6 [ 0.00000000e+00  0.00000000e+00  0.00000000e+00  6.34081779e-01\n",
      " -6.18647553e-18 -1.61494256e-18  4.21944193e-01  1.25490925e-17\n",
      "  4.14404765e-19]\n",
      "Coefficients of mu=7 [ 0.00000000e+00  0.00000000e+00  0.00000000e+00  1.88583017e-17\n",
      "  6.34081779e-01 -3.92891796e-17  1.25490925e-17  4.21944193e-01\n",
      " -9.91813714e-17]\n",
      "Coefficients of mu=8 [ 0.00000000e+00  0.00000000e+00  0.00000000e+00  6.22751810e-19\n",
      " -2.35671212e-16  6.34081779e-01  4.14404765e-19 -9.91813714e-17\n",
      "  4.21944193e-01]\n",
      "PySCF Gamma\n",
      "Coefficients of mu=0 [ 2.1019495  -0.22714523 -0.27610773  0.          0.          0.\n",
      "  0.          0.          0.        ]\n",
      "Coefficients of mu=1 [-0.22714523  0.59606287  0.59832762  0.          0.          0.\n",
      "  0.          0.          0.        ]\n",
      "Coefficients of mu=2 [-0.27610773  0.59832762  0.60174891  0.          0.          0.\n",
      "  0.          0.          0.        ]\n",
      "Coefficients of mu=3 [ 0.00000000e+00  0.00000000e+00  0.00000000e+00  9.52874120e-01\n",
      " -9.29680149e-18 -2.42687461e-18  6.34081779e-01  1.88583017e-17\n",
      "  6.22751810e-19]\n",
      "Coefficients of mu=4 [ 0.00000000e+00  0.00000000e+00  0.00000000e+00 -9.29680149e-18\n",
      "  9.52874120e-01 -2.08780887e-16 -6.18647553e-18  6.34081779e-01\n",
      " -2.35671212e-16]\n",
      "Coefficients of mu=5 [ 0.00000000e+00  0.00000000e+00  0.00000000e+00 -2.42687461e-18\n",
      " -2.08780887e-16  9.52874120e-01 -1.61494256e-18 -3.92891796e-17\n",
      "  6.34081779e-01]\n",
      "Coefficients of mu=6 [ 0.00000000e+00  0.00000000e+00  0.00000000e+00  6.34081779e-01\n",
      " -6.18647553e-18 -1.61494256e-18  4.21944193e-01  1.25490925e-17\n",
      "  4.14404765e-19]\n",
      "Coefficients of mu=7 [ 0.00000000e+00  0.00000000e+00  0.00000000e+00  1.88583017e-17\n",
      "  6.34081779e-01 -3.92891796e-17  1.25490925e-17  4.21944193e-01\n",
      " -9.91813714e-17]\n",
      "Coefficients of mu=8 [ 0.00000000e+00  0.00000000e+00  0.00000000e+00  6.22751810e-19\n",
      " -2.35671212e-16  6.34081779e-01  4.14404765e-19 -9.91813714e-17\n",
      "  4.21944193e-01]\n"
     ]
    }
   ],
   "source": [
    "print(\"Text-Book Gamma\")\n",
    "N = mol.nelec[0]\n",
    "print(N)\n",
    "MPgamma=np.matmul(C[:,0:N],C[:,0:N].T)*2\n",
    "for mu,AO in enumerate(MPgamma):\n",
    "    print(f\"Coefficients of mu={mu} {AO}\")\n",
    "\n",
    "print(\"PySCF Gamma\")\n",
    "for mu,AO in enumerate(gamma):\n",
    "    print(f\"Coefficients of mu={mu} {AO}\")\n",
    "\n",
    "\n"
   ]
  },
  {
   "cell_type": "code",
   "execution_count": 14,
   "id": "037e6d58-dbb8-4eed-9b0a-1ae8b679a4b8",
   "metadata": {},
   "outputs": [
    {
     "name": "stdout",
     "output_type": "stream",
     "text": [
      "[[ 1.00000000e+00 -9.41500838e-17  5.30456318e-17  0.00000000e+00\n",
      "   0.00000000e+00  0.00000000e+00  0.00000000e+00  0.00000000e+00\n",
      "   0.00000000e+00]\n",
      " [ 8.15279202e-17  1.00000000e+00 -5.37944629e-16  0.00000000e+00\n",
      "   0.00000000e+00  0.00000000e+00  0.00000000e+00  0.00000000e+00\n",
      "   0.00000000e+00]\n",
      " [ 1.75632936e-16 -4.65989154e-16  1.00000000e+00  0.00000000e+00\n",
      "   0.00000000e+00  0.00000000e+00  0.00000000e+00  0.00000000e+00\n",
      "   0.00000000e+00]\n",
      " [ 0.00000000e+00  0.00000000e+00  0.00000000e+00  1.00000000e+00\n",
      "   2.95914370e-33  8.73731708e-34 -2.52680954e-16 -7.02834211e-33\n",
      "  -4.26544526e-35]\n",
      " [ 0.00000000e+00  0.00000000e+00  0.00000000e+00  1.44002592e-33\n",
      "   1.00000000e+00 -8.39933392e-17 -3.94685420e-33 -1.43216982e-16\n",
      "  -7.66761573e-17]\n",
      " [ 0.00000000e+00  0.00000000e+00  0.00000000e+00  2.17729249e-18\n",
      "   2.03807179e-17  1.00000000e+00 -4.41657689e-18 -2.88396012e-16\n",
      "  -2.51122624e-16]\n",
      " [ 0.00000000e+00  0.00000000e+00  0.00000000e+00 -6.71719819e-17\n",
      "  -1.46618335e-17 -3.82738424e-18  1.00000000e+00  2.97411191e-17\n",
      "   9.82131692e-19]\n",
      " [ 0.00000000e+00  0.00000000e+00  0.00000000e+00 -1.46618335e-17\n",
      "   4.38503205e-17 -2.07597991e-16  2.97411191e-17  1.00000000e+00\n",
      "  -1.43515806e-16]\n",
      " [ 0.00000000e+00  0.00000000e+00  0.00000000e+00  5.89192647e-19\n",
      "   4.12186353e-18  1.11022302e-16 -1.19516080e-18 -2.47889864e-16\n",
      "   1.00000000e+00]]\n"
     ]
    }
   ],
   "source": [
    "# this serves to show  that, not C is orthogonal, but S^{-1/2} C\n",
    "print(np.matmul(S,np.matmul(C,C.T)))"
   ]
  },
  {
   "cell_type": "code",
   "execution_count": 15,
   "id": "bd4579d8-7118-4482-8ac7-54b2fc8d279e",
   "metadata": {},
   "outputs": [
    {
     "name": "stdout",
     "output_type": "stream",
     "text": [
      "should be natural occupation numbers, the sum of occupation numbers, i.e. N is 7.424216223676513\n",
      "[-7.57831784e-17  0.00000000e+00  2.91944005e-17  4.64361237e-16\n",
      "  1.07410947e+00  1.37481831e+00  1.37481831e+00  1.37481831e+00\n",
      "  2.22565181e+00]\n",
      "************************\n",
      "Natural Orbital LC-Coefficent matrix\n",
      "Coefficients of mu=0 [-0.          0.          0.01691819  0.          0.3269097   0.\n",
      " -0.         -0.         -0.94490413]\n",
      "Coefficients of mu=1 [-0.          0.         -0.70512623  0.          0.67391634  0.\n",
      " -0.         -0.          0.22053066]\n",
      "Coefficients of mu=2 [-0.          0.          0.70887995  0.          0.66254571  0.\n",
      " -0.         -0.          0.24191405]\n",
      "Coefficients of mu=3 [-0.          0.55399373  0.          0.          0.          0.\n",
      " -0.83252084 -0.         -0.        ]\n",
      "Coefficients of mu=4 [ 0.31631045  0.          0.          0.45481508  0.         -0.43975563\n",
      "  0.          0.70689881 -0.        ]\n",
      "Coefficients of mu=5 [-4.54815083e-01  3.18637713e-18  0.00000000e+00  3.16310446e-01\n",
      "  0.00000000e+00 -7.06898810e-01  2.12034689e-18 -4.39755630e-01\n",
      " -0.00000000e+00]\n",
      "Coefficients of mu=6 [ 0.         -0.83252084  0.          0.          0.          0.\n",
      " -0.55399373  0.         -0.        ]\n",
      "Coefficients of mu=7 [-4.75339377e-01 -2.47601013e-17  0.00000000e+00 -6.83478909e-01\n",
      "  0.00000000e+00 -2.92631551e-01 -1.64763936e-17  4.70399652e-01\n",
      " -0.00000000e+00]\n",
      "Coefficients of mu=8 [ 6.83478909e-01 -8.17645097e-19  0.00000000e+00 -4.75339377e-01\n",
      "  0.00000000e+00 -4.70399652e-01 -5.44094804e-19 -2.92631551e-01\n",
      " -0.00000000e+00]\n",
      "************************\n",
      "[[ 1.00000000e+00  1.63594827e-16  9.01161394e-17  0.00000000e+00\n",
      "   0.00000000e+00  0.00000000e+00  0.00000000e+00  0.00000000e+00\n",
      "   0.00000000e+00]\n",
      " [ 1.63594827e-16  1.00000000e+00  2.42416368e-16  0.00000000e+00\n",
      "   0.00000000e+00  0.00000000e+00  0.00000000e+00  0.00000000e+00\n",
      "   0.00000000e+00]\n",
      " [ 9.01161394e-17  2.42416368e-16  1.00000000e+00  0.00000000e+00\n",
      "   0.00000000e+00  0.00000000e+00  0.00000000e+00  0.00000000e+00\n",
      "   0.00000000e+00]\n",
      " [ 0.00000000e+00  0.00000000e+00  0.00000000e+00  1.00000000e+00\n",
      "   0.00000000e+00  3.87912141e-34  3.09790835e-18  6.58245096e-34\n",
      "  -2.44553028e-36]\n",
      " [ 0.00000000e+00  0.00000000e+00  0.00000000e+00  0.00000000e+00\n",
      "   1.00000000e+00  1.10293306e-16  0.00000000e+00 -2.21365557e-17\n",
      "  -2.66405624e-17]\n",
      " [ 0.00000000e+00  0.00000000e+00  0.00000000e+00  3.87912141e-34\n",
      "   1.10293306e-16  1.00000000e+00 -3.82738424e-18 -4.87976771e-16\n",
      "  -3.91660039e-17]\n",
      " [ 0.00000000e+00  0.00000000e+00  0.00000000e+00  3.09790835e-18\n",
      "   0.00000000e+00 -3.82738424e-18  1.00000000e+00  2.97411191e-17\n",
      "   9.82131692e-19]\n",
      " [ 0.00000000e+00  0.00000000e+00  0.00000000e+00  6.58245096e-34\n",
      "  -2.21365557e-17 -4.87976771e-16  2.97411191e-17  1.00000000e+00\n",
      "   8.88907499e-17]\n",
      " [ 0.00000000e+00  0.00000000e+00  0.00000000e+00 -2.44553028e-36\n",
      "  -2.66405624e-17 -3.91660039e-17  9.82131692e-19  8.88907499e-17\n",
      "   1.00000000e+00]]\n"
     ]
    }
   ],
   "source": [
    "occu, naturalC = np.linalg.eigh(gamma)\n",
    "print(f\"should be natural occupation numbers, the sum of occupation numbers, i.e. N is {np.sum(occu)}\")\n",
    "print(occu)\n",
    "print(\"*\"*24)\n",
    "print(\"Natural Orbital LC-Coefficent matrix\")\n",
    "for mu,AO in enumerate(naturalC):\n",
    "    print(f\"Coefficients of mu={mu} {AO}\")\n",
    "print(\"*\"*24)\n",
    "print(np.matmul(naturalC, naturalC.T))"
   ]
  },
  {
   "cell_type": "code",
   "execution_count": 16,
   "id": "9244b13d-2db5-4170-8d32-b4cd0e297f03",
   "metadata": {},
   "outputs": [
    {
     "name": "stdout",
     "output_type": "stream",
     "text": [
      "Hartree DM/4I 66.27654288017764 66.27654288017764 4.0\n",
      "Exchange DM/4I 12.127575803200886 12.127575803200898 3.999999999999996\n"
     ]
    }
   ],
   "source": [
    "# this is always off by a factor of 4 but it works, i.e. I get reasonable numbers\n",
    "#which means here I deal as before only with quantities that are given \n",
    "# with respect to a basis set, never the quanities itselff.\n",
    "\n",
    "print(\"Hartree DM/4I\", 1/2*ONERDMFT_hartree_energy(eri, naturalC, occu, mol), 2*hartree_energy(eri, mf.mo_coeff, mol), ONERDMFT_hartree_energy(eri, naturalC, occu, mol)/hartree_energy(eri, mf.mo_coeff, mol))\n",
    "print(\"Exchange DM/4I\", 1/4*ONERDMFT_exchange_energy(eri, naturalC, occu, mol), exchange_energy(eri, mf.mo_coeff, mol), ONERDMFT_exchange_energy(eri, naturalC, occu, mol)/exchange_energy(eri, mf.mo_coeff, mol))"
   ]
  },
  {
   "cell_type": "code",
   "execution_count": 17,
   "id": "47b68cca-580f-4cff-8a92-824b63135465",
   "metadata": {},
   "outputs": [
    {
     "name": "stdout",
     "output_type": "stream",
     "text": [
      "66.27654288017766 66.27654288017764 66.27654288017764\n"
     ]
    }
   ],
   "source": [
    "J_PY = 1/2*np.trace(np.matmul(J,gamma))\n",
    "J_4I = 2*hartree_energy(eri, mf.mo_coeff, mol)\n",
    "J_DM = 1/2*ONERDMFT_hartree_energy(eri, naturalC, occu, mol)\n",
    "\n",
    "print(J_PY, J_4I, J_DM)"
   ]
  },
  {
   "cell_type": "code",
   "execution_count": null,
   "id": "65d48459-14b4-4cd9-b258-740ee1bdce09",
   "metadata": {},
   "outputs": [],
   "source": []
  },
  {
   "cell_type": "code",
   "execution_count": 19,
   "id": "fb26d21c-3bc6-4831-9338-a576139a98ad",
   "metadata": {},
   "outputs": [
    {
     "name": "stdout",
     "output_type": "stream",
     "text": [
      "Mueller Correlation Energy: -4.473733960556157\n"
     ]
    }
   ],
   "source": [
    "for i, n  in enumerate(occu):\n",
    "    if abs(n) < 1e-10:\n",
    "        occu[i] = 0 \n",
    "\n",
    "print(\"Mueller Correlation Energy:\", 1/4*ONERDMFT_Mueller_functional(eri, naturalC, occu, mol)-1/4*ONERDMFT_exchange_energy(eri, naturalC, occu, mol))"
   ]
  },
  {
   "cell_type": "code",
   "execution_count": null,
   "id": "d1c77f1d-29fd-4773-9ed7-f038befdd70b",
   "metadata": {},
   "outputs": [],
   "source": []
  }
 ],
 "metadata": {
  "kernelspec": {
   "display_name": "newkernel",
   "language": "python",
   "name": "newkernel"
  },
  "language_info": {
   "codemirror_mode": {
    "name": "ipython",
    "version": 3
   },
   "file_extension": ".py",
   "mimetype": "text/x-python",
   "name": "python",
   "nbconvert_exporter": "python",
   "pygments_lexer": "ipython3",
   "version": "3.10.12"
  }
 },
 "nbformat": 4,
 "nbformat_minor": 5
}
