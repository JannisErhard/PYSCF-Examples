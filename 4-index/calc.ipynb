{
 "cells": [
  {
   "cell_type": "code",
   "execution_count": 1,
   "id": "7691e77b-1626-44a4-abc9-79581f67ae9a",
   "metadata": {},
   "outputs": [],
   "source": [
    "import numpy as np\n",
    "from pyscf import gto, scf, ao2mo\n"
   ]
  },
  {
   "cell_type": "markdown",
   "id": "4ddfcaa8-6cec-4174-9930-7623be78f9df",
   "metadata": {},
   "source": [
    "$$\n",
    "\\begin{split}\n",
    "E_x & = \\sum_i^N \\sum_j^N \\sum_{\\mu}^M \\sum_{\\nu}^M \\sum_{\\kappa}^M \\sum_{\\lambda}^M c_{i,\\mu} c_{j,\\nu} c_{i,\\kappa} c_{j,\\lambda} \\left [ \\mu \\nu | \\kappa \\lambda \\right ] \\\\\n",
    "E_x & = \\sum_i^N \\sum_j^N  \\left [ i j | i j \\right ] \\\\\n",
    "E_x & = \\sum_i^N \\sum_j^N  \\langle  i j | j i  \\rangle \n",
    "\\end{split}\n",
    "$$"
   ]
  },
  {
   "cell_type": "code",
   "execution_count": 2,
   "id": "79ff686b-5579-4a82-a856-123b9ea9c1e3",
   "metadata": {},
   "outputs": [],
   "source": [
    "def exchange_energy(Fouridx, C, mol):\n",
    "    energy = 0\n",
    "    M = Fouridx.shape[0]\n",
    "    N = mol.nelec[0]\n",
    "    for i in  range(0,N):\n",
    "        for j in range(0,N):\n",
    "            for mu in range(0,M):\n",
    "                for nu in range(0,M):\n",
    "                    for kappa in range(0,M):\n",
    "                        for lamda in range(0,M):\n",
    "                            #print(i,j,mu,nu,kappa,lamda)\n",
    "                            energy += C[mu,i]*C[nu,j]*C[kappa,i]*C[lamda,j]*Fouridx[mu,nu,kappa,lamda]\n",
    "\n",
    "    return energy\n"
   ]
  },
  {
   "cell_type": "markdown",
   "id": "2f28a973-334b-43bc-b60e-560f1fa95ebc",
   "metadata": {},
   "source": [
    "$$\n",
    "\\begin{split}\n",
    "E_H & = \\sum_i^N \\sum_j^N \\sum_{\\mu}^M \\sum_{\\nu}^M \\sum_{\\kappa}^M \\sum_{\\lambda}^M c_{i,\\mu} c_{j,\\nu} c_{i,\\kappa} c_{j,\\lambda} \\left [ \\mu \\nu | \\kappa \\lambda \\right ] \\\\\n",
    "E_H & = \\sum_i^N \\sum_j^N  \\left [ i i | j j \\right ] \\\\\n",
    "E_H & = \\sum_i^N \\sum_j^N  \\langle  i j | i j \\rangle \n",
    "\\end{split}\n",
    "$$"
   ]
  },
  {
   "cell_type": "code",
   "execution_count": 3,
   "id": "cac8afac-1a69-496a-8c79-b3993f71e245",
   "metadata": {},
   "outputs": [],
   "source": [
    "def hartree_energy(Fouridx, C, mol):\n",
    "    energy = 0\n",
    "    M = Fouridx.shape[0]\n",
    "    N = mol.nelec[0]\n",
    "    for i in  range(0,N):\n",
    "        for j in range(0,N):\n",
    "            for mu in range(0,M):\n",
    "                for nu in range(0,M):\n",
    "                    for kappa in range(0,M):\n",
    "                        for lamda in range(0,M):\n",
    "                            #print(i,j,mu,nu,kappa,lamda)\n",
    "                            energy += C[mu,i]*C[nu,i]*C[kappa,j]*C[lamda,j]*Fouridx[mu,nu,kappa,lamda]\n",
    "\n",
    "    return energy\n"
   ]
  },
  {
   "cell_type": "code",
   "execution_count": 4,
   "id": "4eec63f9-0583-4ed7-b8be-2a1d178145bf",
   "metadata": {},
   "outputs": [
    {
     "name": "stdout",
     "output_type": "stream",
     "text": [
      "The System \n",
      "    He    0.    0.    0.\n",
      " has 16 or 2^4 elements in 2-electron-intergrals/4-index-integrals matrix with the 6-31g-basis\n"
     ]
    }
   ],
   "source": [
    "mol = gto.Mole()\n",
    "mol.atom = \"\"\"\n",
    "    He    0.    0.    0.\n",
    "\"\"\"\n",
    "# this basis has 2 functions for Helium\n",
    "mol.basis = \"6-31g\" #mol.basis = \"ccpvdz\", mol.basis = \"sto-6g\"\n",
    "mol.build()\n",
    "\n",
    "# the 2 electron integrals \\langle \\mu \\nu | \\kappa \\lambda \\rangle have M^4 in the case of  case 16 distinct elements\n",
    "eri = mol.intor('int2e')\n",
    "print(f\"The System {mol.atom} has {eri.size} or {eri.shape[0]}^4 elements in 2-electron-intergrals/4-index-integrals matrix with the {mol.basis}-basis\")\n",
    "\n"
   ]
  },
  {
   "cell_type": "code",
   "execution_count": 16,
   "id": "f8395957-b32d-4d2b-99d1-6610a9946f8a",
   "metadata": {},
   "outputs": [
    {
     "name": "stdout",
     "output_type": "stream",
     "text": [
      "Overlap Integrals\n",
      "[[1.         0.63414774]\n",
      " [0.63414774 1.        ]]\n",
      "converged SCF energy = -2.85516042615445\n",
      "************************\n",
      "MO-Coefficent matrix\n",
      "Coefficients of mu=0 [ 0.59208126 -1.14981805]\n",
      "Coefficients of mu=1 [0.51358601 1.1869588 ]\n",
      "************************\n",
      "Molpro-Gamma\n",
      "Coefficients of mu=0 [ 1.67264177 -1.060702  ]\n",
      "Coefficients of mu=1 [-1.060702    1.67264177]\n",
      "Gamma\n",
      "Coefficients of mu=0 [0.70112044 0.60816931]\n",
      "Coefficients of mu=1 [0.60816931 0.52754118]\n",
      "should be natural occupation numbers, the sum of occupation numbers, i.e. N is 2.0000000000000004\n",
      "[-0.05635458  2.05635458]\n",
      "************************\n",
      "Natural Orbital LC-Coefficent matrix\n",
      "Coefficients of mu=0 [ 0.67743651 -0.73558125]\n",
      "Coefficients of mu=1 [-0.73558125 -0.67743651]\n",
      "************************\n",
      "[[1.00000000e+00 1.11249114e-17]\n",
      " [1.11249114e-17 1.00000000e+00]]\n"
     ]
    }
   ],
   "source": [
    "print(\"Overlap Integrals\")\n",
    "S = mol.intor('int1e_ovlp')\n",
    "print(S)\n",
    "\n",
    "\n",
    "\n",
    "## Run Hartree-Fock.\n",
    "mf = scf.RHF(mol)\n",
    "mf.kernel()\n",
    "\n",
    "print(\"*\"*24)\n",
    "print(\"MO-Coefficent matrix\")\n",
    "for mu,AO in enumerate(mf.mo_coeff):\n",
    "    print(f\"Coefficients of mu={mu} {AO}\")\n",
    "print(\"*\"*24)\n",
    "\n",
    "#print(\"den ?\")\n",
    "#print(np.matmul(mf.mo_coeff.T,mf.mo_coeff))\n",
    "#print(\"*\"*24)\n",
    "\n",
    "\n",
    "# get j, k and gamma (1RDM) matrix from hf, \n",
    "J = mf.get_j()\n",
    "K = mf.get_k()\n",
    "h = mf.get_hcore()\n",
    "C = mf.mo_coeff\n",
    "gamma = mf.make_rdm1()\n",
    "print(\"Molpro-Gamma\")\n",
    "MPgamma=np.matmul(C,C.T)\n",
    "for mu,AO in enumerate(MPgamma):\n",
    "    print(f\"Coefficients of mu={mu} {AO}\")\n",
    "print(\"Gamma\")\n",
    "for mu,AO in enumerate(gamma):\n",
    "    print(f\"Coefficients of mu={mu} {AO}\")\n",
    "\n",
    "\n",
    "Sm1 = np.linalg.inv(S)\n",
    "# why do i have to multipl with S instead of S^{-1}\n",
    "occu, naturalC = np.linalg.eigh(np.matmul(S,gamma))\n",
    "print(f\"should be natural occupation numbers, the sum of occupation numbers, i.e. N is {np.sum(occu)}\")\n",
    "print(occu)\n",
    "print(\"*\"*24)\n",
    "print(\"Natural Orbital LC-Coefficent matrix\")\n",
    "for mu,AO in enumerate(naturalC):\n",
    "    print(f\"Coefficients of mu={mu} {AO}\")\n",
    "print(\"*\"*24)\n",
    "print(np.matmul(naturalC, naturalC.T))\n"
   ]
  },
  {
   "cell_type": "code",
   "execution_count": null,
   "id": "51baef71-4668-4a98-a0b3-f85b2ae27f59",
   "metadata": {},
   "outputs": [],
   "source": [
    "# calculate the energy components to see what they are from the matrices the mf object offers you \n",
    "print(f\"h_0 = {np.trace(np.matmul(h,gamma))} U = {1/2*np.trace(np.matmul(J,gamma))} E_x =  {1/4.*np.trace(np.matmul(K,gamma))}\")\n",
    "print(np.trace(np.matmul(h,gamma))+1/2.*np.trace(np.matmul(J,gamma))-1/4.*np.trace(np.matmul(K,gamma)))\n",
    "\n",
    "# this should also work\n",
    "print(f\"U = {2*hartree_energy(eri, mf.mo_coeff, mol)} E_x = {exchange_energy(eri, mf.mo_coeff, mol)} \")"
   ]
  }
 ],
 "metadata": {
  "kernelspec": {
   "display_name": "Python 3 (ipykernel)",
   "language": "python",
   "name": "python3"
  },
  "language_info": {
   "codemirror_mode": {
    "name": "ipython",
    "version": 3
   },
   "file_extension": ".py",
   "mimetype": "text/x-python",
   "name": "python",
   "nbconvert_exporter": "python",
   "pygments_lexer": "ipython3",
   "version": "3.10.12"
  }
 },
 "nbformat": 4,
 "nbformat_minor": 5
}
