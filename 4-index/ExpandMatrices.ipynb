{
 "cells": [
  {
   "cell_type": "code",
   "execution_count": 1,
   "id": "7ba5b880-011f-4f57-9909-909bc1ccf5d3",
   "metadata": {},
   "outputs": [],
   "source": [
    "import numpy as np\n",
    "from pyscf import gto, scf, fci"
   ]
  },
  {
   "cell_type": "code",
   "execution_count": 2,
   "id": "224bbce8-7bd7-4504-8ba9-58a7cd23eea9",
   "metadata": {},
   "outputs": [],
   "source": [
    "# for spinorbitals\n",
    "def ONERDMFT_hartree_energy(Fouridx, C, n):\n",
    "    energy = 0\n",
    "    M = C.shape[0]\n",
    "    K = Fouridx.shape[0]\n",
    "    for a in  range(0,M):\n",
    "        for b in range(0,M):\n",
    "            for mu in range(0,M):\n",
    "                for nu in range(0,M):\n",
    "                    for kappa in range(0,M):\n",
    "                        for lamda in range(0,M):\n",
    "                            energy += n[a]*n[b]*C[mu,a]*C[nu,a]*C[kappa,b]*C[lamda,b]*Fouridx[mu%K,nu%K,kappa%K,lamda%K]\n",
    "\n",
    "    return 0.5*energy"
   ]
  },
  {
   "cell_type": "code",
   "execution_count": 3,
   "id": "b0719755-616f-467c-b913-c0c2d18d73c9",
   "metadata": {},
   "outputs": [],
   "source": [
    "def expand_matrix(P):\n",
    "    Paa = P\n",
    "    Pbb = P\n",
    "    Pab = np.zeros(P.shape)\n",
    "    Pba = np.zeros(P.shape)\n",
    "    PE = np.concatenate((np.concatenate((Paa, Pab), axis=1), np.concatenate((Pba, Pbb), axis=1)), axis=0) \n",
    "    return PE"
   ]
  },
  {
   "cell_type": "code",
   "execution_count": 4,
   "id": "d7e0ba97-7d48-48d6-af8d-15a48a9b4d90",
   "metadata": {},
   "outputs": [
    {
     "name": "stdout",
     "output_type": "stream",
     "text": [
      "(2, 2, 2, 2)\n",
      "converged SCF energy = -2.85516042615445\n"
     ]
    }
   ],
   "source": [
    "mol = gto.Mole()\n",
    "mol.atom = \"\"\"\n",
    "    He    0.    0.    0.\n",
    "\"\"\"\n",
    "# this basis has 2 functions for Helium\n",
    "mol.basis = \"6-31g\" #\n",
    "#mol.basis = \"ccpvdz\"\n",
    "#, mol.basis = \"sto-6g\"\n",
    "mol.build()\n",
    "\n",
    "# the 2 electron integrals \\langle \\mu \\nu | \\kappa \\lambda \\rangle have M^4 entries\n",
    "eri = mol.intor('int2e')\n",
    "S = mol.intor('int1e_ovlp')\n",
    "\n",
    "print(eri.shape)\n",
    "\n",
    "## Run Hartree-Fock.\n",
    "mf = scf.RHF(mol)\n",
    "mf.kernel()\n",
    "\n",
    "C = mf.mo_coeff\n",
    "h = mf.get_hcore()\n",
    "\n",
    "N = mol.nelec[0]\n",
    "P=np.matmul(C[:,0:N],C[:,0:N].T)\n",
    "\n",
    "gamma = np.matmul(np.matmul(C.T,np.matmul(np.matmul(S,P),S)), C)\n",
    "\n",
    "occu, naturalC = np.linalg.eigh(gamma)"
   ]
  },
  {
   "cell_type": "code",
   "execution_count": 5,
   "id": "0cb7f08b-cc7a-4419-bd90-657faa93564c",
   "metadata": {},
   "outputs": [],
   "source": [
    "#print(eri)"
   ]
  },
  {
   "cell_type": "code",
   "execution_count": 6,
   "id": "a9ac0c82-1d57-4020-abd0-3f1a5656835f",
   "metadata": {},
   "outputs": [
    {
     "name": "stdout",
     "output_type": "stream",
     "text": [
      "[[0.35056022 0.30408465 0.         0.        ]\n",
      " [0.30408465 0.26377059 0.         0.        ]\n",
      " [0.         0.         0.35056022 0.30408465]\n",
      " [0.         0.         0.30408465 0.26377059]]\n"
     ]
    }
   ],
   "source": [
    "PE = expand_matrix(P)\n",
    "print(PE)"
   ]
  },
  {
   "cell_type": "code",
   "execution_count": 7,
   "id": "bd5e9a55-3ff5-4839-b0e8-c17708e202bf",
   "metadata": {},
   "outputs": [
    {
     "name": "stdout",
     "output_type": "stream",
     "text": [
      "[[ 0.59208126 -1.14981805  0.          0.        ]\n",
      " [ 0.51358601  1.1869588   0.          0.        ]\n",
      " [ 0.          0.          0.59208126 -1.14981805]\n",
      " [ 0.          0.          0.51358601  1.1869588 ]]\n"
     ]
    }
   ],
   "source": [
    "CE = expand_matrix(C)\n",
    "print(CE)"
   ]
  },
  {
   "cell_type": "code",
   "execution_count": 8,
   "id": "ebe48db0-819c-4e37-a42d-908b90eb3baf",
   "metadata": {},
   "outputs": [
    {
     "name": "stdout",
     "output_type": "stream",
     "text": [
      "[[1.         0.63414774 0.         0.        ]\n",
      " [0.63414774 1.         0.         0.        ]\n",
      " [0.         0.         1.         0.63414774]\n",
      " [0.         0.         0.63414774 1.        ]]\n"
     ]
    }
   ],
   "source": [
    "SE = expand_matrix(S)\n",
    "print(SE)"
   ]
  },
  {
   "cell_type": "code",
   "execution_count": 9,
   "id": "e981b795-e29b-4984-8574-01c6dbda2576",
   "metadata": {},
   "outputs": [],
   "source": [
    "gamma = np.matmul(np.matmul(CE.T,np.matmul(np.matmul(SE,PE),SE)), CE)\n",
    "occu, naturalC = np.linalg.eigh(gamma)"
   ]
  },
  {
   "cell_type": "code",
   "execution_count": 10,
   "id": "24936f15-f710-44a5-9645-6dd4447a4ce3",
   "metadata": {},
   "outputs": [],
   "source": [
    "naturalCTT = np.matmul(CE,naturalC)"
   ]
  },
  {
   "cell_type": "code",
   "execution_count": 11,
   "id": "46d39dc3-525c-49ae-8c7e-0fcebb3a6fda",
   "metadata": {},
   "outputs": [
    {
     "data": {
      "text/plain": [
       "4.107628675501507"
      ]
     },
     "execution_count": 11,
     "metadata": {},
     "output_type": "execute_result"
    }
   ],
   "source": [
    "ONERDMFT_hartree_energy(eri, naturalCTT, occu)"
   ]
  },
  {
   "cell_type": "code",
   "execution_count": null,
   "id": "fd08a681-033b-4168-9180-29c6c893395b",
   "metadata": {},
   "outputs": [],
   "source": []
  }
 ],
 "metadata": {
  "kernelspec": {
   "display_name": "Python 3 (ipykernel)",
   "language": "python",
   "name": "python3"
  },
  "language_info": {
   "codemirror_mode": {
    "name": "ipython",
    "version": 3
   },
   "file_extension": ".py",
   "mimetype": "text/x-python",
   "name": "python",
   "nbconvert_exporter": "python",
   "pygments_lexer": "ipython3",
   "version": "3.10.12"
  }
 },
 "nbformat": 4,
 "nbformat_minor": 5
}
