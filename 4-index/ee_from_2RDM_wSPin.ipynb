{
 "cells": [
  {
   "cell_type": "code",
   "execution_count": 1,
   "id": "07c3c03e-a7d8-4d59-b897-521daedfef36",
   "metadata": {},
   "outputs": [],
   "source": [
    "import numpy as np\n",
    "from pyscf import gto, scf, ao2mo, fci"
   ]
  },
  {
   "cell_type": "markdown",
   "id": "07501768-48e6-4a9a-b15d-8c26e7d327ab",
   "metadata": {},
   "source": [
    "I build this scrit to see wether I can reproduce the electron electron interaction energy form the 2RDM, this serves as test to see wether I understand the data struvctures and theorie accurately to move on to other ideas."
   ]
  },
  {
   "cell_type": "markdown",
   "id": "6e69761a-173a-41a1-8184-1e83a5f68878",
   "metadata": {},
   "source": [
    "The following function caculates the electron electron interactio  energy from the Fock basis representation of the 2RDM $\\gamma_2$ in the follwong way:\n",
    "$$E_{ee} = \\sum_p \\sum_q \\sum_r \\sum_s \\gamma_{2_{pqrs}} \\langle p q | r s \\rangle$$"
   ]
  },
  {
   "cell_type": "code",
   "execution_count": 2,
   "id": "b8379475-f49c-4bc2-82de-7125b74da1ec",
   "metadata": {},
   "outputs": [],
   "source": [
    "def ee_from_gamma_2(eri,dm2):\n",
    "    E = 0 \n",
    "    dim = eri.shape[0]\n",
    "    for p in range(0,dim):\n",
    "        for q in range(0,dim):\n",
    "            for r in range(0,dim):\n",
    "                for s in range(0,dim):\n",
    "                    E+=eri[p,q,r,s]*dm2[p,q,r,s]\n",
    "    return E"
   ]
  },
  {
   "cell_type": "code",
   "execution_count": 3,
   "id": "db733615-4b21-4b92-8742-b4cc56a9d844",
   "metadata": {},
   "outputs": [
    {
     "name": "stdout",
     "output_type": "stream",
     "text": [
      "(2, 1)\n"
     ]
    }
   ],
   "source": [
    "mol = gto.Mole()\n",
    "mol.atom = \"\"\"\n",
    "    Li    0.    0.    0.\n",
    "\"\"\"\n",
    "mol.basis = \"cc-pvdz\"\n",
    "#mol.basis = \"6-31g\"\n",
    "mol.spin=1\n",
    "mol.build()\n",
    "print(mol.nelec)\n",
    "\n",
    "# the 2 electron integrals \\langle \\mu \\nu | \\kappa \\lambda \\rangle have M^4 entries\n",
    "eri_ao = mol.intor('int2e')"
   ]
  },
  {
   "cell_type": "code",
   "execution_count": 4,
   "id": "0a7b3787-19cc-4bba-947b-b56e49b7beff",
   "metadata": {},
   "outputs": [
    {
     "name": "stdout",
     "output_type": "stream",
     "text": [
      "converged SCF energy = -7.43242052759577  <S^2> = 0.75000054  2S+1 = 2.0000005\n"
     ]
    },
    {
     "data": {
      "text/plain": [
       "np.float64(-7.432420527595772)"
      ]
     },
     "execution_count": 4,
     "metadata": {},
     "output_type": "execute_result"
    }
   ],
   "source": [
    "# Run Hartree-Fock.\n",
    "mf = scf.UHF(mol)\n",
    "mf.kernel()"
   ]
  },
  {
   "cell_type": "code",
   "execution_count": 5,
   "id": "2df86702-ab3a-4ca0-a700-51bac7846e89",
   "metadata": {},
   "outputs": [],
   "source": [
    "# Harvest HF quantities\n",
    "\n",
    "h1 = mf.get_hcore()\n",
    "M = h1.shape[0]\n",
    "C_a = mf.mo_coeff[0,:,:]\n",
    "C_b = mf.mo_coeff[1,:,:]\n",
    "\n",
    "h1_a = C_a.T@h1@C_a\n",
    "h1_b = C_b.T@h1@C_b\n",
    "\n",
    "eri_h2_aa = eri_ao.copy()\n",
    "eri_h2_bb = eri_ao.copy()\n",
    "eri_h2_ab = eri_ao.copy()\n",
    "\n",
    "\n",
    "for i in range(4):\n",
    "  eri_h2_aa = np.tensordot(eri_h2_aa, C_a, axes=1).transpose(3, 0, 1, 2)\n",
    "  eri_h2_bb = np.tensordot(eri_h2_bb, C_b, axes=1).transpose(3, 0, 1, 2)\n",
    "\n",
    "eri_h2_ab = np.tensordot(eri_h2_ab, C_a, axes=1).transpose(3, 0, 1, 2)\n",
    "eri_h2_ab = np.tensordot(eri_h2_ab, C_a, axes=1).transpose(3, 0, 1, 2)\n",
    "eri_h2_ab = np.tensordot(eri_h2_ab, C_b, axes=1).transpose(3, 0, 1, 2)\n",
    "eri_h2_ab = np.tensordot(eri_h2_ab, C_b, axes=1).transpose(3, 0, 1, 2)"
   ]
  },
  {
   "cell_type": "code",
   "execution_count": 6,
   "id": "e8fcb98f-ef8a-4711-8e96-d80ce048e64b",
   "metadata": {},
   "outputs": [],
   "source": [
    "h1_mo = (h1_a, h1_b)\n",
    "h2_mo = (eri_h2_aa, eri_h2_ab, eri_h2_bb)"
   ]
  },
  {
   "cell_type": "code",
   "execution_count": 7,
   "id": "f96b25c9-ec1a-41d4-8ac2-b7199ae5245b",
   "metadata": {},
   "outputs": [],
   "source": [
    "# Run FCI  \n",
    "cisolver = fci.direct_uhf.FCI()\n",
    "cisolver.max_cycle = 100\n",
    "cisolver.conv_tol = 1e-8\n",
    "e, ci = cisolver.kernel(h1_mo, h2_mo, h1.shape[0], mol.nelec, ecore=mf.energy_nuc())\n"
   ]
  },
  {
   "cell_type": "code",
   "execution_count": 8,
   "id": "5ca8d097-812f-4209-b2f6-dbe484160d91",
   "metadata": {},
   "outputs": [],
   "source": [
    "# FCIgamma_a, FCIgamma_b = fci.direct_uhf.make_rdm1s(ci, h1.shape[0] , mol.nelec)\n",
    "\n",
    "dm1, dm2 = cisolver.make_rdm12s(ci, mf.mo_coeff.shape[1], mol.nelec)"
   ]
  },
  {
   "cell_type": "code",
   "execution_count": 9,
   "id": "3f6ccfce-4894-4159-93d6-a9702925f4c4",
   "metadata": {},
   "outputs": [
    {
     "name": "stdout",
     "output_type": "stream",
     "text": [
      "3 (14, 14, 14, 14) (14, 14, 14, 14) (14, 14, 14, 14)\n"
     ]
    }
   ],
   "source": [
    "print(len(dm2), dm2[0].shape, dm2[1].shape, dm2[2].shape)"
   ]
  },
  {
   "cell_type": "code",
   "execution_count": 10,
   "id": "15ad0484-3d2b-41e7-bb28-c655aabfcd5b",
   "metadata": {},
   "outputs": [
    {
     "name": "stdout",
     "output_type": "stream",
     "text": [
      "Compare the Resulting Energies, should always be same.\n",
      "2.1472873217433346\n",
      "2.1472873217433297\n"
     ]
    }
   ],
   "source": [
    "print(\"Compare the Resulting Energies, should always be same.\")\n",
    "\n",
    "print(e-np.trace(dm1[0]@h1_mo[0])-np.trace(dm1[1]@h1_mo[1]))\n",
    "print(1/2 * np.einsum('pqrs,pqrs', h2_mo[0], dm2[0])+np.einsum('pqrs,pqrs', h2_mo[1], dm2[1])+1/2 * np.einsum('pqrs,pqrs', h2_mo[2], dm2[2]))\n",
    "# print(np.einsum('pqrs,pqrs', h2_mo[1], dm2[1]))\n",
    "# print(1/2 * np.einsum('pqrs,pqrs', h2_mo[2], dm2[2]))"
   ]
  },
  {
   "cell_type": "code",
   "execution_count": 11,
   "id": "8f6203b5-b2fc-4105-b22b-cd1808abd0af",
   "metadata": {},
   "outputs": [
    {
     "name": "stdout",
     "output_type": "stream",
     "text": [
      "aa: 0.37058703433465773\n",
      "ab: 1.776700287408672\n",
      "bb: 0.0\n"
     ]
    }
   ],
   "source": [
    "print(\"aa:\", 1/2 * np.einsum('pqrs,pqrs', h2_mo[0], dm2[0]))\n",
    "print(\"ab:\",np.einsum('pqrs,pqrs', h2_mo[1], dm2[1]))\n",
    "print(\"bb:\",1/2 * np.einsum('pqrs,pqrs', h2_mo[2], dm2[2]))\n"
   ]
  },
  {
   "cell_type": "code",
   "execution_count": null,
   "id": "f0211c0b-b6a7-42bd-a35b-5464fd180fb4",
   "metadata": {},
   "outputs": [],
   "source": []
  }
 ],
 "metadata": {
  "kernelspec": {
   "display_name": "Python 3 (ipykernel)",
   "language": "python",
   "name": "python3"
  },
  "language_info": {
   "codemirror_mode": {
    "name": "ipython",
    "version": 3
   },
   "file_extension": ".py",
   "mimetype": "text/x-python",
   "name": "python",
   "nbconvert_exporter": "python",
   "pygments_lexer": "ipython3",
   "version": "3.12.3"
  }
 },
 "nbformat": 4,
 "nbformat_minor": 5
}
