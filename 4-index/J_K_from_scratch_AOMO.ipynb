{
 "cells": [
  {
   "cell_type": "code",
   "execution_count": 1,
   "id": "82f4a783-b4d8-4a0e-8a7d-f75efcc0968d",
   "metadata": {},
   "outputs": [],
   "source": [
    "import numpy as np\n",
    "from pyscf import gto, scf, ao2mo"
   ]
  },
  {
   "cell_type": "markdown",
   "id": "976d3cb6-2ae7-442c-a8e8-c744d4f35e34",
   "metadata": {},
   "source": [
    "$$\n",
    "\\begin{split}\n",
    "J_{\\kappa \\lambda} & = \\sum_{i=1}^N  \\sum_{\\mu}^{M} \\sum_{\\nu}^{M} c_{i, \\mu} c_{i, \\nu} [\\mu \\nu | \\kappa \\lambda]\\\\\n",
    "J_{\\kappa \\lambda} & = \\sum_{i=1}^N  [\\phi_i \\phi_i | \\kappa \\lambda]\n",
    "\\end{split}\n",
    "$$"
   ]
  },
  {
   "cell_type": "code",
   "execution_count": 2,
   "id": "60c22129-f5c0-4d47-8542-96c8c293c31e",
   "metadata": {},
   "outputs": [],
   "source": [
    "def build_J(Fouridx,C,N):\n",
    "    J = np.zeros(C.shape)\n",
    "    for kappa in range(0,Fouridx.shape[0]):\n",
    "        for lamda in range(0,Fouridx.shape[0]):\n",
    "            for i in range(0,N): # all occupied\n",
    "                for mu in range(0,Fouridx.shape[0]): # all basis functions\n",
    "                    for nu in range(0,Fouridx.shape[0]): # all basis functions\n",
    "                        J[kappa][lamda] += C[mu,i]*C[nu,i]*Fouridx[mu,nu,kappa,lamda]\n",
    "    return 2*J # needs factor 2 because its spin restricted"
   ]
  },
  {
   "cell_type": "markdown",
   "id": "dee419cd-f2e9-4c67-a644-dcdc36327c8e",
   "metadata": {},
   "source": [
    "$$\n",
    "\\begin{split}\n",
    "K_{\\kappa \\lambda} & = \\sum_{i=1}^N  \\sum_{\\mu}^{M} \\sum_{\\nu}^{M} c_{i, \\mu} c_{i, \\nu} [\\mu  \\kappa| \\nu  \\lambda]\\\\\n",
    "K_{\\kappa \\lambda} & = \\sum_{i=1}^N  [\\phi_i \\kappa | \\phi_i \\lambda]\n",
    "\\end{split}\n",
    "$$"
   ]
  },
  {
   "cell_type": "code",
   "execution_count": 3,
   "id": "4144006b-23bc-46e2-be0d-104b41e271af",
   "metadata": {},
   "outputs": [],
   "source": [
    "def build_K(Fouridx,C,N):\n",
    "    K = np.zeros(C.shape)\n",
    "    for kappa in range(0,Fouridx.shape[0]):\n",
    "        for lamda in range(0,Fouridx.shape[0]):\n",
    "            for i in range(0,N): # all occupied\n",
    "                for mu in range(0,Fouridx.shape[0]): # all basis functions\n",
    "                    for nu in range(0,Fouridx.shape[0]): # all basis functions\n",
    "                        K[kappa][lamda] += C[mu,i]*C[nu,i]*Fouridx[mu,kappa,nu,lamda]\n",
    "    return 2*K # needs factor 2 because its spin restricted"
   ]
  },
  {
   "cell_type": "code",
   "execution_count": 4,
   "id": "e9d5565f-e297-48fd-9db0-e1028011f51b",
   "metadata": {},
   "outputs": [],
   "source": [
    "mol = gto.Mole()\n",
    "mol.atom = \"\"\"\n",
    "    Ne    0.    0.    0.\n",
    "\"\"\"\n",
    "# this basis has 2 functions for Helium\n",
    "mol.basis = \"6-31g\" #mol.basis = \"ccpvdz\", mol.basis = \"sto-6g\"\n",
    "mol.build()\n",
    "\n",
    "# the 2 electron integrals \\langle \\mu \\nu | \\kappa \\lambda \\rangle have M^4 in the case of  case 16 distinct elements\n",
    "eri = mol.intor('int2e')\n",
    "S = mol.intor('int1e_ovlp')\n"
   ]
  },
  {
   "cell_type": "code",
   "execution_count": 5,
   "id": "0dc9d7da-7813-467b-97d7-45f4a80ad53a",
   "metadata": {},
   "outputs": [
    {
     "name": "stdout",
     "output_type": "stream",
     "text": [
      "converged SCF energy = -128.473876870668\n"
     ]
    }
   ],
   "source": [
    "mf = scf.RHF(mol)\n",
    "mf.kernel()\n",
    "J = mf.get_j()\n",
    "K = mf.get_k()\n",
    "C = mf.mo_coeff\n",
    "N = mol.nelec[0]\n",
    "P=np.matmul(C[:,0:N],C[:,0:N].T)"
   ]
  },
  {
   "cell_type": "markdown",
   "id": "16e9a4a0-0dff-4ac0-bc62-073e35378a16",
   "metadata": {},
   "source": [
    "\n",
    "$$\\bf{J}_{MO} = C^{T} \\bf{J}_{AO} \\bf{C}$$\n",
    "\n",
    "and\n",
    "\n",
    "$$\\boldsymbol{\\gamma} = \\bf{C}^T \\bf{S}^{T} \\bf{P} \\bf{S} \\bf{C}$$"
   ]
  },
  {
   "cell_type": "code",
   "execution_count": 7,
   "id": "c2e63a95-8e37-44af-9e8a-fde2c3cd8553",
   "metadata": {},
   "outputs": [],
   "source": [
    "MO_J = np.matmul(C.T,np.matmul(J,C))\n",
    "gamma =np.matmul(np.matmul(C.T,np.matmul(np.matmul(S,P),S)), C)\n"
   ]
  },
  {
   "cell_type": "markdown",
   "id": "19406985-145d-4b58-b237-35acb258b211",
   "metadata": {},
   "source": [
    "$$Tr[\\boldsymbol{\\gamma} \\bf{J_{MO}}] = Tr[\\bf{P} \\bf{J}]$$"
   ]
  },
  {
   "cell_type": "code",
   "execution_count": 9,
   "id": "aba6e4dc-f45c-46ea-aafd-15abe8e1893a",
   "metadata": {},
   "outputs": [
    {
     "name": "stdout",
     "output_type": "stream",
     "text": [
      "66.27654297875952\n",
      "66.27654297875945\n"
     ]
    }
   ],
   "source": [
    "print(np.trace(np.matmul(MO_J,gamma)), np.trace(np.matmul(P,J)))"
   ]
  },
  {
   "cell_type": "code",
   "execution_count": null,
   "id": "cc82a8e2-4dde-4167-b6ab-ad299f176471",
   "metadata": {},
   "outputs": [],
   "source": []
  }
 ],
 "metadata": {
  "kernelspec": {
   "display_name": "Python 3 (ipykernel)",
   "language": "python",
   "name": "python3"
  },
  "language_info": {
   "codemirror_mode": {
    "name": "ipython",
    "version": 3
   },
   "file_extension": ".py",
   "mimetype": "text/x-python",
   "name": "python",
   "nbconvert_exporter": "python",
   "pygments_lexer": "ipython3",
   "version": "3.12.3"
  }
 },
 "nbformat": 4,
 "nbformat_minor": 5
}
