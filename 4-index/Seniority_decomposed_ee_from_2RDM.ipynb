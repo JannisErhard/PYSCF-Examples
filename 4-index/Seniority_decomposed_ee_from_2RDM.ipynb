{
 "cells": [
  {
   "cell_type": "code",
   "execution_count": 1,
   "id": "07c3c03e-a7d8-4d59-b897-521daedfef36",
   "metadata": {},
   "outputs": [],
   "source": [
    "import numpy as np\n",
    "from pyscf import gto, scf, ao2mo, fci"
   ]
  },
  {
   "cell_type": "markdown",
   "id": "07501768-48e6-4a9a-b15d-8c26e7d327ab",
   "metadata": {},
   "source": [
    "I build this script to specifically calcualte only part  of the electron electron interaction that coresponds to the seniority 0 part of the electron electron interaction from the 2RDM. To do so I believe I will have to spin resolve my caclulation somehow."
   ]
  },
  {
   "cell_type": "markdown",
   "id": "6e69761a-173a-41a1-8184-1e83a5f68878",
   "metadata": {},
   "source": [
    "$$E_{ee} = \\sum_p \\sum_q \\sum_r \\sum_s \\gamma_{2_{pqrs}} \\langle p q | r s \\rangle$$"
   ]
  },
  {
   "cell_type": "code",
   "execution_count": 2,
   "id": "b8379475-f49c-4bc2-82de-7125b74da1ec",
   "metadata": {},
   "outputs": [],
   "source": [
    "def ee_from_gamma_2(eri,dm2):\n",
    "    E = 0 \n",
    "    dim = eri.shape[0]\n",
    "    for p in range(0,dim):\n",
    "        for q in range(0,dim):\n",
    "            for r in range(0,dim):\n",
    "                for s in range(0,dim):\n",
    "                    if p == r and q == s:\n",
    "                        E+=eri[p,q,r,s]*dm2[p,q,r,s]\n",
    "                        print(f\"[{p}{q}|{r}{s}]\")\n",
    "                    elif p == s and q == r:\n",
    "                        E+=eri[p,q,r,s]*dm2[p,q,r,s]\n",
    "                        print(f\"[{p}{q}|{r}{s}]\")\n",
    "    \n",
    "    return E"
   ]
  },
  {
   "cell_type": "code",
   "execution_count": 3,
   "id": "db733615-4b21-4b92-8742-b4cc56a9d844",
   "metadata": {},
   "outputs": [
    {
     "name": "stdout",
     "output_type": "stream",
     "text": [
      "(1, 1)\n"
     ]
    }
   ],
   "source": [
    "mol = gto.Mole()\n",
    "mol.atom = \"\"\"\n",
    "    He    0.    0.    0.\n",
    "\"\"\"\n",
    "#mol.basis = \"cc-pvdz\"\n",
    "mol.basis = \"6-31g\" \n",
    "mol.build()\n",
    "print(mol.nelec)"
   ]
  },
  {
   "cell_type": "code",
   "execution_count": 4,
   "id": "0a7b3787-19cc-4bba-947b-b56e49b7beff",
   "metadata": {},
   "outputs": [
    {
     "name": "stdout",
     "output_type": "stream",
     "text": [
      "converged SCF energy = -2.85516042615445\n"
     ]
    }
   ],
   "source": [
    "# Run Hartree-Fock.\n",
    "mf = scf.RHF(mol)\n",
    "mf.kernel()\n",
    "h = mf.get_hcore()\n",
    "J = mf.get_j()\n",
    "K = mf.get_k()\n",
    "C = mf.mo_coeff\n",
    "h1 = C.T@h@C"
   ]
  },
  {
   "cell_type": "code",
   "execution_count": 5,
   "id": "78d2e4d2-c1fa-484f-ad6c-fb0773759eae",
   "metadata": {},
   "outputs": [],
   "source": [
    "# Find electron-repulsion integrals (eri).\n",
    "eri = ao2mo.kernel(mol, mf.mo_coeff)\n",
    "eri = np.asarray(ao2mo.restore(1, eri, mol.nao))"
   ]
  },
  {
   "cell_type": "code",
   "execution_count": 6,
   "id": "e8fcb98f-ef8a-4711-8e96-d80ce048e64b",
   "metadata": {},
   "outputs": [
    {
     "name": "stdout",
     "output_type": "stream",
     "text": [
      "(2, 2, 2, 2)\n"
     ]
    }
   ],
   "source": [
    "print(eri.shape)"
   ]
  },
  {
   "cell_type": "code",
   "execution_count": 7,
   "id": "f96b25c9-ec1a-41d4-8ac2-b7199ae5245b",
   "metadata": {},
   "outputs": [],
   "source": [
    "# First create FCI solver with function fci.FCI and solve the FCI problem\n",
    "#\n",
    "cisolver = fci.FCI(mol, mf.mo_coeff)\n",
    "e, fcivec = cisolver.kernel()"
   ]
  },
  {
   "cell_type": "code",
   "execution_count": 8,
   "id": "5ca8d097-812f-4209-b2f6-dbe484160d91",
   "metadata": {},
   "outputs": [],
   "source": [
    "dm1, dm2 = cisolver.make_rdm12(fcivec, mf.mo_coeff.shape[1], mol.nelec)"
   ]
  },
  {
   "cell_type": "code",
   "execution_count": 13,
   "id": "3f6ccfce-4894-4159-93d6-a9702925f4c4",
   "metadata": {},
   "outputs": [
    {
     "name": "stdout",
     "output_type": "stream",
     "text": [
      "[00|00]\n",
      "[01|01]\n",
      "[01|10]\n",
      "[10|01]\n",
      "[10|10]\n",
      "[11|11]\n",
      "0.9959004643904699 0.9934201474038242\n",
      "2.6610321481861328\n"
     ]
    }
   ],
   "source": [
    "print(.5*ee_from_gamma_2(eri,dm2), e-np.trace(np.matmul(dm1,h1)))\n"
   ]
  },
  {
   "cell_type": "code",
   "execution_count": null,
   "id": "00e2a81d-a8b1-463b-894e-0e37b25534fc",
   "metadata": {},
   "outputs": [],
   "source": []
  }
 ],
 "metadata": {
  "kernelspec": {
   "display_name": "Python 3 (ipykernel)",
   "language": "python",
   "name": "python3"
  },
  "language_info": {
   "codemirror_mode": {
    "name": "ipython",
    "version": 3
   },
   "file_extension": ".py",
   "mimetype": "text/x-python",
   "name": "python",
   "nbconvert_exporter": "python",
   "pygments_lexer": "ipython3",
   "version": "3.12.3"
  }
 },
 "nbformat": 4,
 "nbformat_minor": 5
}
