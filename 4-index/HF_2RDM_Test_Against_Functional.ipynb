{
 "cells": [
  {
   "cell_type": "code",
   "execution_count": 1,
   "id": "07c3c03e-a7d8-4d59-b897-521daedfef36",
   "metadata": {},
   "outputs": [],
   "source": [
    "import numpy as np\n",
    "from pyscf import gto, scf, ao2mo, fci"
   ]
  },
  {
   "cell_type": "markdown",
   "id": "07501768-48e6-4a9a-b15d-8c26e7d327ab",
   "metadata": {},
   "source": [
    "This script serves to just showcase the implementation of 2RDMs corresponding to 1RDMFTs. The 3 basis sets, $\\{\\chi\\}$,$\\{\\phi\\}$ and $\\{\\eta\\}$ atre all required to switch back and forth between known quantities to test and make sure everything is correct. This script is really just there to further my understanding of the relationship between 1RDMFT, 2RDMs and their implementations.\n",
    "\n"
   ]
  },
  {
   "cell_type": "markdown",
   "id": "6e69761a-173a-41a1-8184-1e83a5f68878",
   "metadata": {},
   "source": [
    "The following function caculates the electron electron interactio  energy from the Fock basis representation of the 2RDM $\\gamma_2$ in the follwong way:\n",
    "$$E_{ee} = \\sum_p \\sum_q \\sum_r \\sum_s \\gamma_{2_{pqrs}} \\langle p q | r s \\rangle$$"
   ]
  },
  {
   "cell_type": "code",
   "execution_count": 2,
   "id": "b8379475-f49c-4bc2-82de-7125b74da1ec",
   "metadata": {},
   "outputs": [],
   "source": [
    "def ee_from_gamma_2(eri,dm2):\n",
    "    E = 0 \n",
    "    dim = eri.shape[0]\n",
    "    for p in range(0,dim):\n",
    "        for q in range(0,dim):\n",
    "            for r in range(0,dim):\n",
    "                for s in range(0,dim):\n",
    "                    E+=eri[p,q,r,s]*dm2[p,q,r,s]\n",
    "    return E"
   ]
  },
  {
   "cell_type": "code",
   "execution_count": 3,
   "id": "ba0a40f9-ef3f-45c9-88b0-364469b7d4e9",
   "metadata": {},
   "outputs": [],
   "source": [
    "def HF_2RDM(n, M):\n",
    "    # this form can only make sense for spin restriced orbitals \n",
    "    TWORDM = np.zeros((M,M,M,M))\n",
    "    for i in range(0,M):\n",
    "        for j in range(0,M):\n",
    "            for k in range(0,M):\n",
    "                for l in range(0,M):\n",
    "                    if i==j and k==l:\n",
    "                        TWORDM[i,j,k,l] = 4\n",
    "                        # print(TWORDM[i,j,k,l])\n",
    "                    if i==l and k==j:\n",
    "                        TWORDM[i,j,k,l] -= 2\n",
    "                        # print(TWORDM[i,j,k,l])\n",
    "                    # print(i,j,k,l,TWORDM[i,j,k,l], (i==j and k==l), (i==l and k==j), n[i]*n[k]/4) \n",
    "                    TWORDM[i,j,k,l] = n[i]/2*n[k]/2*TWORDM[i,j,k,l]\n",
    "    return TWORDM\n",
    "# this is only non 0 if aa bb or  ab ba. wisdom of old tells, only one orbital is occupied. \n",
    "# one of the occupation numbers for each of the brackets otherwise the resis ls n_a n_a instead of n_a n_b, comapre HF energy"
   ]
  },
  {
   "cell_type": "markdown",
   "id": "728980af-fdd3-4725-8022-c8dbc27a4e7e",
   "metadata": {},
   "source": [
    "Hartree Fock $E_{HF}$ energy written as function of occupation numbers $\\{n\\}$ and natural orbitals $\\{\\eta \\}$:\n",
    "$$\n",
    "\\begin{split}\n",
    "E_{HF}[n,\\eta] & = \\sum_{a=1}^M  \\sum_{b=1}^M n_a n_b (2 [aa |bb] - [ab |ba])\\\\\n",
    "\\end{split}\n",
    "$$\n"
   ]
  },
  {
   "cell_type": "code",
   "execution_count": 4,
   "id": "88161e4a-fb3d-45e2-bc00-6a632b19192d",
   "metadata": {},
   "outputs": [],
   "source": [
    "# for spinorbitals\n",
    "def ONERDMFT_HF_energy(Fouridx,  n):\n",
    "    energy = 0\n",
    "    M = Fouridx.shape[0]\n",
    "    for a in  range(0,M):\n",
    "        for b in range(0,M):\n",
    "            energy += n[a]/2*n[b]/2*(2*Fouridx[a,a,b,b] - Fouridx[a,b,b,a])\n",
    "    return energy"
   ]
  },
  {
   "cell_type": "code",
   "execution_count": 5,
   "id": "db733615-4b21-4b92-8742-b4cc56a9d844",
   "metadata": {},
   "outputs": [
    {
     "data": {
      "text/plain": [
       "<pyscf.gto.mole.Mole at 0x7196c1ff36b0>"
      ]
     },
     "execution_count": 5,
     "metadata": {},
     "output_type": "execute_result"
    }
   ],
   "source": [
    "mol = gto.Mole()\n",
    "mol.atom = \"\"\"\n",
    "    He    0.    0.    0.\n",
    "\"\"\"\n",
    "mol.basis = \"cc-pvdz\"\n",
    "#mol.basis = \"6-31g\" \n",
    "#mol.basis = \"sto3g\" \n",
    "\n",
    "mol.build()"
   ]
  },
  {
   "cell_type": "code",
   "execution_count": 6,
   "id": "df428818-a10d-4a07-a976-efe8b368e741",
   "metadata": {},
   "outputs": [],
   "source": [
    "eri = mol.intor('int2e')\n",
    "S = mol.intor('int1e_ovlp')\n",
    "N = mol.nelec[0]"
   ]
  },
  {
   "cell_type": "code",
   "execution_count": 7,
   "id": "0a7b3787-19cc-4bba-947b-b56e49b7beff",
   "metadata": {},
   "outputs": [
    {
     "name": "stdout",
     "output_type": "stream",
     "text": [
      "converged SCF energy = -2.85516047724274\n"
     ]
    },
    {
     "data": {
      "text/plain": [
       "np.float64(-2.85516047724274)"
      ]
     },
     "execution_count": 7,
     "metadata": {},
     "output_type": "execute_result"
    }
   ],
   "source": [
    "# Run Hartree-Fock.\n",
    "mf = scf.RHF(mol)\n",
    "mf.kernel()"
   ]
  },
  {
   "cell_type": "code",
   "execution_count": 8,
   "id": "2916bb9b-4b11-405b-b058-f2bac9ed49bf",
   "metadata": {},
   "outputs": [],
   "source": [
    "C = mf.mo_coeff\n",
    "P=np.matmul(C[:,0:N],C[:,0:N].T)"
   ]
  },
  {
   "cell_type": "code",
   "execution_count": 9,
   "id": "8e0dcdfd-8f3e-4e1a-8454-af8b4987c5ba",
   "metadata": {},
   "outputs": [],
   "source": [
    "# get operators in AO basis \n",
    "J = mf.get_j()\n",
    "K = mf.get_k()\n",
    "h = mf.get_hcore()\n",
    "hf_1RDM = mf.make_rdm1() # -> AO basis\n",
    "hf_2RDM = mf.make_rdm2() # -> AO basis"
   ]
  },
  {
   "cell_type": "code",
   "execution_count": 10,
   "id": "ddded236-84d6-46d3-932c-4e80e5bd8c61",
   "metadata": {},
   "outputs": [],
   "source": [
    "# get operators in MO basis \n",
    "h1 = C.T@h@C\n",
    "J_MO = C.T@J@C\n",
    "K_MO = C.T@K@C\n",
    "hf_1RDM_MO = C.T@S.T@hf_1RDM@S@C\n",
    "\n",
    "\n",
    "# Find electron-repulsion integrals (eri).\n",
    "eri_MO = ao2mo.kernel(mol, mf.mo_coeff)\n",
    "eri_MO = np.asarray(ao2mo.restore(1, eri_MO, mol.nao))\n",
    "\n",
    "# eri_MO = eri.copy()\n",
    "# hf_2RDM_MO = hf_2RDM.copy()\n",
    "# for i in range(4):\n",
    "#   eri_MO = np.tensordot(eri_MO, C, axes=1).transpose(3, 0, 1, 2)\n",
    "#   hf_2RDM_MO = np.tensordot(hf_2RDM_MO, C, axes=1).transpose(3, 0, 1, 2)"
   ]
  },
  {
   "cell_type": "code",
   "execution_count": 11,
   "id": "50498cc2-2753-4977-81ad-d98f30348238",
   "metadata": {},
   "outputs": [],
   "source": [
    "occ, nao =  np.linalg.eigh(hf_1RDM_MO)"
   ]
  },
  {
   "cell_type": "code",
   "execution_count": 12,
   "id": "dabab9eb-aa15-4d4f-854d-71038d4119f3",
   "metadata": {},
   "outputs": [],
   "source": [
    "hf_1RDM_NAO = nao.T@hf_1RDM_MO@nao\n",
    "J_NAO = nao.T@J_MO@nao\n",
    "K_NAO = nao.T@K_MO@nao\n",
    "h1_NAO = nao.T@h1@nao\n",
    "eri_NAO = eri_MO.copy()\n",
    "#hf_2RDM_NAO = hf_2RDM_MO.copy()\n",
    "for i in range(4):\n",
    "  eri_NAO = np.tensordot(eri_NAO, nao, axes=1).transpose(3, 0, 1, 2)\n",
    "  #hf_2RDM_NAO = np.tensordot(hf_2RDM_NAO, C, axes=1).transpose(3, 0, 1, 2)"
   ]
  },
  {
   "cell_type": "code",
   "execution_count": 13,
   "id": "5bb1f898-ce11-4d97-a9ac-b750187bc0f6",
   "metadata": {},
   "outputs": [
    {
     "name": "stdout",
     "output_type": "stream",
     "text": [
      "-3.882025102606505 1.0268646253637652 1.0268646253637648\n",
      "-3.882025102606506 1.0268646253637654\n",
      "-3.882025102606506 1.0268646253637654\n"
     ]
    }
   ],
   "source": [
    "#AOs\n",
    "print(np.trace(np.matmul(hf_1RDM,h)),1/2.*np.trace(np.matmul(hf_1RDM, J))-1/4.*np.trace(np.matmul(hf_1RDM, K)), 1/2*ee_from_gamma_2(eri,hf_2RDM))\n",
    "#MOs \n",
    "print(np.trace(np.matmul(hf_1RDM_MO,h1)),1/2.*np.trace(np.matmul(hf_1RDM_MO, J_MO))-1/4.*np.trace(np.matmul(hf_1RDM_MO, K_MO)))#, ee_from_gamma_2(eri_MO,hf_2RDM_MO))\n",
    "#NAOs\n",
    "print(np.trace(np.matmul(hf_1RDM_NAO,h1_NAO)),1/2.*np.trace(np.matmul(hf_1RDM_NAO, J_NAO))-1/4.*np.trace(np.matmul(hf_1RDM_NAO, K_NAO)))#, ee_from_gamma_2(eri_NAO,hf_2RDM_NAO))"
   ]
  },
  {
   "cell_type": "code",
   "execution_count": 14,
   "id": "f96b25c9-ec1a-41d4-8ac2-b7199ae5245b",
   "metadata": {},
   "outputs": [],
   "source": [
    "# First create FCI solver with function fci.FCI and solve the FCI problem\n",
    "cisolver = fci.FCI(mol, mf.mo_coeff)\n",
    "e, fcivec = cisolver.kernel()"
   ]
  },
  {
   "cell_type": "code",
   "execution_count": 15,
   "id": "3f6ccfce-4894-4159-93d6-a9702925f4c4",
   "metadata": {},
   "outputs": [
    {
     "name": "stdout",
     "output_type": "stream",
     "text": [
      "0.9612496317190583 0.961249631719058\n"
     ]
    }
   ],
   "source": [
    "dm1, dm2 = cisolver.make_rdm12(fcivec, mf.mo_coeff.shape[1], mol.nelec)\n",
    "fci_occ, fci_nao =  np.linalg.eigh(dm1)\n",
    "print(.5*ee_from_gamma_2(eri_MO,dm2), e-np.trace(np.matmul(dm1,h1)))"
   ]
  },
  {
   "cell_type": "code",
   "execution_count": 16,
   "id": "c2021fbc-84d3-4be6-9343-0f9142d1191d",
   "metadata": {},
   "outputs": [
    {
     "name": "stdout",
     "output_type": "stream",
     "text": [
      "-3.8488444628099954 -3.882025102606506\n"
     ]
    }
   ],
   "source": [
    "print(np.trace(np.matmul(dm1,h1)), np.trace(np.matmul(hf_1RDM_MO,h1)))"
   ]
  },
  {
   "cell_type": "code",
   "execution_count": 17,
   "id": "f1e1a604-a475-4168-bdc8-b66c931e3e8f",
   "metadata": {},
   "outputs": [],
   "source": [
    "eri_fciNAO = eri_MO.copy()\n",
    "eri_NAO = eri_MO.copy()\n",
    "dm2_NAO = dm2.copy()\n",
    "for i in range(4):\n",
    "  eri_fciNAO = np.tensordot(eri_fciNAO, fci_nao, axes=1).transpose(3, 0, 1, 2)\n",
    "  eri_NAO = np.tensordot(eri_NAO, nao, axes=1).transpose(3, 0, 1, 2)\n",
    "  dm2_NAO = np.tensordot(dm2_NAO, fci_nao, axes=1).transpose(3, 0, 1, 2)"
   ]
  },
  {
   "cell_type": "code",
   "execution_count": 18,
   "id": "cc4fefdb-a970-4fb6-bd40-e3165ba4d756",
   "metadata": {},
   "outputs": [
    {
     "name": "stdout",
     "output_type": "stream",
     "text": [
      "0.9612496317190583 0.961249631719058\n",
      "1.0268646253637654\n"
     ]
    }
   ],
   "source": [
    "print(.5*ee_from_gamma_2(eri_MO,dm2), e-np.trace(np.matmul(dm1,h1)))\n",
    "print(ONERDMFT_HF_energy(eri_NAO, occ))"
   ]
  },
  {
   "cell_type": "code",
   "execution_count": 19,
   "id": "9284e8e8-9578-4c71-a1f0-f5c697b72a8f",
   "metadata": {
    "scrolled": true
   },
   "outputs": [],
   "source": [
    "hf_dm2_fcinao = HF_2RDM(fci_occ, eri_NAO.shape[0])"
   ]
  },
  {
   "cell_type": "code",
   "execution_count": 20,
   "id": "65269c16-2b36-46eb-8ba7-53ad6022c913",
   "metadata": {},
   "outputs": [],
   "source": [
    "hf_dm2_nao = HF_2RDM(occ, eri_NAO.shape[0])"
   ]
  },
  {
   "cell_type": "code",
   "execution_count": 21,
   "id": "80407c95-8521-49be-8b72-8c8bcd3876cb",
   "metadata": {},
   "outputs": [
    {
     "name": "stdout",
     "output_type": "stream",
     "text": [
      "1.0268646253637654 0.961249631719058\n"
     ]
    }
   ],
   "source": [
    "print(.5*ee_from_gamma_2(eri_NAO,hf_dm2_nao), e-np.trace(np.matmul(dm1,h1)))"
   ]
  },
  {
   "cell_type": "code",
   "execution_count": 22,
   "id": "69ca88fc-e6be-4fbf-b619-fa0e64468aa1",
   "metadata": {},
   "outputs": [
    {
     "name": "stdout",
     "output_type": "stream",
     "text": [
      "1.0341444370318436 0.961249631719058\n"
     ]
    }
   ],
   "source": [
    "print(.5*ee_from_gamma_2(eri_fciNAO,hf_dm2_fcinao), e-np.trace(np.matmul(dm1,h1)))"
   ]
  },
  {
   "cell_type": "code",
   "execution_count": 23,
   "id": "67614233-c531-4cc4-afb1-632430bdc9fc",
   "metadata": {},
   "outputs": [
    {
     "name": "stdout",
     "output_type": "stream",
     "text": [
      "-3.882025102606505\n",
      "-3.8488444628099954\n"
     ]
    }
   ],
   "source": [
    "print(np.trace(np.matmul(hf_1RDM,h)))\n",
    "print(np.trace(np.matmul(dm1,h1)))\n"
   ]
  },
  {
   "cell_type": "code",
   "execution_count": null,
   "id": "1a6bfa00-749e-4d2e-be96-2fd8bd1823fd",
   "metadata": {},
   "outputs": [],
   "source": []
  }
 ],
 "metadata": {
  "kernelspec": {
   "display_name": "Python 3 (ipykernel)",
   "language": "python",
   "name": "python3"
  },
  "language_info": {
   "codemirror_mode": {
    "name": "ipython",
    "version": 3
   },
   "file_extension": ".py",
   "mimetype": "text/x-python",
   "name": "python",
   "nbconvert_exporter": "python",
   "pygments_lexer": "ipython3",
   "version": "3.12.3"
  }
 },
 "nbformat": 4,
 "nbformat_minor": 5
}
