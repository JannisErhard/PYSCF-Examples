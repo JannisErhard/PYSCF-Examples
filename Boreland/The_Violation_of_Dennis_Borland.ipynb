{
 "cells": [
  {
   "cell_type": "code",
   "execution_count": 1,
   "id": "2eadbb61-8e58-411d-b2ae-0affbaeddccb",
   "metadata": {},
   "outputs": [],
   "source": [
    "import numpy as np\n",
    "from pyscf import gto, scf, ao2mo, fci"
   ]
  },
  {
   "cell_type": "code",
   "execution_count": 2,
   "id": "341e2686-1f53-4e59-8bea-c59447f31dc4",
   "metadata": {},
   "outputs": [],
   "source": [
    "def expand_matrix(P):\n",
    "    Paa = P\n",
    "    Pbb = P\n",
    "    Pab = np.zeros(P.shape)\n",
    "    Pba = np.zeros(P.shape)\n",
    "    PE = np.concatenate((np.concatenate((Paa, Pab), axis=1), np.concatenate((Pba, Pbb), axis=1)), axis=0) \n",
    "    return PE"
   ]
  },
  {
   "cell_type": "code",
   "execution_count": 3,
   "id": "980e0177-d797-4f25-99dd-840715f8540d",
   "metadata": {},
   "outputs": [],
   "source": [
    "def Add_Block_Matrices(Paa, Pbb):\n",
    "    Pab = np.zeros(Paa.shape)\n",
    "    Pba = np.zeros(Paa.shape)\n",
    "    PE = np.concatenate((np.concatenate((Paa, Pab), axis=1), np.concatenate((Pba, Pbb), axis=1)), axis=0) \n",
    "    return PE"
   ]
  },
  {
   "cell_type": "code",
   "execution_count": 4,
   "id": "2898961b-64d8-4483-bdec-f2746ade3b02",
   "metadata": {},
   "outputs": [],
   "source": [
    "# get boreland setup"
   ]
  },
  {
   "cell_type": "markdown",
   "id": "75911506-c9e6-48b6-a94b-363fa4d1adad",
   "metadata": {},
   "source": [
    "For $N=3$ and $M=6$\n",
    "These are necessary and sufficient conditions, this means 1. when they are fulfilled the matrix is N representable and 2. wheh the matrix is N-representable, they are fulfilled. It should be easy to test, by looking at a 1RDM from Li in 6 AOs\\\n",
    "$n_1 + n_6 = 1$\\\n",
    "$n_2 + n_5 = 1$\\\n",
    "$n_3 + n_4 = 1$\\\n",
    "$n_5 + n_6 > n_4$\\\n",
    "$n_i > 0$"
   ]
  },
  {
   "cell_type": "code",
   "execution_count": 5,
   "id": "97f3ab75-d097-4725-b8a0-d5236be52676",
   "metadata": {},
   "outputs": [
    {
     "data": {
      "text/plain": [
       "<pyscf.gto.mole.Mole at 0x700914b6af00>"
      ]
     },
     "execution_count": 5,
     "metadata": {},
     "output_type": "execute_result"
    }
   ],
   "source": [
    "# make Li\n",
    "mol = gto.Mole()\n",
    "mol.atom = f\"\"\"\n",
    "    Li    0.    0.    0.\n",
    "\"\"\"\n",
    "# this basis has 2 functions for Helium\n",
    "mol.basis = {'Li': [[0,\n",
    "                    [19.2406000, 0.0328280],\n",
    "                    [2.8992000, 0.2312080],\n",
    "                    [0.6534000, 0.8172380],],\n",
    "                   [0,\n",
    "                    [0.1776000, 1.0000000],],\n",
    "                   [0,\n",
    "                    [1.0000000, 1.0000000],]],\n",
    "}#mol.basis = \"sto-6g\"\n",
    "mol.spin = 1 # spins [PSE[el]-1 ] \n",
    "mol.verbose=0\n",
    "mol.build()"
   ]
  },
  {
   "cell_type": "code",
   "execution_count": 6,
   "id": "98de0589-ac4c-46a0-82e4-ab81cf068d0b",
   "metadata": {},
   "outputs": [
    {
     "data": {
      "text/plain": [
       "np.float64(-6.601784460350542)"
      ]
     },
     "execution_count": 6,
     "metadata": {},
     "output_type": "execute_result"
    }
   ],
   "source": [
    "# run Hartree Fock\n",
    "mf = scf.RHF(mol)\n",
    "mf.kernel()"
   ]
  },
  {
   "cell_type": "code",
   "execution_count": 7,
   "id": "dadd9ea8-0201-465e-9d9e-a6bb56c642b3",
   "metadata": {},
   "outputs": [],
   "source": [
    "# Harvest\n",
    "C = mf.mo_coeff\n",
    "h1 = hf.mo_coeff.T.dot(hf.get_hcore()).dot(hf.mo_coeff)\n",
    "h2 = ao2mo.kernel(mol, hf.mo_coeff)"
   ]
  },
  {
   "cell_type": "code",
   "execution_count": 8,
   "id": "777d8812-247a-43d5-8100-72302c21cb4e",
   "metadata": {},
   "outputs": [],
   "source": [
    "# run FCI\n",
    "fs = fci.FCI(mol, mf.mo_coeff)\n",
    "e, ci = fs.kernel(verbose=0)\n",
    "\n",
    "# cisolver = fci.FCI(mol, mf.mo_coeff)\n",
    "# e_1, fcivec = cisolver.kernel()"
   ]
  },
  {
   "cell_type": "code",
   "execution_count": 9,
   "id": "ba25f1a8-be99-436b-a5f5-c41bf1f0ceec",
   "metadata": {},
   "outputs": [],
   "source": [
    "# Preparing Data for the Natural Orbital Functionals\n",
    "FCIgamma_a, FCIgamma_b = fci.direct_spin1.make_rdm1s(ci, mf.mo_coeff.shape[0], mol.nelec)\n",
    "FCIoccu_a, FCInaturalC_a = np.linalg.eigh(FCIgamma_a)\n",
    "FCIoccu_b, FCInaturalC_b = np.linalg.eigh(FCIgamma_b)\n",
    "FCInaturalC_a = FCInaturalC_a[:,::-1]\n",
    "FCInaturalC_b = FCInaturalC_b[:,::-1]\n",
    "FCIoccu_a = FCIoccu_a[::-1]\n",
    "FCIoccu_b = FCIoccu_b[::-1]\n",
    "# I think I did this just for the 4 index integrals being written in AO basis\n",
    "FCInaturalCTT_a, FCInaturalCTT_b = FCInaturalCTT_a, FCInaturalCTT_b  #np.matmul(C,FCInaturalC_a), np.matmul(C,FCInaturalC_b)\n",
    "FCInaturalCTTE = Add_Block_Matrices(FCInaturalCTT_a, FCInaturalCTT_b)\n",
    "FCIoccuE = np.append(FCIoccu_a,FCIoccu_b)\n",
    "for i, n  in enumerate(FCIoccuE):\n",
    "    if n < 0:\n",
    "        FCIoccuE[i] = 0 "
   ]
  },
  {
   "cell_type": "code",
   "execution_count": 20,
   "id": "4ed1512c-6b09-4bd1-bab7-4951f91888c4",
   "metadata": {},
   "outputs": [],
   "source": [
    "i = np.argsort(FCIoccuE)\n",
    "l = FCIoccuE[i[::-1]]\n",
    "FCInaturalCTTE = FCInaturalCTTE[:,i]"
   ]
  },
  {
   "cell_type": "code",
   "execution_count": 21,
   "id": "9e453c02-9174-4c3b-90c7-20a0b8411639",
   "metadata": {},
   "outputs": [
    {
     "name": "stdout",
     "output_type": "stream",
     "text": [
      "[9.99997187e-01 9.99906230e-01 9.99903418e-01 9.65822750e-05\n",
      " 9.37695268e-05 2.81274825e-06]\n",
      "0.9999999999999999 1.0 0.9999999999999997 True\n"
     ]
    }
   ],
   "source": [
    "# Test if Dennis Boreland condition comes True\n",
    "print(l)\n",
    "print(l[0]+l[5], l[1]+l[4], l[2]+l[3], l[4]+l[5] > l[3])"
   ]
  },
  {
   "cell_type": "markdown",
   "id": "3dde3c2d-2192-4f21-898a-24829c296547",
   "metadata": {},
   "source": [
    "infringe condition, how? There are conditions, we cant infringe. $0 < n_i < 1$, since otherwise the pauli principle does not hold anymore. Also $\\sum_i n_i = N$, since otherwise system si not closed anymore. Moreover, the sequence comes from the condition, when we change to far the naming of elements changes but the sequence stays the same. All possible changes will be included if only non sequence changing changes are done, i.e. we have three unvreakable conditions:\\\n",
    "$\\sum_i n_i = N$\\\n",
    "$0 < n_i < 1$\\\n",
    "$n_i > n_{i+1}$\\\n",
    "This means we can only move occupation around like a plastic deformation, this keeps N, and we can effectively only make the first 3 smaller and the subsequent 3 larger. Possibly like this:\n",
    "$n_1 = n_1 - a$\\\n",
    "$n_4 = n_4 + a$\\\n",
    "where:\\\n",
    "$a < n_1 - n_2$\\\n",
    "For Instance:\\\n",
    "$a = (n_1 - n_2)/2$\n",
    "\n",
    "Now;\\\n",
    "$n_i > n_{i+1}$\\\n",
    "$0 < n_i < 1$\\\n",
    "$\\sum_i n_i = N$\\\n",
    "but:\\\n",
    "$n_1 + n_6 = 1-a$\\\n",
    "and:\\\n",
    "$n_3 + n_4 = 1+a$\n"
   ]
  },
  {
   "cell_type": "code",
   "execution_count": 22,
   "id": "25ab0164-0d2c-40b8-a94b-fcfd34ee2d9d",
   "metadata": {},
   "outputs": [
    {
     "name": "stdout",
     "output_type": "stream",
     "text": [
      "[9.99997187e-01 9.99906230e-01 9.99903418e-01 9.65822750e-05\n",
      " 9.37695268e-05 2.81274825e-06]\n",
      "4.547838926222125e-05\n",
      "[9.99951709e-01 9.99906230e-01 9.99903418e-01 1.42060664e-04\n",
      " 9.37695268e-05 2.81274825e-06]\n"
     ]
    }
   ],
   "source": [
    "print(l)\n",
    "a = (l[0]-l[1])/2\n",
    "print(a)\n",
    "l[0] = l[0]-a\n",
    "l[3] = l[3]+a\n",
    "print(l)\n"
   ]
  },
  {
   "cell_type": "code",
   "execution_count": 13,
   "id": "9d073cac-b173-44e2-8eff-45e2d38ace3f",
   "metadata": {},
   "outputs": [
    {
     "name": "stdout",
     "output_type": "stream",
     "text": [
      "0.9999545216107377 1.0 1.0000454783892618 False\n"
     ]
    }
   ],
   "source": [
    "print(l[0]+l[5], l[1]+l[4], l[2]+l[3], l[4]+l[5] > l[3])"
   ]
  },
  {
   "cell_type": "markdown",
   "id": "53695ebc-9e12-49c6-a583-c62666e7c6f5",
   "metadata": {},
   "source": [
    "Now Rebuild the 1RDM"
   ]
  },
  {
   "cell_type": "code",
   "execution_count": 26,
   "id": "07dfef3a-f23a-4179-8ea6-84384f597dfd",
   "metadata": {},
   "outputs": [],
   "source": [
    "gamma = np.matmul(np.matmul(FCInaturalCTTE,np.diag(l)),FCInaturalCTTE.T)"
   ]
  },
  {
   "cell_type": "markdown",
   "id": "2e803e8e-cc2d-416b-814b-663225b0fc08",
   "metadata": {},
   "source": [
    "Now follows the inversion:"
   ]
  },
  {
   "cell_type": "code",
   "execution_count": null,
   "id": "d8ab8c9c-6335-4261-996f-bd9f2d75ba2a",
   "metadata": {},
   "outputs": [],
   "source": [
    "# eq_cons = {'type': 'eq',\n",
    "#            'fun' : lambda x: x[0]-h1[0, 0]}\n",
    "# # initializing the calculator\n",
    "# calculator = Calculator(h2, gamma, # two body term and rdm for the ground state\n",
    "#                         tools.e_rdms, tools.optimize, 1e-3, # function that calculates (energies, rdms) and optimizer \n",
    "#                         ecore=mol.energy_nuc(), norbs=h1.shape[1], nelec=mol.nelec, maximize=True, symmetrize=True, nroots=5) # parameters for the\n",
    "\n",
    "\n",
    "# # run the optimizer\n",
    "# ## objectiva function value changes when we add constraint\n",
    "# res_LFT = calculator.optimize(np.zeros(h1.size), \n",
    "#                           method='trust-constr',\n",
    "#                           options={\"maxiter\":500, 'disp':True, 'verbose':0, 'gtol':1e-7,},\n",
    "#                           constraints=eq_cons)\n",
    "# LV.append(res_LFT.fun)"
   ]
  }
 ],
 "metadata": {
  "kernelspec": {
   "display_name": "Python 3 (ipykernel)",
   "language": "python",
   "name": "python3"
  },
  "language_info": {
   "codemirror_mode": {
    "name": "ipython",
    "version": 3
   },
   "file_extension": ".py",
   "mimetype": "text/x-python",
   "name": "python",
   "nbconvert_exporter": "python",
   "pygments_lexer": "ipython3",
   "version": "3.12.3"
  }
 },
 "nbformat": 4,
 "nbformat_minor": 5
}
