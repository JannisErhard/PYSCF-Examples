{
 "cells": [
  {
   "cell_type": "code",
   "execution_count": 1,
   "id": "7f029bae-906a-48e7-bc6c-27bced488108",
   "metadata": {},
   "outputs": [],
   "source": [
    "import pandas as pd\n",
    "import numpy as np\n",
    "\n",
    "from pyscf import gto, scf, ao2mo\n"
   ]
  },
  {
   "cell_type": "code",
   "execution_count": 100,
   "id": "979a0683-4edf-44d1-b3d6-673a4f09abb9",
   "metadata": {},
   "outputs": [
    {
     "name": "stdout",
     "output_type": "stream",
     "text": [
      "5\n"
     ]
    }
   ],
   "source": [
    "element = 'K'\n",
    "#url = f\"https://www.molpro.net/info/basis.php?search=1&element={element}&basis=Dunning-DZP&print=1\"\n",
    "url = \"https://www.molpro.net/info/basis.php?search=1&element=K&basis=aug-cc-pVQZ&print=1\"\n",
    "dfs = pd.read_html(url)\n",
    "print(len(dfs))"
   ]
  },
  {
   "cell_type": "code",
   "execution_count": 101,
   "id": "ebb004d3-a42c-4fd3-98d8-77b108e6a16f",
   "metadata": {},
   "outputs": [],
   "source": [
    "mol = gto.Mole()\n",
    "mol.atom = f'''{element}  0 0 0'''\n",
    "mol.charge = 0\n",
    "mol.spin = 1\n",
    "mol.unit = 'AU'\n"
   ]
  },
  {
   "cell_type": "code",
   "execution_count": 102,
   "id": "4ab835d7-9190-4998-ac29-4b254fca102a",
   "metadata": {},
   "outputs": [],
   "source": [
    "if False:\n",
    "    mol.basis = {'H': [[0,\n",
    "                        [19.2406000, 0.0328280],\n",
    "                        [2.8992000, 0.2312080],\n",
    "                        [0.6534000, 0.8172380],],\n",
    "                       [0,\n",
    "                        [0.1776000, 1.0000000],],\n",
    "                       [1,\n",
    "                        [1.0000000, 1.0000000],]],\n",
    "    }\n",
    "    print(mol.basis)\n"
   ]
  },
  {
   "cell_type": "code",
   "execution_count": 103,
   "id": "44895f29-3f70-4219-ad09-724892d2cb39",
   "metadata": {},
   "outputs": [
    {
     "name": "stdout",
     "output_type": "stream",
     "text": [
      "8 8 0\n",
      "15 7 1\n",
      "20 5 2\n",
      "23 3 3\n",
      "25 2 4\n",
      "{'K': [[0, [6741027.0, 1e-06], [2112545.0, 5e-06], [731996.6, 1.6e-05], [273831.4, 5.2e-05], [108936.2, 0.000155], [45398.78, 0.000442], [19658.22, 0.0012], [8824.135, 0.00311], [4091.672, 0.007718], [1952.908, 0.018273], [957.1958, 0.040874], [480.5229, 0.084833], [246.3229, 0.157851], [128.6348, 0.247362], [68.29012, 0.292081], [36.66851, 0.215147], [19.71727, 0.073795], [10.35031, 0.007564], [5.521912, 0.000893], [2.970577, 5e-05], [1.565147, 1.5e-05], [0.398607, 3e-06], [0.052907, 6e-06], [0.019684, 4e-06]], [0, [10.35031, 0.265027], [5.521912, 0.491469], [2.970577, 0.327769], [1.565147, 0.065421], [0.795116, 0.003404], [0.398607, 0.001256], [0.196359, 9.5e-05], [0.052907, 6.1e-05], [0.019684, 3.7e-05]], [0, [731996.6, 2e-06], [273831.4, 5e-06], [108936.2, 1.5e-05], [45398.78, 4.2e-05], [19658.22, 0.000114], [8824.135, 0.000296], [4091.672, 0.000738], [1952.908, 0.001768], [957.1958, 0.004038], [480.5229, 0.008753], [246.3229, 0.017582], [128.6348, 0.031885], [68.29012, 0.048512], [36.66851, 0.051767], [19.71727, 0.0065], [1.565147, 0.056331], [0.795116, 0.505436], [0.398607, 0.527599], [0.196359, 0.151984], [0.052907, 0.003045], [0.019684, 0.000371], [0.011613, 5.6e-05]], [0, [10.35031, 0.022259], [5.521912, 0.059251], [2.970577, 0.065605], [0.052907, 0.237098], [0.03305, 0.462358], [0.019684, 0.353015], [0.011613, 0.103895]], [0, [0.03305, 1.0]], [0, [0.019684, 1.0]], [0, [0.011613, 1.0]], [0, [0.00685, 1.0]], [1, [92952.51, 1e-06], [15063.98, 1.5e-05], [3901.921, 0.000122], [1295.429, 0.000697], [500.2616, 0.00312], [213.6349, 0.011469], [97.89268, 0.035342], [47.26863, 0.090805], [23.71979, 0.186372], [12.18076, 0.292133], [6.358146, 0.324202], [3.350393, 0.20254], [1.750682, 0.051246], [0.923879, 0.003711], [0.499544, 0.000608], [0.157832, 3.6e-05], [0.038027, 3e-06], [0.009054, 1e-06]], [1, [1.750682, 0.151776], [0.923879, 0.329001], [0.499544, 0.349587], [0.280217, 0.231042], [0.157832, 0.088296], [0.078477, 0.011483], [0.038027, 0.000181], [0.018547, 0.000361]], [1, [15063.98, 1e-06], [3901.921, 5e-06], [1295.429, 2.9e-05], [500.2616, 0.000131], [213.6349, 0.000485], [97.89268, 0.001515], [47.26863, 0.003978], [23.71979, 0.008434], [12.18076, 0.013669], [6.358146, 0.016364], [3.350393, 0.0063], [0.078477, 0.074949], [0.038027, 0.36798], [0.018547, 0.506542], [0.009054, 0.165225]], [1, [0.038027, 1.0]], [1, [0.018547, 1.0]], [1, [0.009054, 1.0]], [1, [0.00442, 1.0]], [2, [7.261892, 0.006012], [1.755637, 0.023331], [0.706701, 0.025679], [0.276008, 0.063968], [0.08408, 0.044376], [0.050818, 0.247852], [0.0191, 0.265318], [0.011936, 0.562012]], [2, [0.050818, 1.0]], [2, [0.0191, 1.0]], [2, [0.011936, 1.0]], [2, [0.00477, 1.0]], [3, [0.435637, 1.0]], [3, [0.075377, 1.0]], [3, [0.03015, 1.0]], [4, [0.08988, 1.0]], [4, [0.03595, 1.0]]]}\n"
     ]
    }
   ],
   "source": [
    "if True:\n",
    "    contraction = 0\n",
    "    basis = {}\n",
    "    basis[element] = []\n",
    "    for l in range(0,len(dfs)):\n",
    "        if len(dfs[l].columns) > 1:\n",
    "            for column in range(1,len(dfs[l].columns)):\n",
    "                basis[element].append([l])\n",
    "                for line in np.ndarray.tolist(dfs[l].values):\n",
    "                    if line[column] > 0.0:\n",
    "                        basis[element][contraction].append([line[0],line[column]])\n",
    "                contraction+=1\n",
    "            print(contraction, column, l)\n",
    "        else:\n",
    "            for line in np.ndarray.tolist(dfs[l].values):\n",
    "                basis[element].append([l , [line[0], 1.0]])\n",
    "\n",
    "        \n",
    "\n",
    "    #print(basis)\n",
    "    \n",
    "    mol.basis = basis \n",
    "    #mol.basis = 'sto-3g'\n",
    "print(mol.basis)"
   ]
  },
  {
   "cell_type": "code",
   "execution_count": 104,
   "id": "bc0db708-4caf-4715-8359-cf7e1e8c8763",
   "metadata": {},
   "outputs": [
    {
     "data": {
      "text/plain": [
       "<pyscf.gto.mole.Mole at 0x71b0e97f84c0>"
      ]
     },
     "execution_count": 104,
     "metadata": {},
     "output_type": "execute_result"
    }
   ],
   "source": [
    "mol.build()"
   ]
  },
  {
   "cell_type": "code",
   "execution_count": 105,
   "id": "790e305b-12e1-43b4-8835-7e1aa5f7105d",
   "metadata": {},
   "outputs": [
    {
     "name": "stdout",
     "output_type": "stream",
     "text": [
      "converged SCF energy = -598.509883870499\n"
     ]
    }
   ],
   "source": [
    "hf = scf.ROHF(mol).run()\n"
   ]
  },
  {
   "cell_type": "code",
   "execution_count": null,
   "id": "3e8c134e-3835-410c-a6ee-16bf474a2f4b",
   "metadata": {},
   "outputs": [],
   "source": []
  }
 ],
 "metadata": {
  "kernelspec": {
   "display_name": "Python 3 (ipykernel)",
   "language": "python",
   "name": "python3"
  },
  "language_info": {
   "codemirror_mode": {
    "name": "ipython",
    "version": 3
   },
   "file_extension": ".py",
   "mimetype": "text/x-python",
   "name": "python",
   "nbconvert_exporter": "python",
   "pygments_lexer": "ipython3",
   "version": "3.10.12"
  }
 },
 "nbformat": 4,
 "nbformat_minor": 5
}
