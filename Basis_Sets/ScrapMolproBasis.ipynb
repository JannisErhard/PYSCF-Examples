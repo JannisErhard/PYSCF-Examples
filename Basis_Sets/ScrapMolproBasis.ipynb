{
 "cells": [
  {
   "cell_type": "code",
   "execution_count": 7,
   "id": "b12951e8-6937-4693-8df6-6a9361dcf518",
   "metadata": {},
   "outputs": [
    {
     "name": "stdout",
     "output_type": "stream",
     "text": [
      "Pandas Version: 2.2.2, PySCF Version: 2.6.2, Numpy Version: 1.26.2\n"
     ]
    }
   ],
   "source": [
    "import pandas as pd\n",
    "import numpy as np\n",
    "import pyscf\n",
    "from pyscf import gto, scf, ao2mo\n",
    "\n",
    "print(f\"Pandas Version: {pd.__version__}, PySCF Version: {pyscf.__version__}, Numpy Version: {np.__version__}\")\n"
   ]
  },
  {
   "cell_type": "markdown",
   "id": "a582f58f-7e67-4bbc-9784-213e7587882d",
   "metadata": {},
   "source": [
    "Currently This Script is only good for atoms but can be easily expanded.\n",
    "\n",
    "This script Scraps a basis set from the Molpro website and then translates it into the PySCF internal format. Important notes: The molpro website is scrapped with pandas. whend pd.read_html returns data fields, each data field coresponds to one angular momentum. Each data field contains the basis set pre-exponential factor in the first column. Each column after the first column contain the coefficients of one contraction. \n",
    "\n",
    "With this information, one can convert the basis set into any format. PySCF currently (version 2.6.2) internally stores basis sets as follows:\n",
    "$$\\{'A': [[l_1, [\\varepsilon_{11}, c_{11}], \\dots, [\\varepsilon_{1n}, c_{1n}],], [l_2,  [\\varepsilon_{21} c_{21}], \\dots, [\\varepsilon_{2n} c_{2n}],]\\dots [l_n, [\\varepsilon_{n1}, c_{n1}], \\dots, [\\varepsilon_{nn}, c_{nn}],]\\}\n",
    "$$\n",
    "Where '{}' indicates a dict and '[]' a list. One contraction is in\n",
    "$$[l_1, [\\varepsilon_{11}, c_{11}], \\dots, [\\varepsilon_{1n}, c_{1n}],]$$\n",
    "where $l_1$ id the angular momentum as integer of one contraction and the following list contains each pre-exponential $\\varepsilon_{11}$, combined with its contraction coefficient $c_{11}$.\n",
    "\n"
   ]
  },
  {
   "cell_type": "code",
   "execution_count": 12,
   "id": "979a0683-4edf-44d1-b3d6-673a4f09abb9",
   "metadata": {},
   "outputs": [],
   "source": [
    "element = 'K'\n",
    "basis_type = 'aug-cc-pVQZ'\n",
    "url = f\"https://www.molpro.net/info/basis.php?search=1&element={element}&basis={basis_type}&print=1\"\n",
    "dfs = pd.read_html(url)"
   ]
  },
  {
   "cell_type": "code",
   "execution_count": 13,
   "id": "ebb004d3-a42c-4fd3-98d8-77b108e6a16f",
   "metadata": {},
   "outputs": [],
   "source": [
    "# minimum input for mol object\n",
    "mol = gto.Mole()\n",
    "mol.atom = f'''{element}  0 0 0'''\n",
    "mol.charge = 0\n",
    "mol.spin = 1\n",
    "mol.unit = 'AU'\n"
   ]
  },
  {
   "cell_type": "code",
   "execution_count": 14,
   "id": "44895f29-3f70-4219-ad09-724892d2cb39",
   "metadata": {},
   "outputs": [],
   "source": [
    "# parsing of df objects according to description\n",
    "contraction = 0\n",
    "basis = {}\n",
    "basis[element] = []\n",
    "\n",
    "for l in range(0,len(dfs)):# each data field being one angular momentum\n",
    "    if len(dfs[l].columns) > 1:# special case on website as of Jul25, 2024: if the primitive fuunction is to be used, sometimes only the exponent is given \n",
    "        for column in range(1,len(dfs[l].columns)):# coumns are contractions\n",
    "            basis[element].append([l])\n",
    "            for line in np.ndarray.tolist(dfs[l].values):\n",
    "                if line[column] > 0.0:\n",
    "                    basis[element][contraction].append([line[0],line[column]])\n",
    "            contraction+=1\n",
    "    else:# special case as of Jul25, 2024: if the primitive fuunction is to be used, sometimes only the exponent is given \n",
    "        for line in np.ndarray.tolist(dfs[l].values):\n",
    "            basis[element].append([l , [line[0], 1.0]])\n",
    "\n",
    "    \n",
    "\n",
    "mol.basis = basis \n",
    "\n",
    "#for contraction in basis[element]:\n",
    "#    print(contraction)"
   ]
  },
  {
   "cell_type": "code",
   "execution_count": 11,
   "id": "790e305b-12e1-43b4-8835-7e1aa5f7105d",
   "metadata": {},
   "outputs": [
    {
     "name": "stdout",
     "output_type": "stream",
     "text": [
      "converged SCF energy = -598.509883870499\n"
     ]
    }
   ],
   "source": [
    "mol.build()\n",
    "hf = scf.ROHF(mol).run()"
   ]
  }
 ],
 "metadata": {
  "kernelspec": {
   "display_name": "Python 3 (ipykernel)",
   "language": "python",
   "name": "python3"
  },
  "language_info": {
   "codemirror_mode": {
    "name": "ipython",
    "version": 3
   },
   "file_extension": ".py",
   "mimetype": "text/x-python",
   "name": "python",
   "nbconvert_exporter": "python",
   "pygments_lexer": "ipython3",
   "version": "3.10.12"
  }
 },
 "nbformat": 4,
 "nbformat_minor": 5
}
