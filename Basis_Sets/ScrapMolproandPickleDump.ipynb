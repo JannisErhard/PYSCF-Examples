{
 "cells": [
  {
   "cell_type": "code",
   "execution_count": 1,
   "id": "c676b8a5-33e3-4357-a8db-d47d3f5eb113",
   "metadata": {},
   "outputs": [],
   "source": [
    "import pandas as pd\n",
    "import numpy as np\n",
    "import pickle"
   ]
  },
  {
   "cell_type": "code",
   "execution_count": 2,
   "id": "2b11a644-c1de-4340-a841-274d817e1f33",
   "metadata": {},
   "outputs": [],
   "source": [
    "element = 'K'\n",
    "basis_type = 'aug-cc-pVQZ'\n",
    "url = f\"https://www.molpro.net/info/basis.php?search=1&element={element}&basis={basis_type}&print=1\"\n",
    "dfs = pd.read_html(url)"
   ]
  },
  {
   "cell_type": "code",
   "execution_count": 3,
   "id": "80f00ff2-b357-481a-9eea-67ae9dc112c2",
   "metadata": {},
   "outputs": [],
   "source": [
    "# parsing of df objects according to description\n",
    "contraction = 0\n",
    "basis = {}\n",
    "basis[element] = []\n",
    "\n",
    "for l in range(0,len(dfs)):# each data field being one angular momentum\n",
    "    if len(dfs[l].columns) > 1:# special case on website as of Jul25, 2024: if the primitive fuunction is to be used, sometimes only the exponent is given \n",
    "        for column in range(1,len(dfs[l].columns)):# coumns are contractions\n",
    "            basis[element].append([l])\n",
    "            for line in np.ndarray.tolist(dfs[l].values):\n",
    "                if line[column] > 0.0:\n",
    "                    basis[element][contraction].append([line[0],line[column]])\n",
    "            contraction+=1\n",
    "    else:# special case as of Jul25, 2024: if the primitive fuunction is to be used, sometimes only the exponent is given \n",
    "        for line in np.ndarray.tolist(dfs[l].values):\n",
    "            basis[element].append([l , [line[0], 1.0]])\n",
    "\n",
    "with open(element+'_'+basis_type+'.pkl', 'wb') as f:\n",
    "    pickle.dump(basis, f)"
   ]
  },
  {
   "cell_type": "code",
   "execution_count": null,
   "id": "4896767b-8a9a-41aa-a4ce-3a06e95d25b5",
   "metadata": {},
   "outputs": [],
   "source": []
  }
 ],
 "metadata": {
  "kernelspec": {
   "display_name": "Python 3 (ipykernel)",
   "language": "python",
   "name": "python3"
  },
  "language_info": {
   "codemirror_mode": {
    "name": "ipython",
    "version": 3
   },
   "file_extension": ".py",
   "mimetype": "text/x-python",
   "name": "python",
   "nbconvert_exporter": "python",
   "pygments_lexer": "ipython3",
   "version": "3.10.12"
  }
 },
 "nbformat": 4,
 "nbformat_minor": 5
}
