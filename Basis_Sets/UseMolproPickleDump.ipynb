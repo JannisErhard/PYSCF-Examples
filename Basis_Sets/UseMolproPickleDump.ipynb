{
 "cells": [
  {
   "cell_type": "code",
   "execution_count": 1,
   "id": "9401f614-cbe9-42d7-98fb-15367b456263",
   "metadata": {},
   "outputs": [],
   "source": [
    "import pandas as pd\n",
    "import numpy as np\n",
    "import pickle\n",
    "from pyscf import gto, scf, ao2mo\n"
   ]
  },
  {
   "cell_type": "code",
   "execution_count": 2,
   "id": "c6eacf43-5684-43e5-a9d2-8672e2196aba",
   "metadata": {},
   "outputs": [],
   "source": [
    "element = 'K'\n",
    "basis_type = 'aug-cc-pVQZ'\n",
    "with open(element+'_'+basis_type+'.pkl', 'rb') as f:\n",
    "    basis = pickle.load(f)"
   ]
  },
  {
   "cell_type": "code",
   "execution_count": 3,
   "id": "22135a3d-b623-44d9-b50e-410f04c19b05",
   "metadata": {},
   "outputs": [],
   "source": [
    "# minimum input for mol object\n",
    "mol = gto.Mole()\n",
    "mol.atom = f'''{element}  0 0 0'''\n",
    "mol.charge = 0\n",
    "mol.spin = 1\n",
    "mol.unit = 'AU'\n",
    "mol.basis = basis "
   ]
  },
  {
   "cell_type": "code",
   "execution_count": 4,
   "id": "4ce6eac8-0a8c-433d-bf80-323a1b52e390",
   "metadata": {},
   "outputs": [
    {
     "name": "stdout",
     "output_type": "stream",
     "text": [
      "converged SCF energy = -598.509883870498\n"
     ]
    }
   ],
   "source": [
    "mol.build()\n",
    "hf = scf.ROHF(mol).run()"
   ]
  },
  {
   "cell_type": "code",
   "execution_count": null,
   "id": "80a06021-2eab-4239-af7d-a0b9e8dcf238",
   "metadata": {},
   "outputs": [],
   "source": []
  }
 ],
 "metadata": {
  "kernelspec": {
   "display_name": "Python 3 (ipykernel)",
   "language": "python",
   "name": "python3"
  },
  "language_info": {
   "codemirror_mode": {
    "name": "ipython",
    "version": 3
   },
   "file_extension": ".py",
   "mimetype": "text/x-python",
   "name": "python",
   "nbconvert_exporter": "python",
   "pygments_lexer": "ipython3",
   "version": "3.10.12"
  }
 },
 "nbformat": 4,
 "nbformat_minor": 5
}
