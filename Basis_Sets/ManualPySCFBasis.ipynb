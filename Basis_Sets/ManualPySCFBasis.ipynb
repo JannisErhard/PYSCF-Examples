{
 "cells": [
  {
   "cell_type": "code",
   "execution_count": 1,
   "id": "39e9948a-7d12-4d28-aac9-939a3af6e960",
   "metadata": {},
   "outputs": [],
   "source": [
    "import pandas as pd\n",
    "import numpy as np\n",
    "from pyscf import gto, scf"
   ]
  },
  {
   "cell_type": "markdown",
   "id": "43485de5-59f5-4353-8515-4ff59b30a9ce",
   "metadata": {},
   "source": [
    "Input basis-set manually"
   ]
  },
  {
   "cell_type": "code",
   "execution_count": 3,
   "id": "8e63b53b-3f69-4a7f-8848-550e4613e42f",
   "metadata": {},
   "outputs": [],
   "source": [
    "# minimum input for mol object\n",
    "mol = gto.Mole()\n",
    "mol.atom = f'''H  0 0 0'''\n",
    "mol.charge = 0\n",
    "mol.spin = 1\n",
    "mol.unit = 'AU'"
   ]
  },
  {
   "cell_type": "code",
   "execution_count": 6,
   "id": "4b36c051-6e0b-4715-b675-99847ed7d2e9",
   "metadata": {},
   "outputs": [
    {
     "name": "stdout",
     "output_type": "stream",
     "text": [
      "{'H': [[0, [19.2406, 0.032828], [2.8992, 0.231208], [0.6534, 0.817238]], [0, [0.1776, 1.0]], [1, [1.0, 1.0]]]}\n"
     ]
    }
   ],
   "source": [
    "# basis example, H \n",
    "mol.basis = {'H': [[0,\n",
    "                    [19.2406000, 0.0328280],\n",
    "                    [2.8992000, 0.2312080],\n",
    "                    [0.6534000, 0.8172380],],\n",
    "                   [0,\n",
    "                    [0.1776000, 1.0000000],],\n",
    "                   [1,\n",
    "                    [1.0000000, 1.0000000],]],\n",
    "}\n",
    "print(mol.basis)"
   ]
  },
  {
   "cell_type": "code",
   "execution_count": 7,
   "id": "f3f27881-0ee8-4db5-bc24-eb7422c68e71",
   "metadata": {},
   "outputs": [
    {
     "name": "stdout",
     "output_type": "stream",
     "text": [
      "converged SCF energy = -0.497637244627011\n"
     ]
    }
   ],
   "source": [
    "mol.build()\n",
    "hf = scf.ROHF(mol).run()\n"
   ]
  },
  {
   "cell_type": "code",
   "execution_count": null,
   "id": "f3a0d652-7c22-4390-a27b-6d32f6fbf71d",
   "metadata": {},
   "outputs": [],
   "source": []
  }
 ],
 "metadata": {
  "kernelspec": {
   "display_name": "Python 3 (ipykernel)",
   "language": "python",
   "name": "python3"
  },
  "language_info": {
   "codemirror_mode": {
    "name": "ipython",
    "version": 3
   },
   "file_extension": ".py",
   "mimetype": "text/x-python",
   "name": "python",
   "nbconvert_exporter": "python",
   "pygments_lexer": "ipython3",
   "version": "3.12.3"
  }
 },
 "nbformat": 4,
 "nbformat_minor": 5
}
