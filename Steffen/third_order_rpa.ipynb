{
 "cells": [
  {
   "cell_type": "code",
   "execution_count": 1,
   "id": "07c3c03e-a7d8-4d59-b897-521daedfef36",
   "metadata": {},
   "outputs": [],
   "source": [
    "import numpy as np\n",
    "from pyscf import gto, scf, ao2mo, fci"
   ]
  },
  {
   "cell_type": "markdown",
   "id": "07501768-48e6-4a9a-b15d-8c26e7d327ab",
   "metadata": {},
   "source": [
    "I built this script to check on one of the terms in the script me and steffen have been trying to write. "
   ]
  },
  {
   "cell_type": "markdown",
   "id": "77661e34-f76b-483e-9ebd-23d283653146",
   "metadata": {},
   "source": [
    "$ \\langle ij|ab\\rangle\\langle jk|bc\\rangle\\langle ki|ca\\rangle $"
   ]
  },
  {
   "cell_type": "markdown",
   "id": "3445d7bd-470f-4add-83ec-d2b81daaefce",
   "metadata": {},
   "source": [
    "$= [ia|jb][jb|kc][kc|ia]$"
   ]
  },
  {
   "cell_type": "code",
   "execution_count": 2,
   "id": "8e76cea9-62a6-44ab-8342-5e116324bc19",
   "metadata": {},
   "outputs": [],
   "source": [
    "def enumerator(eri,i,j,k,a,b,c):\n",
    "    return eri[i,a,j,b]*eri[j,b,k,c]*eri[k,c,i,a]"
   ]
  },
  {
   "cell_type": "markdown",
   "id": "34b215a8-b887-4e50-a639-5418f7d0f89e",
   "metadata": {},
   "source": [
    "$( \\epsilon_{jb} - \\epsilon_{i a})(\\epsilon_{k c} - \\epsilon_{i a})$"
   ]
  },
  {
   "cell_type": "code",
   "execution_count": 3,
   "id": "ca2518e1-7ec6-4c7e-9c94-c3dbb4b28455",
   "metadata": {},
   "outputs": [],
   "source": [
    "def denominator_1(eigval,i,j,k,a,b,c):\n",
    "    return ((eigval[j]-eigval[b]-eigval[i]+eigval[a])*(eigval[k]-eigval[c]-eigval[i]+eigval[a]))"
   ]
  },
  {
   "cell_type": "markdown",
   "id": "0437101b-d546-4401-8cff-b7611fff259b",
   "metadata": {},
   "source": [
    "$( \\epsilon_{j b} - \\epsilon_{i a})(\\epsilon_{k c} + \\epsilon_{i a})$"
   ]
  },
  {
   "cell_type": "code",
   "execution_count": 4,
   "id": "66aa5e2f-cda8-452c-a5e9-7e8724c2540b",
   "metadata": {},
   "outputs": [],
   "source": [
    "def denominator_2(eigval,i,j,k,a,b,c):\n",
    "    res = ((eigval[j]-eigval[b]-eigval[i]+eigval[a])*(eigval[k]-eigval[c]+eigval[i]+eigval[a]))\n",
    "    if res == 0:\n",
    "        # the issue comes from all p orbitals being degenrate, a feature of the spherical symmetry\n",
    "        print(\"Error, result 0\")\n",
    "        print(f\"pair {j}{b} - {i}{a} is:\")\n",
    "        print(eigval[j]-eigval[b]-eigval[i]+eigval[a])\n",
    "        print(f\" {j}-{b} and {i}-{a} is:\")\n",
    "        print(eigval[j]-eigval[b],eigval[i]-eigval[a])\n",
    "        print(f\" {j},{b} and {i},{a} is:\")\n",
    "        print(eigval[j],eigval[b],eigval[i],eigval[a])\n",
    "    return res"
   ]
  },
  {
   "cell_type": "markdown",
   "id": "c88bea32-7cb7-4c79-bfad-c45157f236f6",
   "metadata": {},
   "source": [
    "$( \\epsilon_{j b} + \\epsilon_{i a})(\\epsilon_{k c} - \\epsilon_{i a})$"
   ]
  },
  {
   "cell_type": "code",
   "execution_count": 5,
   "id": "e3a49449-b928-47f1-852e-c2c5dc9c6cc9",
   "metadata": {},
   "outputs": [],
   "source": [
    "def denominator_3(eigval,i,j,k,a,b,c):\n",
    "    return ((eigval[j]-eigval[b]+eigval[i]+eigval[a])*(eigval[k]-eigval[c]-eigval[i]+eigval[a]))"
   ]
  },
  {
   "cell_type": "markdown",
   "id": "64adeacc-afdb-4ec2-8353-90879f4e3fbb",
   "metadata": {},
   "source": [
    "$( \\epsilon_{j b} + \\epsilon_{i a})(\\epsilon_{k c} + \\epsilon_{i a})$"
   ]
  },
  {
   "cell_type": "code",
   "execution_count": 6,
   "id": "58e35941-4227-415a-b6f1-1d6bfa9ac7a1",
   "metadata": {},
   "outputs": [],
   "source": [
    "def denominator_4(eigval,i,j,k,a,b,c):\n",
    "    return ((eigval[j]-eigval[b]+eigval[i]-eigval[a])*(eigval[k]-eigval[c]+eigval[i]-eigval[a]))"
   ]
  },
  {
   "cell_type": "markdown",
   "id": "6e69761a-173a-41a1-8184-1e83a5f68878",
   "metadata": {},
   "source": [
    "Term 1:\n",
    "$$\\frac{ \\sum_{ia,jb,kc} \\langle ij|ab\\rangle\\langle jk|bc\\rangle\\langle ki|ca\\rangle }{( \\epsilon_{j b} - \\epsilon_{i a})(\\epsilon_{k c} - \\epsilon_{i a})} $$\n",
    "\n",
    "where $i,j,k$ are occupied and $a,b,c$ are unoccupied orbitals and $ia \\neq  jb \\neq kc$"
   ]
  },
  {
   "cell_type": "code",
   "execution_count": 7,
   "id": "b8379475-f49c-4bc2-82de-7125b74da1ec",
   "metadata": {},
   "outputs": [],
   "source": [
    "def Term_1(eri,eigval,M,N):\n",
    "    T0_array, T1_array, T2_array, T3_array = [],[],[],[]\n",
    "    T = 0 \n",
    "    for i in range(0,N):\n",
    "        for j in range(0,N):\n",
    "            for k in range(0,N):\n",
    "                for a in range(N,M):\n",
    "                    for b in range(N,M):\n",
    "                        for c in range(N,M):\n",
    "                            if [i, a] != [j, b] and [j, b] != [k,c] :\n",
    "                                #print(  f\"{denominator_2(eigval,i,j,k,a,b,c):2.2f}\",\\\n",
    "                                #  f\"{denominator_3(eigval,i,j,k,a,b,c):2.2f}\" )\n",
    "                                T0_array.append(denominator_1(eigval,i,j,k,a,b,c))\n",
    "                                T1_array.append(denominator_2(eigval,i,j,k,a,b,c))\n",
    "                                T2_array.append(denominator_3(eigval,i,j,k,a,b,c))\n",
    "                                T3_array.append(denominator_4(eigval,i,j,k,a,b,c))\n",
    "\n",
    "\n",
    "                                \n",
    "\n",
    "                                # print(i,a,j,b,k,c ,\\\n",
    "                                #   f\"{denominator_1(eigval,i,j,k,a,b,c):2.2f}\", f\"{denominator_2(eigval,i,j,k,a,b,c):2.2f}\",\\\n",
    "                                #   f\"{denominator_3(eigval,i,j,k,a,b,c):2.2f}\", f\"{denominator_4(eigval,i,j,k,a,b,c):2.2f}\")\n",
    "    # i was hoping some of these terms would maybe add up to 0 or add up to same numbers of opposite signs\n",
    "    print(sum(T0_array), sum(T1_array), sum(T2_array), sum(T3_array))\n",
    "\n",
    "\n",
    "    return T"
   ]
  },
  {
   "cell_type": "code",
   "execution_count": 8,
   "id": "db733615-4b21-4b92-8742-b4cc56a9d844",
   "metadata": {},
   "outputs": [
    {
     "data": {
      "text/plain": [
       "<pyscf.gto.mole.Mole at 0x7fc465132e70>"
      ]
     },
     "execution_count": 8,
     "metadata": {},
     "output_type": "execute_result"
    }
   ],
   "source": [
    "mol = gto.Mole()\n",
    "mol.atom = \"\"\"\n",
    "    He    0.    0.    0.\n",
    "\"\"\"\n",
    "mol.basis = \"cc-pvdz\"\n",
    "#mol.basis = \"6-31g\" \n",
    "mol.build()"
   ]
  },
  {
   "cell_type": "code",
   "execution_count": 9,
   "id": "0a7b3787-19cc-4bba-947b-b56e49b7beff",
   "metadata": {},
   "outputs": [
    {
     "name": "stdout",
     "output_type": "stream",
     "text": [
      "converged SCF energy = -2.85516047724274\n"
     ]
    }
   ],
   "source": [
    "# Run Hartree-Fock.\n",
    "mf = scf.RHF(mol)\n",
    "mf.kernel()\n",
    "h = mf.get_hcore()\n",
    "C = mf.mo_coeff\n",
    "h1 = C.T@h@C\n",
    "epsilon = mf.mo_energy"
   ]
  },
  {
   "cell_type": "code",
   "execution_count": 10,
   "id": "78d2e4d2-c1fa-484f-ad6c-fb0773759eae",
   "metadata": {},
   "outputs": [],
   "source": [
    "# Find electron-repulsion integrals (eri).\n",
    "eri = ao2mo.kernel(mol, mf.mo_coeff)\n",
    "eri = np.asarray(ao2mo.restore(1, eri, mol.nao))"
   ]
  },
  {
   "cell_type": "code",
   "execution_count": 11,
   "id": "e8fcb98f-ef8a-4711-8e96-d80ce048e64b",
   "metadata": {},
   "outputs": [
    {
     "name": "stdout",
     "output_type": "stream",
     "text": [
      "(5, 5, 5, 5)\n"
     ]
    }
   ],
   "source": [
    "print(eri.shape)"
   ]
  },
  {
   "cell_type": "code",
   "execution_count": 12,
   "id": "3f6ccfce-4894-4159-93d6-a9702925f4c4",
   "metadata": {},
   "outputs": [
    {
     "name": "stdout",
     "output_type": "stream",
     "text": [
      "5 1\n",
      "[-0.91414793  1.3974417   2.52437203  2.52437203  2.52437203]\n",
      "Error, result 0\n",
      "pair 03 - 02 is:\n",
      "0.0\n",
      " 0-3 and 0-2 is:\n",
      "-3.438519951821347 -3.438519951821347\n",
      " 0,3 and 0,2 is:\n",
      "-0.9141479259458158 2.524372025875531 -0.9141479259458158 2.524372025875531\n",
      "Error, result 0\n",
      "pair 03 - 02 is:\n",
      "0.0\n",
      " 0-3 and 0-2 is:\n",
      "-3.438519951821347 -3.438519951821347\n",
      " 0,3 and 0,2 is:\n",
      "-0.9141479259458158 2.524372025875531 -0.9141479259458158 2.524372025875531\n",
      "Error, result 0\n",
      "pair 03 - 02 is:\n",
      "0.0\n",
      " 0-3 and 0-2 is:\n",
      "-3.438519951821347 -3.438519951821347\n",
      " 0,3 and 0,2 is:\n",
      "-0.9141479259458158 2.524372025875531 -0.9141479259458158 2.524372025875531\n",
      "Error, result 0\n",
      "pair 04 - 02 is:\n",
      "0.0\n",
      " 0-4 and 0-2 is:\n",
      "-3.438519951821347 -3.438519951821347\n",
      " 0,4 and 0,2 is:\n",
      "-0.9141479259458158 2.524372025875531 -0.9141479259458158 2.524372025875531\n",
      "Error, result 0\n",
      "pair 04 - 02 is:\n",
      "0.0\n",
      " 0-4 and 0-2 is:\n",
      "-3.438519951821347 -3.438519951821347\n",
      " 0,4 and 0,2 is:\n",
      "-0.9141479259458158 2.524372025875531 -0.9141479259458158 2.524372025875531\n",
      "Error, result 0\n",
      "pair 04 - 02 is:\n",
      "0.0\n",
      " 0-4 and 0-2 is:\n",
      "-3.438519951821347 -3.438519951821347\n",
      " 0,4 and 0,2 is:\n",
      "-0.9141479259458158 2.524372025875531 -0.9141479259458158 2.524372025875531\n",
      "Error, result 0\n",
      "pair 02 - 03 is:\n",
      "0.0\n",
      " 0-2 and 0-3 is:\n",
      "-3.438519951821347 -3.438519951821347\n",
      " 0,2 and 0,3 is:\n",
      "-0.9141479259458158 2.524372025875531 -0.9141479259458158 2.524372025875531\n",
      "Error, result 0\n",
      "pair 02 - 03 is:\n",
      "0.0\n",
      " 0-2 and 0-3 is:\n",
      "-3.438519951821347 -3.438519951821347\n",
      " 0,2 and 0,3 is:\n",
      "-0.9141479259458158 2.524372025875531 -0.9141479259458158 2.524372025875531\n",
      "Error, result 0\n",
      "pair 02 - 03 is:\n",
      "0.0\n",
      " 0-2 and 0-3 is:\n",
      "-3.438519951821347 -3.438519951821347\n",
      " 0,2 and 0,3 is:\n",
      "-0.9141479259458158 2.524372025875531 -0.9141479259458158 2.524372025875531\n",
      "Error, result 0\n",
      "pair 04 - 03 is:\n",
      "0.0\n",
      " 0-4 and 0-3 is:\n",
      "-3.438519951821347 -3.438519951821347\n",
      " 0,4 and 0,3 is:\n",
      "-0.9141479259458158 2.524372025875531 -0.9141479259458158 2.524372025875531\n",
      "Error, result 0\n",
      "pair 04 - 03 is:\n",
      "0.0\n",
      " 0-4 and 0-3 is:\n",
      "-3.438519951821347 -3.438519951821347\n",
      " 0,4 and 0,3 is:\n",
      "-0.9141479259458158 2.524372025875531 -0.9141479259458158 2.524372025875531\n",
      "Error, result 0\n",
      "pair 04 - 03 is:\n",
      "0.0\n",
      " 0-4 and 0-3 is:\n",
      "-3.438519951821347 -3.438519951821347\n",
      " 0,4 and 0,3 is:\n",
      "-0.9141479259458158 2.524372025875531 -0.9141479259458158 2.524372025875531\n",
      "Error, result 0\n",
      "pair 02 - 04 is:\n",
      "0.0\n",
      " 0-2 and 0-4 is:\n",
      "-3.438519951821347 -3.438519951821347\n",
      " 0,2 and 0,4 is:\n",
      "-0.9141479259458158 2.524372025875531 -0.9141479259458158 2.524372025875531\n",
      "Error, result 0\n",
      "pair 02 - 04 is:\n",
      "0.0\n",
      " 0-2 and 0-4 is:\n",
      "-3.438519951821347 -3.438519951821347\n",
      " 0,2 and 0,4 is:\n",
      "-0.9141479259458158 2.524372025875531 -0.9141479259458158 2.524372025875531\n",
      "Error, result 0\n",
      "pair 02 - 04 is:\n",
      "0.0\n",
      " 0-2 and 0-4 is:\n",
      "-3.438519951821347 -3.438519951821347\n",
      " 0,2 and 0,4 is:\n",
      "-0.9141479259458158 2.524372025875531 -0.9141479259458158 2.524372025875531\n",
      "Error, result 0\n",
      "pair 03 - 04 is:\n",
      "0.0\n",
      " 0-3 and 0-4 is:\n",
      "-3.438519951821347 -3.438519951821347\n",
      " 0,3 and 0,4 is:\n",
      "-0.9141479259458158 2.524372025875531 -0.9141479259458158 2.524372025875531\n",
      "Error, result 0\n",
      "pair 03 - 04 is:\n",
      "0.0\n",
      " 0-3 and 0-4 is:\n",
      "-3.438519951821347 -3.438519951821347\n",
      " 0,3 and 0,4 is:\n",
      "-0.9141479259458158 2.524372025875531 -0.9141479259458158 2.524372025875531\n",
      "Error, result 0\n",
      "pair 03 - 04 is:\n",
      "0.0\n",
      " 0-3 and 0-4 is:\n",
      "-3.438519951821347 -3.438519951821347\n",
      " 0,3 and 0,4 is:\n",
      "-0.9141479259458158 2.524372025875531 -0.9141479259458158 2.524372025875531\n",
      "7.61983169913989 7.619831699139899 7.619831699139892 1438.8140530425583\n",
      "0\n"
     ]
    }
   ],
   "source": [
    "N = mol.nelec[0]\n",
    "M = mol.nao\n",
    "print(M,N)\n",
    "print(epsilon)\n",
    "print(Term_1(eri,epsilon,M,N))"
   ]
  },
  {
   "cell_type": "code",
   "execution_count": null,
   "id": "00e2a81d-a8b1-463b-894e-0e37b25534fc",
   "metadata": {},
   "outputs": [],
   "source": []
  }
 ],
 "metadata": {
  "kernelspec": {
   "display_name": "Python 3 (ipykernel)",
   "language": "python",
   "name": "python3"
  },
  "language_info": {
   "codemirror_mode": {
    "name": "ipython",
    "version": 3
   },
   "file_extension": ".py",
   "mimetype": "text/x-python",
   "name": "python",
   "nbconvert_exporter": "python",
   "pygments_lexer": "ipython3",
   "version": "3.12.3"
  }
 },
 "nbformat": 4,
 "nbformat_minor": 5
}
