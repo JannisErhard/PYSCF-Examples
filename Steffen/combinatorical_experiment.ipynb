{
 "cells": [
  {
   "cell_type": "code",
   "execution_count": 1,
   "id": "07c3c03e-a7d8-4d59-b897-521daedfef36",
   "metadata": {},
   "outputs": [],
   "source": [
    "import numpy as np\n",
    "from pyscf import gto, scf, ao2mo, fci"
   ]
  },
  {
   "cell_type": "markdown",
   "id": "07501768-48e6-4a9a-b15d-8c26e7d327ab",
   "metadata": {},
   "source": [
    "I built this script to check on one of the terms in the script me and steffen have been trying to write. "
   ]
  },
  {
   "cell_type": "markdown",
   "id": "77661e34-f76b-483e-9ebd-23d283653146",
   "metadata": {},
   "source": [
    "$ \\langle ij|ab\\rangle\\langle jk|bc\\rangle\\langle ki|ca\\rangle $"
   ]
  },
  {
   "cell_type": "markdown",
   "id": "3445d7bd-470f-4add-83ec-d2b81daaefce",
   "metadata": {},
   "source": [
    "$= [ia|jb][jb|kc][kc|ia]$"
   ]
  },
  {
   "cell_type": "code",
   "execution_count": 6,
   "id": "00e2a81d-a8b1-463b-894e-0e37b25534fc",
   "metadata": {},
   "outputs": [
    {
     "name": "stdout",
     "output_type": "stream",
     "text": [
      "0,2-0,2 0,2+0,2\n",
      "0,2-0,2 0,3+0,2\n",
      "0,2-0,2 1,2+0,2\n",
      "0,2-0,2 1,3+0,2\n",
      "0,3-0,2 0,2+0,2\n",
      "0,3-0,2 0,3+0,2\n",
      "0,3-0,2 1,2+0,2\n",
      "0,3-0,2 1,3+0,2\n",
      "1,2-0,2 0,2+0,2\n",
      "1,2-0,2 0,3+0,2\n",
      "1,2-0,2 1,2+0,2\n",
      "1,2-0,2 1,3+0,2\n",
      "1,3-0,2 0,2+0,2\n",
      "1,3-0,2 0,3+0,2\n",
      "1,3-0,2 1,2+0,2\n",
      "1,3-0,2 1,3+0,2\n",
      "0,2-0,3 0,2+0,3\n",
      "0,2-0,3 0,3+0,3\n",
      "0,2-0,3 1,2+0,3\n",
      "0,2-0,3 1,3+0,3\n",
      "0,3-0,3 0,2+0,3\n",
      "0,3-0,3 0,3+0,3\n",
      "0,3-0,3 1,2+0,3\n",
      "0,3-0,3 1,3+0,3\n",
      "1,2-0,3 0,2+0,3\n",
      "1,2-0,3 0,3+0,3\n",
      "1,2-0,3 1,2+0,3\n",
      "1,2-0,3 1,3+0,3\n",
      "1,3-0,3 0,2+0,3\n",
      "1,3-0,3 0,3+0,3\n",
      "1,3-0,3 1,2+0,3\n",
      "1,3-0,3 1,3+0,3\n",
      "0,2-1,2 0,2+1,2\n",
      "0,2-1,2 0,3+1,2\n",
      "0,2-1,2 1,2+1,2\n",
      "0,2-1,2 1,3+1,2\n",
      "0,3-1,2 0,2+1,2\n",
      "0,3-1,2 0,3+1,2\n",
      "0,3-1,2 1,2+1,2\n",
      "0,3-1,2 1,3+1,2\n",
      "1,2-1,2 0,2+1,2\n",
      "1,2-1,2 0,3+1,2\n",
      "1,2-1,2 1,2+1,2\n",
      "1,2-1,2 1,3+1,2\n",
      "1,3-1,2 0,2+1,2\n",
      "1,3-1,2 0,3+1,2\n",
      "1,3-1,2 1,2+1,2\n",
      "1,3-1,2 1,3+1,2\n",
      "0,2-1,3 0,2+1,3\n",
      "0,2-1,3 0,3+1,3\n",
      "0,2-1,3 1,2+1,3\n",
      "0,2-1,3 1,3+1,3\n",
      "0,3-1,3 0,2+1,3\n",
      "0,3-1,3 0,3+1,3\n",
      "0,3-1,3 1,2+1,3\n",
      "0,3-1,3 1,3+1,3\n",
      "1,2-1,3 0,2+1,3\n",
      "1,2-1,3 0,3+1,3\n",
      "1,2-1,3 1,2+1,3\n",
      "1,2-1,3 1,3+1,3\n",
      "1,3-1,3 0,2+1,3\n",
      "1,3-1,3 0,3+1,3\n",
      "1,3-1,3 1,2+1,3\n",
      "1,3-1,3 1,3+1,3\n"
     ]
    }
   ],
   "source": [
    "N=2\n",
    "M=4\n",
    "\n",
    "for i in range (0,N):\n",
    "    for a in range (N,M):\n",
    "        for j in range (0,N):\n",
    "            for b in range (N,M):\n",
    "                for k in range (0,N):\n",
    "                    for c in range (N,M):\n",
    "                        print(f\"{j},{b}-{i},{a} {k},{c}+{i},{a}\")\n"
   ]
  },
  {
   "cell_type": "code",
   "execution_count": null,
   "id": "8c8a8f59-ea7d-4a0a-9f9b-afeaada39dd7",
   "metadata": {},
   "outputs": [],
   "source": []
  }
 ],
 "metadata": {
  "kernelspec": {
   "display_name": "Python 3 (ipykernel)",
   "language": "python",
   "name": "python3"
  },
  "language_info": {
   "codemirror_mode": {
    "name": "ipython",
    "version": 3
   },
   "file_extension": ".py",
   "mimetype": "text/x-python",
   "name": "python",
   "nbconvert_exporter": "python",
   "pygments_lexer": "ipython3",
   "version": "3.12.3"
  }
 },
 "nbformat": 4,
 "nbformat_minor": 5
}
